{
  "cells": [
    {
      "cell_type": "markdown",
      "metadata": {
        "id": "Omlca8Az_zFd"
      },
      "source": [
        "# Text-Generation\n",
        "\n",
        "Transformer language models has an uncanny feature of generating text that is almost indistinguishable from human text. This text generation happens without any explicit supervised leraning, just by predicting the next word based on context in a millions of web pages. With just pretraining LLM's learn a special set of skills and pattern recognition abilites that can be activated with different kind of prompts.\n",
        "\n",
        "![pretraining-sequence-of-tasks](https://github.com/JpChii/nlp-with-hugging-face/blob/main/notes/images/5-text-generation/pretraining-model-sequence-of-tasks.png?raw=1)\n",
        "\n",
        "The image shows addition, unscramling, translation are some of the sequence tasks that an LLM is exposed during training. This knowledge is transferred during fine-tuning(for larger models during inference-time). These tasks are not chosen specifically ahead of time and occur naturally with huge corpora.\n",
        "\n",
        "With the advent of GPT-4 and now an open sourced LLAMA2, has given rise to lot's of applications with LLM's at its core with text generation capacity.\n",
        "\n",
        "In [5-text-generation.ipynb](../notebooks/5-text-generation.ipynb) notebook we'\n",
        "ll cover how text generation works with LLM's and how different decoding stratergies impact text generation."
      ]
    },
    {
      "cell_type": "code",
      "execution_count": 2,
      "metadata": {
        "colab": {
          "base_uri": "https://localhost:8080/"
        },
        "id": "I6yqwlkHAB_y",
        "outputId": "ba26b503-49cd-40fd-b984-b6b5738105df"
      },
      "outputs": [
        {
          "name": "stdout",
          "output_type": "stream",
          "text": [
            "Collecting accelerate==0.21.0\n",
            "  Downloading accelerate-0.21.0-py3-none-any.whl (244 kB)\n",
            "\u001b[2K     \u001b[90m━━━━━━━━━━━━━━━━━━━━━━━━━━━━━━━━━━━━━━━\u001b[0m \u001b[32m244.2/244.2 kB\u001b[0m \u001b[31m2.8 MB/s\u001b[0m eta \u001b[36m0:00:00\u001b[0ma \u001b[36m0:00:01\u001b[0m\n",
            "\u001b[?25hCollecting transformers==4.31.0\n",
            "  Downloading transformers-4.31.0-py3-none-any.whl (7.4 MB)\n",
            "\u001b[2K     \u001b[90m━━━━━━━━━━━━━━━━━━━━━━━━━━━━━━━━━━━━━━━━\u001b[0m \u001b[32m7.4/7.4 MB\u001b[0m \u001b[31m4.9 MB/s\u001b[0m eta \u001b[36m0:00:00\u001b[0m00:01\u001b[0m00:01\u001b[0m\n",
            "\u001b[?25hCollecting datasets==2.14.2\n",
            "  Downloading datasets-2.14.2-py3-none-any.whl (518 kB)\n",
            "\u001b[2K     \u001b[90m━━━━━━━━━━━━━━━━━━━━━━━━━━━━━━━━━━━━━━━\u001b[0m \u001b[32m518.9/518.9 kB\u001b[0m \u001b[31m5.5 MB/s\u001b[0m eta \u001b[36m0:00:00\u001b[0m00:01\u001b[0m00:01\u001b[0m\n",
            "\u001b[?25hRequirement already satisfied: numpy>=1.17 in /Users/jayaprakashsivagami/miniconda3/envs/nlp/lib/python3.9/site-packages (from accelerate==0.21.0) (1.26.0)\n",
            "Collecting pyyaml\n",
            "  Using cached PyYAML-6.0.1-cp39-cp39-macosx_10_9_x86_64.whl (197 kB)\n",
            "Requirement already satisfied: torch>=1.10.0 in /Users/jayaprakashsivagami/miniconda3/envs/nlp/lib/python3.9/site-packages (from accelerate==0.21.0) (2.0.1)\n",
            "Requirement already satisfied: packaging>=20.0 in /Users/jayaprakashsivagami/miniconda3/envs/nlp/lib/python3.9/site-packages (from accelerate==0.21.0) (23.1)\n",
            "Requirement already satisfied: psutil in /Users/jayaprakashsivagami/miniconda3/envs/nlp/lib/python3.9/site-packages (from accelerate==0.21.0) (5.9.5)\n",
            "Requirement already satisfied: tqdm>=4.27 in /Users/jayaprakashsivagami/miniconda3/envs/nlp/lib/python3.9/site-packages (from transformers==4.31.0) (4.65.0)\n",
            "Requirement already satisfied: regex!=2019.12.17 in /Users/jayaprakashsivagami/miniconda3/envs/nlp/lib/python3.9/site-packages (from transformers==4.31.0) (2023.6.3)\n",
            "Requirement already satisfied: safetensors>=0.3.1 in /Users/jayaprakashsivagami/miniconda3/envs/nlp/lib/python3.9/site-packages (from transformers==4.31.0) (0.3.3)\n",
            "Collecting huggingface-hub<1.0,>=0.14.1\n",
            "  Downloading huggingface_hub-0.19.4-py3-none-any.whl (311 kB)\n",
            "\u001b[2K     \u001b[90m━━━━━━━━━━━━━━━━━━━━━━━━━━━━━━━━━━━━━━━\u001b[0m \u001b[32m311.7/311.7 kB\u001b[0m \u001b[31m4.1 MB/s\u001b[0m eta \u001b[36m0:00:00\u001b[0ma \u001b[36m0:00:01\u001b[0m\n",
            "\u001b[?25hRequirement already satisfied: filelock in /Users/jayaprakashsivagami/miniconda3/envs/nlp/lib/python3.9/site-packages (from transformers==4.31.0) (3.12.3)\n",
            "Requirement already satisfied: requests in /Users/jayaprakashsivagami/miniconda3/envs/nlp/lib/python3.9/site-packages (from transformers==4.31.0) (2.31.0)\n",
            "Collecting tokenizers!=0.11.3,<0.14,>=0.11.1\n",
            "  Using cached tokenizers-0.13.3-cp39-cp39-macosx_10_11_x86_64.whl (4.0 MB)\n",
            "Requirement already satisfied: multiprocess in /Users/jayaprakashsivagami/miniconda3/envs/nlp/lib/python3.9/site-packages (from datasets==2.14.2) (0.70.14)\n",
            "Requirement already satisfied: xxhash in /Users/jayaprakashsivagami/miniconda3/envs/nlp/lib/python3.9/site-packages (from datasets==2.14.2) (3.2.0)\n",
            "Requirement already satisfied: dill<0.3.8,>=0.3.0 in /Users/jayaprakashsivagami/miniconda3/envs/nlp/lib/python3.9/site-packages (from datasets==2.14.2) (0.3.6)\n",
            "Requirement already satisfied: pandas in /Users/jayaprakashsivagami/miniconda3/envs/nlp/lib/python3.9/site-packages (from datasets==2.14.2) (2.0.2)\n",
            "Requirement already satisfied: pyarrow>=8.0.0 in /Users/jayaprakashsivagami/miniconda3/envs/nlp/lib/python3.9/site-packages (from datasets==2.14.2) (12.0.0)\n",
            "Requirement already satisfied: fsspec[http]>=2021.11.1 in /Users/jayaprakashsivagami/miniconda3/envs/nlp/lib/python3.9/site-packages (from datasets==2.14.2) (2023.5.0)\n",
            "Requirement already satisfied: aiohttp in /Users/jayaprakashsivagami/miniconda3/envs/nlp/lib/python3.9/site-packages (from datasets==2.14.2) (3.8.4)\n",
            "Requirement already satisfied: async-timeout<5.0,>=4.0.0a3 in /Users/jayaprakashsivagami/miniconda3/envs/nlp/lib/python3.9/site-packages (from aiohttp->datasets==2.14.2) (4.0.2)\n",
            "Requirement already satisfied: attrs>=17.3.0 in /Users/jayaprakashsivagami/miniconda3/envs/nlp/lib/python3.9/site-packages (from aiohttp->datasets==2.14.2) (23.1.0)\n",
            "Requirement already satisfied: frozenlist>=1.1.1 in /Users/jayaprakashsivagami/miniconda3/envs/nlp/lib/python3.9/site-packages (from aiohttp->datasets==2.14.2) (1.3.3)\n",
            "Requirement already satisfied: yarl<2.0,>=1.0 in /Users/jayaprakashsivagami/miniconda3/envs/nlp/lib/python3.9/site-packages (from aiohttp->datasets==2.14.2) (1.9.2)\n",
            "Requirement already satisfied: aiosignal>=1.1.2 in /Users/jayaprakashsivagami/miniconda3/envs/nlp/lib/python3.9/site-packages (from aiohttp->datasets==2.14.2) (1.3.1)\n",
            "Requirement already satisfied: charset-normalizer<4.0,>=2.0 in /Users/jayaprakashsivagami/miniconda3/envs/nlp/lib/python3.9/site-packages (from aiohttp->datasets==2.14.2) (3.1.0)\n",
            "Requirement already satisfied: multidict<7.0,>=4.5 in /Users/jayaprakashsivagami/miniconda3/envs/nlp/lib/python3.9/site-packages (from aiohttp->datasets==2.14.2) (6.0.4)\n",
            "Requirement already satisfied: typing-extensions>=3.7.4.3 in /Users/jayaprakashsivagami/miniconda3/envs/nlp/lib/python3.9/site-packages (from huggingface-hub<1.0,>=0.14.1->transformers==4.31.0) (4.7.1)\n",
            "Requirement already satisfied: idna<4,>=2.5 in /Users/jayaprakashsivagami/miniconda3/envs/nlp/lib/python3.9/site-packages (from requests->transformers==4.31.0) (3.4)\n",
            "Requirement already satisfied: urllib3<3,>=1.21.1 in /Users/jayaprakashsivagami/miniconda3/envs/nlp/lib/python3.9/site-packages (from requests->transformers==4.31.0) (1.26.18)\n",
            "Requirement already satisfied: certifi>=2017.4.17 in /Users/jayaprakashsivagami/miniconda3/envs/nlp/lib/python3.9/site-packages (from requests->transformers==4.31.0) (2023.7.22)\n",
            "Requirement already satisfied: networkx in /Users/jayaprakashsivagami/miniconda3/envs/nlp/lib/python3.9/site-packages (from torch>=1.10.0->accelerate==0.21.0) (3.1)\n",
            "Requirement already satisfied: sympy in /Users/jayaprakashsivagami/miniconda3/envs/nlp/lib/python3.9/site-packages (from torch>=1.10.0->accelerate==0.21.0) (1.11.1)\n",
            "Requirement already satisfied: jinja2 in /Users/jayaprakashsivagami/miniconda3/envs/nlp/lib/python3.9/site-packages (from torch>=1.10.0->accelerate==0.21.0) (2.11.3)\n",
            "Requirement already satisfied: python-dateutil>=2.8.2 in /Users/jayaprakashsivagami/miniconda3/envs/nlp/lib/python3.9/site-packages (from pandas->datasets==2.14.2) (2.8.2)\n",
            "Requirement already satisfied: tzdata>=2022.1 in /Users/jayaprakashsivagami/miniconda3/envs/nlp/lib/python3.9/site-packages (from pandas->datasets==2.14.2) (2023.3)\n",
            "Requirement already satisfied: pytz>=2020.1 in /Users/jayaprakashsivagami/miniconda3/envs/nlp/lib/python3.9/site-packages (from pandas->datasets==2.14.2) (2023.3.post1)\n",
            "Requirement already satisfied: six>=1.5 in /Users/jayaprakashsivagami/miniconda3/envs/nlp/lib/python3.9/site-packages (from python-dateutil>=2.8.2->pandas->datasets==2.14.2) (1.16.0)\n",
            "Requirement already satisfied: MarkupSafe>=0.23 in /Users/jayaprakashsivagami/miniconda3/envs/nlp/lib/python3.9/site-packages (from jinja2->torch>=1.10.0->accelerate==0.21.0) (2.0.1)\n",
            "Requirement already satisfied: mpmath>=0.19 in /Users/jayaprakashsivagami/miniconda3/envs/nlp/lib/python3.9/site-packages (from sympy->torch>=1.10.0->accelerate==0.21.0) (1.3.0)\n",
            "Installing collected packages: tokenizers, pyyaml, huggingface-hub, transformers, accelerate, datasets\n",
            "  Attempting uninstall: tokenizers\n",
            "    Found existing installation: tokenizers 0.10.3\n",
            "    Uninstalling tokenizers-0.10.3:\n",
            "      Successfully uninstalled tokenizers-0.10.3\n",
            "  Attempting uninstall: huggingface-hub\n",
            "    Found existing installation: huggingface-hub 0.0.8\n",
            "    Uninstalling huggingface-hub-0.0.8:\n",
            "      Successfully uninstalled huggingface-hub-0.0.8\n",
            "  Attempting uninstall: transformers\n",
            "    Found existing installation: transformers 4.6.1\n",
            "    Uninstalling transformers-4.6.1:\n",
            "      Successfully uninstalled transformers-4.6.1\n",
            "  Attempting uninstall: accelerate\n",
            "    Found existing installation: accelerate 0.5.1\n",
            "    Uninstalling accelerate-0.5.1:\n",
            "      Successfully uninstalled accelerate-0.5.1\n",
            "  Attempting uninstall: datasets\n",
            "    Found existing installation: datasets 1.11.0\n",
            "    Uninstalling datasets-1.11.0:\n",
            "      Successfully uninstalled datasets-1.11.0\n",
            "\u001b[31mERROR: pip's dependency resolver does not currently take into account all the packages that are installed. This behaviour is the source of the following dependency conflicts.\n",
            "optuna 3.2.0 requires alembic>=1.5.0, but you have alembic 1.4.1 which is incompatible.\n",
            "farm 0.8.0 requires torch<1.9,>1.5, but you have torch 2.0.1 which is incompatible.\n",
            "farm 0.8.0 requires transformers==4.6.1, but you have transformers 4.31.0 which is incompatible.\u001b[0m\u001b[31m\n",
            "\u001b[0mSuccessfully installed accelerate-0.21.0 datasets-2.14.2 huggingface-hub-0.19.4 pyyaml-6.0.1 tokenizers-0.13.3 transformers-4.31.0\n"
          ]
        }
      ],
      "source": [
        "!pip install accelerate==0.21.0 transformers==4.31.0 datasets==2.14.2"
      ]
    },
    {
      "cell_type": "markdown",
      "metadata": {
        "id": "XDw4JP7H_zFg"
      },
      "source": [
        "## The Challenge with Generating coherent Text\n",
        "\n",
        "Until now in the series of notebook, we used a body and a fine-tuned head to get logits. Then we use argmax on logits to get a predicted class or softmax to get prediction probabalites for each token. By contrast, converting the model's probablistic output to text requries a *decoding method*, which introduces a few challenges unique to text generation:\n",
        "\n",
        "* The decoding is done *iteratively* and requires more compure, not like passing the inputs through forward pass just once.\n",
        "* The *quality* and *diversity* of text generated depends on the decoding method and associated hyperparameters.\n",
        "\n",
        "To understand how this decoding process works, let's start by examining how GPT-2 is pretrained and subsequently applied to genreate text.\n",
        "\n",
        "Like other *autoregressive* or *casual language models* GPT-2 is pretrained to estimate the probabality p(X|Y) of a sequence of tokens **y** = y1, y2,...yt, given some initial context **x** = x1, x2,...xt. Since it's impossible to acquire enough training data, the chain rule of proabality is used to factorize it as a product of *conditional probabalities*.\n",
        "\n",
        "*Predicting token c given a and b are before it is the conditional probablity intutition*.\n",
        "\n",
        "![alt contitional-proabablity](https://github.com/JpChii/nlp-with-hugging-face/blob/main/notes/images/5-text-generation/llm-product-of-conditional-probabalities.png?raw=1)\n",
        "\n",
        "The note above describe exactly the probablity calculation on right side. This pretraining objective is quite different from BERT's, which utilizer both past and furture contexts to predict a masked token.\n",
        "\n",
        "We can generate a text by predicting next token, adding it to the sequence and use this as new sequenct to predict next token and continue this iterative process until a special end of sequence token.\n",
        "\n",
        "Example of this process below,\n",
        "![text-generation](https://github.com/JpChii/nlp-with-hugging-face/blob/main/notes/images/5-text-generation/text-generation.png?raw=1)\n",
        "\n",
        "> **Note:** Since the output sequence is *conditioned* on the choice of input prompt, this type of text genreation is often called as *conditional text generation*.\n",
        "\n",
        "At the heart of this process lies the decoding method that determines which token is selected at each time step.\n",
        "\n",
        "A language model produces a logit for each word in  the vocabulary at each time step, we can get the probabality distribution for each token using softmax.\n",
        "\n",
        "![next-token-softmax](https://github.com/JpChii/nlp-with-hugging-face/blob/main/notes/images/5-text-generation/next-token-softmax.png?raw=1)\n",
        "\n",
        "The goal of most decoding methods is to search for the most likelt overall sequence by picking a y_hat such that:\n",
        "\n",
        "![next-token-softmax](https://github.com/JpChii/nlp-with-hugging-face/blob/main/notes/images/5-text-generation/next-token-argmax.png?raw=1)\n",
        "\n",
        "\n",
        "Finding y_hat directly involve evaluating every possible sequence with the language model. Since there does not exist an algorithm to do this within an reasonable amount of time we use approximation instead. In this note, we'll explore few of these approximation methods and gradullay build up toward smarter and more complex algorithms that can gernerate high quality texts."
      ]
    },
    {
      "cell_type": "markdown",
      "metadata": {
        "id": "4HvA4y3S_zFl"
      },
      "source": [
        "## Greedy Search Decoding\n",
        "\n",
        "The simplest decoding method to get discrete tokens from a model's continuous output is to greedily select the token with the highest probabality at each timestep.\n",
        "\n",
        "*Greedy search decoding argmax*\n",
        "![alt](https://github.com/JpChii/nlp-with-hugging-face/blob/main/notes/images/5-text-generation/greedy-search-decoding.png?raw=1)"
      ]
    },
    {
      "cell_type": "markdown",
      "metadata": {
        "id": "6EBpnWat_zFm"
      },
      "source": [
        "To see how greedy search works, let's load a 1.5 billion-parameter version of GPT-2 with a language modelling head."
      ]
    },
    {
      "cell_type": "code",
      "execution_count": 1,
      "metadata": {
        "colab": {
          "base_uri": "https://localhost:8080/",
          "height": 377,
          "referenced_widgets": [
            "537f2a54d74e4a9aacf033f3f1efee9d",
            "93d078bd3b894dee9e78958472ca337e",
            "dcd42bf877e94381bbf085b623bad66b",
            "33e3b78c9bb84a3eaee6ebbfa15f530f",
            "f3633a0c7ded4d21a21631bc75c53a2e",
            "70f6fb3bde114a61b3d1f6214f1dd069",
            "f2232214d03f4950bffe276b808cafed",
            "7c0e5e4f1aae440880c80e23f6502d19",
            "eb0371c9729b46d58c74deb98e3a8007",
            "2297e0b554114521be12f1b4781a8905",
            "9676e35d12ac4322b8e9b44f342c14e3",
            "56c76ddeb3fa4e4e9b09b1a2fa214306",
            "8153fc0c38084c16974c4350a80c872c",
            "48ceac9224a84c309d513458c7c48b66",
            "7c5f82beff9a4531af6d9c90eeccbaa8",
            "8efccb4b5b024462b64504b79bc803cf",
            "2603ecc6a7304db38cc9d3ba1f34a83f",
            "e945d0766f174c2dab2266a7ca9e9849",
            "d24279410beb4d43aa478adbe649fe3a",
            "ffe1d928f2ae4198a4f1150cb2bfa90f",
            "5e6296fbdf7c41c0a18d8fc8c633203b",
            "d32619aac4284ab78a15154ba9ce4ba1",
            "92458e4dd13f4789b021b229bc4d7d5e",
            "41b056f9bbfa4be48ccedc29825b0acb",
            "b528b72a0eac4f43a70d201d349c5474",
            "47867b007fd54a7ea01b4d7a408f52d7",
            "83fa2f88f3734999b7b9ea77516943ef",
            "8b7b40f752e542f48f70a3b71b25f6d2",
            "56597b2c02c54587a13de42ea12c8760",
            "6e1dc260a8014ba59111cf275a5d3696",
            "cb53ffced08b4500a464eb8867ad1adf",
            "d4b18fdd9853440aa873d9e0df7609a8",
            "fa31efc8055447aa9f9a23fa831c44b2",
            "d90b99ed3f9548acad6bd28fa18d5ac4",
            "682dd87d0e8846b9955bd4061f6758b9",
            "e8cce2e25a904c18b0787947bf0d9626",
            "f7bbc8175c4f466a8de7066e9e11fa89",
            "e1a0d46cfe814d72bb75c7d10b4bc2fc",
            "8c207efec78741a0b85482d8857ad78e",
            "c699a8aa7d5b466889aa16e749c97223",
            "07763abf458d41cdaf67d0120bd5e1bf",
            "e03794fdea4a4aa0a32c5c334f91e918",
            "f05e54d094e246a9b8678bbf5cd81efe",
            "d447e5427a994275a0afc76674fd0ce9",
            "ae948f2a55a643069cffd1734a295c24",
            "6d5c0ef7925042c8893b1032c4b2448c",
            "324587df83784ce29bd4f1ee033a7154",
            "418181215f724274a1ad7e23d463666f",
            "009e133230ab405ba317740a7566b2db",
            "894e4eeffa7f42738740f3af7008a876",
            "86c875ab4c1c4a1c813766c113c45ae0",
            "b2ab4fff9fae4d0ebf387733bacef7fc",
            "3ed6cf9e92a24542a80b8f26e8d4027c",
            "a5f3a95af1ae4bf4b622824206727460",
            "3d3f49d6a1834bd9885ef6fb8538a0b7",
            "e2b786fb94d345a6838d43eb44b58c38",
            "712f29391e194573baef8cf1830f3a01",
            "900c1498f57d44f1afaeda02f34cca77",
            "eebc2b82c2a9425cbac199116fbc8b3f",
            "34e4c2df87b14a5d96875068e38a8a6a",
            "07536455eb9748779b0e5d75e58b865f",
            "101e64bcdb8e430089e9ff6dff7b864c",
            "25011cc8c67d42cdb88d222942440eb6",
            "2104a7aa65f8442884d20ad594a31133",
            "547d4f3588844646a5b95f7bce1dbbfb",
            "84cd22ed9efc4270a68d6898ff389a45"
          ]
        },
        "id": "W29gZKqQ_zFn",
        "outputId": "328e2eaa-7025-42ab-b11f-a6a55c89be5a"
      },
      "outputs": [
        {
          "name": "stderr",
          "output_type": "stream",
          "text": [
            "2023-11-20 15:36:29.444730: I tensorflow/core/platform/cpu_feature_guard.cc:193] This TensorFlow binary is optimized with oneAPI Deep Neural Network Library (oneDNN) to use the following CPU instructions in performance-critical operations:  AVX2 FMA\n",
            "To enable them in other operations, rebuild TensorFlow with the appropriate compiler flags.\n"
          ]
        },
        {
          "data": {
            "application/vnd.jupyter.widget-view+json": {
              "model_id": "f0aaf81366624b2299580a71e9cdebc8",
              "version_major": 2,
              "version_minor": 0
            },
            "text/plain": [
              "Downloading config.json:   0%|          | 0.00/718 [00:00<?, ?B/s]"
            ]
          },
          "metadata": {},
          "output_type": "display_data"
        },
        {
          "data": {
            "application/vnd.jupyter.widget-view+json": {
              "model_id": "d1471952fbb54598be7c3882a66a8f7b",
              "version_major": 2,
              "version_minor": 0
            },
            "text/plain": [
              "Downloading vocab.json:   0%|          | 0.00/1.04M [00:00<?, ?B/s]"
            ]
          },
          "metadata": {},
          "output_type": "display_data"
        },
        {
          "data": {
            "application/vnd.jupyter.widget-view+json": {
              "model_id": "906fe27649434d8882db281ebd9f541d",
              "version_major": 2,
              "version_minor": 0
            },
            "text/plain": [
              "Downloading merges.txt:   0%|          | 0.00/456k [00:00<?, ?B/s]"
            ]
          },
          "metadata": {},
          "output_type": "display_data"
        },
        {
          "data": {
            "application/vnd.jupyter.widget-view+json": {
              "model_id": "56db2e93686447e9b6d1fb9b0fa3d19d",
              "version_major": 2,
              "version_minor": 0
            },
            "text/plain": [
              "Downloading tokenizer.json:   0%|          | 0.00/1.36M [00:00<?, ?B/s]"
            ]
          },
          "metadata": {},
          "output_type": "display_data"
        },
        {
          "data": {
            "application/vnd.jupyter.widget-view+json": {
              "model_id": "2f16c454684e4c03b1d619bd94b0f67a",
              "version_major": 2,
              "version_minor": 0
            },
            "text/plain": [
              "Downloading model.safetensors:   0%|          | 0.00/1.52G [00:00<?, ?B/s]"
            ]
          },
          "metadata": {},
          "output_type": "display_data"
        },
        {
          "data": {
            "application/vnd.jupyter.widget-view+json": {
              "model_id": "8e58a8c34b3c4f859401c77b02111f8c",
              "version_major": 2,
              "version_minor": 0
            },
            "text/plain": [
              "Downloading generation_config.json:   0%|          | 0.00/124 [00:00<?, ?B/s]"
            ]
          },
          "metadata": {},
          "output_type": "display_data"
        }
      ],
      "source": [
        "from accelerate import init_empty_weights\n",
        "from transformers import AutoModelForCausalLM, AutoTokenizer\n",
        "\n",
        "model_name = \"gpt2-medium\"\n",
        "tokenizer = AutoTokenizer.from_pretrained(model_name)\n",
        "model = AutoModelForCausalLM.from_pretrained(model_name)"
      ]
    },
    {
      "cell_type": "markdown",
      "metadata": {
        "id": "EpHbk77f_zFr"
      },
      "source": [
        "Now let's generate some text! Although Transformers provides a generate() function for autoregressive models like GPT-2, we'll implement this decoding method to understand what's going on under the hood."
      ]
    },
    {
      "cell_type": "code",
      "execution_count": 2,
      "metadata": {},
      "outputs": [
        {
          "data": {
            "text/plain": [
              "GPT2TokenizerFast(name_or_path='gpt2-medium', vocab_size=50257, model_max_length=1024, is_fast=True, padding_side='right', truncation_side='right', special_tokens={'bos_token': '<|endoftext|>', 'eos_token': '<|endoftext|>', 'unk_token': '<|endoftext|>'}, clean_up_tokenization_spaces=True)"
            ]
          },
          "execution_count": 2,
          "metadata": {},
          "output_type": "execute_result"
        }
      ],
      "source": [
        "tokenizer"
      ]
    },
    {
      "cell_type": "code",
      "execution_count": 5,
      "metadata": {
        "id": "O-ytYfT8GUHk"
      },
      "outputs": [],
      "source": [
        "import torch\n",
        "device = \"cuda\" if torch.cuda.is_available() else \"cpu\""
      ]
    },
    {
      "cell_type": "code",
      "execution_count": 6,
      "metadata": {
        "colab": {
          "base_uri": "https://localhost:8080/",
          "height": 569
        },
        "id": "YdLiRLX6_6gS",
        "outputId": "4593ec64-e085-4788-cc9d-906a0dd0df02"
      },
      "outputs": [
        {
          "data": {
            "text/html": [
              "<div>\n",
              "<style scoped>\n",
              "    .dataframe tbody tr th:only-of-type {\n",
              "        vertical-align: middle;\n",
              "    }\n",
              "\n",
              "    .dataframe tbody tr th {\n",
              "        vertical-align: top;\n",
              "    }\n",
              "\n",
              "    .dataframe thead th {\n",
              "        text-align: right;\n",
              "    }\n",
              "</style>\n",
              "<table border=\"1\" class=\"dataframe\">\n",
              "  <thead>\n",
              "    <tr style=\"text-align: right;\">\n",
              "      <th></th>\n",
              "      <th>Input</th>\n",
              "      <th>Choice 0</th>\n",
              "      <th>Choice 1</th>\n",
              "      <th>Choice 2</th>\n",
              "      <th>Choice 3</th>\n",
              "      <th>Choice 4</th>\n",
              "    </tr>\n",
              "  </thead>\n",
              "  <tbody>\n",
              "    <tr>\n",
              "      <th>0</th>\n",
              "      <td>Transformers are the</td>\n",
              "      <td>{ most (8.37%)}</td>\n",
              "      <td>{ only (3.35%)}</td>\n",
              "      <td>{ best (2.75%)}</td>\n",
              "      <td>{ first (2.54%)}</td>\n",
              "      <td>{ ultimate (2.20%)}</td>\n",
              "    </tr>\n",
              "    <tr>\n",
              "      <th>1</th>\n",
              "      <td>Transformers are the most</td>\n",
              "      <td>{ powerful (20.77%)}</td>\n",
              "      <td>{ common (7.09%)}</td>\n",
              "      <td>{ popular (5.09%)}</td>\n",
              "      <td>{ important (3.29%)}</td>\n",
              "      <td>{ advanced (2.72%)}</td>\n",
              "    </tr>\n",
              "    <tr>\n",
              "      <th>2</th>\n",
              "      <td>Transformers are the most powerful</td>\n",
              "      <td>{ beings (9.43%)}</td>\n",
              "      <td>{ and (8.35%)}</td>\n",
              "      <td>{ of (4.61%)}</td>\n",
              "      <td>{ Transformers (4.34%)}</td>\n",
              "      <td>{, (3.83%)}</td>\n",
              "    </tr>\n",
              "    <tr>\n",
              "      <th>3</th>\n",
              "      <td>Transformers are the most powerful beings</td>\n",
              "      <td>{ in (56.16%)}</td>\n",
              "      <td>{ on (18.99%)}</td>\n",
              "      <td>{ known (3.12%)}</td>\n",
              "      <td>{ of (3.09%)}</td>\n",
              "      <td>{ to (2.18%)}</td>\n",
              "    </tr>\n",
              "    <tr>\n",
              "      <th>4</th>\n",
              "      <td>Transformers are the most powerful beings in</td>\n",
              "      <td>{ the (72.89%)}</td>\n",
              "      <td>{ existence (11.20%)}</td>\n",
              "      <td>{ all (3.40%)}</td>\n",
              "      <td>{ creation (1.81%)}</td>\n",
              "      <td>{ Transformers (1.18%)}</td>\n",
              "    </tr>\n",
              "    <tr>\n",
              "      <th>5</th>\n",
              "      <td>Transformers are the most powerful beings in the</td>\n",
              "      <td>{ universe (67.94%)}</td>\n",
              "      <td>{ Universe (5.41%)}</td>\n",
              "      <td>{ Marvel (4.40%)}</td>\n",
              "      <td>{ Transformers (3.49%)}</td>\n",
              "      <td>{ mult (3.47%)}</td>\n",
              "    </tr>\n",
              "    <tr>\n",
              "      <th>6</th>\n",
              "      <td>Transformers are the most powerful beings in t...</td>\n",
              "      <td>{. (35.28%)}</td>\n",
              "      <td>{, (34.16%)}</td>\n",
              "      <td>{ and (12.94%)}</td>\n",
              "      <td>{; (1.55%)}</td>\n",
              "      <td>{! (1.34%)}</td>\n",
              "    </tr>\n",
              "    <tr>\n",
              "      <th>7</th>\n",
              "      <td>Transformers are the most powerful beings in t...</td>\n",
              "      <td>{ They (32.09%)}</td>\n",
              "      <td>{\\n (4.97%)}</td>\n",
              "      <td>{ Their (4.93%)}</td>\n",
              "      <td>{ The (3.85%)}</td>\n",
              "      <td>{ But (2.88%)}</td>\n",
              "    </tr>\n",
              "  </tbody>\n",
              "</table>\n",
              "</div>"
            ],
            "text/plain": [
              "                                               Input              Choice 0  \\\n",
              "0                               Transformers are the       { most (8.37%)}   \n",
              "1                          Transformers are the most  { powerful (20.77%)}   \n",
              "2                 Transformers are the most powerful     { beings (9.43%)}   \n",
              "3          Transformers are the most powerful beings        { in (56.16%)}   \n",
              "4       Transformers are the most powerful beings in       { the (72.89%)}   \n",
              "5   Transformers are the most powerful beings in the  { universe (67.94%)}   \n",
              "6  Transformers are the most powerful beings in t...          {. (35.28%)}   \n",
              "7  Transformers are the most powerful beings in t...      { They (32.09%)}   \n",
              "\n",
              "                Choice 1            Choice 2                 Choice 3  \\\n",
              "0        { only (3.35%)}     { best (2.75%)}         { first (2.54%)}   \n",
              "1      { common (7.09%)}  { popular (5.09%)}     { important (3.29%)}   \n",
              "2         { and (8.35%)}       { of (4.61%)}  { Transformers (4.34%)}   \n",
              "3         { on (18.99%)}    { known (3.12%)}            { of (3.09%)}   \n",
              "4  { existence (11.20%)}      { all (3.40%)}      { creation (1.81%)}   \n",
              "5    { Universe (5.41%)}   { Marvel (4.40%)}  { Transformers (3.49%)}   \n",
              "6           {, (34.16%)}     { and (12.94%)}              {; (1.55%)}   \n",
              "7           {\\n (4.97%)}    { Their (4.93%)}           { The (3.85%)}   \n",
              "\n",
              "                  Choice 4  \n",
              "0      { ultimate (2.20%)}  \n",
              "1      { advanced (2.72%)}  \n",
              "2              {, (3.83%)}  \n",
              "3            { to (2.18%)}  \n",
              "4  { Transformers (1.18%)}  \n",
              "5          { mult (3.47%)}  \n",
              "6              {! (1.34%)}  \n",
              "7           { But (2.88%)}  "
            ]
          },
          "execution_count": 6,
          "metadata": {},
          "output_type": "execute_result"
        }
      ],
      "source": [
        "import torch\n",
        "import pandas as pd\n",
        "\n",
        "input_txt = \"Transformers are the\"\n",
        "input_ids = tokenizer(input_txt, return_tensors=\"pt\")[\"input_ids\"].to(device)\n",
        "# List to store dicts of input context and next top 5 probabale tokens\n",
        "iterations = []\n",
        "# Number of steps to generate tokens\n",
        "n_steps = 8\n",
        "# Number of choices\n",
        "choices_per_step = 5\n",
        "\n",
        "with torch.no_grad():\n",
        "  # Loop to generate tokens for n_steps\n",
        "  for _ in range(n_steps):\n",
        "    iteration = dict()\n",
        "    iteration[\"Input\"] = tokenizer.decode(input_ids[0])\n",
        "\n",
        "    # Get model outputs\n",
        "    outputs = model(input_ids=input_ids)\n",
        "\n",
        "    # Logits --> probs -->\n",
        "    next_token_logits = outputs.logits[0, -1, :] # Get logits for last token(-1) in the first batch(0)\n",
        "    next_token_probs = torch.softmax(next_token_logits, dim=-1)\n",
        "    sorted_ids = torch.argsort(next_token_probs, dim=-1, descending=True)\n",
        "\n",
        "    for choice_idx in range(choices_per_step):\n",
        "      token_id = sorted_ids[choice_idx]\n",
        "      token_prob = next_token_probs[token_id].cpu().numpy()\n",
        "      token_choice = {\n",
        "          f\"{tokenizer.decode(token_id)} ({100 * token_prob:.2f}%)\"\n",
        "      }\n",
        "      iteration[f\"Choice {choice_idx}\"] = token_choice\n",
        "\n",
        "    input_ids = torch.cat([input_ids, sorted_ids[None, 0, None]], dim=-1)\n",
        "    iterations.append(iteration)\n",
        "\n",
        "pd.DataFrame(iterations)"
      ]
    },
    {
      "cell_type": "markdown",
      "metadata": {
        "id": "3tMCRx6BGRDz"
      },
      "source": [
        "With this simple method we were able to generate the sentence \"Transformers are the most powerful beings in the universe\". Interestingly this indicates that GPT-2 has internalized some knowledge about the media franchise, which was created by two companies(Hasbro and Takara Tony).\n",
        "\n",
        "We can also see other possible continuations at each step, highlighting the iterative nature of text generation. Unlike in sequence classification tasks where a single forward pass suffices to generate the predictrions, with text generation we need to decode the output tokens one at a time.\n",
        "\n",
        "Let's try out the transformers `generate()` function to explore more sophisticated decoding startegies."
      ]
    },
    {
      "cell_type": "code",
      "execution_count": 7,
      "metadata": {
        "colab": {
          "base_uri": "https://localhost:8080/"
        },
        "id": "KvvcZ22tIQzU",
        "outputId": "7a9b05d2-67c8-4a00-e723-6b4bd1813c79"
      },
      "outputs": [
        {
          "name": "stderr",
          "output_type": "stream",
          "text": [
            "The attention mask and the pad token id were not set. As a consequence, you may observe unexpected behavior. Please pass your input's `attention_mask` to obtain reliable results.\n",
            "Setting `pad_token_id` to `eos_token_id`:50256 for open-end generation.\n"
          ]
        },
        {
          "name": "stdout",
          "output_type": "stream",
          "text": [
            "Transformers are the most powerful beings in the universe. They are the creators of the universe, and\n"
          ]
        }
      ],
      "source": [
        "input_tokens = tokenizer(\n",
        "    input_txt,\n",
        "    return_tensors=\"pt\"\n",
        ")[\"input_ids\"].to(device)\n",
        "output = model.generate(input_ids, max_new_tokens=n_steps, do_sample=False)\n",
        "print(tokenizer.decode(output[0]))"
      ]
    },
    {
      "cell_type": "markdown",
      "metadata": {
        "id": "llGHJoQjIjkl"
      },
      "source": [
        "Alright, let's try out the OpenAI's unicrorn story. We'll encode the prompt using tokenizer and increase the `max_legth` to generate a longer text."
      ]
    },
    {
      "cell_type": "code",
      "execution_count": 8,
      "metadata": {
        "colab": {
          "base_uri": "https://localhost:8080/"
        },
        "id": "7TNC9uWMue2d",
        "outputId": "8794bff5-18f2-41ca-e187-7a7a8eff5989"
      },
      "outputs": [
        {
          "name": "stderr",
          "output_type": "stream",
          "text": [
            "The attention mask and the pad token id were not set. As a consequence, you may observe unexpected behavior. Please pass your input's `attention_mask` to obtain reliable results.\n",
            "Setting `pad_token_id` to `eos_token_id`:50256 for open-end generation.\n"
          ]
        },
        {
          "data": {
            "text/plain": [
              "torch.Size([1, 175])"
            ]
          },
          "execution_count": 8,
          "metadata": {},
          "output_type": "execute_result"
        }
      ],
      "source": [
        "max_length = 128\n",
        "input_txt = \"\"\"In a shocking finding, scientist discovered \\\n",
        "a herd of unicorns living in a remote, previously unexplored \\\n",
        "valley, in the Andes Mountains. Even more surprising to the \\\n",
        "researchers was the fact that the unicorns spoke perfect English.\\n\\n\n",
        "\"\"\"\n",
        "input_ids = tokenizer(\n",
        "    input_txt,\n",
        "    return_tensors=\"pt\"\n",
        ")[\"input_ids\"].to(device)\n",
        "output_greedy = model.generate(\n",
        "    input_ids, # Input encoded ids from tokens\n",
        "    max_new_tokens=max_length, # Number of tokens to generate\n",
        "    do_sample=False\n",
        ")\n",
        "output_greedy.shape"
      ]
    },
    {
      "cell_type": "code",
      "execution_count": 11,
      "metadata": {},
      "outputs": [
        {
          "data": {
            "text/plain": [
              "175"
            ]
          },
          "execution_count": 11,
          "metadata": {},
          "output_type": "execute_result"
        }
      ],
      "source": [
        "input_ids.shape[1] + max_length"
      ]
    },
    {
      "cell_type": "code",
      "execution_count": null,
      "metadata": {
        "colab": {
          "base_uri": "https://localhost:8080/"
        },
        "id": "tlwUkijeu0xI",
        "outputId": "4a658fbb-0ab4-4ec0-c465-db0c6bda34c3"
      },
      "outputs": [
        {
          "name": "stdout",
          "output_type": "stream",
          "text": [
            "In a shocking finding, scientist discovered a herd of unicorns living in a remote, previously unexplored valley, in the Andes Mountains. Even more surprising to the researchers was the fact that the unicorns spoke perfect English.\n",
            "\n",
            "\n",
            "The researchers, led by Dr. David M. Koehler, a professor of anthropology at the University of Colorado, Boulder, discovered the unicorns in the remote valley of La Paz, in the Andes Mountains.\n",
            "\n",
            "\n",
            "\"We were surprised to find that the unicorns spoke perfect English,\" said Koehler. \"They were very friendly and friendly with us. They were very friendly with us and we were very friendly with them.\"\n",
            "\n",
            "\n",
            "The researchers were able to identify the unicorns by their distinctive pattern of white spots on their backs. The researchers also found that the unicorns were able to communicate with each other.\n"
          ]
        }
      ],
      "source": [
        "print(tokenizer.decode(output_greedy[0]))"
      ]
    },
    {
      "cell_type": "markdown",
      "metadata": {
        "id": "tc4LKtsvu7Fl"
      },
      "source": [
        "We see a repeat in sequences, *They were very friendly with us* and *The researchers* were repeated twice. This is because how greedy search works.\n",
        "\n",
        "It selects the token based on the highest probabality token withut considering the sequence. To generate good sequences it'll be better to select tokens based on the overall sequence probabality."
      ]
    },
    {
      "cell_type": "markdown",
      "metadata": {
        "id": "JXfRfI9svsKh"
      },
      "source": [
        "Greedy search decoding is not preferred to generate diverse text but it's useful for where a deterministic and factually correct output is required like arithmetic use cases"
      ]
    },
    {
      "cell_type": "code",
      "execution_count": null,
      "metadata": {
        "colab": {
          "base_uri": "https://localhost:8080/"
        },
        "id": "VVxFQWp-wCAJ",
        "outputId": "54196a2d-f7f1-434d-b946-e4578aa13133"
      },
      "outputs": [
        {
          "name": "stderr",
          "output_type": "stream",
          "text": [
            "The attention mask and the pad token id were not set. As a consequence, you may observe unexpected behavior. Please pass your input's `attention_mask` to obtain reliable results.\n",
            "Setting `pad_token_id` to `eos_token_id`:50256 for open-end generation.\n",
            "Input length of input_ids is 16, but `max_length` is set to 5. This can lead to unexpected behavior. You should consider increasing `max_new_tokens`.\n"
          ]
        },
        {
          "name": "stdout",
          "output_type": "stream",
          "text": [
            "\n",
            "5 + 8 => 13 7 + 1 => 8 1 + 1 =>\n",
            "\n",
            "\n"
          ]
        }
      ],
      "source": [
        "# Text generation for arithmetic use case using greedy searc\n",
        "max_lengthx = 5\n",
        "input_textx = \"\"\"\n",
        "5 + 8 => 13 \\\n",
        "7 + 1 => 8 \\\n",
        "1 + 1 =>\n",
        "\"\"\"\n",
        "input_idsx = tokenizer(\n",
        "    input_textx,\n",
        "    return_tensors=\"pt\",\n",
        ")[\"input_ids\"].to(device)\n",
        "output = model.generate(\n",
        "    input_idsx,\n",
        "    max_length=max_lengthx,\n",
        "    do_sample=False,\n",
        ")\n",
        "print(tokenizer.decode(output[0]))"
      ]
    },
    {
      "cell_type": "markdown",
      "metadata": {
        "id": "kVnz-YF3wgky"
      },
      "source": [
        "The generation worked correctly in gpt-large checkpoint, not loading and testing it out here due to colab memory constraints."
      ]
    },
    {
      "cell_type": "markdown",
      "metadata": {
        "id": "tard-bOOxP7I"
      },
      "source": [
        "## Beam Search Decoding\n",
        "\n",
        "Instead of decoding with the next highest probable token, beam search decoding keeps track of the *top-b* most probable next tokens, where *b* is refrred to as *number of beam* or *partial hypotheses. Then the next set of beams will be chose based on the current beams. This process is repeated until eos token or max_length. Finally the sequence is selected based on ranking the *b* beams accordig to log probabalities or the beam path of a sequence with highest probabality.\n",
        "\n",
        "![beam-search-decoding-with-two-beams](https://github.com/JpChii/nlp-with-hugging-face/blob/main/notes/images/5-text-generation/beam-search-with-two-beams.png?raw=1)"
      ]
    },
    {
      "cell_type": "markdown",
      "metadata": {},
      "source": [
        "*How are the sequences scored?*\n",
        "\n",
        "### Numerical unstability with conditionl probabalities\n",
        "\n",
        "We'll score the sequences using log probabaites instead of probabality itself. Because calculating the probablity of a sequence requires product of condition probabalites which is between [0,1].\n",
        "\n",
        "Assume we've 1024 tokens with 0.5 conditional probablity the product will be so small that the computer won't be able to represent the result and cause underflow. This extremeley small number also leads to numerical unstability with the underflow. We can avoid this by applying a log on top of conditional probabalites before the product and sum of all of them. This'll reduce the risk of running into numerical unstability."
      ]
    },
    {
      "cell_type": "code",
      "execution_count": null,
      "metadata": {
        "colab": {
          "base_uri": "https://localhost:8080/"
        },
        "id": "amumDbbByQeU",
        "outputId": "b3c2f876-a2a3-4e72-a811-4a7ae0d269c8"
      },
      "outputs": [
        {
          "data": {
            "text/plain": [
              "5.562684646268003e-309"
            ]
          },
          "execution_count": 9,
          "metadata": {},
          "output_type": "execute_result"
        }
      ],
      "source": [
        "import numpy as np\n",
        "# Without log ranking a sequence\n",
        "0.5 ** 1024"
      ]
    },
    {
      "cell_type": "code",
      "execution_count": null,
      "metadata": {
        "colab": {
          "base_uri": "https://localhost:8080/"
        },
        "id": "DlUhuykg3e8v",
        "outputId": "8daba507-d913-4f90-9ed9-6348fff7a49d"
      },
      "outputs": [
        {
          "data": {
            "text/plain": [
              "1.0122134649886695e-163"
            ]
          },
          "execution_count": 10,
          "metadata": {},
          "output_type": "execute_result"
        }
      ],
      "source": [
        "# With log\n",
        "np.log(0.5) ** 1024"
      ]
    },
    {
      "cell_type": "code",
      "execution_count": null,
      "metadata": {
        "colab": {
          "base_uri": "https://localhost:8080/"
        },
        "id": "iUT_vT513jB8",
        "outputId": "09447aac-e6bb-4fa0-e06b-01b1c1fccd3e"
      },
      "outputs": [
        {
          "data": {
            "text/plain": [
              "-709.782712893384"
            ]
          },
          "execution_count": 11,
          "metadata": {},
          "output_type": "execute_result"
        }
      ],
      "source": [
        "np.sum(\n",
        "    [np.log(0.5)] * 1024\n",
        ")"
      ]
    },
    {
      "cell_type": "markdown",
      "metadata": {
        "id": "kqhRPM773oJa"
      },
      "source": [
        "This aproach works for much smaller numbers as well. Since we need to compare the relative probabalities, we can do this directly with log probabalities."
      ]
    },
    {
      "cell_type": "markdown",
      "metadata": {
        "id": "jFRPHOVh4FJI"
      },
      "source": [
        "## calculating log probabalities of sequences\n",
        "\n",
        "Let's calculate and compare the log probabalities of the texts generated by greedy and beam search to see if beam search can improve the overall probabality.\n",
        "\n",
        "Input tokens --> transformers models --> Unnormalized logits for the next token.\n",
        "\n",
        "First we've to nromalize the logits to create a probabality distribution over the whole vocabulary for each token in the sequence. Then select only the token probabalities that were present in the sequence. The following functions implement the logic.\n",
        "\n",
        "> Why probabaility over entire vocabulary for logits from sequence alone? Think of it like this, the next token can be any word from the vocabulary right? so taking the probabality over all the possible token is the correct approach to get the correct probabality for tokens in sequence."
      ]
    },
    {
      "cell_type": "code",
      "execution_count": 12,
      "metadata": {
        "id": "fWIvlcLzEq0h"
      },
      "outputs": [],
      "source": [
        "# Function to calculate log probabality for a single token\n",
        "import torch.nn.functional as F\n",
        "def log_probs_from_logits(logits, labels):\n",
        "  \"\"\"\n",
        "  Function to get log probabality for a single token\n",
        "  \"\"\"\n",
        "  # [1, 175, 50257] --> [1, 175]\n",
        "  logp = F.log_softmax(logits, dim=-1)\n",
        "  logp_label = torch.gather(\n",
        "      logp, # Logits\n",
        "      2, # Dimension to gather tensors,\n",
        "      labels.unsqueeze(2), # Tensor indexes to gather\n",
        "  ).squeeze(-1)\n",
        "  return logp_label"
      ]
    },
    {
      "cell_type": "code",
      "execution_count": 13,
      "metadata": {
        "colab": {
          "base_uri": "https://localhost:8080/"
        },
        "id": "wcNNOvrVemHE",
        "outputId": "2d648941-05a3-4837-fc75-984a74a792cb"
      },
      "outputs": [
        {
          "name": "stdout",
          "output_type": "stream",
          "text": [
            "Input to model shape: torch.Size([1, 175])\n",
            "Logits shape: torch.Size([1, 175, 50257])\n"
          ]
        }
      ],
      "source": [
        "# Let's break down these to understand the shapes\n",
        "print(f\"Input to model shape: {output_greedy.shape}\")\n",
        "op = model(output_greedy)\n",
        "print(f\"Logits shape: {op.logits.shape}\")"
      ]
    },
    {
      "cell_type": "markdown",
      "metadata": {
        "id": "8Akvk_URemBg"
      },
      "source": [
        "We've an logits of shape 50257(vocab size) for each token of the input."
      ]
    },
    {
      "cell_type": "code",
      "execution_count": 14,
      "metadata": {
        "colab": {
          "base_uri": "https://localhost:8080/"
        },
        "id": "ZDDR3ta3fFth",
        "outputId": "c0ac1530-fc66-4ca6-85f1-3206cc91fb70"
      },
      "outputs": [
        {
          "name": "stdout",
          "output_type": "stream",
          "text": [
            "Shape of logits after removing last logit: torch.Size([1, 174, 50257])\n",
            "Shape of label after leaving out first label: torch.Size([1, 174])\n"
          ]
        }
      ],
      "source": [
        "# We'll ignore the last token logit as we don't have truth label\n",
        "# We don't use the logit for the first label\n",
        "op_x = op.logits[:, :-1, :]\n",
        "print(f\"Shape of logits after removing last logit: {op_x.shape}\")\n",
        "label_x = output_greedy[:, 1:]\n",
        "print(f\"Shape of label after leaving out first label: {label_x.shape}\")"
      ]
    },
    {
      "cell_type": "code",
      "execution_count": 15,
      "metadata": {
        "colab": {
          "base_uri": "https://localhost:8080/"
        },
        "id": "bOIAnhpNel4X",
        "outputId": "dd6f54dc-8272-4cf6-db8c-43ba3be7578a"
      },
      "outputs": [
        {
          "data": {
            "text/plain": [
              "(tensor(818), tensor(257))"
            ]
          },
          "execution_count": 15,
          "metadata": {},
          "output_type": "execute_result"
        }
      ],
      "source": [
        "# what did we leave out\n",
        "output_greedy[0, 0],output_greedy[0, 1]"
      ]
    },
    {
      "cell_type": "code",
      "execution_count": 16,
      "metadata": {
        "colab": {
          "base_uri": "https://localhost:8080/"
        },
        "id": "OuWooLVxelb2",
        "outputId": "d6ea9e07-d685-42c8-f23d-fcbd1ef1a95b"
      },
      "outputs": [
        {
          "name": "stdout",
          "output_type": "stream",
          "text": [
            "log softmax shape: torch.Size([1, 174, 50257])\n"
          ]
        }
      ],
      "source": [
        "# Next we gather the probabalities based on labels from logits softmax\n",
        "op_softmax = F.log_softmax(op_x, dim=-1)\n",
        "print(f\"log softmax shape: {op_softmax.shape}\")"
      ]
    },
    {
      "cell_type": "code",
      "execution_count": 17,
      "metadata": {
        "colab": {
          "base_uri": "https://localhost:8080/"
        },
        "id": "Pv3gxx69ejCk",
        "outputId": "21866de9-b0ae-4856-901d-8880f353b304"
      },
      "outputs": [
        {
          "name": "stdout",
          "output_type": "stream",
          "text": [
            "Shape of unsqueeze label: torch.Size([1, 174, 1])\n"
          ]
        }
      ],
      "source": [
        "# To get the indexes to match logits shape, we unsqueeze the labels at 2nd dimension\n",
        "label_2_dim_stretched = label_x.unsqueeze(2)\n",
        "print(f\"Shape of unsqueeze label: {label_2_dim_stretched.shape}\")"
      ]
    },
    {
      "cell_type": "code",
      "execution_count": 18,
      "metadata": {
        "colab": {
          "base_uri": "https://localhost:8080/"
        },
        "id": "PCc8r2y0hJAe",
        "outputId": "95b43c52-fb2a-441e-b759-fd31b4f66e56"
      },
      "outputs": [
        {
          "data": {
            "text/plain": [
              "(tensor(257), torch.Size([1, 1, 1]))"
            ]
          },
          "execution_count": 18,
          "metadata": {},
          "output_type": "execute_result"
        }
      ],
      "source": [
        "label_2_dim_stretched[0, 0, 0], torch.tensor([[[257]]]).shape"
      ]
    },
    {
      "cell_type": "code",
      "execution_count": 19,
      "metadata": {
        "colab": {
          "base_uri": "https://localhost:8080/"
        },
        "id": "GNuc0kHQhXrI",
        "outputId": "2e5542c3-e709-4eb3-8287-572e1b9edc28"
      },
      "outputs": [
        {
          "data": {
            "text/plain": [
              "tensor(-2.7840, grad_fn=<SelectBackward0>)"
            ]
          },
          "execution_count": 19,
          "metadata": {},
          "output_type": "execute_result"
        }
      ],
      "source": [
        "# Cherry picking the log probabality of a single token in the sequence\n",
        "op_softmax[0, 0, 257]\n",
        "# This will be the value at 0th index"
      ]
    },
    {
      "cell_type": "code",
      "execution_count": 20,
      "metadata": {
        "id": "GE35txfOhvEo"
      },
      "outputs": [],
      "source": [
        "logp_label = log_probs_from_logits(\n",
        "    op_x,\n",
        "    label_x\n",
        ")"
      ]
    },
    {
      "cell_type": "code",
      "execution_count": 21,
      "metadata": {},
      "outputs": [
        {
          "data": {
            "text/plain": [
              "torch.Size([1, 174])"
            ]
          },
          "execution_count": 21,
          "metadata": {},
          "output_type": "execute_result"
        }
      ],
      "source": [
        "logp_label.shape"
      ]
    },
    {
      "cell_type": "code",
      "execution_count": null,
      "metadata": {
        "colab": {
          "base_uri": "https://localhost:8080/"
        },
        "id": "pMMyz2a2h2VJ",
        "outputId": "eb89d333-8548-41be-f4dc-197c7c898eb2"
      },
      "outputs": [
        {
          "data": {
            "text/plain": [
              "tensor(-2.7840, grad_fn=<SelectBackward0>)"
            ]
          },
          "execution_count": 21,
          "metadata": {},
          "output_type": "execute_result"
        }
      ],
      "source": [
        "# Same output as manual process\n",
        "logp_label[0, 0]"
      ]
    },
    {
      "cell_type": "markdown",
      "metadata": {
        "id": "Ji4F5zmEh-Jn"
      },
      "source": [
        "What we do in `log_probs_from_logits()` in this function is stretch the truth labels and pick the log softmax probablity of the model output for these inputs.\n",
        "\n",
        "We also perform an alignment of logits and labels before passing them as inputs to this function:\n",
        "* Since the model preidcts the next token, we do not get a logit for the first label as this is the beginning of the sequence and no token to predict this.\n",
        "* We don't use the last logit because, it's a prediction and we don't have the truth label for it."
      ]
    },
    {
      "cell_type": "markdown",
      "metadata": {
        "id": "C8vVf533Szk3"
      },
      "source": [
        "We can use the below function to collect log probabalites of a sequence by getting log probabality for each token and sum them together."
      ]
    },
    {
      "cell_type": "code",
      "execution_count": null,
      "metadata": {
        "id": "AYAZn1f8TReU"
      },
      "outputs": [],
      "source": [
        "def sequence_logprob(model, labels, input_len=0):\n",
        "  with torch.no_grad():\n",
        "    output = model(labels)\n",
        "    log_probs = log_probs_from_logits(\n",
        "        output.logits[:, :-1 :],\n",
        "        labels[:, 1:],\n",
        "    )\n",
        "    seq_log_prob = torch.sum(log_probs[:, input_len:])\n",
        "    return seq_log_prob.cpu().numpy( )"
      ]
    },
    {
      "cell_type": "markdown",
      "metadata": {
        "id": "UvsXh5ihd9Sq"
      },
      "source": [
        "### Sequence log probabality of greedy log decoder"
      ]
    },
    {
      "cell_type": "code",
      "execution_count": 23,
      "metadata": {},
      "outputs": [
        {
          "data": {
            "text/plain": [
              "tensor([[  818,   257, 14702,  4917,    11, 11444,  5071,   257, 27638,   286,\n",
              "         28000, 19942,  2877,   287,   257,  6569,    11,  4271, 31286,  1850,\n",
              "         19272,    11,   287,   262,   843,   274, 21124,    13,  3412,   517,\n",
              "          6452,   284,   262,  4837,   373,   262,  1109,   326,   262, 28000,\n",
              "         19942,  5158,  2818,  3594,    13,   628,   198,   464,  4837,    11,\n",
              "          2957,   416,  1583,    13,  3271,   337,    13,   509,  2577, 49737,\n",
              "            11,   257,  6240,   286, 45424,   379,   262,  2059,   286,  7492,\n",
              "            11, 27437,    11,  5071,   262, 28000, 19942,   287,   262,  6569,\n",
              "         19272,   286,  4689,   350,  1031,    11,   287,   262,   843,   274,\n",
              "         21124,    13,   628,   198,     1,  1135,   547,  6655,   284,  1064,\n",
              "           326,   262, 28000, 19942,  5158,  2818,  3594,   553,   531,   509,\n",
              "          2577, 49737,    13,   366,  2990,   547,   845,  8030,   290,  8030,\n",
              "           351,   514,    13,  1119,   547,   845,  8030,   351,   514,   290,\n",
              "           356,   547,   845,  8030,   351,   606,   526,   628,   198,   464,\n",
              "          4837,   547,  1498,   284,  5911,   262, 28000, 19942,   416,   511,\n",
              "         18778,  3912,   286,  2330, 10222,   319,   511, 12983,    13,   383,\n",
              "          4837,   635,  1043,   326,   262, 28000, 19942,   547,  1498,   284,\n",
              "         10996,   351,  1123,   584,    13]])"
            ]
          },
          "execution_count": 23,
          "metadata": {},
          "output_type": "execute_result"
        }
      ],
      "source": [
        "output_greedy"
      ]
    },
    {
      "cell_type": "code",
      "execution_count": null,
      "metadata": {
        "colab": {
          "base_uri": "https://localhost:8080/"
        },
        "id": "8KmwXGdDd_9c",
        "outputId": "9207e01f-3e89-48cf-8bfd-27f2c30ba539"
      },
      "outputs": [
        {
          "name": "stdout",
          "output_type": "stream",
          "text": [
            "In a shocking finding, scientist discovered a herd of unicorns living in a remote, previously unexplored valley, in the Andes Mountains. Even more surprising to the researchers was the fact that the unicorns spoke perfect English.\n",
            "\n",
            "\n",
            "The researchers, led by Dr. David M. Koehler, a professor of anthropology at the University of Colorado, Boulder, discovered the unicorns in the remote valley of La Paz, in the Andes Mountains.\n",
            "\n",
            "\n",
            "\"We were surprised to find that the unicorns spoke perfect English,\" said Koehler. \"They were very friendly and friendly with us. They were very friendly with us and we were very friendly with them.\"\n",
            "\n",
            "\n",
            "The researchers were able to identify the unicorns by their distinctive pattern of white spots on their backs. The researchers also found that the unicorns were able to communicate with each other.\n",
            "\n",
            "log-prob: -161.98\n"
          ]
        }
      ],
      "source": [
        "logp = sequence_logprob(\n",
        "    model,\n",
        "    output_greedy,\n",
        "    input_len=len(input_ids[0])\n",
        ")\n",
        "print(tokenizer.decode(output_greedy[0]))\n",
        "print(f\"\\nlog-prob: {logp:.2f}\")"
      ]
    },
    {
      "cell_type": "markdown",
      "metadata": {
        "id": "fJjM4UgVi-Xi"
      },
      "source": [
        "Next let's generate a beam search sequence and compare it with the greedy  decoding log prob score.\n",
        "\n",
        "How do we generate beam search output? We can do this with `generate()` and passing it a parameter `num_beams`. num_beams is directly proportional to the increase in compute and time taken to generate the text and it's increase in text quality."
      ]
    },
    {
      "cell_type": "code",
      "execution_count": null,
      "metadata": {
        "colab": {
          "base_uri": "https://localhost:8080/"
        },
        "id": "FRPTpWDGl1Qt",
        "outputId": "6a93d233-9423-4d46-c10c-92074a839da8"
      },
      "outputs": [
        {
          "data": {
            "text/plain": [
              "('In a shocking finding, scientist discovered a herd of unicorns living in a remote, previously unexplored valley, in the Andes Mountains. Even more surprising to the researchers was the fact that the unicorns spoke perfect English.\\n\\n\\n',\n",
              " tensor([[  818,   257, 14702,  4917,    11, 11444,  5071,   257, 27638,   286,\n",
              "          28000, 19942,  2877,   287,   257,  6569,    11,  4271, 31286,  1850,\n",
              "          19272,    11,   287,   262,   843,   274, 21124,    13,  3412,   517,\n",
              "           6452,   284,   262,  4837,   373,   262,  1109,   326,   262, 28000,\n",
              "          19942,  5158,  2818,  3594,    13,   628,   198]]))"
            ]
          },
          "execution_count": 24,
          "metadata": {},
          "output_type": "execute_result"
        }
      ],
      "source": [
        "input_txt, input_ids"
      ]
    },
    {
      "cell_type": "code",
      "execution_count": null,
      "metadata": {
        "colab": {
          "base_uri": "https://localhost:8080/"
        },
        "id": "oBiDTSBAlzCU",
        "outputId": "8b52d18d-ebe0-4632-ee6f-169df40ab220"
      },
      "outputs": [
        {
          "name": "stderr",
          "output_type": "stream",
          "text": [
            "The attention mask and the pad token id were not set. As a consequence, you may observe unexpected behavior. Please pass your input's `attention_mask` to obtain reliable results.\n",
            "Setting `pad_token_id` to `eos_token_id`:50256 for open-end generation.\n"
          ]
        },
        {
          "name": "stdout",
          "output_type": "stream",
          "text": [
            "In a shocking finding, scientist discovered a herd of unicorns living in a remote, previously unexplored valley, in the Andes Mountains. Even more surprising to the researchers was the fact that the unicorns spoke perfect English.\n",
            "\n",
            "\n",
            "The discovery was made by a team of researchers from the University of California, Santa Cruz (UCSF) and the University of Colorado, Boulder (UCL).\n",
            "\n",
            "\n",
            "The unicorns were found in a remote, previously unexplored valley, in the Andes Mountains. Even more surprising to the researchers was the fact that the unicorns spoke perfect English.\n",
            "\n",
            "\n",
            "The team of researchers, led by\n",
            "\n",
            "log-prob: -61.69\n"
          ]
        }
      ],
      "source": [
        "output_beam = model.generate(\n",
        "  input_ids,\n",
        "  max_length=max_length,\n",
        "  num_beams=5,\n",
        "  do_sample=False\n",
        ")\n",
        "logp = sequence_logprob(\n",
        "    model,\n",
        "    output_beam,\n",
        "    input_len=len(input_ids[0])\n",
        ")\n",
        "print(tokenizer.decode(output_beam[0]))\n",
        "print(f\"\\nlog-prob: {logp:.2f}\")"
      ]
    },
    {
      "cell_type": "markdown",
      "metadata": {
        "id": "GceY4iD6mhG8"
      },
      "source": [
        "We get a higher(higher is better) log probabality compared with greedy search decoding. To improve the text generation and reduce repetitive text, we can impose an n-gram penalty with the `no-repeat_ngram_size` paramter that tracks which *n-grams* have been seen and sets the next token probabality to zero if it would produce a previously seen n-gram:"
      ]
    },
    {
      "cell_type": "code",
      "execution_count": null,
      "metadata": {
        "colab": {
          "base_uri": "https://localhost:8080/"
        },
        "id": "MgVLPl2DnqVY",
        "outputId": "297a5354-ac7f-452e-e268-596c6257bbd1"
      },
      "outputs": [
        {
          "name": "stderr",
          "output_type": "stream",
          "text": [
            "The attention mask and the pad token id were not set. As a consequence, you may observe unexpected behavior. Please pass your input's `attention_mask` to obtain reliable results.\n",
            "Setting `pad_token_id` to `eos_token_id`:50256 for open-end generation.\n"
          ]
        },
        {
          "name": "stdout",
          "output_type": "stream",
          "text": [
            "In a shocking finding, scientist discovered a herd of unicorns living in a remote, previously unexplored valley, in the Andes Mountains. Even more surprising to the researchers was the fact that the unicorns spoke perfect English.\n",
            "\n",
            "\n",
            "The discovery was made by a team of researchers from the University of California, Santa Cruz (UCSF) and the University of Colorado, Boulder (UCL).\n",
            "\n",
            "\n",
            "The unicorns were found in a remote, previously unexplored valley, in the Andes Mountains. Even more surprising to the researchers was the fact that the unicorns spoke perfect English.\n",
            "\n",
            "\n",
            "The team of researchers, led by\n",
            "\n",
            "log-prob: -87.12\n"
          ]
        }
      ],
      "source": [
        "ouput_beam = model.generate(\n",
        "  input_ids,\n",
        "  max_length=max_length,\n",
        "  num_beams=5,\n",
        "  do_sample=False,\n",
        "  no_repeat_ngram_size=2,\n",
        ")\n",
        "logp = sequence_logprob(\n",
        "    model,\n",
        "    ouput_beam,\n",
        "    input_len=len(input_ids[0]),\n",
        ")\n",
        "print(tokenizer.decode(output_beam[0]))\n",
        "print(f\"\\nlog-prob: {logp:.2f}\")"
      ]
    },
    {
      "cell_type": "markdown",
      "metadata": {
        "id": "kMelq2GpqAzN"
      },
      "source": [
        "We've stopped the repetitions(spoke perfect english) despite getting a lower score, the text remains coherent.\n",
        "\n",
        "* Beam search with n-gram penalty is a good way to find a trade-off between focusing on high-probabality tokens(with beam search) while reducing repitions(with n-gram penalty). This is commonly used in application such as summarization or machine translation where factual correctness is important.\n",
        "\n",
        "* Another alternative to reduce reptitions with increase increase in text diversity and reduced factual corectness(chatbot, story generation applications) we can use sampling. We'll explore sampling next."
      ]
    },
    {
      "cell_type": "markdown",
      "metadata": {
        "id": "rloSzq0ZoDOf"
      },
      "source": [
        "## Sampling Methods\n",
        "\n",
        "The simplest sampling method is to randomly sample from the probabality distribution of the model's outputs over the full vocabulary at each timestep.\n",
        "\n",
        "We can easily control the diversity of the output by adding a temperature parameter T that rescales the logits before taking the softmax.\n",
        "\n",
        "By Tuning T we can control the shape of the probabality distribution. When T << 1, the distribution becomes peaked around the origin and the rare tokens are suppressed. On the other hand wher T >>1 the distribution flattens out and each token becomes equally likely. Let's observe this effect of temeperature on token probabalities next."
      ]
    },
    {
      "cell_type": "code",
      "execution_count": null,
      "metadata": {
        "colab": {
          "base_uri": "https://localhost:8080/",
          "height": 449
        },
        "id": "3lNlHuMGJUjm",
        "outputId": "50c61938-9525-4d42-e881-7476f6be0978"
      },
      "outputs": [
        {
          "data": {
            "image/png": "[encoded data removed]",
            "text/plain": [
              "<Figure size 640x480 with 2 Axes>"
            ]
          },
          "metadata": {},
          "output_type": "display_data"
        }
      ],
      "source": [
        "# Distribution of randomly generated token probabalites\n",
        "import matplotlib.pyplot as plt\n",
        "import numpy as np\n",
        "\n",
        "\n",
        "def softmax(logits, T=1):\n",
        "  e_x = np.exp(logits / T)\n",
        "  return e_x / e_x.sum()\n",
        "\n",
        "logits = np.exp(np.random.random(1000))\n",
        "logits_without_t = np.exp(logits) / np.exp(logits).sum()\n",
        "sorted_logits = np.sort(logits)[::-1]\n",
        "x = np.arange(1000)\n",
        "\n",
        "f, (ax1, ax2) = plt.subplots(2, 1, sharex=True)\n",
        "\n",
        "ax1.step(x, logits_without_t, label=\"NoT\", c=\"silver\")\n",
        "\n",
        "for T in [0.5, 1.0, 2.0]:\n",
        "  ax2.step(x, softmax(sorted_logits, T), label=f\"T={T}\")\n",
        "plt.legend(loc=\"best\")\n",
        "plt.xlabel(\"Sorted token probabalities\")\n",
        "plt.ylabel(\"Probabaility\")\n",
        "plt.show()"
      ]
    },
    {
      "cell_type": "markdown",
      "metadata": {
        "id": "Jcc5G8mpKKsE"
      },
      "source": [
        "Let's check how temperature influences text generation."
      ]
    },
    {
      "cell_type": "code",
      "execution_count": null,
      "metadata": {
        "colab": {
          "base_uri": "https://localhost:8080/"
        },
        "id": "t2-1z8x7Odj1",
        "outputId": "a28b6484-c337-469d-95ee-6b93d674584f"
      },
      "outputs": [
        {
          "name": "stderr",
          "output_type": "stream",
          "text": [
            "The attention mask and the pad token id were not set. As a consequence, you may observe unexpected behavior. Please pass your input's `attention_mask` to obtain reliable results.\n",
            "Setting `pad_token_id` to `eos_token_id`:50256 for open-end generation.\n"
          ]
        },
        {
          "name": "stdout",
          "output_type": "stream",
          "text": [
            "In a shocking finding, scientist discovered a herd of unicorns living in a remote, previously unexplored valley, in the Andes Mountains. Even more surprising to the researchers was the fact that the unicorns spoke perfect English.\n",
            "\n",
            "\n",
            "To unravel this story you need several keys information—such as geographical placement as compared to the general terrain—in the context and for the context. To do your math with those you need more help—that your calculations may miss places and may cause strange or confusing calculations such as moving in too close.\n",
            "\n",
            "So in a related news there has already been this unicorn named Lucy at a private training course by\n"
          ]
        }
      ],
      "source": [
        "torch.manual_seed(42);\n",
        "\n",
        "output_temp = model.generate(\n",
        "  input_ids,\n",
        "  max_length=max_length,\n",
        "  do_sample=True,\n",
        "  temperature=2.0\n",
        "  )\n",
        "print(tokenizer.decode(output_temp[0]))"
      ]
    },
    {
      "cell_type": "markdown",
      "metadata": {
        "id": "75xogoLjOqoZ"
      },
      "source": [
        "We can see that a high temperate had produced gibberish, we've caused the model to create strange grammart and quite a few made up words. Let's see what happens if we cool down the temperature."
      ]
    },
    {
      "cell_type": "code",
      "execution_count": null,
      "metadata": {
        "colab": {
          "base_uri": "https://localhost:8080/"
        },
        "id": "bCK3thCcPkxt",
        "outputId": "4c5b9045-efa3-4a2e-a730-50467b74f5db"
      },
      "outputs": [
        {
          "name": "stderr",
          "output_type": "stream",
          "text": [
            "The attention mask and the pad token id were not set. As a consequence, you may observe unexpected behavior. Please pass your input's `attention_mask` to obtain reliable results.\n",
            "Setting `pad_token_id` to `eos_token_id`:50256 for open-end generation.\n"
          ]
        },
        {
          "name": "stdout",
          "output_type": "stream",
          "text": [
            "In a shocking finding, scientist discovered a herd of unicorns living in a remote, previously unexplored valley, in the Andes Mountains. Even more surprising to the researchers was the fact that the unicorns spoke perfect English.\n",
            "\n",
            "\n",
            "The researchers, from the University of Colorado Boulder, discovered the unicorns in a remote valley, in the Andes Mountains, and they were so familiar with each other that they could understand each other's gestures.\n",
            "\n",
            "\"They were speaking perfect English. They were just talking in perfect English, and they weren't even talking to each other,\" said the lead researcher, Dr. Scott L. McBride\n"
          ]
        }
      ],
      "source": [
        "# Reduce the temperature\n",
        "torch.manual_seed(42);\n",
        "\n",
        "output_temp = model.generate(\n",
        "  input_ids,\n",
        "  max_length=max_length,\n",
        "  do_sample=True,\n",
        "  temperature=0.5,\n",
        "  )\n",
        "print(tokenizer.decode(output_temp[0]))"
      ]
    },
    {
      "cell_type": "markdown",
      "metadata": {
        "id": "OUUersIPQDjD"
      },
      "source": [
        "The text with low temperature is more coherent.\n",
        "\n",
        "> **Note**: Main point with temperature is it allow us to control the quality of the samples, but there's always a trade-off between coherence(low temperature) and diversity(high temperature) that one has to tune to the use case at hand.\n",
        "\n",
        "Another way to adjust the trade-off between coherence and diversity is to truncate the distribuion of the vocabulary. This allows us to adjust the diversity freely with temperature but with a limit that excludes word that would be too strange in the context(i.e low probabality words). There are two main ways to do this top-k and nucleus sampling."
      ]
    },
    {
      "cell_type": "markdown",
      "metadata": {
        "id": "eELJzH1HOOBQ"
      },
      "source": []
    },
    {
      "cell_type": "markdown",
      "metadata": {
        "id": "dIkGLhQrQlFI"
      },
      "source": [
        "## Top-k and Nucleus Sampling\n",
        "\n",
        "Top-k and nucleues(top-p) sampling are two popular alternatives or extensions to using temperature. In both cases, the basic idea is to restrict the number of possible tokens we can sample from at each timestep. To see how this works, let's first visualize the cumulative probabality distirbution of the model's outputs at T=1."
      ]
    },
    {
      "cell_type": "code",
      "execution_count": null,
      "metadata": {
        "id": "UoKwhNNLlu5b"
      },
      "outputs": [],
      "source": [
        "torch.manual_seed(42)\n",
        "input_txt = \"\"\"In a shocking finding, scientist discovered \\\n",
        "a herd of unicorns living in a remote, previously unexplored \\\n",
        "valley, in the Andes Mountains. Even more surprising to the \\\n",
        "researchers was the fact that the unicorns spoke perfect English.\\n\\n\n",
        "\"\"\"\n",
        "input_ids = tokenizer(input_txt, return_tensors=\"pt\")[\"input_ids\"].to(device)"
      ]
    },
    {
      "cell_type": "code",
      "execution_count": null,
      "metadata": {
        "id": "y7ReOyNTl-Ls"
      },
      "outputs": [],
      "source": [
        "import torch.nn.functional as F\n",
        "\n",
        "with torch.no_grad():\n",
        "    output = model(input_ids=input_ids)\n",
        "    # In single batch(:), select last token(-1) probabalities in vocab(:)\n",
        "    next_token_logits = output.logits[:, -1, :]\n",
        "    probs = F.softmax(next_token_logits, dim=-1).detach().cpu().numpy()"
      ]
    },
    {
      "cell_type": "code",
      "execution_count": null,
      "metadata": {
        "colab": {
          "base_uri": "https://localhost:8080/"
        },
        "id": "qX2ars7cmPhO",
        "outputId": "f44bcff2-6d7d-48fb-da1b-4c3340c3cdb2"
      },
      "outputs": [
        {
          "data": {
            "text/plain": [
              "(torch.Size([1, 47]),\n",
              " torch.Size([1, 47, 50257]),\n",
              " torch.Size([1, 50257]),\n",
              " (1, 50257))"
            ]
          },
          "execution_count": 58,
          "metadata": {},
          "output_type": "execute_result"
        }
      ],
      "source": [
        "input_ids.shape, output.logits.shape, next_token_logits.shape, probs.shape"
      ]
    },
    {
      "cell_type": "code",
      "execution_count": null,
      "metadata": {
        "colab": {
          "base_uri": "https://localhost:8080/",
          "height": 233
        },
        "id": "RTxeOWslmiJC",
        "outputId": "88a1393c-46a0-4166-896c-ff75f795baaa"
      },
      "outputs": [
        {
          "data": {
            "image/png": "[encoded data removed]",
            "text/plain": [
              "<Figure size 1000x350 with 2 Axes>"
            ]
          },
          "metadata": {},
          "output_type": "display_data"
        }
      ],
      "source": [
        "import matplotlib.pyplot as plt\n",
        "import numpy as np\n",
        "\n",
        "fig, axes = plt.subplots(1,2,figsize=(10, 3.5))\n",
        "\n",
        "axes[0].hist(probs[0], bins=np.logspace(-10, -1, 100), color=\"C0\", edgecolor=\"C0\")\n",
        "axes[0].set_xscale(\"log\")\n",
        "axes[0].set_yscale(\"log\")\n",
        "axes[0].set_title(\"Probability distribution\")\n",
        "axes[0].set_xlabel(\"Probability\")\n",
        "axes[0].set_ylabel(\"Count\")\n",
        "\n",
        "axes[1].plot(np.cumsum(np.sort(probs[0])[::-1]), color=\"black\")\n",
        "axes[1].set_xlim([0, 10000])\n",
        "axes[1].set_ylim([0.75, 1.01])\n",
        "axes[1].set_title(\"Cumulative probabality\")\n",
        "axes[1].set_ylabel(\"Probabality\")\n",
        "axes[1].set_xlabel(\"Toekn (descending probabality)\")\n",
        "axes[1].minorticks_on()\n",
        "top_k_label = 'top-k threshold (k=2000)'\n",
        "top_p_label = 'nucleus threshold (p=0.95)'\n",
        "axes[1].vlines(x=2000, ymin=0, ymax=2, color='C0', label=top_k_label)\n",
        "axes[1].hlines(y=0.95, xmin=0, xmax=10000, color='C1', label=top_p_label, linestyle='--')\n",
        "axes[1].legend(loc='lower right')\n",
        "plt.tight_layout()"
      ]
    },
    {
      "cell_type": "markdown",
      "metadata": {
        "id": "Gd5d_PjPDASJ"
      },
      "source": [
        "In the two plots, the first plot is  a histogram of the token probabalities.\n",
        "It has a peak around 10^-8 and a second peak around 10^-4 and a handful of tokens occuring between 10^-2 and 10^-1. Look at this, we can see the probabality of poicking up the tokem with the highest probabality(the isolated bar at 10^-1) is 1 in 10.\n",
        "\n",
        "In the second plot, we've ordered the tokens by descending probabality and calculated the cumulative sum of the first 10,000 tokens(in total, GPT-2 has totoal 50,527 tokens).\n",
        "* The curved line represents the probabality of picking any of the preceeding tokens\n",
        "* There is roughly a 96% chance of picking any of the 1000 tokens with the highest probbality.\n",
        "* t=The probabality rises quickly above 90% but saturates close to 100% only after several thousand tokens.\n",
        "* There is a 1 in 100 chance of not picking any of the tokens that are not even in the top 2000.\n",
        "* Although this might look small, when sampling for hundreds of time we might pick an unlikely token at some point and picking such tokens will badly influence the generated text.\n",
        "* To avoid this picking up of unlikely tokens top-k and top-p can be used."
      ]
    },
    {
      "cell_type": "markdown",
      "metadata": {
        "id": "r3hSNSy8GvmV"
      },
      "source": [
        "### Top-k sampling\n",
        "\n",
        "The idea of top-k sampling is to select tokens from the top k tokens alone. We'll be cutting the tokens tail at the point k to make sure tokens with less probabality are not sampled.\n",
        "\n",
        "Looking again at the graph, we can say it's like drawing a vertical line on a decreasing probabality of tokens.\n",
        "\n",
        "We can do this easily with `generate()` function and `top_k` argument."
      ]
    },
    {
      "cell_type": "code",
      "execution_count": null,
      "metadata": {
        "colab": {
          "base_uri": "https://localhost:8080/"
        },
        "id": "F6tBN61THUGv",
        "outputId": "fe6e1469-f5c8-4e2f-de94-16c42cee96fa"
      },
      "outputs": [
        {
          "name": "stderr",
          "output_type": "stream",
          "text": [
            "The attention mask and the pad token id were not set. As a consequence, you may observe unexpected behavior. Please pass your input's `attention_mask` to obtain reliable results.\n",
            "Setting `pad_token_id` to `eos_token_id`:50256 for open-end generation.\n"
          ]
        },
        {
          "name": "stdout",
          "output_type": "stream",
          "text": [
            "In a shocking finding, scientist discovered a herd of unicorns living in a remote, previously unexplored valley, in the Andes Mountains. Even more surprising to the researchers was the fact that the unicorns spoke perfect English.\n",
            "\n",
            "\n",
            "To unravel this mystery, the researchers travelled to a remote mountain valley in Peru with scientists who can hear and read the sound of the unicorns' hoof chirps.\n",
            "\n",
            "\n",
            "The researchers also found an Indian unicorn, also called the Pandav. During that same expedition, they tested the animals' speech abilities in a bid to gain insight into the mysterious unicorn language.\n",
            "\n",
            "\n",
            "Tears flowed after\n"
          ]
        }
      ],
      "source": [
        "torch.manual_seed(42)\n",
        "output_topk = model.generate(\n",
        "    input_ids,\n",
        "    max_length=max_length,\n",
        "    do_sample=True,\n",
        "    top_k=50,\n",
        "    )\n",
        "print(tokenizer.decode(output_topk[0]))"
      ]
    },
    {
      "cell_type": "markdown",
      "metadata": {
        "id": "Z-tbON-NH6mK"
      },
      "source": [
        "This is arguably the most-human looking text we've generated so far. But how dfo we choose k? The value of k is chosen manually at each timestep of the token irrespective of the output distribution of tokens at that step. We  can find good value for k by looking at some text quality metrics."
      ]
    },
    {
      "cell_type": "markdown",
      "metadata": {
        "id": "zNPrwTJ3KSQP"
      },
      "source": [
        "### Top-P sampling\n",
        "\n",
        "In Top-P sampling we set a probabality limit,\n",
        "* tokens are first sorted in descending order of probabality\n",
        "* Then tokens probabality are added cumulativley until we reach this limit. Once we reach this limit, all the tokens contributed to this mass(limit we set) are selected.\n",
        "* From this group of tokens next token is sampled.\n",
        "\n",
        "With respect to the plot, this can be considered as a horizontal line in decresing tokens probabality and all the tokens below it can be used for sampling.\n",
        "\n",
        "This makes it dynamic with respect to output distribution at each time step instead of a static count like top-k sampling.\n",
        "\n",
        "We can implement this with `generate()` by passing `top_p` paramter."
      ]
    },
    {
      "cell_type": "code",
      "execution_count": null,
      "metadata": {
        "colab": {
          "base_uri": "https://localhost:8080/"
        },
        "id": "WYYE1aIuK_xl",
        "outputId": "fcd9c3bc-8cb5-4040-f444-ab043d17aa67"
      },
      "outputs": [
        {
          "name": "stderr",
          "output_type": "stream",
          "text": [
            "The attention mask and the pad token id were not set. As a consequence, you may observe unexpected behavior. Please pass your input's `attention_mask` to obtain reliable results.\n",
            "Setting `pad_token_id` to `eos_token_id`:50256 for open-end generation.\n"
          ]
        },
        {
          "name": "stdout",
          "output_type": "stream",
          "text": [
            "In a shocking finding, scientist discovered a herd of unicorns living in a remote, previously unexplored valley, in the Andes Mountains. Even more surprising to the researchers was the fact that the unicorns spoke perfect English.\n",
            "\n",
            "\n",
            "The research, published in the journal PeerJ, also revealed that unicorns live within a small community of about 10 to 15 people and have no social structure.<|endoftext|>\n"
          ]
        }
      ],
      "source": [
        "output_topp = model.generate(\n",
        "    input_ids,\n",
        "    top_p=0.90,\n",
        "    do_sample=True,\n",
        "    max_length=max_length\n",
        ")\n",
        "print(tokenizer.decode(output_topp[0]))"
      ]
    },
    {
      "cell_type": "markdown",
      "metadata": {
        "id": "f5D5L5CeLmxS"
      },
      "source": [
        "top_p also produced a good story but with a twist of where unicorns live and having no societal structure."
      ]
    },
    {
      "cell_type": "markdown",
      "metadata": {
        "id": "hx32147JL-Cb"
      },
      "source": [
        "We can combine both top_k and top_p. Let'\n",
        "s say to use 50 tokens from probabality mass of 90%"
      ]
    },
    {
      "cell_type": "code",
      "execution_count": null,
      "metadata": {
        "colab": {
          "base_uri": "https://localhost:8080/"
        },
        "id": "RIB5E3gEMERW",
        "outputId": "59b7c474-7d93-44fb-e68f-6f16e0bb8216"
      },
      "outputs": [
        {
          "name": "stderr",
          "output_type": "stream",
          "text": [
            "The attention mask and the pad token id were not set. As a consequence, you may observe unexpected behavior. Please pass your input's `attention_mask` to obtain reliable results.\n",
            "Setting `pad_token_id` to `eos_token_id`:50256 for open-end generation.\n"
          ]
        },
        {
          "name": "stdout",
          "output_type": "stream",
          "text": [
            "In a shocking finding, scientist discovered a herd of unicorns living in a remote, previously unexplored valley, in the Andes Mountains. Even more surprising to the researchers was the fact that the unicorns spoke perfect English.\n",
            "\n",
            "\n",
            "The study, published in the journal Science, suggests the unicorns were native to the southern Amazon, who migrated there in the past.\n",
            "\n",
            "Scientists used a remote-sensing satellite to record the activity and movements of thousands of elephants from over 50 different parts of South America in the Andes.\n",
            "\n",
            "\n",
            "'The team found an unusual population of rare African rain forest unicorns. They appeared to be\n"
          ]
        }
      ],
      "source": [
        "output_topkp = model.generate(\n",
        "    input_ids,\n",
        "    max_length=max_length,\n",
        "    do_sample=True,\n",
        "    top_k=50,\n",
        "    top_p=0.90,\n",
        ")\n",
        "print(tokenizer.decode(output_topkp[0]))"
      ]
    },
    {
      "cell_type": "markdown",
      "metadata": {
        "id": "iak7hm5rMVSM"
      },
      "source": [
        "> We can also combine this with beam search to generate better text instead of greedy search. We can sample and then build the beams on top of it."
      ]
    },
    {
      "cell_type": "code",
      "execution_count": null,
      "metadata": {
        "colab": {
          "base_uri": "https://localhost:8080/"
        },
        "id": "kczw5VB5Mm_x",
        "outputId": "e3eac223-1bcd-4ea8-b4ed-d609d34a0c72"
      },
      "outputs": [
        {
          "name": "stderr",
          "output_type": "stream",
          "text": [
            "The attention mask and the pad token id were not set. As a consequence, you may observe unexpected behavior. Please pass your input's `attention_mask` to obtain reliable results.\n",
            "Setting `pad_token_id` to `eos_token_id`:50256 for open-end generation.\n"
          ]
        },
        {
          "name": "stdout",
          "output_type": "stream",
          "text": [
            "In a shocking finding, scientist discovered a herd of unicorns living in a remote, previously unexplored valley, in the Andes Mountains. Even more surprising to the researchers was the fact that the unicorns spoke perfect English.\n",
            "\n",
            "\n",
            "The discovery was made by a team of researchers from the University of California, Santa Cruz, who discovered the unicorns in a remote, previously unexplored valley, in the Andes Mountains. Even more surprising to the researchers was the fact that the unicorns spoke perfect English.\n",
            "\n",
            "\n",
            "The unicorns were discovered in a remote valley in the Andes Mountains.\n",
            "\n",
            "\n",
            "According to the researchers, the unic\n"
          ]
        }
      ],
      "source": [
        "output_topkp_beam = model.generate(\n",
        "    input_ids,\n",
        "    max_length=max_length,\n",
        "    do_sample=True,\n",
        "    top_k=50,\n",
        "    top_p=0.90,\n",
        "    num_beams=5\n",
        ")\n",
        "print(tokenizer.decode(output_topkp_beam[0]))"
      ]
    },
    {
      "cell_type": "markdown",
      "metadata": {
        "id": "ojG3MTidNawD"
      },
      "source": [
        "## Which decoding method is best?\n",
        "\n",
        "There is no *best* decoding method, it all depends on the nature of task to genrate text for?\n",
        "\n",
        "* Use greedy search in combination with beam search for arithemetic or providing answer to a specific question.\n",
        "* To generate diverse text, use sampling methods like temperature, top_k, top_p or a combination from three."
      ]
    },
    {
      "cell_type": "markdown",
      "metadata": {
        "id": "OS5QVaCqOTpg"
      },
      "source": [
        "# Conclusion\n",
        "\n",
        "In this chapter we covered different decoding techniques to improve quality of text generated and also the computational complexietes goes along with it due to it's iterative nature. Finding the best decoding strattergy requires some experimentation and a subjective evaluation of the generated texts.\n",
        "\n",
        "We can't make these decision on gut feeling alone. Like other NLP taks there are metrics for these as well."
      ]
    }
  ],
  "metadata": {
    "colab": {
      "provenance": []
    },
    "kernelspec": {
      "display_name": "Python 3",
      "name": "python3"
    },
    "language_info": {
      "codemirror_mode": {
        "name": "ipython",
        "version": 3
      },
      "file_extension": ".py",
      "mimetype": "text/x-python",
      "name": "python",
      "nbconvert_exporter": "python",
      "pygments_lexer": "ipython3",
      "version": "3.9.17"
    },
    "orig_nbformat": 4,
    "widgets": {
      "application/vnd.jupyter.widget-state+json": {
        "009e133230ab405ba317740a7566b2db": {
          "model_module": "@jupyter-widgets/base",
          "model_module_version": "1.2.0",
          "model_name": "LayoutModel",
          "state": {
            "_model_module": "@jupyter-widgets/base",
            "_model_module_version": "1.2.0",
            "_model_name": "LayoutModel",
            "_view_count": null,
            "_view_module": "@jupyter-widgets/base",
            "_view_module_version": "1.2.0",
            "_view_name": "LayoutView",
            "align_content": null,
            "align_items": null,
            "align_self": null,
            "border": null,
            "bottom": null,
            "display": null,
            "flex": null,
            "flex_flow": null,
            "grid_area": null,
            "grid_auto_columns": null,
            "grid_auto_flow": null,
            "grid_auto_rows": null,
            "grid_column": null,
            "grid_gap": null,
            "grid_row": null,
            "grid_template_areas": null,
            "grid_template_columns": null,
            "grid_template_rows": null,
            "height": null,
            "justify_content": null,
            "justify_items": null,
            "left": null,
            "margin": null,
            "max_height": null,
            "max_width": null,
            "min_height": null,
            "min_width": null,
            "object_fit": null,
            "object_position": null,
            "order": null,
            "overflow": null,
            "overflow_x": null,
            "overflow_y": null,
            "padding": null,
            "right": null,
            "top": null,
            "visibility": null,
            "width": null
          }
        },
        "07536455eb9748779b0e5d75e58b865f": {
          "model_module": "@jupyter-widgets/base",
          "model_module_version": "1.2.0",
          "model_name": "LayoutModel",
          "state": {
            "_model_module": "@jupyter-widgets/base",
            "_model_module_version": "1.2.0",
            "_model_name": "LayoutModel",
            "_view_count": null,
            "_view_module": "@jupyter-widgets/base",
            "_view_module_version": "1.2.0",
            "_view_name": "LayoutView",
            "align_content": null,
            "align_items": null,
            "align_self": null,
            "border": null,
            "bottom": null,
            "display": null,
            "flex": null,
            "flex_flow": null,
            "grid_area": null,
            "grid_auto_columns": null,
            "grid_auto_flow": null,
            "grid_auto_rows": null,
            "grid_column": null,
            "grid_gap": null,
            "grid_row": null,
            "grid_template_areas": null,
            "grid_template_columns": null,
            "grid_template_rows": null,
            "height": null,
            "justify_content": null,
            "justify_items": null,
            "left": null,
            "margin": null,
            "max_height": null,
            "max_width": null,
            "min_height": null,
            "min_width": null,
            "object_fit": null,
            "object_position": null,
            "order": null,
            "overflow": null,
            "overflow_x": null,
            "overflow_y": null,
            "padding": null,
            "right": null,
            "top": null,
            "visibility": null,
            "width": null
          }
        },
        "07763abf458d41cdaf67d0120bd5e1bf": {
          "model_module": "@jupyter-widgets/base",
          "model_module_version": "1.2.0",
          "model_name": "LayoutModel",
          "state": {
            "_model_module": "@jupyter-widgets/base",
            "_model_module_version": "1.2.0",
            "_model_name": "LayoutModel",
            "_view_count": null,
            "_view_module": "@jupyter-widgets/base",
            "_view_module_version": "1.2.0",
            "_view_name": "LayoutView",
            "align_content": null,
            "align_items": null,
            "align_self": null,
            "border": null,
            "bottom": null,
            "display": null,
            "flex": null,
            "flex_flow": null,
            "grid_area": null,
            "grid_auto_columns": null,
            "grid_auto_flow": null,
            "grid_auto_rows": null,
            "grid_column": null,
            "grid_gap": null,
            "grid_row": null,
            "grid_template_areas": null,
            "grid_template_columns": null,
            "grid_template_rows": null,
            "height": null,
            "justify_content": null,
            "justify_items": null,
            "left": null,
            "margin": null,
            "max_height": null,
            "max_width": null,
            "min_height": null,
            "min_width": null,
            "object_fit": null,
            "object_position": null,
            "order": null,
            "overflow": null,
            "overflow_x": null,
            "overflow_y": null,
            "padding": null,
            "right": null,
            "top": null,
            "visibility": null,
            "width": null
          }
        },
        "101e64bcdb8e430089e9ff6dff7b864c": {
          "model_module": "@jupyter-widgets/controls",
          "model_module_version": "1.5.0",
          "model_name": "DescriptionStyleModel",
          "state": {
            "_model_module": "@jupyter-widgets/controls",
            "_model_module_version": "1.5.0",
            "_model_name": "DescriptionStyleModel",
            "_view_count": null,
            "_view_module": "@jupyter-widgets/base",
            "_view_module_version": "1.2.0",
            "_view_name": "StyleView",
            "description_width": ""
          }
        },
        "2104a7aa65f8442884d20ad594a31133": {
          "model_module": "@jupyter-widgets/controls",
          "model_module_version": "1.5.0",
          "model_name": "ProgressStyleModel",
          "state": {
            "_model_module": "@jupyter-widgets/controls",
            "_model_module_version": "1.5.0",
            "_model_name": "ProgressStyleModel",
            "_view_count": null,
            "_view_module": "@jupyter-widgets/base",
            "_view_module_version": "1.2.0",
            "_view_name": "StyleView",
            "bar_color": null,
            "description_width": ""
          }
        },
        "2297e0b554114521be12f1b4781a8905": {
          "model_module": "@jupyter-widgets/base",
          "model_module_version": "1.2.0",
          "model_name": "LayoutModel",
          "state": {
            "_model_module": "@jupyter-widgets/base",
            "_model_module_version": "1.2.0",
            "_model_name": "LayoutModel",
            "_view_count": null,
            "_view_module": "@jupyter-widgets/base",
            "_view_module_version": "1.2.0",
            "_view_name": "LayoutView",
            "align_content": null,
            "align_items": null,
            "align_self": null,
            "border": null,
            "bottom": null,
            "display": null,
            "flex": null,
            "flex_flow": null,
            "grid_area": null,
            "grid_auto_columns": null,
            "grid_auto_flow": null,
            "grid_auto_rows": null,
            "grid_column": null,
            "grid_gap": null,
            "grid_row": null,
            "grid_template_areas": null,
            "grid_template_columns": null,
            "grid_template_rows": null,
            "height": null,
            "justify_content": null,
            "justify_items": null,
            "left": null,
            "margin": null,
            "max_height": null,
            "max_width": null,
            "min_height": null,
            "min_width": null,
            "object_fit": null,
            "object_position": null,
            "order": null,
            "overflow": null,
            "overflow_x": null,
            "overflow_y": null,
            "padding": null,
            "right": null,
            "top": null,
            "visibility": null,
            "width": null
          }
        },
        "25011cc8c67d42cdb88d222942440eb6": {
          "model_module": "@jupyter-widgets/base",
          "model_module_version": "1.2.0",
          "model_name": "LayoutModel",
          "state": {
            "_model_module": "@jupyter-widgets/base",
            "_model_module_version": "1.2.0",
            "_model_name": "LayoutModel",
            "_view_count": null,
            "_view_module": "@jupyter-widgets/base",
            "_view_module_version": "1.2.0",
            "_view_name": "LayoutView",
            "align_content": null,
            "align_items": null,
            "align_self": null,
            "border": null,
            "bottom": null,
            "display": null,
            "flex": null,
            "flex_flow": null,
            "grid_area": null,
            "grid_auto_columns": null,
            "grid_auto_flow": null,
            "grid_auto_rows": null,
            "grid_column": null,
            "grid_gap": null,
            "grid_row": null,
            "grid_template_areas": null,
            "grid_template_columns": null,
            "grid_template_rows": null,
            "height": null,
            "justify_content": null,
            "justify_items": null,
            "left": null,
            "margin": null,
            "max_height": null,
            "max_width": null,
            "min_height": null,
            "min_width": null,
            "object_fit": null,
            "object_position": null,
            "order": null,
            "overflow": null,
            "overflow_x": null,
            "overflow_y": null,
            "padding": null,
            "right": null,
            "top": null,
            "visibility": null,
            "width": null
          }
        },
        "2603ecc6a7304db38cc9d3ba1f34a83f": {
          "model_module": "@jupyter-widgets/base",
          "model_module_version": "1.2.0",
          "model_name": "LayoutModel",
          "state": {
            "_model_module": "@jupyter-widgets/base",
            "_model_module_version": "1.2.0",
            "_model_name": "LayoutModel",
            "_view_count": null,
            "_view_module": "@jupyter-widgets/base",
            "_view_module_version": "1.2.0",
            "_view_name": "LayoutView",
            "align_content": null,
            "align_items": null,
            "align_self": null,
            "border": null,
            "bottom": null,
            "display": null,
            "flex": null,
            "flex_flow": null,
            "grid_area": null,
            "grid_auto_columns": null,
            "grid_auto_flow": null,
            "grid_auto_rows": null,
            "grid_column": null,
            "grid_gap": null,
            "grid_row": null,
            "grid_template_areas": null,
            "grid_template_columns": null,
            "grid_template_rows": null,
            "height": null,
            "justify_content": null,
            "justify_items": null,
            "left": null,
            "margin": null,
            "max_height": null,
            "max_width": null,
            "min_height": null,
            "min_width": null,
            "object_fit": null,
            "object_position": null,
            "order": null,
            "overflow": null,
            "overflow_x": null,
            "overflow_y": null,
            "padding": null,
            "right": null,
            "top": null,
            "visibility": null,
            "width": null
          }
        },
        "324587df83784ce29bd4f1ee033a7154": {
          "model_module": "@jupyter-widgets/controls",
          "model_module_version": "1.5.0",
          "model_name": "FloatProgressModel",
          "state": {
            "_dom_classes": [],
            "_model_module": "@jupyter-widgets/controls",
            "_model_module_version": "1.5.0",
            "_model_name": "FloatProgressModel",
            "_view_count": null,
            "_view_module": "@jupyter-widgets/controls",
            "_view_module_version": "1.5.0",
            "_view_name": "ProgressView",
            "bar_style": "success",
            "description": "",
            "description_tooltip": null,
            "layout": "IPY_MODEL_b2ab4fff9fae4d0ebf387733bacef7fc",
            "max": 1519984962,
            "min": 0,
            "orientation": "horizontal",
            "style": "IPY_MODEL_3ed6cf9e92a24542a80b8f26e8d4027c",
            "value": 1519984962
          }
        },
        "33e3b78c9bb84a3eaee6ebbfa15f530f": {
          "model_module": "@jupyter-widgets/controls",
          "model_module_version": "1.5.0",
          "model_name": "HTMLModel",
          "state": {
            "_dom_classes": [],
            "_model_module": "@jupyter-widgets/controls",
            "_model_module_version": "1.5.0",
            "_model_name": "HTMLModel",
            "_view_count": null,
            "_view_module": "@jupyter-widgets/controls",
            "_view_module_version": "1.5.0",
            "_view_name": "HTMLView",
            "description": "",
            "description_tooltip": null,
            "layout": "IPY_MODEL_2297e0b554114521be12f1b4781a8905",
            "placeholder": "​",
            "style": "IPY_MODEL_9676e35d12ac4322b8e9b44f342c14e3",
            "value": " 718/718 [00:00&lt;00:00, 22.7kB/s]"
          }
        },
        "34e4c2df87b14a5d96875068e38a8a6a": {
          "model_module": "@jupyter-widgets/base",
          "model_module_version": "1.2.0",
          "model_name": "LayoutModel",
          "state": {
            "_model_module": "@jupyter-widgets/base",
            "_model_module_version": "1.2.0",
            "_model_name": "LayoutModel",
            "_view_count": null,
            "_view_module": "@jupyter-widgets/base",
            "_view_module_version": "1.2.0",
            "_view_name": "LayoutView",
            "align_content": null,
            "align_items": null,
            "align_self": null,
            "border": null,
            "bottom": null,
            "display": null,
            "flex": null,
            "flex_flow": null,
            "grid_area": null,
            "grid_auto_columns": null,
            "grid_auto_flow": null,
            "grid_auto_rows": null,
            "grid_column": null,
            "grid_gap": null,
            "grid_row": null,
            "grid_template_areas": null,
            "grid_template_columns": null,
            "grid_template_rows": null,
            "height": null,
            "justify_content": null,
            "justify_items": null,
            "left": null,
            "margin": null,
            "max_height": null,
            "max_width": null,
            "min_height": null,
            "min_width": null,
            "object_fit": null,
            "object_position": null,
            "order": null,
            "overflow": null,
            "overflow_x": null,
            "overflow_y": null,
            "padding": null,
            "right": null,
            "top": null,
            "visibility": null,
            "width": null
          }
        },
        "3d3f49d6a1834bd9885ef6fb8538a0b7": {
          "model_module": "@jupyter-widgets/controls",
          "model_module_version": "1.5.0",
          "model_name": "DescriptionStyleModel",
          "state": {
            "_model_module": "@jupyter-widgets/controls",
            "_model_module_version": "1.5.0",
            "_model_name": "DescriptionStyleModel",
            "_view_count": null,
            "_view_module": "@jupyter-widgets/base",
            "_view_module_version": "1.2.0",
            "_view_name": "StyleView",
            "description_width": ""
          }
        },
        "3ed6cf9e92a24542a80b8f26e8d4027c": {
          "model_module": "@jupyter-widgets/controls",
          "model_module_version": "1.5.0",
          "model_name": "ProgressStyleModel",
          "state": {
            "_model_module": "@jupyter-widgets/controls",
            "_model_module_version": "1.5.0",
            "_model_name": "ProgressStyleModel",
            "_view_count": null,
            "_view_module": "@jupyter-widgets/base",
            "_view_module_version": "1.2.0",
            "_view_name": "StyleView",
            "bar_color": null,
            "description_width": ""
          }
        },
        "418181215f724274a1ad7e23d463666f": {
          "model_module": "@jupyter-widgets/controls",
          "model_module_version": "1.5.0",
          "model_name": "HTMLModel",
          "state": {
            "_dom_classes": [],
            "_model_module": "@jupyter-widgets/controls",
            "_model_module_version": "1.5.0",
            "_model_name": "HTMLModel",
            "_view_count": null,
            "_view_module": "@jupyter-widgets/controls",
            "_view_module_version": "1.5.0",
            "_view_name": "HTMLView",
            "description": "",
            "description_tooltip": null,
            "layout": "IPY_MODEL_a5f3a95af1ae4bf4b622824206727460",
            "placeholder": "​",
            "style": "IPY_MODEL_3d3f49d6a1834bd9885ef6fb8538a0b7",
            "value": " 1.52G/1.52G [01:13&lt;00:00, 22.1MB/s]"
          }
        },
        "41b056f9bbfa4be48ccedc29825b0acb": {
          "model_module": "@jupyter-widgets/controls",
          "model_module_version": "1.5.0",
          "model_name": "HTMLModel",
          "state": {
            "_dom_classes": [],
            "_model_module": "@jupyter-widgets/controls",
            "_model_module_version": "1.5.0",
            "_model_name": "HTMLModel",
            "_view_count": null,
            "_view_module": "@jupyter-widgets/controls",
            "_view_module_version": "1.5.0",
            "_view_name": "HTMLView",
            "description": "",
            "description_tooltip": null,
            "layout": "IPY_MODEL_8b7b40f752e542f48f70a3b71b25f6d2",
            "placeholder": "​",
            "style": "IPY_MODEL_56597b2c02c54587a13de42ea12c8760",
            "value": "Downloading (…)olve/main/merges.txt: 100%"
          }
        },
        "47867b007fd54a7ea01b4d7a408f52d7": {
          "model_module": "@jupyter-widgets/controls",
          "model_module_version": "1.5.0",
          "model_name": "HTMLModel",
          "state": {
            "_dom_classes": [],
            "_model_module": "@jupyter-widgets/controls",
            "_model_module_version": "1.5.0",
            "_model_name": "HTMLModel",
            "_view_count": null,
            "_view_module": "@jupyter-widgets/controls",
            "_view_module_version": "1.5.0",
            "_view_name": "HTMLView",
            "description": "",
            "description_tooltip": null,
            "layout": "IPY_MODEL_d4b18fdd9853440aa873d9e0df7609a8",
            "placeholder": "​",
            "style": "IPY_MODEL_fa31efc8055447aa9f9a23fa831c44b2",
            "value": " 456k/456k [00:00&lt;00:00, 889kB/s]"
          }
        },
        "48ceac9224a84c309d513458c7c48b66": {
          "model_module": "@jupyter-widgets/controls",
          "model_module_version": "1.5.0",
          "model_name": "FloatProgressModel",
          "state": {
            "_dom_classes": [],
            "_model_module": "@jupyter-widgets/controls",
            "_model_module_version": "1.5.0",
            "_model_name": "FloatProgressModel",
            "_view_count": null,
            "_view_module": "@jupyter-widgets/controls",
            "_view_module_version": "1.5.0",
            "_view_name": "ProgressView",
            "bar_style": "success",
            "description": "",
            "description_tooltip": null,
            "layout": "IPY_MODEL_d24279410beb4d43aa478adbe649fe3a",
            "max": 1042301,
            "min": 0,
            "orientation": "horizontal",
            "style": "IPY_MODEL_ffe1d928f2ae4198a4f1150cb2bfa90f",
            "value": 1042301
          }
        },
        "537f2a54d74e4a9aacf033f3f1efee9d": {
          "model_module": "@jupyter-widgets/controls",
          "model_module_version": "1.5.0",
          "model_name": "HBoxModel",
          "state": {
            "_dom_classes": [],
            "_model_module": "@jupyter-widgets/controls",
            "_model_module_version": "1.5.0",
            "_model_name": "HBoxModel",
            "_view_count": null,
            "_view_module": "@jupyter-widgets/controls",
            "_view_module_version": "1.5.0",
            "_view_name": "HBoxView",
            "box_style": "",
            "children": [
              "IPY_MODEL_93d078bd3b894dee9e78958472ca337e",
              "IPY_MODEL_dcd42bf877e94381bbf085b623bad66b",
              "IPY_MODEL_33e3b78c9bb84a3eaee6ebbfa15f530f"
            ],
            "layout": "IPY_MODEL_f3633a0c7ded4d21a21631bc75c53a2e"
          }
        },
        "547d4f3588844646a5b95f7bce1dbbfb": {
          "model_module": "@jupyter-widgets/base",
          "model_module_version": "1.2.0",
          "model_name": "LayoutModel",
          "state": {
            "_model_module": "@jupyter-widgets/base",
            "_model_module_version": "1.2.0",
            "_model_name": "LayoutModel",
            "_view_count": null,
            "_view_module": "@jupyter-widgets/base",
            "_view_module_version": "1.2.0",
            "_view_name": "LayoutView",
            "align_content": null,
            "align_items": null,
            "align_self": null,
            "border": null,
            "bottom": null,
            "display": null,
            "flex": null,
            "flex_flow": null,
            "grid_area": null,
            "grid_auto_columns": null,
            "grid_auto_flow": null,
            "grid_auto_rows": null,
            "grid_column": null,
            "grid_gap": null,
            "grid_row": null,
            "grid_template_areas": null,
            "grid_template_columns": null,
            "grid_template_rows": null,
            "height": null,
            "justify_content": null,
            "justify_items": null,
            "left": null,
            "margin": null,
            "max_height": null,
            "max_width": null,
            "min_height": null,
            "min_width": null,
            "object_fit": null,
            "object_position": null,
            "order": null,
            "overflow": null,
            "overflow_x": null,
            "overflow_y": null,
            "padding": null,
            "right": null,
            "top": null,
            "visibility": null,
            "width": null
          }
        },
        "56597b2c02c54587a13de42ea12c8760": {
          "model_module": "@jupyter-widgets/controls",
          "model_module_version": "1.5.0",
          "model_name": "DescriptionStyleModel",
          "state": {
            "_model_module": "@jupyter-widgets/controls",
            "_model_module_version": "1.5.0",
            "_model_name": "DescriptionStyleModel",
            "_view_count": null,
            "_view_module": "@jupyter-widgets/base",
            "_view_module_version": "1.2.0",
            "_view_name": "StyleView",
            "description_width": ""
          }
        },
        "56c76ddeb3fa4e4e9b09b1a2fa214306": {
          "model_module": "@jupyter-widgets/controls",
          "model_module_version": "1.5.0",
          "model_name": "HBoxModel",
          "state": {
            "_dom_classes": [],
            "_model_module": "@jupyter-widgets/controls",
            "_model_module_version": "1.5.0",
            "_model_name": "HBoxModel",
            "_view_count": null,
            "_view_module": "@jupyter-widgets/controls",
            "_view_module_version": "1.5.0",
            "_view_name": "HBoxView",
            "box_style": "",
            "children": [
              "IPY_MODEL_8153fc0c38084c16974c4350a80c872c",
              "IPY_MODEL_48ceac9224a84c309d513458c7c48b66",
              "IPY_MODEL_7c5f82beff9a4531af6d9c90eeccbaa8"
            ],
            "layout": "IPY_MODEL_8efccb4b5b024462b64504b79bc803cf"
          }
        },
        "5e6296fbdf7c41c0a18d8fc8c633203b": {
          "model_module": "@jupyter-widgets/base",
          "model_module_version": "1.2.0",
          "model_name": "LayoutModel",
          "state": {
            "_model_module": "@jupyter-widgets/base",
            "_model_module_version": "1.2.0",
            "_model_name": "LayoutModel",
            "_view_count": null,
            "_view_module": "@jupyter-widgets/base",
            "_view_module_version": "1.2.0",
            "_view_name": "LayoutView",
            "align_content": null,
            "align_items": null,
            "align_self": null,
            "border": null,
            "bottom": null,
            "display": null,
            "flex": null,
            "flex_flow": null,
            "grid_area": null,
            "grid_auto_columns": null,
            "grid_auto_flow": null,
            "grid_auto_rows": null,
            "grid_column": null,
            "grid_gap": null,
            "grid_row": null,
            "grid_template_areas": null,
            "grid_template_columns": null,
            "grid_template_rows": null,
            "height": null,
            "justify_content": null,
            "justify_items": null,
            "left": null,
            "margin": null,
            "max_height": null,
            "max_width": null,
            "min_height": null,
            "min_width": null,
            "object_fit": null,
            "object_position": null,
            "order": null,
            "overflow": null,
            "overflow_x": null,
            "overflow_y": null,
            "padding": null,
            "right": null,
            "top": null,
            "visibility": null,
            "width": null
          }
        },
        "682dd87d0e8846b9955bd4061f6758b9": {
          "model_module": "@jupyter-widgets/controls",
          "model_module_version": "1.5.0",
          "model_name": "HTMLModel",
          "state": {
            "_dom_classes": [],
            "_model_module": "@jupyter-widgets/controls",
            "_model_module_version": "1.5.0",
            "_model_name": "HTMLModel",
            "_view_count": null,
            "_view_module": "@jupyter-widgets/controls",
            "_view_module_version": "1.5.0",
            "_view_name": "HTMLView",
            "description": "",
            "description_tooltip": null,
            "layout": "IPY_MODEL_8c207efec78741a0b85482d8857ad78e",
            "placeholder": "​",
            "style": "IPY_MODEL_c699a8aa7d5b466889aa16e749c97223",
            "value": "Downloading (…)/main/tokenizer.json: 100%"
          }
        },
        "6d5c0ef7925042c8893b1032c4b2448c": {
          "model_module": "@jupyter-widgets/controls",
          "model_module_version": "1.5.0",
          "model_name": "HTMLModel",
          "state": {
            "_dom_classes": [],
            "_model_module": "@jupyter-widgets/controls",
            "_model_module_version": "1.5.0",
            "_model_name": "HTMLModel",
            "_view_count": null,
            "_view_module": "@jupyter-widgets/controls",
            "_view_module_version": "1.5.0",
            "_view_name": "HTMLView",
            "description": "",
            "description_tooltip": null,
            "layout": "IPY_MODEL_894e4eeffa7f42738740f3af7008a876",
            "placeholder": "​",
            "style": "IPY_MODEL_86c875ab4c1c4a1c813766c113c45ae0",
            "value": "Downloading model.safetensors: 100%"
          }
        },
        "6e1dc260a8014ba59111cf275a5d3696": {
          "model_module": "@jupyter-widgets/base",
          "model_module_version": "1.2.0",
          "model_name": "LayoutModel",
          "state": {
            "_model_module": "@jupyter-widgets/base",
            "_model_module_version": "1.2.0",
            "_model_name": "LayoutModel",
            "_view_count": null,
            "_view_module": "@jupyter-widgets/base",
            "_view_module_version": "1.2.0",
            "_view_name": "LayoutView",
            "align_content": null,
            "align_items": null,
            "align_self": null,
            "border": null,
            "bottom": null,
            "display": null,
            "flex": null,
            "flex_flow": null,
            "grid_area": null,
            "grid_auto_columns": null,
            "grid_auto_flow": null,
            "grid_auto_rows": null,
            "grid_column": null,
            "grid_gap": null,
            "grid_row": null,
            "grid_template_areas": null,
            "grid_template_columns": null,
            "grid_template_rows": null,
            "height": null,
            "justify_content": null,
            "justify_items": null,
            "left": null,
            "margin": null,
            "max_height": null,
            "max_width": null,
            "min_height": null,
            "min_width": null,
            "object_fit": null,
            "object_position": null,
            "order": null,
            "overflow": null,
            "overflow_x": null,
            "overflow_y": null,
            "padding": null,
            "right": null,
            "top": null,
            "visibility": null,
            "width": null
          }
        },
        "70f6fb3bde114a61b3d1f6214f1dd069": {
          "model_module": "@jupyter-widgets/base",
          "model_module_version": "1.2.0",
          "model_name": "LayoutModel",
          "state": {
            "_model_module": "@jupyter-widgets/base",
            "_model_module_version": "1.2.0",
            "_model_name": "LayoutModel",
            "_view_count": null,
            "_view_module": "@jupyter-widgets/base",
            "_view_module_version": "1.2.0",
            "_view_name": "LayoutView",
            "align_content": null,
            "align_items": null,
            "align_self": null,
            "border": null,
            "bottom": null,
            "display": null,
            "flex": null,
            "flex_flow": null,
            "grid_area": null,
            "grid_auto_columns": null,
            "grid_auto_flow": null,
            "grid_auto_rows": null,
            "grid_column": null,
            "grid_gap": null,
            "grid_row": null,
            "grid_template_areas": null,
            "grid_template_columns": null,
            "grid_template_rows": null,
            "height": null,
            "justify_content": null,
            "justify_items": null,
            "left": null,
            "margin": null,
            "max_height": null,
            "max_width": null,
            "min_height": null,
            "min_width": null,
            "object_fit": null,
            "object_position": null,
            "order": null,
            "overflow": null,
            "overflow_x": null,
            "overflow_y": null,
            "padding": null,
            "right": null,
            "top": null,
            "visibility": null,
            "width": null
          }
        },
        "712f29391e194573baef8cf1830f3a01": {
          "model_module": "@jupyter-widgets/controls",
          "model_module_version": "1.5.0",
          "model_name": "HTMLModel",
          "state": {
            "_dom_classes": [],
            "_model_module": "@jupyter-widgets/controls",
            "_model_module_version": "1.5.0",
            "_model_name": "HTMLModel",
            "_view_count": null,
            "_view_module": "@jupyter-widgets/controls",
            "_view_module_version": "1.5.0",
            "_view_name": "HTMLView",
            "description": "",
            "description_tooltip": null,
            "layout": "IPY_MODEL_07536455eb9748779b0e5d75e58b865f",
            "placeholder": "​",
            "style": "IPY_MODEL_101e64bcdb8e430089e9ff6dff7b864c",
            "value": "Downloading (…)neration_config.json: 100%"
          }
        },
        "7c0e5e4f1aae440880c80e23f6502d19": {
          "model_module": "@jupyter-widgets/base",
          "model_module_version": "1.2.0",
          "model_name": "LayoutModel",
          "state": {
            "_model_module": "@jupyter-widgets/base",
            "_model_module_version": "1.2.0",
            "_model_name": "LayoutModel",
            "_view_count": null,
            "_view_module": "@jupyter-widgets/base",
            "_view_module_version": "1.2.0",
            "_view_name": "LayoutView",
            "align_content": null,
            "align_items": null,
            "align_self": null,
            "border": null,
            "bottom": null,
            "display": null,
            "flex": null,
            "flex_flow": null,
            "grid_area": null,
            "grid_auto_columns": null,
            "grid_auto_flow": null,
            "grid_auto_rows": null,
            "grid_column": null,
            "grid_gap": null,
            "grid_row": null,
            "grid_template_areas": null,
            "grid_template_columns": null,
            "grid_template_rows": null,
            "height": null,
            "justify_content": null,
            "justify_items": null,
            "left": null,
            "margin": null,
            "max_height": null,
            "max_width": null,
            "min_height": null,
            "min_width": null,
            "object_fit": null,
            "object_position": null,
            "order": null,
            "overflow": null,
            "overflow_x": null,
            "overflow_y": null,
            "padding": null,
            "right": null,
            "top": null,
            "visibility": null,
            "width": null
          }
        },
        "7c5f82beff9a4531af6d9c90eeccbaa8": {
          "model_module": "@jupyter-widgets/controls",
          "model_module_version": "1.5.0",
          "model_name": "HTMLModel",
          "state": {
            "_dom_classes": [],
            "_model_module": "@jupyter-widgets/controls",
            "_model_module_version": "1.5.0",
            "_model_name": "HTMLModel",
            "_view_count": null,
            "_view_module": "@jupyter-widgets/controls",
            "_view_module_version": "1.5.0",
            "_view_name": "HTMLView",
            "description": "",
            "description_tooltip": null,
            "layout": "IPY_MODEL_5e6296fbdf7c41c0a18d8fc8c633203b",
            "placeholder": "​",
            "style": "IPY_MODEL_d32619aac4284ab78a15154ba9ce4ba1",
            "value": " 1.04M/1.04M [00:00&lt;00:00, 1.53MB/s]"
          }
        },
        "8153fc0c38084c16974c4350a80c872c": {
          "model_module": "@jupyter-widgets/controls",
          "model_module_version": "1.5.0",
          "model_name": "HTMLModel",
          "state": {
            "_dom_classes": [],
            "_model_module": "@jupyter-widgets/controls",
            "_model_module_version": "1.5.0",
            "_model_name": "HTMLModel",
            "_view_count": null,
            "_view_module": "@jupyter-widgets/controls",
            "_view_module_version": "1.5.0",
            "_view_name": "HTMLView",
            "description": "",
            "description_tooltip": null,
            "layout": "IPY_MODEL_2603ecc6a7304db38cc9d3ba1f34a83f",
            "placeholder": "​",
            "style": "IPY_MODEL_e945d0766f174c2dab2266a7ca9e9849",
            "value": "Downloading (…)olve/main/vocab.json: 100%"
          }
        },
        "83fa2f88f3734999b7b9ea77516943ef": {
          "model_module": "@jupyter-widgets/base",
          "model_module_version": "1.2.0",
          "model_name": "LayoutModel",
          "state": {
            "_model_module": "@jupyter-widgets/base",
            "_model_module_version": "1.2.0",
            "_model_name": "LayoutModel",
            "_view_count": null,
            "_view_module": "@jupyter-widgets/base",
            "_view_module_version": "1.2.0",
            "_view_name": "LayoutView",
            "align_content": null,
            "align_items": null,
            "align_self": null,
            "border": null,
            "bottom": null,
            "display": null,
            "flex": null,
            "flex_flow": null,
            "grid_area": null,
            "grid_auto_columns": null,
            "grid_auto_flow": null,
            "grid_auto_rows": null,
            "grid_column": null,
            "grid_gap": null,
            "grid_row": null,
            "grid_template_areas": null,
            "grid_template_columns": null,
            "grid_template_rows": null,
            "height": null,
            "justify_content": null,
            "justify_items": null,
            "left": null,
            "margin": null,
            "max_height": null,
            "max_width": null,
            "min_height": null,
            "min_width": null,
            "object_fit": null,
            "object_position": null,
            "order": null,
            "overflow": null,
            "overflow_x": null,
            "overflow_y": null,
            "padding": null,
            "right": null,
            "top": null,
            "visibility": null,
            "width": null
          }
        },
        "84cd22ed9efc4270a68d6898ff389a45": {
          "model_module": "@jupyter-widgets/controls",
          "model_module_version": "1.5.0",
          "model_name": "DescriptionStyleModel",
          "state": {
            "_model_module": "@jupyter-widgets/controls",
            "_model_module_version": "1.5.0",
            "_model_name": "DescriptionStyleModel",
            "_view_count": null,
            "_view_module": "@jupyter-widgets/base",
            "_view_module_version": "1.2.0",
            "_view_name": "StyleView",
            "description_width": ""
          }
        },
        "86c875ab4c1c4a1c813766c113c45ae0": {
          "model_module": "@jupyter-widgets/controls",
          "model_module_version": "1.5.0",
          "model_name": "DescriptionStyleModel",
          "state": {
            "_model_module": "@jupyter-widgets/controls",
            "_model_module_version": "1.5.0",
            "_model_name": "DescriptionStyleModel",
            "_view_count": null,
            "_view_module": "@jupyter-widgets/base",
            "_view_module_version": "1.2.0",
            "_view_name": "StyleView",
            "description_width": ""
          }
        },
        "894e4eeffa7f42738740f3af7008a876": {
          "model_module": "@jupyter-widgets/base",
          "model_module_version": "1.2.0",
          "model_name": "LayoutModel",
          "state": {
            "_model_module": "@jupyter-widgets/base",
            "_model_module_version": "1.2.0",
            "_model_name": "LayoutModel",
            "_view_count": null,
            "_view_module": "@jupyter-widgets/base",
            "_view_module_version": "1.2.0",
            "_view_name": "LayoutView",
            "align_content": null,
            "align_items": null,
            "align_self": null,
            "border": null,
            "bottom": null,
            "display": null,
            "flex": null,
            "flex_flow": null,
            "grid_area": null,
            "grid_auto_columns": null,
            "grid_auto_flow": null,
            "grid_auto_rows": null,
            "grid_column": null,
            "grid_gap": null,
            "grid_row": null,
            "grid_template_areas": null,
            "grid_template_columns": null,
            "grid_template_rows": null,
            "height": null,
            "justify_content": null,
            "justify_items": null,
            "left": null,
            "margin": null,
            "max_height": null,
            "max_width": null,
            "min_height": null,
            "min_width": null,
            "object_fit": null,
            "object_position": null,
            "order": null,
            "overflow": null,
            "overflow_x": null,
            "overflow_y": null,
            "padding": null,
            "right": null,
            "top": null,
            "visibility": null,
            "width": null
          }
        },
        "8b7b40f752e542f48f70a3b71b25f6d2": {
          "model_module": "@jupyter-widgets/base",
          "model_module_version": "1.2.0",
          "model_name": "LayoutModel",
          "state": {
            "_model_module": "@jupyter-widgets/base",
            "_model_module_version": "1.2.0",
            "_model_name": "LayoutModel",
            "_view_count": null,
            "_view_module": "@jupyter-widgets/base",
            "_view_module_version": "1.2.0",
            "_view_name": "LayoutView",
            "align_content": null,
            "align_items": null,
            "align_self": null,
            "border": null,
            "bottom": null,
            "display": null,
            "flex": null,
            "flex_flow": null,
            "grid_area": null,
            "grid_auto_columns": null,
            "grid_auto_flow": null,
            "grid_auto_rows": null,
            "grid_column": null,
            "grid_gap": null,
            "grid_row": null,
            "grid_template_areas": null,
            "grid_template_columns": null,
            "grid_template_rows": null,
            "height": null,
            "justify_content": null,
            "justify_items": null,
            "left": null,
            "margin": null,
            "max_height": null,
            "max_width": null,
            "min_height": null,
            "min_width": null,
            "object_fit": null,
            "object_position": null,
            "order": null,
            "overflow": null,
            "overflow_x": null,
            "overflow_y": null,
            "padding": null,
            "right": null,
            "top": null,
            "visibility": null,
            "width": null
          }
        },
        "8c207efec78741a0b85482d8857ad78e": {
          "model_module": "@jupyter-widgets/base",
          "model_module_version": "1.2.0",
          "model_name": "LayoutModel",
          "state": {
            "_model_module": "@jupyter-widgets/base",
            "_model_module_version": "1.2.0",
            "_model_name": "LayoutModel",
            "_view_count": null,
            "_view_module": "@jupyter-widgets/base",
            "_view_module_version": "1.2.0",
            "_view_name": "LayoutView",
            "align_content": null,
            "align_items": null,
            "align_self": null,
            "border": null,
            "bottom": null,
            "display": null,
            "flex": null,
            "flex_flow": null,
            "grid_area": null,
            "grid_auto_columns": null,
            "grid_auto_flow": null,
            "grid_auto_rows": null,
            "grid_column": null,
            "grid_gap": null,
            "grid_row": null,
            "grid_template_areas": null,
            "grid_template_columns": null,
            "grid_template_rows": null,
            "height": null,
            "justify_content": null,
            "justify_items": null,
            "left": null,
            "margin": null,
            "max_height": null,
            "max_width": null,
            "min_height": null,
            "min_width": null,
            "object_fit": null,
            "object_position": null,
            "order": null,
            "overflow": null,
            "overflow_x": null,
            "overflow_y": null,
            "padding": null,
            "right": null,
            "top": null,
            "visibility": null,
            "width": null
          }
        },
        "8efccb4b5b024462b64504b79bc803cf": {
          "model_module": "@jupyter-widgets/base",
          "model_module_version": "1.2.0",
          "model_name": "LayoutModel",
          "state": {
            "_model_module": "@jupyter-widgets/base",
            "_model_module_version": "1.2.0",
            "_model_name": "LayoutModel",
            "_view_count": null,
            "_view_module": "@jupyter-widgets/base",
            "_view_module_version": "1.2.0",
            "_view_name": "LayoutView",
            "align_content": null,
            "align_items": null,
            "align_self": null,
            "border": null,
            "bottom": null,
            "display": null,
            "flex": null,
            "flex_flow": null,
            "grid_area": null,
            "grid_auto_columns": null,
            "grid_auto_flow": null,
            "grid_auto_rows": null,
            "grid_column": null,
            "grid_gap": null,
            "grid_row": null,
            "grid_template_areas": null,
            "grid_template_columns": null,
            "grid_template_rows": null,
            "height": null,
            "justify_content": null,
            "justify_items": null,
            "left": null,
            "margin": null,
            "max_height": null,
            "max_width": null,
            "min_height": null,
            "min_width": null,
            "object_fit": null,
            "object_position": null,
            "order": null,
            "overflow": null,
            "overflow_x": null,
            "overflow_y": null,
            "padding": null,
            "right": null,
            "top": null,
            "visibility": null,
            "width": null
          }
        },
        "900c1498f57d44f1afaeda02f34cca77": {
          "model_module": "@jupyter-widgets/controls",
          "model_module_version": "1.5.0",
          "model_name": "FloatProgressModel",
          "state": {
            "_dom_classes": [],
            "_model_module": "@jupyter-widgets/controls",
            "_model_module_version": "1.5.0",
            "_model_name": "FloatProgressModel",
            "_view_count": null,
            "_view_module": "@jupyter-widgets/controls",
            "_view_module_version": "1.5.0",
            "_view_name": "ProgressView",
            "bar_style": "success",
            "description": "",
            "description_tooltip": null,
            "layout": "IPY_MODEL_25011cc8c67d42cdb88d222942440eb6",
            "max": 124,
            "min": 0,
            "orientation": "horizontal",
            "style": "IPY_MODEL_2104a7aa65f8442884d20ad594a31133",
            "value": 124
          }
        },
        "92458e4dd13f4789b021b229bc4d7d5e": {
          "model_module": "@jupyter-widgets/controls",
          "model_module_version": "1.5.0",
          "model_name": "HBoxModel",
          "state": {
            "_dom_classes": [],
            "_model_module": "@jupyter-widgets/controls",
            "_model_module_version": "1.5.0",
            "_model_name": "HBoxModel",
            "_view_count": null,
            "_view_module": "@jupyter-widgets/controls",
            "_view_module_version": "1.5.0",
            "_view_name": "HBoxView",
            "box_style": "",
            "children": [
              "IPY_MODEL_41b056f9bbfa4be48ccedc29825b0acb",
              "IPY_MODEL_b528b72a0eac4f43a70d201d349c5474",
              "IPY_MODEL_47867b007fd54a7ea01b4d7a408f52d7"
            ],
            "layout": "IPY_MODEL_83fa2f88f3734999b7b9ea77516943ef"
          }
        },
        "93d078bd3b894dee9e78958472ca337e": {
          "model_module": "@jupyter-widgets/controls",
          "model_module_version": "1.5.0",
          "model_name": "HTMLModel",
          "state": {
            "_dom_classes": [],
            "_model_module": "@jupyter-widgets/controls",
            "_model_module_version": "1.5.0",
            "_model_name": "HTMLModel",
            "_view_count": null,
            "_view_module": "@jupyter-widgets/controls",
            "_view_module_version": "1.5.0",
            "_view_name": "HTMLView",
            "description": "",
            "description_tooltip": null,
            "layout": "IPY_MODEL_70f6fb3bde114a61b3d1f6214f1dd069",
            "placeholder": "​",
            "style": "IPY_MODEL_f2232214d03f4950bffe276b808cafed",
            "value": "Downloading (…)lve/main/config.json: 100%"
          }
        },
        "9676e35d12ac4322b8e9b44f342c14e3": {
          "model_module": "@jupyter-widgets/controls",
          "model_module_version": "1.5.0",
          "model_name": "DescriptionStyleModel",
          "state": {
            "_model_module": "@jupyter-widgets/controls",
            "_model_module_version": "1.5.0",
            "_model_name": "DescriptionStyleModel",
            "_view_count": null,
            "_view_module": "@jupyter-widgets/base",
            "_view_module_version": "1.2.0",
            "_view_name": "StyleView",
            "description_width": ""
          }
        },
        "a5f3a95af1ae4bf4b622824206727460": {
          "model_module": "@jupyter-widgets/base",
          "model_module_version": "1.2.0",
          "model_name": "LayoutModel",
          "state": {
            "_model_module": "@jupyter-widgets/base",
            "_model_module_version": "1.2.0",
            "_model_name": "LayoutModel",
            "_view_count": null,
            "_view_module": "@jupyter-widgets/base",
            "_view_module_version": "1.2.0",
            "_view_name": "LayoutView",
            "align_content": null,
            "align_items": null,
            "align_self": null,
            "border": null,
            "bottom": null,
            "display": null,
            "flex": null,
            "flex_flow": null,
            "grid_area": null,
            "grid_auto_columns": null,
            "grid_auto_flow": null,
            "grid_auto_rows": null,
            "grid_column": null,
            "grid_gap": null,
            "grid_row": null,
            "grid_template_areas": null,
            "grid_template_columns": null,
            "grid_template_rows": null,
            "height": null,
            "justify_content": null,
            "justify_items": null,
            "left": null,
            "margin": null,
            "max_height": null,
            "max_width": null,
            "min_height": null,
            "min_width": null,
            "object_fit": null,
            "object_position": null,
            "order": null,
            "overflow": null,
            "overflow_x": null,
            "overflow_y": null,
            "padding": null,
            "right": null,
            "top": null,
            "visibility": null,
            "width": null
          }
        },
        "ae948f2a55a643069cffd1734a295c24": {
          "model_module": "@jupyter-widgets/controls",
          "model_module_version": "1.5.0",
          "model_name": "HBoxModel",
          "state": {
            "_dom_classes": [],
            "_model_module": "@jupyter-widgets/controls",
            "_model_module_version": "1.5.0",
            "_model_name": "HBoxModel",
            "_view_count": null,
            "_view_module": "@jupyter-widgets/controls",
            "_view_module_version": "1.5.0",
            "_view_name": "HBoxView",
            "box_style": "",
            "children": [
              "IPY_MODEL_6d5c0ef7925042c8893b1032c4b2448c",
              "IPY_MODEL_324587df83784ce29bd4f1ee033a7154",
              "IPY_MODEL_418181215f724274a1ad7e23d463666f"
            ],
            "layout": "IPY_MODEL_009e133230ab405ba317740a7566b2db"
          }
        },
        "b2ab4fff9fae4d0ebf387733bacef7fc": {
          "model_module": "@jupyter-widgets/base",
          "model_module_version": "1.2.0",
          "model_name": "LayoutModel",
          "state": {
            "_model_module": "@jupyter-widgets/base",
            "_model_module_version": "1.2.0",
            "_model_name": "LayoutModel",
            "_view_count": null,
            "_view_module": "@jupyter-widgets/base",
            "_view_module_version": "1.2.0",
            "_view_name": "LayoutView",
            "align_content": null,
            "align_items": null,
            "align_self": null,
            "border": null,
            "bottom": null,
            "display": null,
            "flex": null,
            "flex_flow": null,
            "grid_area": null,
            "grid_auto_columns": null,
            "grid_auto_flow": null,
            "grid_auto_rows": null,
            "grid_column": null,
            "grid_gap": null,
            "grid_row": null,
            "grid_template_areas": null,
            "grid_template_columns": null,
            "grid_template_rows": null,
            "height": null,
            "justify_content": null,
            "justify_items": null,
            "left": null,
            "margin": null,
            "max_height": null,
            "max_width": null,
            "min_height": null,
            "min_width": null,
            "object_fit": null,
            "object_position": null,
            "order": null,
            "overflow": null,
            "overflow_x": null,
            "overflow_y": null,
            "padding": null,
            "right": null,
            "top": null,
            "visibility": null,
            "width": null
          }
        },
        "b528b72a0eac4f43a70d201d349c5474": {
          "model_module": "@jupyter-widgets/controls",
          "model_module_version": "1.5.0",
          "model_name": "FloatProgressModel",
          "state": {
            "_dom_classes": [],
            "_model_module": "@jupyter-widgets/controls",
            "_model_module_version": "1.5.0",
            "_model_name": "FloatProgressModel",
            "_view_count": null,
            "_view_module": "@jupyter-widgets/controls",
            "_view_module_version": "1.5.0",
            "_view_name": "ProgressView",
            "bar_style": "success",
            "description": "",
            "description_tooltip": null,
            "layout": "IPY_MODEL_6e1dc260a8014ba59111cf275a5d3696",
            "max": 456318,
            "min": 0,
            "orientation": "horizontal",
            "style": "IPY_MODEL_cb53ffced08b4500a464eb8867ad1adf",
            "value": 456318
          }
        },
        "c699a8aa7d5b466889aa16e749c97223": {
          "model_module": "@jupyter-widgets/controls",
          "model_module_version": "1.5.0",
          "model_name": "DescriptionStyleModel",
          "state": {
            "_model_module": "@jupyter-widgets/controls",
            "_model_module_version": "1.5.0",
            "_model_name": "DescriptionStyleModel",
            "_view_count": null,
            "_view_module": "@jupyter-widgets/base",
            "_view_module_version": "1.2.0",
            "_view_name": "StyleView",
            "description_width": ""
          }
        },
        "cb53ffced08b4500a464eb8867ad1adf": {
          "model_module": "@jupyter-widgets/controls",
          "model_module_version": "1.5.0",
          "model_name": "ProgressStyleModel",
          "state": {
            "_model_module": "@jupyter-widgets/controls",
            "_model_module_version": "1.5.0",
            "_model_name": "ProgressStyleModel",
            "_view_count": null,
            "_view_module": "@jupyter-widgets/base",
            "_view_module_version": "1.2.0",
            "_view_name": "StyleView",
            "bar_color": null,
            "description_width": ""
          }
        },
        "d24279410beb4d43aa478adbe649fe3a": {
          "model_module": "@jupyter-widgets/base",
          "model_module_version": "1.2.0",
          "model_name": "LayoutModel",
          "state": {
            "_model_module": "@jupyter-widgets/base",
            "_model_module_version": "1.2.0",
            "_model_name": "LayoutModel",
            "_view_count": null,
            "_view_module": "@jupyter-widgets/base",
            "_view_module_version": "1.2.0",
            "_view_name": "LayoutView",
            "align_content": null,
            "align_items": null,
            "align_self": null,
            "border": null,
            "bottom": null,
            "display": null,
            "flex": null,
            "flex_flow": null,
            "grid_area": null,
            "grid_auto_columns": null,
            "grid_auto_flow": null,
            "grid_auto_rows": null,
            "grid_column": null,
            "grid_gap": null,
            "grid_row": null,
            "grid_template_areas": null,
            "grid_template_columns": null,
            "grid_template_rows": null,
            "height": null,
            "justify_content": null,
            "justify_items": null,
            "left": null,
            "margin": null,
            "max_height": null,
            "max_width": null,
            "min_height": null,
            "min_width": null,
            "object_fit": null,
            "object_position": null,
            "order": null,
            "overflow": null,
            "overflow_x": null,
            "overflow_y": null,
            "padding": null,
            "right": null,
            "top": null,
            "visibility": null,
            "width": null
          }
        },
        "d32619aac4284ab78a15154ba9ce4ba1": {
          "model_module": "@jupyter-widgets/controls",
          "model_module_version": "1.5.0",
          "model_name": "DescriptionStyleModel",
          "state": {
            "_model_module": "@jupyter-widgets/controls",
            "_model_module_version": "1.5.0",
            "_model_name": "DescriptionStyleModel",
            "_view_count": null,
            "_view_module": "@jupyter-widgets/base",
            "_view_module_version": "1.2.0",
            "_view_name": "StyleView",
            "description_width": ""
          }
        },
        "d447e5427a994275a0afc76674fd0ce9": {
          "model_module": "@jupyter-widgets/controls",
          "model_module_version": "1.5.0",
          "model_name": "DescriptionStyleModel",
          "state": {
            "_model_module": "@jupyter-widgets/controls",
            "_model_module_version": "1.5.0",
            "_model_name": "DescriptionStyleModel",
            "_view_count": null,
            "_view_module": "@jupyter-widgets/base",
            "_view_module_version": "1.2.0",
            "_view_name": "StyleView",
            "description_width": ""
          }
        },
        "d4b18fdd9853440aa873d9e0df7609a8": {
          "model_module": "@jupyter-widgets/base",
          "model_module_version": "1.2.0",
          "model_name": "LayoutModel",
          "state": {
            "_model_module": "@jupyter-widgets/base",
            "_model_module_version": "1.2.0",
            "_model_name": "LayoutModel",
            "_view_count": null,
            "_view_module": "@jupyter-widgets/base",
            "_view_module_version": "1.2.0",
            "_view_name": "LayoutView",
            "align_content": null,
            "align_items": null,
            "align_self": null,
            "border": null,
            "bottom": null,
            "display": null,
            "flex": null,
            "flex_flow": null,
            "grid_area": null,
            "grid_auto_columns": null,
            "grid_auto_flow": null,
            "grid_auto_rows": null,
            "grid_column": null,
            "grid_gap": null,
            "grid_row": null,
            "grid_template_areas": null,
            "grid_template_columns": null,
            "grid_template_rows": null,
            "height": null,
            "justify_content": null,
            "justify_items": null,
            "left": null,
            "margin": null,
            "max_height": null,
            "max_width": null,
            "min_height": null,
            "min_width": null,
            "object_fit": null,
            "object_position": null,
            "order": null,
            "overflow": null,
            "overflow_x": null,
            "overflow_y": null,
            "padding": null,
            "right": null,
            "top": null,
            "visibility": null,
            "width": null
          }
        },
        "d90b99ed3f9548acad6bd28fa18d5ac4": {
          "model_module": "@jupyter-widgets/controls",
          "model_module_version": "1.5.0",
          "model_name": "HBoxModel",
          "state": {
            "_dom_classes": [],
            "_model_module": "@jupyter-widgets/controls",
            "_model_module_version": "1.5.0",
            "_model_name": "HBoxModel",
            "_view_count": null,
            "_view_module": "@jupyter-widgets/controls",
            "_view_module_version": "1.5.0",
            "_view_name": "HBoxView",
            "box_style": "",
            "children": [
              "IPY_MODEL_682dd87d0e8846b9955bd4061f6758b9",
              "IPY_MODEL_e8cce2e25a904c18b0787947bf0d9626",
              "IPY_MODEL_f7bbc8175c4f466a8de7066e9e11fa89"
            ],
            "layout": "IPY_MODEL_e1a0d46cfe814d72bb75c7d10b4bc2fc"
          }
        },
        "dcd42bf877e94381bbf085b623bad66b": {
          "model_module": "@jupyter-widgets/controls",
          "model_module_version": "1.5.0",
          "model_name": "FloatProgressModel",
          "state": {
            "_dom_classes": [],
            "_model_module": "@jupyter-widgets/controls",
            "_model_module_version": "1.5.0",
            "_model_name": "FloatProgressModel",
            "_view_count": null,
            "_view_module": "@jupyter-widgets/controls",
            "_view_module_version": "1.5.0",
            "_view_name": "ProgressView",
            "bar_style": "success",
            "description": "",
            "description_tooltip": null,
            "layout": "IPY_MODEL_7c0e5e4f1aae440880c80e23f6502d19",
            "max": 718,
            "min": 0,
            "orientation": "horizontal",
            "style": "IPY_MODEL_eb0371c9729b46d58c74deb98e3a8007",
            "value": 718
          }
        },
        "e03794fdea4a4aa0a32c5c334f91e918": {
          "model_module": "@jupyter-widgets/controls",
          "model_module_version": "1.5.0",
          "model_name": "ProgressStyleModel",
          "state": {
            "_model_module": "@jupyter-widgets/controls",
            "_model_module_version": "1.5.0",
            "_model_name": "ProgressStyleModel",
            "_view_count": null,
            "_view_module": "@jupyter-widgets/base",
            "_view_module_version": "1.2.0",
            "_view_name": "StyleView",
            "bar_color": null,
            "description_width": ""
          }
        },
        "e1a0d46cfe814d72bb75c7d10b4bc2fc": {
          "model_module": "@jupyter-widgets/base",
          "model_module_version": "1.2.0",
          "model_name": "LayoutModel",
          "state": {
            "_model_module": "@jupyter-widgets/base",
            "_model_module_version": "1.2.0",
            "_model_name": "LayoutModel",
            "_view_count": null,
            "_view_module": "@jupyter-widgets/base",
            "_view_module_version": "1.2.0",
            "_view_name": "LayoutView",
            "align_content": null,
            "align_items": null,
            "align_self": null,
            "border": null,
            "bottom": null,
            "display": null,
            "flex": null,
            "flex_flow": null,
            "grid_area": null,
            "grid_auto_columns": null,
            "grid_auto_flow": null,
            "grid_auto_rows": null,
            "grid_column": null,
            "grid_gap": null,
            "grid_row": null,
            "grid_template_areas": null,
            "grid_template_columns": null,
            "grid_template_rows": null,
            "height": null,
            "justify_content": null,
            "justify_items": null,
            "left": null,
            "margin": null,
            "max_height": null,
            "max_width": null,
            "min_height": null,
            "min_width": null,
            "object_fit": null,
            "object_position": null,
            "order": null,
            "overflow": null,
            "overflow_x": null,
            "overflow_y": null,
            "padding": null,
            "right": null,
            "top": null,
            "visibility": null,
            "width": null
          }
        },
        "e2b786fb94d345a6838d43eb44b58c38": {
          "model_module": "@jupyter-widgets/controls",
          "model_module_version": "1.5.0",
          "model_name": "HBoxModel",
          "state": {
            "_dom_classes": [],
            "_model_module": "@jupyter-widgets/controls",
            "_model_module_version": "1.5.0",
            "_model_name": "HBoxModel",
            "_view_count": null,
            "_view_module": "@jupyter-widgets/controls",
            "_view_module_version": "1.5.0",
            "_view_name": "HBoxView",
            "box_style": "",
            "children": [
              "IPY_MODEL_712f29391e194573baef8cf1830f3a01",
              "IPY_MODEL_900c1498f57d44f1afaeda02f34cca77",
              "IPY_MODEL_eebc2b82c2a9425cbac199116fbc8b3f"
            ],
            "layout": "IPY_MODEL_34e4c2df87b14a5d96875068e38a8a6a"
          }
        },
        "e8cce2e25a904c18b0787947bf0d9626": {
          "model_module": "@jupyter-widgets/controls",
          "model_module_version": "1.5.0",
          "model_name": "FloatProgressModel",
          "state": {
            "_dom_classes": [],
            "_model_module": "@jupyter-widgets/controls",
            "_model_module_version": "1.5.0",
            "_model_name": "FloatProgressModel",
            "_view_count": null,
            "_view_module": "@jupyter-widgets/controls",
            "_view_module_version": "1.5.0",
            "_view_name": "ProgressView",
            "bar_style": "success",
            "description": "",
            "description_tooltip": null,
            "layout": "IPY_MODEL_07763abf458d41cdaf67d0120bd5e1bf",
            "max": 1355256,
            "min": 0,
            "orientation": "horizontal",
            "style": "IPY_MODEL_e03794fdea4a4aa0a32c5c334f91e918",
            "value": 1355256
          }
        },
        "e945d0766f174c2dab2266a7ca9e9849": {
          "model_module": "@jupyter-widgets/controls",
          "model_module_version": "1.5.0",
          "model_name": "DescriptionStyleModel",
          "state": {
            "_model_module": "@jupyter-widgets/controls",
            "_model_module_version": "1.5.0",
            "_model_name": "DescriptionStyleModel",
            "_view_count": null,
            "_view_module": "@jupyter-widgets/base",
            "_view_module_version": "1.2.0",
            "_view_name": "StyleView",
            "description_width": ""
          }
        },
        "eb0371c9729b46d58c74deb98e3a8007": {
          "model_module": "@jupyter-widgets/controls",
          "model_module_version": "1.5.0",
          "model_name": "ProgressStyleModel",
          "state": {
            "_model_module": "@jupyter-widgets/controls",
            "_model_module_version": "1.5.0",
            "_model_name": "ProgressStyleModel",
            "_view_count": null,
            "_view_module": "@jupyter-widgets/base",
            "_view_module_version": "1.2.0",
            "_view_name": "StyleView",
            "bar_color": null,
            "description_width": ""
          }
        },
        "eebc2b82c2a9425cbac199116fbc8b3f": {
          "model_module": "@jupyter-widgets/controls",
          "model_module_version": "1.5.0",
          "model_name": "HTMLModel",
          "state": {
            "_dom_classes": [],
            "_model_module": "@jupyter-widgets/controls",
            "_model_module_version": "1.5.0",
            "_model_name": "HTMLModel",
            "_view_count": null,
            "_view_module": "@jupyter-widgets/controls",
            "_view_module_version": "1.5.0",
            "_view_name": "HTMLView",
            "description": "",
            "description_tooltip": null,
            "layout": "IPY_MODEL_547d4f3588844646a5b95f7bce1dbbfb",
            "placeholder": "​",
            "style": "IPY_MODEL_84cd22ed9efc4270a68d6898ff389a45",
            "value": " 124/124 [00:00&lt;00:00, 4.13kB/s]"
          }
        },
        "f05e54d094e246a9b8678bbf5cd81efe": {
          "model_module": "@jupyter-widgets/base",
          "model_module_version": "1.2.0",
          "model_name": "LayoutModel",
          "state": {
            "_model_module": "@jupyter-widgets/base",
            "_model_module_version": "1.2.0",
            "_model_name": "LayoutModel",
            "_view_count": null,
            "_view_module": "@jupyter-widgets/base",
            "_view_module_version": "1.2.0",
            "_view_name": "LayoutView",
            "align_content": null,
            "align_items": null,
            "align_self": null,
            "border": null,
            "bottom": null,
            "display": null,
            "flex": null,
            "flex_flow": null,
            "grid_area": null,
            "grid_auto_columns": null,
            "grid_auto_flow": null,
            "grid_auto_rows": null,
            "grid_column": null,
            "grid_gap": null,
            "grid_row": null,
            "grid_template_areas": null,
            "grid_template_columns": null,
            "grid_template_rows": null,
            "height": null,
            "justify_content": null,
            "justify_items": null,
            "left": null,
            "margin": null,
            "max_height": null,
            "max_width": null,
            "min_height": null,
            "min_width": null,
            "object_fit": null,
            "object_position": null,
            "order": null,
            "overflow": null,
            "overflow_x": null,
            "overflow_y": null,
            "padding": null,
            "right": null,
            "top": null,
            "visibility": null,
            "width": null
          }
        },
        "f2232214d03f4950bffe276b808cafed": {
          "model_module": "@jupyter-widgets/controls",
          "model_module_version": "1.5.0",
          "model_name": "DescriptionStyleModel",
          "state": {
            "_model_module": "@jupyter-widgets/controls",
            "_model_module_version": "1.5.0",
            "_model_name": "DescriptionStyleModel",
            "_view_count": null,
            "_view_module": "@jupyter-widgets/base",
            "_view_module_version": "1.2.0",
            "_view_name": "StyleView",
            "description_width": ""
          }
        },
        "f3633a0c7ded4d21a21631bc75c53a2e": {
          "model_module": "@jupyter-widgets/base",
          "model_module_version": "1.2.0",
          "model_name": "LayoutModel",
          "state": {
            "_model_module": "@jupyter-widgets/base",
            "_model_module_version": "1.2.0",
            "_model_name": "LayoutModel",
            "_view_count": null,
            "_view_module": "@jupyter-widgets/base",
            "_view_module_version": "1.2.0",
            "_view_name": "LayoutView",
            "align_content": null,
            "align_items": null,
            "align_self": null,
            "border": null,
            "bottom": null,
            "display": null,
            "flex": null,
            "flex_flow": null,
            "grid_area": null,
            "grid_auto_columns": null,
            "grid_auto_flow": null,
            "grid_auto_rows": null,
            "grid_column": null,
            "grid_gap": null,
            "grid_row": null,
            "grid_template_areas": null,
            "grid_template_columns": null,
            "grid_template_rows": null,
            "height": null,
            "justify_content": null,
            "justify_items": null,
            "left": null,
            "margin": null,
            "max_height": null,
            "max_width": null,
            "min_height": null,
            "min_width": null,
            "object_fit": null,
            "object_position": null,
            "order": null,
            "overflow": null,
            "overflow_x": null,
            "overflow_y": null,
            "padding": null,
            "right": null,
            "top": null,
            "visibility": null,
            "width": null
          }
        },
        "f7bbc8175c4f466a8de7066e9e11fa89": {
          "model_module": "@jupyter-widgets/controls",
          "model_module_version": "1.5.0",
          "model_name": "HTMLModel",
          "state": {
            "_dom_classes": [],
            "_model_module": "@jupyter-widgets/controls",
            "_model_module_version": "1.5.0",
            "_model_name": "HTMLModel",
            "_view_count": null,
            "_view_module": "@jupyter-widgets/controls",
            "_view_module_version": "1.5.0",
            "_view_name": "HTMLView",
            "description": "",
            "description_tooltip": null,
            "layout": "IPY_MODEL_f05e54d094e246a9b8678bbf5cd81efe",
            "placeholder": "​",
            "style": "IPY_MODEL_d447e5427a994275a0afc76674fd0ce9",
            "value": " 1.36M/1.36M [00:00&lt;00:00, 1.59MB/s]"
          }
        },
        "fa31efc8055447aa9f9a23fa831c44b2": {
          "model_module": "@jupyter-widgets/controls",
          "model_module_version": "1.5.0",
          "model_name": "DescriptionStyleModel",
          "state": {
            "_model_module": "@jupyter-widgets/controls",
            "_model_module_version": "1.5.0",
            "_model_name": "DescriptionStyleModel",
            "_view_count": null,
            "_view_module": "@jupyter-widgets/base",
            "_view_module_version": "1.2.0",
            "_view_name": "StyleView",
            "description_width": ""
          }
        },
        "ffe1d928f2ae4198a4f1150cb2bfa90f": {
          "model_module": "@jupyter-widgets/controls",
          "model_module_version": "1.5.0",
          "model_name": "ProgressStyleModel",
          "state": {
            "_model_module": "@jupyter-widgets/controls",
            "_model_module_version": "1.5.0",
            "_model_name": "ProgressStyleModel",
            "_view_count": null,
            "_view_module": "@jupyter-widgets/base",
            "_view_module_version": "1.2.0",
            "_view_name": "StyleView",
            "bar_color": null,
            "description_width": ""
          }
        }
      }
    }
  },
  "nbformat": 4,
  "nbformat_minor": 0
}
