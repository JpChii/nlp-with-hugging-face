{
 "cells": [
  {
   "cell_type": "markdown",
   "metadata": {},
   "source": [
    "# Question Answering\n",
    "\n",
    "Irrespective of profession, everyone has to wade through ocean of documents at some point to find the information for their questions.  To make matters worse, we're constantly reminded by search engines there are better ways to search! For instance the earch query \"When did Marie Curie win her first Nobel Prize?\" And google get the correct answer of \"1903\".\n",
    "\n",
    "So how was this search done? Google first retrieved 319,000 documents that were relevant to query, then performed a post processing step to extract the answer snippet with the coressponding passage and web page. But for a more trickier question like \"Which guitar tuning is best?\" We'll get web pages instead of an answer snippet.\n",
    "\n",
    "The general approach behind this technology is called *question answering*(QA), but the most common is *extractive QA* which involves questions where answers can be identified as a span in a text document, where the document might be a web page, article, legal document etc.\n",
    "\n",
    "This two stage process of retrieving relevant documents and then extracting answers from this is the basis of many modern QA systems like semantic search, intellegint assistants and automated information extractors. \n",
    "\n",
    "> **Note:** We're covering only extractive QA. There are others,\n",
    " * community QA Ex: In stack overflow, all the relevant question answer pairs will be retrived for the new Question from user and then using semantic similarity search to find the closest maching answer to this question.\n",
    " * long-form QA, which aims to generate complex paragraph-length answers to open ended questions like \"Why sky is blue?\"\n",
    " * QA can be done over tables as well, and transformer models like TAPAS can even peroform aggregations to produce the final answer!\n",
    "\n",
    "## Use Case\n",
    "\n",
    "In this notebook, we'll use QA system to solve a common problem facing ecommerce websites: helping consumers evaluate a product by answering specific queries. We'll see that the customer reviews can be used as a rich and challenging source of information for QA. Along the way we'll learn transformers capbality of *reading comprehehsion* and how the model can extract meaning from text."
   ]
  },
  {
   "cell_type": "markdown",
   "metadata": {},
   "source": [
    "## Building a Review-Based QA System\n",
    "\n",
    "Let's say we want to buy a smartphone, and we've question on nightmode camera capbalities. This information is not readily available in product description. We can find the answer for this in reviews by other customers. But we might've to comb throuch thousands of reviews to find the relevant answer. It'll be great if we can have a search like google right? Let's do this using transformers!"
   ]
  },
  {
   "cell_type": "markdown",
   "metadata": {},
   "source": [
    "### The Dataset\n",
    "\n",
    "To build our QA system, we'll use [SubQA](https://arxiv.org/abs/2004.14283) dataset, which consists of 10,000+ reviews where each review is associated with a question and answer from one or more sentences from the review. The reviews are about products and services in six domains: TripAdvisor, Restaurants, Movies, Books, Electronics and Grocery.\n",
    "\n",
    "*Data example*\n",
    "\n",
    "![alt](../notes/images/7-question-answering/subqa-data-sample.png)\n",
    "\n",
    "The intersting aspect of this dataset is question(from users), answers(extraced from reviews) are *subjective*. The question on camera quality from user, the quality is subjective to each user and answer might not be from the same point of view question is raised... This is why it's easier to answer fatcual questions like \"What's the capital of a country\"\n",
    "Second, important parts of the question do not appear in review at all, so we can't use shortcuts like keyword search or paraphrasing the input question.\n",
    "\n",
    "Because of these points, SubQA is a greate dataset to benchamrk review-based QA models, sicne user-generated content in the example resembles what we might encounter in the wild.\n",
    "\n",
    "> **Note:** QA systems are categorized accordig to the domains it has access to while answering the questions. \n",
    "  * *Narrow QA* answers question about a single product less documents to search\n",
    "  * *Open-domain QA* deals with questions about almost anything(eg. amazon's whole product catalog.) more documents to search"
   ]
  },
  {
   "cell_type": "markdown",
   "metadata": {},
   "source": [
    "### The Dataset\n",
    "\n",
    "To build our QA system, we'll use [SubQA](https://arxiv.org/abs/2004.14283) dataset, which consists of 10,000+ reviews where each review is associated with a question and answer from one or more sentences from the review. The reviews are about products and services in six domains: TripAdvisor, Restaurants, Movies, Books, Electronics and Grocery.\n",
    "\n",
    "*Data example*\n",
    "\n",
    "![alt](../notes/images/7-question-answering/subqa-data-sample.png)\n",
    "\n",
    "The intersting aspect of this dataset is question(from users), answers(extraced from reviews) are *subjective*. The question on camera quality from user, the quality is subjective to each user and answer might not be from the same point of view question is raised... This is why it's easier to answer fatcual questions like \"What's the capital of a country\"\n",
    "Second, important parts of the question do not appear in review at all, so we can't use shortcuts like keyword search or paraphrasing the input question.\n",
    "\n",
    "Because of these points, SubQA is a greate dataset to benchamrk review-based QA models, sicne user-generated content in the example resembles what we might encounter in the wild.\n",
    "\n",
    "> **Note:** QA systems are categorized accordig to the domains it has access to while answering the questions. \n",
    "  * *Narrow QA* answers question about a single product less documents to search\n",
    "  * *Open-domain QA* deals with questions about almost anything(eg. amazon's whole product catalog.) more documents to search"
   ]
  },
  {
   "cell_type": "markdown",
   "metadata": {},
   "source": [
    "### The Dataset\n",
    "\n",
    "To build our QA system, we'll use [SubQA](https://arxiv.org/abs/2004.14283) dataset, which consists of 10,000+ reviews where each review is associated with a question and answer from one or more sentences from the review. The reviews are about products and services in six domains: TripAdvisor, Restaurants, Movies, Books, Electronics and Grocery.\n",
    "\n",
    "*Data example*\n",
    "\n",
    "![alt](../notes/images/7-question-answering/subqa-data-sample.png)\n",
    "\n",
    "The intersting aspect of this dataset is question(from users), answers(extraced from reviews) are *subjective*. The question on camera quality from user, the quality is subjective to each user and answer might not be from the same point of view question is raised... This is why it's easier to answer fatcual questions like \"What's the capital of a country\"\n",
    "Second, important parts of the question do not appear in review at all, so we can't use shortcuts like keyword search or paraphrasing the input question.\n",
    "\n",
    "Because of these points, SubQA is a greate dataset to benchamrk review-based QA models, sicne user-generated content in the example resembles what we might encounter in the wild.\n",
    "\n",
    "> **Note:** QA systems are categorized accordig to the domains it has access to while answering the questions. \n",
    "  * *Narrow QA* answers question about a single product less documents to search\n",
    "  * *Open-domain QA* deals with questions about almost anything(eg. amazon's whole product catalog.) more documents to search"
   ]
  },
  {
   "cell_type": "markdown",
   "metadata": {},
   "source": [
    "To get started , let's download the dataset from hub. we can use the `get_dataset_config_names()` function to find out which subsets are available:"
   ]
  },
  {
   "cell_type": "code",
   "execution_count": 1,
   "metadata": {},
   "outputs": [
    {
     "data": {
      "text/plain": [
       "['books', 'electronics', 'grocery', 'movies', 'restaurants', 'tripadvisor']"
      ]
     },
     "execution_count": 1,
     "metadata": {},
     "output_type": "execute_result"
    }
   ],
   "source": [
    "from datasets import get_dataset_config_names\n",
    "\n",
    "domains = get_dataset_config_names(\"subjqa\")\n",
    "domains"
   ]
  },
  {
   "cell_type": "markdown",
   "metadata": {},
   "source": [
    "In this notebook, we'll be focusing on developing a QA system for Electronic domain. To do that let's download the `electronics` subset."
   ]
  },
  {
   "cell_type": "code",
   "execution_count": 2,
   "metadata": {},
   "outputs": [
    {
     "name": "stderr",
     "output_type": "stream",
     "text": [
      "Reusing dataset subjqa (/Users/jayaprakashsivagami/.cache/huggingface/datasets/subjqa/electronics/1.1.0/e5588f9298ff2d70686a00cc377e4bdccf4e32287459e3c6baf2dc5ab57fe7fd)\n"
     ]
    }
   ],
   "source": [
    "from datasets import load_dataset\n",
    "subjqa = load_dataset(\n",
    "    path=\"subjqa\",\n",
    "    name=\"electronics\"\n",
    ")"
   ]
  },
  {
   "cell_type": "code",
   "execution_count": 3,
   "metadata": {},
   "outputs": [
    {
     "data": {
      "text/plain": [
       "DatasetDict({\n",
       "    train: Dataset({\n",
       "        features: ['domain', 'nn_mod', 'nn_asp', 'query_mod', 'query_asp', 'q_reviews_id', 'question_subj_level', 'ques_subj_score', 'is_ques_subjective', 'review_id', 'id', 'title', 'context', 'question', 'answers'],\n",
       "        num_rows: 1295\n",
       "    })\n",
       "    test: Dataset({\n",
       "        features: ['domain', 'nn_mod', 'nn_asp', 'query_mod', 'query_asp', 'q_reviews_id', 'question_subj_level', 'ques_subj_score', 'is_ques_subjective', 'review_id', 'id', 'title', 'context', 'question', 'answers'],\n",
       "        num_rows: 358\n",
       "    })\n",
       "    validation: Dataset({\n",
       "        features: ['domain', 'nn_mod', 'nn_asp', 'query_mod', 'query_asp', 'q_reviews_id', 'question_subj_level', 'ques_subj_score', 'is_ques_subjective', 'review_id', 'id', 'title', 'context', 'question', 'answers'],\n",
       "        num_rows: 255\n",
       "    })\n",
       "})"
      ]
     },
     "execution_count": 3,
     "metadata": {},
     "output_type": "execute_result"
    }
   ],
   "source": [
    "subjqa"
   ]
  },
  {
   "cell_type": "code",
   "execution_count": 4,
   "metadata": {},
   "outputs": [
    {
     "name": "stdout",
     "output_type": "stream",
     "text": [
      "domain\n",
      "nn_mod\n",
      "nn_asp\n",
      "query_mod\n",
      "query_asp\n",
      "q_reviews_id\n",
      "question_subj_level\n",
      "ques_subj_score\n",
      "is_ques_subjective\n",
      "review_id\n",
      "id\n",
      "title\n",
      "context\n",
      "question\n",
      "answers\n"
     ]
    }
   ],
   "source": [
    "# Features in the dataset\n",
    "for i in subjqa[\"train\"].features:\n",
    "    print(i)"
   ]
  },
  {
   "cell_type": "markdown",
   "metadata": {},
   "source": [
    "Like other question answering datasets on the Hub, SubjQA stores the answers to each questions as a nested dictionary. Let's inspect the answers column."
   ]
  },
  {
   "cell_type": "code",
   "execution_count": 5,
   "metadata": {},
   "outputs": [
    {
     "name": "stdout",
     "output_type": "stream",
     "text": [
      "{'text': ['Bass is weak as expected', 'Bass is weak as expected, even with EQ adjusted up'], 'answer_start': [1302, 1302], 'answer_subj_level': [1, 1], 'ans_subj_score': [0.5083333253860474, 0.5083333253860474], 'is_ans_subjective': [True, True]}\n"
     ]
    }
   ],
   "source": [
    "print(subjqa[\"train\"][\"answers\"][1])"
   ]
  },
  {
   "cell_type": "code",
   "execution_count": 6,
   "metadata": {},
   "outputs": [
    {
     "name": "stdout",
     "output_type": "stream",
     "text": [
      "text\n",
      "['Bass is weak as expected', 'Bass is weak as expected, even with EQ adjusted up']\n",
      "\n",
      "answer_start\n",
      "[1302, 1302]\n",
      "\n",
      "answer_subj_level\n",
      "[1, 1]\n",
      "\n",
      "ans_subj_score\n",
      "[0.5083333253860474, 0.5083333253860474]\n",
      "\n",
      "is_ans_subjective\n",
      "[True, True]\n",
      "\n"
     ]
    }
   ],
   "source": [
    "# Answers has other nested keys inside\n",
    "for k, v in subjqa[\"train\"][\"answers\"][1].items():\n",
    "    print(k)\n",
    "    print(v)\n",
    "    print(\"\")"
   ]
  },
  {
   "cell_type": "markdown",
   "metadata": {},
   "source": [
    "The answers are stored in `text` field, while the starting character indices are provided in `answer_start`. To explore the dataset more easily, let's flatten the nested dict and convert this to a `DataFrame`.\n",
    "\n",
    "We'll use dataset's [flatten()](https://huggingface.co/docs/datasets/package_reference/main_classes#datasets.Dataset.flatten) to do this."
   ]
  },
  {
   "cell_type": "code",
   "execution_count": 7,
   "metadata": {},
   "outputs": [
    {
     "name": "stdout",
     "output_type": "stream",
     "text": [
      "Number of questions in train: 1295\n",
      "Number of questions in test: 358\n",
      "Number of questions in validation: 255\n"
     ]
    }
   ],
   "source": [
    "import pandas as pd\n",
    "dfs = {split: dset.to_pandas() for split, dset in subjqa.flatten().items()}\n",
    "for split, df in dfs.items():\n",
    "    print(f\"Number of questions in {split}: {df['id'].nunique()}\")"
   ]
  },
  {
   "cell_type": "code",
   "execution_count": 8,
   "metadata": {},
   "outputs": [
    {
     "name": "stdout",
     "output_type": "stream",
     "text": [
      "<class 'pandas.core.frame.DataFrame'>\n",
      "RangeIndex: 1295 entries, 0 to 1294\n",
      "Data columns (total 19 columns):\n",
      " #   Column                     Non-Null Count  Dtype  \n",
      "---  ------                     --------------  -----  \n",
      " 0   domain                     1295 non-null   object \n",
      " 1   nn_mod                     1295 non-null   object \n",
      " 2   nn_asp                     1295 non-null   object \n",
      " 3   query_mod                  1295 non-null   object \n",
      " 4   query_asp                  1295 non-null   object \n",
      " 5   q_reviews_id               1295 non-null   object \n",
      " 6   question_subj_level        1295 non-null   int64  \n",
      " 7   ques_subj_score            1295 non-null   float32\n",
      " 8   is_ques_subjective         1295 non-null   bool   \n",
      " 9   review_id                  1295 non-null   object \n",
      " 10  id                         1295 non-null   object \n",
      " 11  title                      1295 non-null   object \n",
      " 12  context                    1295 non-null   object \n",
      " 13  question                   1295 non-null   object \n",
      " 14  answers.text               1295 non-null   object \n",
      " 15  answers.answer_start       1295 non-null   object \n",
      " 16  answers.answer_subj_level  1295 non-null   object \n",
      " 17  answers.ans_subj_score     1295 non-null   object \n",
      " 18  answers.is_ans_subjective  1295 non-null   object \n",
      "dtypes: bool(1), float32(1), int64(1), object(16)\n",
      "memory usage: 178.4+ KB\n"
     ]
    }
   ],
   "source": [
    "dfs[\"train\"].info()"
   ]
  },
  {
   "cell_type": "code",
   "execution_count": 9,
   "metadata": {},
   "outputs": [
    {
     "data": {
      "text/html": [
       "<div>\n",
       "<style scoped>\n",
       "    .dataframe tbody tr th:only-of-type {\n",
       "        vertical-align: middle;\n",
       "    }\n",
       "\n",
       "    .dataframe tbody tr th {\n",
       "        vertical-align: top;\n",
       "    }\n",
       "\n",
       "    .dataframe thead th {\n",
       "        text-align: right;\n",
       "    }\n",
       "</style>\n",
       "<table border=\"1\" class=\"dataframe\">\n",
       "  <thead>\n",
       "    <tr style=\"text-align: right;\">\n",
       "      <th></th>\n",
       "      <th>0</th>\n",
       "      <th>1</th>\n",
       "    </tr>\n",
       "  </thead>\n",
       "  <tbody>\n",
       "    <tr>\n",
       "      <th>domain</th>\n",
       "      <td>electronics</td>\n",
       "      <td>electronics</td>\n",
       "    </tr>\n",
       "    <tr>\n",
       "      <th>nn_mod</th>\n",
       "      <td>great</td>\n",
       "      <td>harsh</td>\n",
       "    </tr>\n",
       "    <tr>\n",
       "      <th>nn_asp</th>\n",
       "      <td>bass response</td>\n",
       "      <td>high</td>\n",
       "    </tr>\n",
       "    <tr>\n",
       "      <th>query_mod</th>\n",
       "      <td>excellent</td>\n",
       "      <td>not strong</td>\n",
       "    </tr>\n",
       "    <tr>\n",
       "      <th>query_asp</th>\n",
       "      <td>bass</td>\n",
       "      <td>bass</td>\n",
       "    </tr>\n",
       "    <tr>\n",
       "      <th>q_reviews_id</th>\n",
       "      <td>0514ee34b672623dff659334a25b599b</td>\n",
       "      <td>7c46670208f7bf5497480fbdbb44561a</td>\n",
       "    </tr>\n",
       "    <tr>\n",
       "      <th>question_subj_level</th>\n",
       "      <td>5</td>\n",
       "      <td>1</td>\n",
       "    </tr>\n",
       "    <tr>\n",
       "      <th>ques_subj_score</th>\n",
       "      <td>0.5</td>\n",
       "      <td>0.5</td>\n",
       "    </tr>\n",
       "    <tr>\n",
       "      <th>is_ques_subjective</th>\n",
       "      <td>False</td>\n",
       "      <td>False</td>\n",
       "    </tr>\n",
       "    <tr>\n",
       "      <th>review_id</th>\n",
       "      <td>882b1e2745a4779c8f17b3d4406b91c7</td>\n",
       "      <td>ce76793f036494eabe07b33a9a67288a</td>\n",
       "    </tr>\n",
       "    <tr>\n",
       "      <th>id</th>\n",
       "      <td>2543d296da9766d8d17d040ecc781699</td>\n",
       "      <td>d476830bf9282e2b9033e2bb44bbb995</td>\n",
       "    </tr>\n",
       "    <tr>\n",
       "      <th>title</th>\n",
       "      <td>B00001P4ZH</td>\n",
       "      <td>B00001P4ZH</td>\n",
       "    </tr>\n",
       "    <tr>\n",
       "      <th>context</th>\n",
       "      <td>I have had Koss headphones in the past, Pro 4A...</td>\n",
       "      <td>To anyone who hasn't tried all the various typ...</td>\n",
       "    </tr>\n",
       "    <tr>\n",
       "      <th>question</th>\n",
       "      <td>How is the bass?</td>\n",
       "      <td>Is this music song have a goo bass?</td>\n",
       "    </tr>\n",
       "    <tr>\n",
       "      <th>answers.text</th>\n",
       "      <td>[]</td>\n",
       "      <td>[Bass is weak as expected, Bass is weak as exp...</td>\n",
       "    </tr>\n",
       "    <tr>\n",
       "      <th>answers.answer_start</th>\n",
       "      <td>[]</td>\n",
       "      <td>[1302, 1302]</td>\n",
       "    </tr>\n",
       "    <tr>\n",
       "      <th>answers.answer_subj_level</th>\n",
       "      <td>[]</td>\n",
       "      <td>[1, 1]</td>\n",
       "    </tr>\n",
       "    <tr>\n",
       "      <th>answers.ans_subj_score</th>\n",
       "      <td>[]</td>\n",
       "      <td>[0.5083333, 0.5083333]</td>\n",
       "    </tr>\n",
       "    <tr>\n",
       "      <th>answers.is_ans_subjective</th>\n",
       "      <td>[]</td>\n",
       "      <td>[True, True]</td>\n",
       "    </tr>\n",
       "  </tbody>\n",
       "</table>\n",
       "</div>"
      ],
      "text/plain": [
       "                                                                           0  \\\n",
       "domain                                                           electronics   \n",
       "nn_mod                                                                 great   \n",
       "nn_asp                                                         bass response   \n",
       "query_mod                                                          excellent   \n",
       "query_asp                                                               bass   \n",
       "q_reviews_id                                0514ee34b672623dff659334a25b599b   \n",
       "question_subj_level                                                        5   \n",
       "ques_subj_score                                                          0.5   \n",
       "is_ques_subjective                                                     False   \n",
       "review_id                                   882b1e2745a4779c8f17b3d4406b91c7   \n",
       "id                                          2543d296da9766d8d17d040ecc781699   \n",
       "title                                                             B00001P4ZH   \n",
       "context                    I have had Koss headphones in the past, Pro 4A...   \n",
       "question                                                    How is the bass?   \n",
       "answers.text                                                              []   \n",
       "answers.answer_start                                                      []   \n",
       "answers.answer_subj_level                                                 []   \n",
       "answers.ans_subj_score                                                    []   \n",
       "answers.is_ans_subjective                                                 []   \n",
       "\n",
       "                                                                           1  \n",
       "domain                                                           electronics  \n",
       "nn_mod                                                                 harsh  \n",
       "nn_asp                                                                  high  \n",
       "query_mod                                                         not strong  \n",
       "query_asp                                                               bass  \n",
       "q_reviews_id                                7c46670208f7bf5497480fbdbb44561a  \n",
       "question_subj_level                                                        1  \n",
       "ques_subj_score                                                          0.5  \n",
       "is_ques_subjective                                                     False  \n",
       "review_id                                   ce76793f036494eabe07b33a9a67288a  \n",
       "id                                          d476830bf9282e2b9033e2bb44bbb995  \n",
       "title                                                             B00001P4ZH  \n",
       "context                    To anyone who hasn't tried all the various typ...  \n",
       "question                                 Is this music song have a goo bass?  \n",
       "answers.text               [Bass is weak as expected, Bass is weak as exp...  \n",
       "answers.answer_start                                            [1302, 1302]  \n",
       "answers.answer_subj_level                                             [1, 1]  \n",
       "answers.ans_subj_score                                [0.5083333, 0.5083333]  \n",
       "answers.is_ans_subjective                                       [True, True]  "
      ]
     },
     "execution_count": 9,
     "metadata": {},
     "output_type": "execute_result"
    }
   ],
   "source": [
    "dfs[\"train\"].head(2).T"
   ]
  },
  {
   "cell_type": "markdown",
   "metadata": {},
   "source": [
    "There are quite a few columns, we'll use the below columns for this use case:\n",
    "\n",
    "1. `title` -> Amazon Standard Identification Number (ASIN) associated with each product\n",
    "2. `question` -> Question itself\n",
    "3. `answers.answer_text` -> The span of text in the review labelled by annotator\n",
    "4. `answers.answer_start` -> The start charachter index of the answer span\n",
    "5. `context` -> The customer review\n",
    "\n",
    "Let''s look at these columns alone."
   ]
  },
  {
   "cell_type": "code",
   "execution_count": 10,
   "metadata": {},
   "outputs": [
    {
     "data": {
      "text/html": [
       "<div>\n",
       "<style scoped>\n",
       "    .dataframe tbody tr th:only-of-type {\n",
       "        vertical-align: middle;\n",
       "    }\n",
       "\n",
       "    .dataframe tbody tr th {\n",
       "        vertical-align: top;\n",
       "    }\n",
       "\n",
       "    .dataframe thead th {\n",
       "        text-align: right;\n",
       "    }\n",
       "</style>\n",
       "<table border=\"1\" class=\"dataframe\">\n",
       "  <thead>\n",
       "    <tr style=\"text-align: right;\">\n",
       "      <th></th>\n",
       "      <th>title</th>\n",
       "      <th>question</th>\n",
       "      <th>answers.text</th>\n",
       "      <th>answers.answer_start</th>\n",
       "      <th>context</th>\n",
       "    </tr>\n",
       "  </thead>\n",
       "  <tbody>\n",
       "    <tr>\n",
       "      <th>791</th>\n",
       "      <td>B005DKZTMG</td>\n",
       "      <td>Does the keyboard lightweight?</td>\n",
       "      <td>[this keyboard is compact]</td>\n",
       "      <td>[215]</td>\n",
       "      <td>I really like this keyboard.  I give it 4 star...</td>\n",
       "    </tr>\n",
       "    <tr>\n",
       "      <th>1159</th>\n",
       "      <td>B00AAIPT76</td>\n",
       "      <td>How is the battery?</td>\n",
       "      <td>[]</td>\n",
       "      <td>[]</td>\n",
       "      <td>I bought this after the first spare gopro batt...</td>\n",
       "    </tr>\n",
       "  </tbody>\n",
       "</table>\n",
       "</div>"
      ],
      "text/plain": [
       "           title                        question                answers.text  \\\n",
       "791   B005DKZTMG  Does the keyboard lightweight?  [this keyboard is compact]   \n",
       "1159  B00AAIPT76             How is the battery?                          []   \n",
       "\n",
       "     answers.answer_start                                            context  \n",
       "791                 [215]  I really like this keyboard.  I give it 4 star...  \n",
       "1159                   []  I bought this after the first spare gopro batt...  "
      ]
     },
     "execution_count": 10,
     "metadata": {},
     "output_type": "execute_result"
    }
   ],
   "source": [
    "qa_cols = [\"title\", \"question\", \"answers.text\", \"answers.answer_start\", \"context\"]\n",
    "sample_df = dfs[\"train\"][qa_cols].sample(2, random_state=7)\n",
    "sample_df "
   ]
  },
  {
   "cell_type": "markdown",
   "metadata": {},
   "source": [
    "Observations:\n",
    "\n",
    "* The queries are not gramatically correct which is quite common in the FAQ sections of ecommerce websites.\n",
    "* An empty `amswers.text` entry denotes \"unanswerable\" questions whose answer cannot be found in the review.\n",
    "* We can use the start index and length of the answer span to slice out the span to get the answer from the text."
   ]
  },
  {
   "cell_type": "code",
   "execution_count": 11,
   "metadata": {},
   "outputs": [
    {
     "data": {
      "text/plain": [
       "215"
      ]
     },
     "execution_count": 11,
     "metadata": {},
     "output_type": "execute_result"
    }
   ],
   "source": [
    "start_idx = sample_df[\"answers.answer_start\"].iloc[0][0]\n",
    "start_idx"
   ]
  },
  {
   "cell_type": "code",
   "execution_count": 12,
   "metadata": {},
   "outputs": [
    {
     "data": {
      "text/plain": [
       "239"
      ]
     },
     "execution_count": 12,
     "metadata": {},
     "output_type": "execute_result"
    }
   ],
   "source": [
    "end_idx = start_idx + len(sample_df[\"answers.text\"].iloc[0][0])\n",
    "end_idx"
   ]
  },
  {
   "cell_type": "code",
   "execution_count": 13,
   "metadata": {},
   "outputs": [
    {
     "data": {
      "text/plain": [
       "'this keyboard is compact'"
      ]
     },
     "execution_count": 13,
     "metadata": {},
     "output_type": "execute_result"
    }
   ],
   "source": [
    "sample_df[\"context\"].iloc[0][start_idx:end_idx]"
   ]
  },
  {
   "cell_type": "code",
   "execution_count": 14,
   "metadata": {},
   "outputs": [
    {
     "data": {
      "text/plain": [
       "array(['this keyboard is compact'], dtype=object)"
      ]
     },
     "execution_count": 14,
     "metadata": {},
     "output_type": "execute_result"
    }
   ],
   "source": [
    "sample_df[\"answers.text\"].iloc[0]"
   ]
  },
  {
   "cell_type": "markdown",
   "metadata": {},
   "source": [
    "By predicting the start index and length of the answer, we can create a qa model."
   ]
  },
  {
   "cell_type": "markdown",
   "metadata": {},
   "source": [
    "Next, let's get a feel for what types of questions are available in the training set by counting the questions that starts with a few common starting words for questions:"
   ]
  },
  {
   "cell_type": "code",
   "execution_count": 15,
   "metadata": {},
   "outputs": [
    {
     "name": "stderr",
     "output_type": "stream",
     "text": [
      "/var/folders/s2/zc28s499001f26bz7nbfmfhr0000gn/T/ipykernel_989/933638907.py:11: FutureWarning: Series.__getitem__ treating keys as positions is deprecated. In a future version, integer keys will always be treated as labels (consistent with DataFrame behavior). To access a value by position, use `ser.iloc[pos]`\n",
      "  counts[q] = false_true[1]\n"
     ]
    },
    {
     "data": {
      "text/plain": [
       "{'What': 236,\n",
       " 'How': 515,\n",
       " 'Is': 100,\n",
       " 'Does': 45,\n",
       " 'Do': 83,\n",
       " 'Was': 12,\n",
       " 'Where': 28,\n",
       " 'Why': 21}"
      ]
     },
     "execution_count": 15,
     "metadata": {},
     "output_type": "execute_result"
    }
   ],
   "source": [
    "counts = {}\n",
    "# Here we're assuming all users will start the question with capital letter...\n",
    "question_types = [\"What\", \"How\", \"Is\", \"Does\", \"Do\", \"Was\", \"Where\", \"Why\"]\n",
    "\n",
    "for q in question_types:\n",
    "    # Get the questions start with q using value_counts()\n",
    "    # value_counts() returns count for True(1st index) and False(0th index)\n",
    "    # Get true from ther value_counts() and save it to dict\n",
    "    false_true = dfs[\"train\"][\"question\"].str.startswith(q).value_counts()\n",
    "    if len(false_true) == 2:\n",
    "        counts[q] = false_true[1]\n",
    "    else:\n",
    "        counts[q] = 0\n",
    "counts"
   ]
  },
  {
   "cell_type": "code",
   "execution_count": 16,
   "metadata": {},
   "outputs": [
    {
     "data": {
      "image/png": "[encoded data removed]",
      "text/plain": [
       "<Figure size 640x480 with 1 Axes>"
      ]
     },
     "metadata": {},
     "output_type": "display_data"
    }
   ],
   "source": [
    "# Let's plot this\n",
    "import matplotlib.pyplot as plt\n",
    "pd.Series(counts).sort_values().plot.barh()\n",
    "plt.show()"
   ]
  },
  {
   "cell_type": "markdown",
   "metadata": {},
   "source": [
    "Most common questions begins with \"How\", \"What\", and \"Is\", let's have a look at some examples:"
   ]
  },
  {
   "cell_type": "code",
   "execution_count": 17,
   "metadata": {},
   "outputs": [
    {
     "name": "stdout",
     "output_type": "stream",
     "text": [
      "What\n",
      "What is direction?\n",
      "What is the quality of the construction of the bag?\n",
      "What is your impression of the product?\n",
      "\n",
      "How\n",
      "How is the camera?\n",
      "How do you like the control?\n",
      "How fast is the charger?\n",
      "\n",
      "Is\n",
      "Is this how zoom works?\n",
      "Is sound clear?\n",
      "Is it a wireless keyboard?\n",
      "\n",
      "Does\n",
      "Does the camera include control?\n",
      "Does the product have good quality?\n",
      "Does this provide enough storage?\n",
      "\n",
      "Do\n",
      "Do you have a price for a shoes?\n",
      "Does this headphone excellent?\n",
      "Do they come with the manufacturer's seal?\n",
      "\n",
      "Was\n",
      "Was the drive absolutely perfect?\n",
      "Was prompt the delivery?\n",
      "Was the mountain high?\n",
      "\n",
      "Where\n",
      "Where is the cheapest price?\n",
      "Where can I send to setup my device?\n",
      "Where do I have a drawer full of headphones?\n",
      "\n",
      "Why\n",
      "Why do I have an incredible sound?\n",
      "Why is customer service excellent?\n",
      "Why this feature affect the move?\n",
      "\n"
     ]
    }
   ],
   "source": [
    "for question_type in question_types:\n",
    "    print(question_type)\n",
    "    for question in (\n",
    "        dfs[\"train\"][dfs[\"train\"].question.str.startswith(question_type)].sample(n=3, random_state=42)[\"question\"]\n",
    "    ):\n",
    "        print(question)\n",
    "    print(\"\")"
   ]
  },
  {
   "cell_type": "markdown",
   "metadata": {},
   "source": [
    "### Question Answering Dataset history\n",
    "\n",
    " The (question, review, [answer setences]) format of SubjQA(used in [7-question-answering.ipynb notebook usecase for qa](../notebooks/7-question-answering.ipynb)) is commonly used in extractive QA datasets and was pioneered in Stanford Question Answering Dataset(SQuAD). \n",
    "\n",
    " * SQuAD is a famous dataset to test the abilit of machines(models) to read a passage of text and answer questions about it\n",
    " * This dataset was created from several hundred articles from wikipedia, where each of the article was partioned into paragraphs. Then crowdworkers were asked to generate questions and answers for each paragraph.\n",
    " * In the first crowdworkers version of SQuAD, answers for questions were guaranteed to be in paragraphs.\n",
    " * Soon sequence to sequence models outperformed humans and predicted spans of answers for question in the context(paragraphs, reviews etc.)\n",
    " * SQuAD 2.0 was created by augmenting SQuAD 1.1 with a set of adversial questions that were relevant to the passage but can't be answered from the passage contents alone. This became a better benchmark for evaluation qa capabalities of machines.\n",
    " * SOTA models as of 2022 with most models since 2019 surpasses human performance.\n",
    "    *qa sota models timeline*\n",
    "\n",
    "    ![alt](../notes/images/7-question-answering/qa-sota-models.png)\n",
    "* However this superhuman performance does not appear to reflect genuine reading comprehension, since answers to these \"unanswerable\" questions can be found by looking at antonymns in passages. \n",
    "* To address these problems Google released the Natural Questions (NQ) dataset which involves fact-seeking questions obtainef from Google Search users.\n",
    "* The answers in NQ are much longer than in SQuAD and present a more challenging benchmark.\n",
    "\n",
    "```\n",
    "NQ >> SQuAD2.0 >> SQuAD\n",
    "```"
   ]
  },
  {
   "cell_type": "markdown",
   "metadata": {},
   "source": [
    "Now let's dive into how transformers can extract answers from text."
   ]
  },
  {
   "cell_type": "markdown",
   "metadata": {},
   "source": [
    "### Extracting Answers from Text\n",
    "\n",
    "The first thing we'll need for our QA systems is to find a way to identify potential answers as span of text in a customer review. To do this, we'll need to understand how to:\n",
    "\n",
    "1. Frame the supervised learning problem\n",
    "2. Tokenize and encode text for QA tasks\n",
    "3. Deal with long passages that exceed a model's maximum context size\n",
    "\n",
    "#### Frame the problem - span classification\n",
    "\n",
    "The most common way to extract answers is ny framing the problem as *Span classification task* where start and end tokens acts as lables to be predicted by the model.\n",
    "\n",
    "*qa span classification*\n",
    "\n",
    "![alt](../notes/images/7-question-answering/qa-span-classification.png)\n",
    "\n",
    "In general we'll start with a pretrained model and evaluate it on the dataset to use it as a baseline and then fine-tune the model for the use case. But for extractive QA , we can actually start with fine-tuned model because the structure of labels remain the same. Since our training set is realtivley small with only 1,295 samples, A good strategy is to use a model fine-tuned on large-scale QA dataset like SQuAD.\n",
    "\n",
    "*SQuAD models on hub as of 2nd Sep 2023*\n",
    "\n",
    "![alt](../notes/images/7-question-answering/squad-models-on-hub.png)\n",
    "\n",
    "Woah... 4000+ models are available, which model to use depends on mono or multi-lingual and production environment constraints.\n",
    "\n",
    "*Baseline transformer models fine-tuned on SQuAD 2.0*\n",
    "| Transformer | Description | Num of Params | F1-Score |\n",
    "|----------|----------|----------|----------|\n",
    "| MiniLM   | Distilled version of BERT-base that preserves 99% performance while being twice as fast   | 66M | 79.5 |\n",
    "| RoBERTa-base | RoBERTa models have better performance than their BERT counterparts and can be fine-tuned on most QA datastes using a single GPU | 125M| 83.0 |\n",
    "| ALBERT-XXL | SOTA on datasetm but computationally intensive and difficult to deploy | 253M | 88.1 |\n",
    "| XLM-RoBERTa-large | Multilingual model for 100 languages with strong zero-shot performance | 570M | 83.8 |"
   ]
  },
  {
   "cell_type": "markdown",
   "metadata": {},
   "source": [
    "In this notebook, we'll use MiniLM model since it is fast to train and will allows to iterate quickly to explore techniques. First we need the tokenizer to encode our texts. Let's take a look at how this works for QA tasks."
   ]
  },
  {
   "cell_type": "markdown",
   "metadata": {},
   "source": [
    "### Tokenizing text for QA"
   ]
  },
  {
   "cell_type": "code",
   "execution_count": 18,
   "metadata": {},
   "outputs": [
    {
     "data": {
      "text/plain": [
       "BertTokenizerFast(name_or_path='deepset/minilm-uncased-squad2', vocab_size=30522, model_max_length=1000000000000000019884624838656, is_fast=True, padding_side='right', truncation_side='right', special_tokens={'unk_token': '[UNK]', 'sep_token': '[SEP]', 'pad_token': '[PAD]', 'cls_token': '[CLS]', 'mask_token': '[MASK]'}, clean_up_tokenization_spaces=True)"
      ]
     },
     "execution_count": 18,
     "metadata": {},
     "output_type": "execute_result"
    }
   ],
   "source": [
    "from transformers import AutoTokenizer\n",
    "\n",
    "model_ckpt = \"deepset/minilm-uncased-squad2\"\n",
    "tokenizer = AutoTokenizer.from_pretrained(\n",
    "    pretrained_model_name_or_path=model_ckpt\n",
    ")\n",
    "tokenizer"
   ]
  },
  {
   "cell_type": "markdown",
   "metadata": {},
   "source": [
    "> **Note:** In QA model inputs are passed as question, context pairs."
   ]
  },
  {
   "cell_type": "code",
   "execution_count": 19,
   "metadata": {},
   "outputs": [
    {
     "data": {
      "text/plain": [
       "{'input_ids': tensor([[  101,  2129,  2172,  2189,  2064,  2023,  2907,  1029,   102,  2019,\n",
       "         23378,  2003,  2055,  1015, 16914,  1013,  3371,  1010,  2061,  2055,\n",
       "         25961,  2847,  5834,  2006,  5371,  2946,  1012,   102]]), 'token_type_ids': tensor([[0, 0, 0, 0, 0, 0, 0, 0, 0, 1, 1, 1, 1, 1, 1, 1, 1, 1, 1, 1, 1, 1, 1, 1,\n",
       "         1, 1, 1, 1]]), 'attention_mask': tensor([[1, 1, 1, 1, 1, 1, 1, 1, 1, 1, 1, 1, 1, 1, 1, 1, 1, 1, 1, 1, 1, 1, 1, 1,\n",
       "         1, 1, 1, 1]])}"
      ]
     },
     "execution_count": 19,
     "metadata": {},
     "output_type": "execute_result"
    }
   ],
   "source": [
    "question = \"How much music can this hold?\"\n",
    "context = \"\"\"An MP3 is about 1 MB/minute, so about 6000 hours depending on \\\n",
    "file size.\"\"\"\n",
    "inputs = tokenizer(question, context, return_tensors=\"pt\")\n",
    "inputs"
   ]
  },
  {
   "cell_type": "code",
   "execution_count": 20,
   "metadata": {},
   "outputs": [
    {
     "data": {
      "text/html": [
       "<div>\n",
       "<style scoped>\n",
       "    .dataframe tbody tr th:only-of-type {\n",
       "        vertical-align: middle;\n",
       "    }\n",
       "\n",
       "    .dataframe tbody tr th {\n",
       "        vertical-align: top;\n",
       "    }\n",
       "\n",
       "    .dataframe thead th {\n",
       "        text-align: right;\n",
       "    }\n",
       "</style>\n",
       "<table border=\"1\" class=\"dataframe\">\n",
       "  <thead>\n",
       "    <tr style=\"text-align: right;\">\n",
       "      <th></th>\n",
       "      <th>0</th>\n",
       "      <th>1</th>\n",
       "      <th>2</th>\n",
       "      <th>3</th>\n",
       "      <th>4</th>\n",
       "      <th>5</th>\n",
       "      <th>6</th>\n",
       "      <th>7</th>\n",
       "      <th>8</th>\n",
       "      <th>9</th>\n",
       "      <th>...</th>\n",
       "      <th>18</th>\n",
       "      <th>19</th>\n",
       "      <th>20</th>\n",
       "      <th>21</th>\n",
       "      <th>22</th>\n",
       "      <th>23</th>\n",
       "      <th>24</th>\n",
       "      <th>25</th>\n",
       "      <th>26</th>\n",
       "      <th>27</th>\n",
       "    </tr>\n",
       "  </thead>\n",
       "  <tbody>\n",
       "    <tr>\n",
       "      <th>input_ids</th>\n",
       "      <td>101</td>\n",
       "      <td>2129</td>\n",
       "      <td>2172</td>\n",
       "      <td>2189</td>\n",
       "      <td>2064</td>\n",
       "      <td>2023</td>\n",
       "      <td>2907</td>\n",
       "      <td>1029</td>\n",
       "      <td>102</td>\n",
       "      <td>2019</td>\n",
       "      <td>...</td>\n",
       "      <td>2061</td>\n",
       "      <td>2055</td>\n",
       "      <td>25961</td>\n",
       "      <td>2847</td>\n",
       "      <td>5834</td>\n",
       "      <td>2006</td>\n",
       "      <td>5371</td>\n",
       "      <td>2946</td>\n",
       "      <td>1012</td>\n",
       "      <td>102</td>\n",
       "    </tr>\n",
       "    <tr>\n",
       "      <th>token_type_ids</th>\n",
       "      <td>0</td>\n",
       "      <td>0</td>\n",
       "      <td>0</td>\n",
       "      <td>0</td>\n",
       "      <td>0</td>\n",
       "      <td>0</td>\n",
       "      <td>0</td>\n",
       "      <td>0</td>\n",
       "      <td>0</td>\n",
       "      <td>1</td>\n",
       "      <td>...</td>\n",
       "      <td>1</td>\n",
       "      <td>1</td>\n",
       "      <td>1</td>\n",
       "      <td>1</td>\n",
       "      <td>1</td>\n",
       "      <td>1</td>\n",
       "      <td>1</td>\n",
       "      <td>1</td>\n",
       "      <td>1</td>\n",
       "      <td>1</td>\n",
       "    </tr>\n",
       "    <tr>\n",
       "      <th>attention_mask</th>\n",
       "      <td>1</td>\n",
       "      <td>1</td>\n",
       "      <td>1</td>\n",
       "      <td>1</td>\n",
       "      <td>1</td>\n",
       "      <td>1</td>\n",
       "      <td>1</td>\n",
       "      <td>1</td>\n",
       "      <td>1</td>\n",
       "      <td>1</td>\n",
       "      <td>...</td>\n",
       "      <td>1</td>\n",
       "      <td>1</td>\n",
       "      <td>1</td>\n",
       "      <td>1</td>\n",
       "      <td>1</td>\n",
       "      <td>1</td>\n",
       "      <td>1</td>\n",
       "      <td>1</td>\n",
       "      <td>1</td>\n",
       "      <td>1</td>\n",
       "    </tr>\n",
       "    <tr>\n",
       "      <th>tokens</th>\n",
       "      <td>[CLS]</td>\n",
       "      <td>how</td>\n",
       "      <td>much</td>\n",
       "      <td>music</td>\n",
       "      <td>can</td>\n",
       "      <td>this</td>\n",
       "      <td>hold</td>\n",
       "      <td>?</td>\n",
       "      <td>[SEP]</td>\n",
       "      <td>an</td>\n",
       "      <td>...</td>\n",
       "      <td>so</td>\n",
       "      <td>about</td>\n",
       "      <td>6000</td>\n",
       "      <td>hours</td>\n",
       "      <td>depending</td>\n",
       "      <td>on</td>\n",
       "      <td>file</td>\n",
       "      <td>size</td>\n",
       "      <td>.</td>\n",
       "      <td>[SEP]</td>\n",
       "    </tr>\n",
       "  </tbody>\n",
       "</table>\n",
       "<p>4 rows × 28 columns</p>\n",
       "</div>"
      ],
      "text/plain": [
       "                   0     1     2      3     4     5     6     7      8     9   \\\n",
       "input_ids         101  2129  2172   2189  2064  2023  2907  1029    102  2019   \n",
       "token_type_ids      0     0     0      0     0     0     0     0      0     1   \n",
       "attention_mask      1     1     1      1     1     1     1     1      1     1   \n",
       "tokens          [CLS]   how  much  music   can  this  hold     ?  [SEP]    an   \n",
       "\n",
       "                ...    18     19     20     21         22    23    24    25  \\\n",
       "input_ids       ...  2061   2055  25961   2847       5834  2006  5371  2946   \n",
       "token_type_ids  ...     1      1      1      1          1     1     1     1   \n",
       "attention_mask  ...     1      1      1      1          1     1     1     1   \n",
       "tokens          ...    so  about   6000  hours  depending    on  file  size   \n",
       "\n",
       "                  26     27  \n",
       "input_ids       1012    102  \n",
       "token_type_ids     1      1  \n",
       "attention_mask     1      1  \n",
       "tokens             .  [SEP]  \n",
       "\n",
       "[4 rows x 28 columns]"
      ]
     },
     "execution_count": 20,
     "metadata": {},
     "output_type": "execute_result"
    }
   ],
   "source": [
    "from tabulate import tabulate\n",
    "inputs_norm = tokenizer(question, context)\n",
    "inputs_norm[\"tokens\"] = inputs_norm.tokens()\n",
    "pd.DataFrame.from_dict(inputs_norm, orient=\"index\")"
   ]
  },
  {
   "cell_type": "markdown",
   "metadata": {},
   "source": [
    "> **Note:** `token_type_ids` --> this is used to differentiate two segments of inputs where it's passed as pair. Ex in QA inputs question tokens will have token_type_ids as 0 and context will have 1.`"
   ]
  },
  {
   "cell_type": "code",
   "execution_count": 21,
   "metadata": {},
   "outputs": [
    {
     "name": "stderr",
     "output_type": "stream",
     "text": [
      "2023-09-14 19:55:31.957794: I tensorflow/core/platform/cpu_feature_guard.cc:193] This TensorFlow binary is optimized with oneAPI Deep Neural Network Library (oneDNN) to use the following CPU instructions in performance-critical operations:  AVX2 FMA\n",
      "To enable them in other operations, rebuild TensorFlow with the appropriate compiler flags.\n"
     ]
    },
    {
     "name": "stdout",
     "output_type": "stream",
     "text": [
      "[CLS] how much music can this hold? [SEP] an mp3 is about 1 mb / minute, so about 6000 hours depending on file size. [SEP]\n"
     ]
    }
   ],
   "source": [
    "# Let's understand how the tokenizer formats the inputs for QA tasks. Let's decode the input_ids tensor\n",
    "print(tokenizer.decode(inputs[\"input_ids\"][0]))"
   ]
  },
  {
   "cell_type": "code",
   "execution_count": 22,
   "metadata": {},
   "outputs": [
    {
     "name": "stdout",
     "output_type": "stream",
     "text": [
      "[PAD] [PAD] [PAD] [PAD] [PAD] [PAD] [PAD] [PAD] [PAD] [unused0] [unused0] [unused0] [unused0] [unused0] [unused0] [unused0] [unused0] [unused0] [unused0] [unused0] [unused0] [unused0] [unused0] [unused0] [unused0] [unused0] [unused0] [unused0]\n"
     ]
    }
   ],
   "source": [
    "print(tokenizer.decode(inputs[\"token_type_ids\"][0]))"
   ]
  },
  {
   "cell_type": "code",
   "execution_count": 23,
   "metadata": {},
   "outputs": [
    {
     "name": "stdout",
     "output_type": "stream",
     "text": [
      "[unused0] [unused0] [unused0] [unused0] [unused0] [unused0] [unused0] [unused0] [unused0] [unused0] [unused0] [unused0] [unused0] [unused0] [unused0] [unused0] [unused0] [unused0] [unused0] [unused0] [unused0] [unused0] [unused0] [unused0] [unused0] [unused0] [unused0] [unused0]\n"
     ]
    }
   ],
   "source": [
    "print(tokenizer.decode(inputs[\"attention_mask\"][0]))"
   ]
  },
  {
   "cell_type": "markdown",
   "metadata": {},
   "source": [
    "The inputs take the below format\n",
    "[CLS] question tokens [SEP] context tokens [SEP].\n",
    "Where the first [SEP] token is determined by the `token_type_ids`\n",
    "\n",
    "Now that the text is tokenizer, let's instantiate the model with QA head and run the inputs through the forward pass."
   ]
  },
  {
   "cell_type": "code",
   "execution_count": 24,
   "metadata": {},
   "outputs": [
    {
     "name": "stderr",
     "output_type": "stream",
     "text": [
      "Some weights of the model checkpoint at deepset/minilm-uncased-squad2 were not used when initializing BertForQuestionAnswering: ['bert.pooler.dense.bias', 'bert.pooler.dense.weight']\n",
      "- This IS expected if you are initializing BertForQuestionAnswering from the checkpoint of a model trained on another task or with another architecture (e.g. initializing a BertForSequenceClassification model from a BertForPreTraining model).\n",
      "- This IS NOT expected if you are initializing BertForQuestionAnswering from the checkpoint of a model that you expect to be exactly identical (initializing a BertForSequenceClassification model from a BertForSequenceClassification model).\n"
     ]
    },
    {
     "name": "stdout",
     "output_type": "stream",
     "text": [
      "QuestionAnsweringModelOutput(loss=None, start_logits=tensor([[-0.9862, -4.7750, -5.4025, -5.2378, -5.2863, -5.5117, -4.9819, -6.1880,\n",
      "         -0.9862,  0.2596, -0.2144, -1.7136,  3.7806,  4.8561, -1.0546, -3.9097,\n",
      "         -1.7374, -4.5944, -1.4278,  3.9949,  5.0391, -0.2018, -3.0193, -4.8549,\n",
      "         -2.3107, -3.5110, -3.5713, -0.9862]]), end_logits=tensor([[-0.9623, -5.4733, -5.0326, -5.1639, -5.4278, -5.5151, -5.1749, -4.6233,\n",
      "         -0.9623, -3.7855, -0.8715, -3.7745, -3.0162, -1.1780,  0.1758, -2.7365,\n",
      "          4.8934,  0.3046, -3.1761, -3.2762,  0.8937,  5.6606, -0.3623, -4.9554,\n",
      "         -3.2531, -0.0914,  1.6211, -0.9623]]), hidden_states=None, attentions=None)\n"
     ]
    }
   ],
   "source": [
    "\n",
    "import torch\n",
    "from transformers import AutoModelForQuestionAnswering\n",
    "\n",
    "model = AutoModelForQuestionAnswering.from_pretrained(model_ckpt)\n",
    "\n",
    "with torch.no_grad():\n",
    "    outputs = model(**inputs)\n",
    "print(outputs)"
   ]
  },
  {
   "cell_type": "code",
   "execution_count": 25,
   "metadata": {},
   "outputs": [
    {
     "name": "stdout",
     "output_type": "stream",
     "text": [
      "QuestionAnsweringModelOutput(loss=None, start_logits=tensor([[-0.9862, -4.7750, -5.4025, -5.2378, -5.2863, -5.5117, -4.9819, -6.1880,\n",
      "         -0.9862,  0.2596, -0.2144, -1.7136,  3.7806,  4.8561, -1.0546, -3.9097,\n",
      "         -1.7374, -4.5944, -1.4278,  3.9949,  5.0391, -0.2018, -3.0193, -4.8549,\n",
      "         -2.3107, -3.5110, -3.5713, -0.9862]]), end_logits=tensor([[-0.9623, -5.4733, -5.0326, -5.1639, -5.4278, -5.5151, -5.1749, -4.6233,\n",
      "         -0.9623, -3.7855, -0.8715, -3.7745, -3.0162, -1.1780,  0.1758, -2.7365,\n",
      "          4.8934,  0.3046, -3.1761, -3.2762,  0.8937,  5.6606, -0.3623, -4.9554,\n",
      "         -3.2531, -0.0914,  1.6211, -0.9623]]), hidden_states=None, attentions=None)\n"
     ]
    }
   ],
   "source": [
    "with torch.no_grad():\n",
    "    outputs = model(**inputs)\n",
    "print(outputs)"
   ]
  },
  {
   "cell_type": "markdown",
   "metadata": {},
   "source": [
    "Here we can see that we get a `QuestionAnsweringModelOutput` object as the output of the QA head. The QA head corresponds to a linar layer that takes hidden states from encoder and computes the logits for start and end spans. This means that we treat QA as a form of token classification similar to ner in notebook 4."
   ]
  },
  {
   "cell_type": "markdown",
   "metadata": {},
   "source": [
    "We've start_logits and end_logits in the output, let's get these to conver the span into answers."
   ]
  },
  {
   "cell_type": "code",
   "execution_count": 26,
   "metadata": {},
   "outputs": [],
   "source": [
    "start_logits = outputs.start_logits\n",
    "end_logits = outputs.end_logits"
   ]
  },
  {
   "cell_type": "code",
   "execution_count": 27,
   "metadata": {},
   "outputs": [
    {
     "name": "stdout",
     "output_type": "stream",
     "text": [
      "Input IDs shape: torch.Size([1, 28])\n",
      "Start logits shape: torch.Size([1, 28])\n",
      "End logits size: torch.Size([1, 28])\n"
     ]
    }
   ],
   "source": [
    "# Comparing this with input ids which is the review/context\n",
    "print(f\"Input IDs shape: {inputs.input_ids.size()}\")\n",
    "print(f\"Start logits shape: {start_logits.size()}\")\n",
    "print(f\"End logits size: {end_logits.size()}\")"
   ]
  },
  {
   "cell_type": "code",
   "execution_count": 28,
   "metadata": {},
   "outputs": [
    {
     "data": {
      "text/plain": [
       "('How much music can this hold?',\n",
       " 'An MP3 is about 1 MB/minute, so about 6000 hours depending on file size.')"
      ]
     },
     "execution_count": 28,
     "metadata": {},
     "output_type": "execute_result"
    }
   ],
   "source": [
    "question, context"
   ]
  },
  {
   "cell_type": "markdown",
   "metadata": {},
   "source": [
    "How can we use the logits to determine the answer, let's write some code to visualize start and end logits with their respective tokens.\n",
    "\n",
    "We'll implement a bar graph with token ids in x axis and logits in y axis."
   ]
  },
  {
   "cell_type": "code",
   "execution_count": 29,
   "metadata": {},
   "outputs": [
    {
     "data": {
      "image/png": "[encoded data removed]",
      "text/plain": [
       "<Figure size 640x480 with 2 Axes>"
      ]
     },
     "metadata": {},
     "output_type": "display_data"
    }
   ],
   "source": [
    "import numpy as np\n",
    "import matplotlib.pyplot as plt\n",
    "\n",
    "s_scores = start_logits.detach().numpy().flatten()\n",
    "e_scores = end_logits.detach().numpy().flatten()\n",
    "tokens = tokenizer.convert_ids_to_tokens(inputs[\"input_ids\"][0])\n",
    "token_ids = range(len(tokens))\n",
    "\n",
    "fig, (ax1, ax2) = plt.subplots(\n",
    "    nrows=2, # s and e_logits\n",
    "    sharex=True, # Token ids\n",
    "    )\n",
    "\n",
    "colors = [\"C0\" if s != max(s_scores) else \"C1\" for s in s_scores]\n",
    "ax1.bar(\n",
    "    x=token_ids,\n",
    "    height=s_scores,\n",
    "    color=colors,\n",
    ")\n",
    "ax1.set_ylabel(\"Start Scores\")\n",
    "\n",
    "colors = [\"C0\" if s != max(e_scores) else \"C1\" for s in e_scores]\n",
    "ax2.bar(\n",
    "    x=token_ids,\n",
    "    height=e_scores,\n",
    "    color=colors,\n",
    ")\n",
    "ax2.set_ylabel(\"End Scores\")\n",
    "plt.xticks(token_ids, tokens, rotation=\"vertical\")\n",
    "plt.show();\n"
   ]
  },
  {
   "cell_type": "code",
   "execution_count": 30,
   "metadata": {},
   "outputs": [
    {
     "data": {
      "text/plain": [
       "'How much music can this hold?'"
      ]
     },
     "execution_count": 30,
     "metadata": {},
     "output_type": "execute_result"
    }
   ],
   "source": [
    "question"
   ]
  },
  {
   "cell_type": "markdown",
   "metadata": {},
   "source": [
    "Looking at the visualization, the highest logits for start and end span tokens are 6000, 1 and hours and minute respectivley.\n",
    "With this respect to the question, the answer should be a number following by the unit of the number. The results look good.\n",
    "\n",
    "Let's perform an argmax over the tokens to get the start and end token ids."
   ]
  },
  {
   "cell_type": "code",
   "execution_count": 31,
   "metadata": {},
   "outputs": [
    {
     "name": "stdout",
     "output_type": "stream",
     "text": [
      "['6000', 'hours']\n",
      "6000 hours\n"
     ]
    }
   ],
   "source": [
    "import torch\n",
    "start_span, end_span = torch.argmax(start_logits), torch.argmax(end_logits) + 1\n",
    "print(tokens[start_span:end_span])\n",
    "print(tokenizer.decode(inputs[\"input_ids\"][0][start_span:end_span]))"
   ]
  },
  {
   "cell_type": "code",
   "execution_count": 32,
   "metadata": {},
   "outputs": [
    {
     "data": {
      "text/plain": [
       "(tensor(20), tensor(22))"
      ]
     },
     "execution_count": 32,
     "metadata": {},
     "output_type": "execute_result"
    }
   ],
   "source": [
    "start_span, end_span"
   ]
  },
  {
   "cell_type": "markdown",
   "metadata": {},
   "source": [
    "We have transformers pipeline which can do all this input to ids, forward pass, logits, decode logits, get answer in a single line of code."
   ]
  },
  {
   "cell_type": "code",
   "execution_count": 33,
   "metadata": {},
   "outputs": [
    {
     "name": "stderr",
     "output_type": "stream",
     "text": [
      "/Users/jayaprakashsivagami/miniconda3/envs/nlp-qa/lib/python3.9/site-packages/transformers/pipelines/question_answering.py:326: UserWarning: topk parameter is deprecated, use top_k instead\n",
      "  warnings.warn(\"topk parameter is deprecated, use top_k instead\", UserWarning)\n"
     ]
    },
    {
     "data": {
      "text/plain": [
       "[{'score': 0.26516270637512207,\n",
       "  'start': 38,\n",
       "  'end': 48,\n",
       "  'answer': '6000 hours'},\n",
       " {'score': 0.22082945704460144,\n",
       "  'start': 16,\n",
       "  'end': 48,\n",
       "  'answer': '1 MB/minute, so about 6000 hours'},\n",
       " {'score': 0.10253455489873886,\n",
       "  'start': 16,\n",
       "  'end': 27,\n",
       "  'answer': '1 MB/minute'}]"
      ]
     },
     "execution_count": 33,
     "metadata": {},
     "output_type": "execute_result"
    }
   ],
   "source": [
    "from transformers import pipeline\n",
    "pipe = pipeline(\"question-answering\", model=model, tokenizer=tokenizer)\n",
    "pipe(question=question, context=context, topk=3)"
   ]
  },
  {
   "cell_type": "markdown",
   "metadata": {},
   "source": [
    "In addition to answer we get,\n",
    "* `score` --> softmax over the logits, to compare multiple answers for a single context\n",
    "* topk gives three top answers, multiple answers for a single question\n",
    "* When the question is unanswerable, model will assign a high start and end score to the [CLS] with pipeline output an empty string"
   ]
  },
  {
   "cell_type": "code",
   "execution_count": 34,
   "metadata": {},
   "outputs": [
    {
     "data": {
      "text/plain": [
       "[{'score': 0.9068412780761719, 'start': 0, 'end': 0, 'answer': ''},\n",
       " {'score': 0.00026264842017553747,\n",
       "  'start': 16,\n",
       "  'end': 71,\n",
       "  'answer': '1 MB/minute, so about 6000 hours depending on file size'},\n",
       " {'score': 0.0002036133810179308,\n",
       "  'start': 10,\n",
       "  'end': 71,\n",
       "  'answer': 'about 1 MB/minute, so about 6000 hours depending on file size'}]"
      ]
     },
     "execution_count": 34,
     "metadata": {},
     "output_type": "execute_result"
    }
   ],
   "source": [
    "pipe(question=\"Why is there no data?\", context=context, topk=3, handle_impossible_answer=True)"
   ]
  },
  {
   "cell_type": "code",
   "execution_count": 35,
   "metadata": {},
   "outputs": [
    {
     "data": {
      "text/plain": [
       "'An MP3 is about 1 MB/minute, so about 6000 hours depending on file size.'"
      ]
     },
     "execution_count": 35,
     "metadata": {},
     "output_type": "execute_result"
    }
   ],
   "source": [
    "context"
   ]
  },
  {
   "cell_type": "markdown",
   "metadata": {},
   "source": [
    "> **Note:** In our simple example we took the argmax to get start and end tokens. But this heuristic approach can product out-of-scope results by selecting the tokens belonging to question instead. In pracitce start and end tokens computed by pipeline has many considereations like answer being in scope, start indices to predced the end indices and so on."
   ]
  },
  {
   "cell_type": "markdown",
   "metadata": {},
   "source": [
    "### Dealing with long passages\n",
    "\n",
    "One subtely faced by reading comprehension models is that the context often contains more tokens than the maximum sequence length of the model.\n",
    "Let's check this out for SubjQA dataset."
   ]
  },
  {
   "cell_type": "code",
   "execution_count": 36,
   "metadata": {},
   "outputs": [],
   "source": [
    "def compute_input_length(row):\n",
    "    \"\"\"_summary_\n",
    "\n",
    "    Accepts a single dataframe row and returnsd length of tokens for qa inputs\n",
    "\n",
    "    Args:\n",
    "        row (_type_): SubjQA dataset single row\n",
    "    \"\"\"\n",
    "    inputs = tokenizer(row[\"question\"], row[\"context\"])\n",
    "    return len(inputs[\"input_ids\"])\n",
    "\n",
    "dfs[\"train\"][\"n_tokens\"] = dfs[\"train\"].apply(compute_input_length, axis=1)"
   ]
  },
  {
   "cell_type": "code",
   "execution_count": 37,
   "metadata": {},
   "outputs": [
    {
     "data": {
      "image/png": "[encoded data removed]",
      "text/plain": [
       "<Figure size 640x480 with 1 Axes>"
      ]
     },
     "metadata": {},
     "output_type": "display_data"
    }
   ],
   "source": [
    "fig, ax = plt.subplots(nrows=1)\n",
    "dfs[\"train\"][\"n_tokens\"].hist(bins=100, grid=False, ax=ax)\n",
    "plt.xlabel(\"Number of tokens in question-context pair\")\n",
    "ax.axvline(x=512, ymin=0, ymax=1, linestyle=\"--\", color=\"C1\", \n",
    "           label=\"Maximum sequence length\")\n",
    "plt.legend()\n",
    "plt.ylabel(\"Count\")\n",
    "plt.show();"
   ]
  },
  {
   "cell_type": "markdown",
   "metadata": {},
   "source": [
    "Decent portion of SubjQA's inputs are also beyond MiniLM's maximum context length.\n",
    "\n",
    "For other tasks like classification we'll truncate the text assuming [CLS] token would've assimilated information from all other tokens to generate accurate predictions. But with QA the answers might lie at the end of the context and we might lose the answer if we truncate it. The standard way to deal with this is to apply a *sliding window* across the inputs, where each window contains a passage of token that fits the model's context."
   ]
  },
  {
   "cell_type": "markdown",
   "metadata": {},
   "source": [
    "In transformers, we can set `return_overflowing_tokens=True` in the tokenizer to enable the sliding window. The size of the sliding window is controlled by `max_seq_length` argument. and the size of the stride is controlled by `doc_stride`. Let's grab the first example from out training set and define a small window to see how sliding window works..."
   ]
  },
  {
   "cell_type": "code",
   "execution_count": 38,
   "metadata": {},
   "outputs": [
    {
     "data": {
      "text/plain": [
       "question                                     How is the bass?\n",
       "context     I have had Koss headphones in the past, Pro 4A...\n",
       "Name: 0, dtype: object"
      ]
     },
     "execution_count": 38,
     "metadata": {},
     "output_type": "execute_result"
    }
   ],
   "source": [
    "example = dfs[\"train\"].iloc[0][[\"question\", \"context\"]]\n",
    "example"
   ]
  },
  {
   "cell_type": "code",
   "execution_count": 39,
   "metadata": {},
   "outputs": [
    {
     "name": "stderr",
     "output_type": "stream",
     "text": [
      "Truncation was not explicitly activated but `max_length` is provided a specific value, please use `truncation=True` to explicitly truncate examples to max length. Defaulting to 'longest_first' truncation strategy. If you encode pairs of sequences (GLUE-style) with the tokenizer you can select this strategy more precisely by providing a specific strategy to `truncation`.\n"
     ]
    }
   ],
   "source": [
    "tokenized_example = tokenizer(\n",
    "    example[\"question\"], example['context'],\n",
    "    return_overflowing_tokens=True,\n",
    "    max_length=100,\n",
    "    stride=25\n",
    "    )"
   ]
  },
  {
   "cell_type": "code",
   "execution_count": 40,
   "metadata": {},
   "outputs": [
    {
     "name": "stdout",
     "output_type": "stream",
     "text": [
      "Full input\n",
      "Question: How is the bass?\n",
      "Context: I have had Koss headphones in the past, Pro 4AA and QZ-99.  The Koss Portapro is portable AND has great bass response.  The work great with my Android phone and can be \"rolled up\" to be carried in my motorcycle jacket or computer bag without getting crunched.  They are very light and do not feel heavy or bear down on your ears even after listening to music with them on all day.  The sound is night and day better than any ear-bud could be and are almost as good as the Pro 4AA.  They are \"open air\" headphones so you cannot match the bass to the sealed types, but it comes close. For $32, you cannot go wrong.\n",
      "\n",
      "Window 0 has 100 tokens\n",
      "[CLS] how is the bass? [SEP] i have had koss headphones in the past, pro 4aa and qz - 99. the koss portapro is portable and has great bass response. the work great with my android phone and can be \" rolled up \" to be carried in my motorcycle jacket or computer bag without getting crunched. they are very light and do not feel heavy or bear down on your ears even after listening to music with them on all day. the sound is [SEP]\n",
      "\n",
      "Window 1 has 88 tokens\n",
      "[CLS] how is the bass? [SEP] and do not feel heavy or bear down on your ears even after listening to music with them on all day. the sound is night and day better than any ear - bud could be and are almost as good as the pro 4aa. they are \" open air \" headphones so you cannot match the bass to the sealed types, but it comes close. for $ 32, you cannot go wrong. [SEP]\n",
      "\n"
     ]
    }
   ],
   "source": [
    "print(f\"Full input\")\n",
    "print(f\"Question: {example['question']}\")\n",
    "print(f\"Context: {example['context']}\")\n",
    "print(\"\")\n",
    "for idx, window in enumerate(tokenized_example['input_ids']):\n",
    "    print(f\"Window {idx} has {len(window)} tokens\")\n",
    "    print(f\"{tokenizer.decode(window)}\\n\")\n"
   ]
  },
  {
   "cell_type": "markdown",
   "metadata": {},
   "source": [
    "* The question comes in all the windows\n",
    "* The first window context spans the length of max_length\n",
    "* From second window, move back by stride_length from previous window's end token, this is the starting point of curent window and spans the length of max_length. This process is repeated until the sequence ends.\n",
    "* All the windows overlap with previous window by stride length."
   ]
  },
  {
   "cell_type": "markdown",
   "metadata": {},
   "source": [
    "Now With some intution about how QA models can extract answers from text, let's look at other components we need to build an end-to-end QA pipeline."
   ]
  },
  {
   "cell_type": "markdown",
   "metadata": {},
   "source": [
    "### Using Haystack to Build a QA pipeline\n",
    "\n",
    "In our example above, we've fed the pipeline or model both question and context. But in reality we'll get only the query from user and we've get the context from our corpus. There are few ways to do it:\n",
    "\n",
    "#### Simple Approach\n",
    "\n",
    "Simple and easiest approach is to concatenate all the reviews available as a single context and feed it with question to the model. The bottleneck will be the computation to process, because the context is big due to concatenation. Let's assume it takes 100 milliseconds to process a review with 30 reviews and the model will take 3 seconds latency after users input which won't work in an ecommerece application.\n",
    "\n",
    "To overcome this, moder QA system uses retriever-reader approach:\n",
    "\n",
    "#### Retriever-Reader architecture\n",
    "\n",
    "##### Retriever\n",
    "\n",
    "Retriever is responsible for retrieving relevant documents for the user query. They are categorized as sparse and dense\n",
    "\n",
    "1. *Sparse Retrievers*: This uses word frequencies to represent a document. The query is also a sparse vector. The relevancy of document for the query is determined by computing an inner product of both vectors.\n",
    "2. *Dense Retrievers*: This stores documents as contextualized embeddings. The query is converted into a dense vector using encoder like transformers. Then both query and documents are compared, semantic meaning is available with embeddings. This allows for a more accurate search of documents by understanding the content of the query.\n",
    "\n",
    "##### Reader\n",
    "\n",
    "Responsible for extracting an answer from the documnts provided by the retriver. These can be reading comprehension models(extract answers from text) or free-form answers from generative tranformers.\n",
    "\n",
    "There can be post-processing after retriver or reader and both as well. Like ranking the documents from retriever to remove noisy passages or postprocessing answer by combining answer from various passages in a long document.\n",
    "\n",
    "*Modern qa architecure*:\n",
    "\n",
    "![alt](../notes/images/7-question-answering/qa-modern-architecture.png)\n",
    "\n",
    "To buld our QA system, we'll use the [Haystack library](https://haystack.deepset.ai/) developed by [deepset](https://deepset.ai/). Haystack is based on retriever-reader architecure and tighty coupled with transformers to abstract away the complexity in building these systems.\n",
    "\n",
    "In addition to retriever and reader an QA system requries two more components:\n",
    "\n",
    "##### Document store\n",
    "\n",
    "A document-oriented database that stors documents and metadata which are provided to the retriever at query time\n",
    "\n",
    "##### Pipeline\n",
    "\n",
    "Combines all the components of QA system to enable custom query flows, merging documents from multiple retrievers and more.\n",
    "\n",
    "Next we'll explore how to build a prototype popeline and then focus on improving it's performance."
   ]
  },
  {
   "cell_type": "markdown",
   "metadata": {},
   "source": [
    "### Initializing a document store\n",
    "\n",
    "In Haystack, there are various [document stores](https://docs.haystack.deepset.ai/docs/document_store) to choose from and each one can be paired with a dedicated set of retrievers.\n",
    "\n",
    "Below table shows the compatability os sparse(TF-IDF, BM25) and (Embedding, DPR) retrievers is shown for ElasticSearch and FAISS.\n",
    "\n",
    "![alt](../notes/images/7-question-answering/qa-haystack-document-stores.png)"
   ]
  },
  {
   "cell_type": "markdown",
   "metadata": {},
   "source": [
    "To explore both dense and sparse retrievers, we'll use `ElasticSearchDocumentStore`, which is compatible with both retriever types. Elastic search can handle variety of datatypes. It can also store huge volumes of data and retrieve them using Full-text search feature, this makes ElasticSearch well suited to develop QA systems.\n",
    "\n",
    "To initalize a document store, let's first install ElastiSearch.\n",
    "\n",
    "I've setup elastic using docker-compose. [docker-compose.yaml](../others/docker-compose.yaml) can be used to spin up an elastic docker service. [.env file is available in elastic search geting started tutorial](https://www.elastic.co/blog/getting-started-with-the-elastic-stack-and-docker-compose)"
   ]
  },
  {
   "cell_type": "code",
   "execution_count": 41,
   "metadata": {},
   "outputs": [],
   "source": [
    "import os\n",
    "os.environ[\"TOKENIZERS_PARALLELISM\"] = \"false\""
   ]
  },
  {
   "cell_type": "code",
   "execution_count": 42,
   "metadata": {},
   "outputs": [
    {
     "name": "stdout",
     "output_type": "stream",
     "text": [
      "{\n",
      "  \"name\" : \"es01\",\n",
      "  \"cluster_name\" : \"qa-cluster\",\n",
      "  \"cluster_uuid\" : \"a8q1_L82SACd5T6_zt-06g\",\n",
      "  \"version\" : {\n",
      "    \"number\" : \"8.7.1\",\n",
      "    \"build_flavor\" : \"default\",\n",
      "    \"build_type\" : \"docker\",\n",
      "    \"build_hash\" : \"f229ed3f893a515d590d0f39b05f68913e2d9b53\",\n",
      "    \"build_date\" : \"2023-04-27T04:33:42.127815583Z\",\n",
      "    \"build_snapshot\" : false,\n",
      "    \"lucene_version\" : \"9.5.0\",\n",
      "    \"minimum_wire_compatibility_version\" : \"7.17.0\",\n",
      "    \"minimum_index_compatibility_version\" : \"7.0.0\"\n",
      "  },\n",
      "  \"tagline\" : \"You Know, for Search\"\n",
      "}\n"
     ]
    }
   ],
   "source": [
    "!curl --insecure --user \"elastic:password\" \"https://localhost:9200/?pretty\""
   ]
  },
  {
   "cell_type": "markdown",
   "metadata": {},
   "source": [
    "Alright, now we've our elastic server up and running, let's instantiate the document store."
   ]
  },
  {
   "cell_type": "code",
   "execution_count": 43,
   "metadata": {},
   "outputs": [
    {
     "name": "stderr",
     "output_type": "stream",
     "text": [
      "This ElasticsearchDocumentStore has been built for Elasticsearch 7, but the detected version of the Elasticsearch server is 8.7.1. Unexpected behaviors or errors may occur due to version incompatibility.\n"
     ]
    }
   ],
   "source": [
    "\n",
    "from haystack.document_stores.elasticsearch import ElasticsearchDocumentStore\n",
    "\n",
    "# Return the document embedding for later use with dense retriever \n",
    "document_store = ElasticsearchDocumentStore(\n",
    "    host=\"localhost\",\n",
    "    port=\"9200\",\n",
    "    scheme=\"https\",\n",
    "    username=\"elastic\",\n",
    "    password=\"password\",\n",
    "    ca_certs=\"../others/ca.crt\",\n",
    "    return_embedding=True,\n",
    "    )"
   ]
  },
  {
   "cell_type": "markdown",
   "metadata": {},
   "source": [
    "By default, `ElasticSearchDocumentStore` creates two indices on ElasticSearch: one called `document` for storing documents and another called `label` for storing the annotated answer spans. For now, we'll just load the SubjQA reviews to document index. Haystack's document stores expect a list of dictionaries with `text` and `meta` keys as follows:\n",
    "\n",
    "```JSON\n",
    "{\n",
    "    \"text\": \"context\",\n",
    "    \"meta\": {\n",
    "        \"field_01\": \"additional metadata\",\n",
    "        \"field_02\": \"additional metadata\"\n",
    "    }\n",
    "}\n",
    "```\n",
    "\n",
    "The fields in `meta` can be used for applying filters during retrieval. For our purposes we'll include the `item_id` and `q_review_id` columns of SubjQA so we can filter by product and question ID, along with corresponding training split. We c.an then convert it to dataframe and loop through them to add it to index using `write_documents()`"
   ]
  },
  {
   "cell_type": "code",
   "execution_count": 44,
   "metadata": {},
   "outputs": [],
   "source": [
    "# It's a good idea to flush ES with each notebook restart\n",
    "if len(document_store.get_all_documents()) or len(document_store.get_all_labels()) > 0:\n",
    "    document_store.delete_documents(index=\"document\")\n",
    "    document_store.delete_documents(index=\"label\")"
   ]
  },
  {
   "cell_type": "code",
   "execution_count": 45,
   "metadata": {},
   "outputs": [
    {
     "data": {
      "text/html": [
       "<div>\n",
       "<style scoped>\n",
       "    .dataframe tbody tr th:only-of-type {\n",
       "        vertical-align: middle;\n",
       "    }\n",
       "\n",
       "    .dataframe tbody tr th {\n",
       "        vertical-align: top;\n",
       "    }\n",
       "\n",
       "    .dataframe thead th {\n",
       "        text-align: right;\n",
       "    }\n",
       "</style>\n",
       "<table border=\"1\" class=\"dataframe\">\n",
       "  <thead>\n",
       "    <tr style=\"text-align: right;\">\n",
       "      <th></th>\n",
       "      <th>domain</th>\n",
       "      <th>nn_mod</th>\n",
       "      <th>nn_asp</th>\n",
       "      <th>query_mod</th>\n",
       "      <th>query_asp</th>\n",
       "      <th>q_reviews_id</th>\n",
       "      <th>question_subj_level</th>\n",
       "      <th>ques_subj_score</th>\n",
       "      <th>is_ques_subjective</th>\n",
       "      <th>review_id</th>\n",
       "      <th>id</th>\n",
       "      <th>title</th>\n",
       "      <th>context</th>\n",
       "      <th>question</th>\n",
       "      <th>answers.text</th>\n",
       "      <th>answers.answer_start</th>\n",
       "      <th>answers.answer_subj_level</th>\n",
       "      <th>answers.ans_subj_score</th>\n",
       "      <th>answers.is_ans_subjective</th>\n",
       "      <th>n_tokens</th>\n",
       "    </tr>\n",
       "  </thead>\n",
       "  <tbody>\n",
       "    <tr>\n",
       "      <th>0</th>\n",
       "      <td>electronics</td>\n",
       "      <td>great</td>\n",
       "      <td>bass response</td>\n",
       "      <td>excellent</td>\n",
       "      <td>bass</td>\n",
       "      <td>0514ee34b672623dff659334a25b599b</td>\n",
       "      <td>5</td>\n",
       "      <td>0.50</td>\n",
       "      <td>False</td>\n",
       "      <td>882b1e2745a4779c8f17b3d4406b91c7</td>\n",
       "      <td>2543d296da9766d8d17d040ecc781699</td>\n",
       "      <td>B00001P4ZH</td>\n",
       "      <td>I have had Koss headphones in the past, Pro 4A...</td>\n",
       "      <td>How is the bass?</td>\n",
       "      <td>[]</td>\n",
       "      <td>[]</td>\n",
       "      <td>[]</td>\n",
       "      <td>[]</td>\n",
       "      <td>[]</td>\n",
       "      <td>155</td>\n",
       "    </tr>\n",
       "    <tr>\n",
       "      <th>1</th>\n",
       "      <td>electronics</td>\n",
       "      <td>harsh</td>\n",
       "      <td>high</td>\n",
       "      <td>not strong</td>\n",
       "      <td>bass</td>\n",
       "      <td>7c46670208f7bf5497480fbdbb44561a</td>\n",
       "      <td>1</td>\n",
       "      <td>0.50</td>\n",
       "      <td>False</td>\n",
       "      <td>ce76793f036494eabe07b33a9a67288a</td>\n",
       "      <td>d476830bf9282e2b9033e2bb44bbb995</td>\n",
       "      <td>B00001P4ZH</td>\n",
       "      <td>To anyone who hasn't tried all the various typ...</td>\n",
       "      <td>Is this music song have a goo bass?</td>\n",
       "      <td>[Bass is weak as expected, Bass is weak as exp...</td>\n",
       "      <td>[1302, 1302]</td>\n",
       "      <td>[1, 1]</td>\n",
       "      <td>[0.5083333, 0.5083333]</td>\n",
       "      <td>[True, True]</td>\n",
       "      <td>537</td>\n",
       "    </tr>\n",
       "    <tr>\n",
       "      <th>2</th>\n",
       "      <td>electronics</td>\n",
       "      <td>neutral</td>\n",
       "      <td>sound</td>\n",
       "      <td>present</td>\n",
       "      <td>bass</td>\n",
       "      <td>8fbf26792c438aa83178c2d507af5d77</td>\n",
       "      <td>1</td>\n",
       "      <td>0.50</td>\n",
       "      <td>False</td>\n",
       "      <td>d040f2713caa2aff0ce95affb40e12c2</td>\n",
       "      <td>455575557886d6dfeea5aa19577e5de4</td>\n",
       "      <td>B00001P4ZH</td>\n",
       "      <td>I have had many sub-$100 headphones from $5 Pa...</td>\n",
       "      <td>How is the bass?</td>\n",
       "      <td>[The only fault in the sound is the bass]</td>\n",
       "      <td>[650]</td>\n",
       "      <td>[2]</td>\n",
       "      <td>[0.6333333]</td>\n",
       "      <td>[True]</td>\n",
       "      <td>534</td>\n",
       "    </tr>\n",
       "    <tr>\n",
       "      <th>3</th>\n",
       "      <td>electronics</td>\n",
       "      <td>muddy</td>\n",
       "      <td>bass</td>\n",
       "      <td>awesome</td>\n",
       "      <td>bass</td>\n",
       "      <td>9876fd06ed8f075fcad70d1e30e7e8be</td>\n",
       "      <td>1</td>\n",
       "      <td>0.50</td>\n",
       "      <td>False</td>\n",
       "      <td>043e7162df91f6ea916c790c8a6f6b22</td>\n",
       "      <td>6895a59b470d8feee0f39da6c53a92e5</td>\n",
       "      <td>B00001WRSJ</td>\n",
       "      <td>My sister's Bose headphones finally died and s...</td>\n",
       "      <td>How is the audio bass?</td>\n",
       "      <td>[the best of all of them]</td>\n",
       "      <td>[1609]</td>\n",
       "      <td>[1]</td>\n",
       "      <td>[0.3]</td>\n",
       "      <td>[False]</td>\n",
       "      <td>440</td>\n",
       "    </tr>\n",
       "    <tr>\n",
       "      <th>4</th>\n",
       "      <td>electronics</td>\n",
       "      <td>perfect</td>\n",
       "      <td>bass</td>\n",
       "      <td>incredible</td>\n",
       "      <td>sound</td>\n",
       "      <td>16506b53e2d4c2b6a65881d9462256c2</td>\n",
       "      <td>1</td>\n",
       "      <td>0.65</td>\n",
       "      <td>True</td>\n",
       "      <td>29ccd7e690050e2951be49289e915382</td>\n",
       "      <td>7a2173c502da97c5bd5950eae7cd7430</td>\n",
       "      <td>B00001WRSJ</td>\n",
       "      <td>Wow. Just wow. I'm a 22 yr old with a crazy ob...</td>\n",
       "      <td>Why do I have an incredible sound?</td>\n",
       "      <td>[The sound is so crisp, crazy obsession with s...</td>\n",
       "      <td>[141, 38]</td>\n",
       "      <td>[1, 1]</td>\n",
       "      <td>[0.40833333, 0.40833333]</td>\n",
       "      <td>[False, False]</td>\n",
       "      <td>175</td>\n",
       "    </tr>\n",
       "    <tr>\n",
       "      <th>...</th>\n",
       "      <td>...</td>\n",
       "      <td>...</td>\n",
       "      <td>...</td>\n",
       "      <td>...</td>\n",
       "      <td>...</td>\n",
       "      <td>...</td>\n",
       "      <td>...</td>\n",
       "      <td>...</td>\n",
       "      <td>...</td>\n",
       "      <td>...</td>\n",
       "      <td>...</td>\n",
       "      <td>...</td>\n",
       "      <td>...</td>\n",
       "      <td>...</td>\n",
       "      <td>...</td>\n",
       "      <td>...</td>\n",
       "      <td>...</td>\n",
       "      <td>...</td>\n",
       "      <td>...</td>\n",
       "      <td>...</td>\n",
       "    </tr>\n",
       "    <tr>\n",
       "      <th>1290</th>\n",
       "      <td>electronics</td>\n",
       "      <td>great</td>\n",
       "      <td>impression</td>\n",
       "      <td>rubbery</td>\n",
       "      <td>feel</td>\n",
       "      <td>d4409d6272a7d1d5aa287d6e164bb7d0</td>\n",
       "      <td>1</td>\n",
       "      <td>0.00</td>\n",
       "      <td>False</td>\n",
       "      <td>ebaaec25661c0b21f3e5600a1ed7e30b</td>\n",
       "      <td>e0ea72e711324b5482ec1b36a48f16ee</td>\n",
       "      <td>B00H3OYSHW</td>\n",
       "      <td>I ordered my new NewTrend Airbender Pro NT610K...</td>\n",
       "      <td>Where can I feel my device?</td>\n",
       "      <td>[]</td>\n",
       "      <td>[]</td>\n",
       "      <td>[]</td>\n",
       "      <td>[]</td>\n",
       "      <td>[]</td>\n",
       "      <td>727</td>\n",
       "    </tr>\n",
       "    <tr>\n",
       "      <th>1291</th>\n",
       "      <td>electronics</td>\n",
       "      <td>tight</td>\n",
       "      <td>case</td>\n",
       "      <td>great</td>\n",
       "      <td>protection</td>\n",
       "      <td>ed6533390fe2fe0d546b69dea570c34b</td>\n",
       "      <td>5</td>\n",
       "      <td>0.00</td>\n",
       "      <td>False</td>\n",
       "      <td>ebaaec25661c0b21f3e5600a1ed7e30b</td>\n",
       "      <td>ee5906ed3306b7c6d219a40adae2c7c2</td>\n",
       "      <td>B00H3OYSHW</td>\n",
       "      <td>I ordered my new NewTrend Airbender Pro NT610K...</td>\n",
       "      <td>How does the selector protection  me?</td>\n",
       "      <td>[]</td>\n",
       "      <td>[]</td>\n",
       "      <td>[]</td>\n",
       "      <td>[]</td>\n",
       "      <td>[]</td>\n",
       "      <td>727</td>\n",
       "    </tr>\n",
       "    <tr>\n",
       "      <th>1292</th>\n",
       "      <td>electronics</td>\n",
       "      <td>good</td>\n",
       "      <td>texture</td>\n",
       "      <td>good</td>\n",
       "      <td>grip</td>\n",
       "      <td>22b23446daf9d5bc0140be7278b220ee</td>\n",
       "      <td>1</td>\n",
       "      <td>0.00</td>\n",
       "      <td>False</td>\n",
       "      <td>84efbd9643d7f43af0ea0d2468c7dcc9</td>\n",
       "      <td>a541ffd9697ebf0ad9d226428594128e</td>\n",
       "      <td>B00HNGB1YS</td>\n",
       "      <td>After using this case for a few days, I have g...</td>\n",
       "      <td>How is the grip?</td>\n",
       "      <td>[]</td>\n",
       "      <td>[]</td>\n",
       "      <td>[]</td>\n",
       "      <td>[]</td>\n",
       "      <td>[]</td>\n",
       "      <td>443</td>\n",
       "    </tr>\n",
       "    <tr>\n",
       "      <th>1293</th>\n",
       "      <td>electronics</td>\n",
       "      <td>easy to use</td>\n",
       "      <td>keyboard</td>\n",
       "      <td>removable</td>\n",
       "      <td>keyboard</td>\n",
       "      <td>e7967ad5be0658b4acfca1118f6af1ab</td>\n",
       "      <td>1</td>\n",
       "      <td>0.00</td>\n",
       "      <td>False</td>\n",
       "      <td>e856d7e5351e3385b5d75f06562e905b</td>\n",
       "      <td>7efc5e7ffaa79f53cc50f76a44f9f88e</td>\n",
       "      <td>B00HPM1G8Q</td>\n",
       "      <td>Edit 4/21/14. I finally caved and purchased a ...</td>\n",
       "      <td>How is the keyboard?</td>\n",
       "      <td>[the keyboard is very easy to use, the keyboar...</td>\n",
       "      <td>[258, 258]</td>\n",
       "      <td>[1, 1]</td>\n",
       "      <td>[1.0, 1.0]</td>\n",
       "      <td>[True, True]</td>\n",
       "      <td>511</td>\n",
       "    </tr>\n",
       "    <tr>\n",
       "      <th>1294</th>\n",
       "      <td>electronics</td>\n",
       "      <td>easy to use</td>\n",
       "      <td>keyboard</td>\n",
       "      <td>removable</td>\n",
       "      <td>keyboard</td>\n",
       "      <td>e7967ad5be0658b4acfca1118f6af1ab</td>\n",
       "      <td>1</td>\n",
       "      <td>0.00</td>\n",
       "      <td>False</td>\n",
       "      <td>57fa25acee9914487510f4a8ee37bca6</td>\n",
       "      <td>4bfdd55cb76def0cbae0e0df5e7a14b6</td>\n",
       "      <td>B00HPM1G8Q</td>\n",
       "      <td>The Belkin QODE Portable Bluetooth Keyboard Ca...</td>\n",
       "      <td>How is the keyboard?</td>\n",
       "      <td>[is easy to use and works great]</td>\n",
       "      <td>[541]</td>\n",
       "      <td>[1]</td>\n",
       "      <td>[0.7916667]</td>\n",
       "      <td>[True]</td>\n",
       "      <td>147</td>\n",
       "    </tr>\n",
       "  </tbody>\n",
       "</table>\n",
       "<p>1295 rows × 20 columns</p>\n",
       "</div>"
      ],
      "text/plain": [
       "           domain       nn_mod         nn_asp   query_mod   query_asp  \\\n",
       "0     electronics        great  bass response   excellent        bass   \n",
       "1     electronics        harsh           high  not strong        bass   \n",
       "2     electronics      neutral          sound     present        bass   \n",
       "3     electronics        muddy           bass     awesome        bass   \n",
       "4     electronics      perfect           bass  incredible       sound   \n",
       "...           ...          ...            ...         ...         ...   \n",
       "1290  electronics        great     impression     rubbery        feel   \n",
       "1291  electronics        tight           case       great  protection   \n",
       "1292  electronics         good        texture        good        grip   \n",
       "1293  electronics  easy to use       keyboard   removable    keyboard   \n",
       "1294  electronics  easy to use       keyboard   removable    keyboard   \n",
       "\n",
       "                          q_reviews_id  question_subj_level  ques_subj_score  \\\n",
       "0     0514ee34b672623dff659334a25b599b                    5             0.50   \n",
       "1     7c46670208f7bf5497480fbdbb44561a                    1             0.50   \n",
       "2     8fbf26792c438aa83178c2d507af5d77                    1             0.50   \n",
       "3     9876fd06ed8f075fcad70d1e30e7e8be                    1             0.50   \n",
       "4     16506b53e2d4c2b6a65881d9462256c2                    1             0.65   \n",
       "...                                ...                  ...              ...   \n",
       "1290  d4409d6272a7d1d5aa287d6e164bb7d0                    1             0.00   \n",
       "1291  ed6533390fe2fe0d546b69dea570c34b                    5             0.00   \n",
       "1292  22b23446daf9d5bc0140be7278b220ee                    1             0.00   \n",
       "1293  e7967ad5be0658b4acfca1118f6af1ab                    1             0.00   \n",
       "1294  e7967ad5be0658b4acfca1118f6af1ab                    1             0.00   \n",
       "\n",
       "      is_ques_subjective                         review_id  \\\n",
       "0                  False  882b1e2745a4779c8f17b3d4406b91c7   \n",
       "1                  False  ce76793f036494eabe07b33a9a67288a   \n",
       "2                  False  d040f2713caa2aff0ce95affb40e12c2   \n",
       "3                  False  043e7162df91f6ea916c790c8a6f6b22   \n",
       "4                   True  29ccd7e690050e2951be49289e915382   \n",
       "...                  ...                               ...   \n",
       "1290               False  ebaaec25661c0b21f3e5600a1ed7e30b   \n",
       "1291               False  ebaaec25661c0b21f3e5600a1ed7e30b   \n",
       "1292               False  84efbd9643d7f43af0ea0d2468c7dcc9   \n",
       "1293               False  e856d7e5351e3385b5d75f06562e905b   \n",
       "1294               False  57fa25acee9914487510f4a8ee37bca6   \n",
       "\n",
       "                                    id       title  \\\n",
       "0     2543d296da9766d8d17d040ecc781699  B00001P4ZH   \n",
       "1     d476830bf9282e2b9033e2bb44bbb995  B00001P4ZH   \n",
       "2     455575557886d6dfeea5aa19577e5de4  B00001P4ZH   \n",
       "3     6895a59b470d8feee0f39da6c53a92e5  B00001WRSJ   \n",
       "4     7a2173c502da97c5bd5950eae7cd7430  B00001WRSJ   \n",
       "...                                ...         ...   \n",
       "1290  e0ea72e711324b5482ec1b36a48f16ee  B00H3OYSHW   \n",
       "1291  ee5906ed3306b7c6d219a40adae2c7c2  B00H3OYSHW   \n",
       "1292  a541ffd9697ebf0ad9d226428594128e  B00HNGB1YS   \n",
       "1293  7efc5e7ffaa79f53cc50f76a44f9f88e  B00HPM1G8Q   \n",
       "1294  4bfdd55cb76def0cbae0e0df5e7a14b6  B00HPM1G8Q   \n",
       "\n",
       "                                                context  \\\n",
       "0     I have had Koss headphones in the past, Pro 4A...   \n",
       "1     To anyone who hasn't tried all the various typ...   \n",
       "2     I have had many sub-$100 headphones from $5 Pa...   \n",
       "3     My sister's Bose headphones finally died and s...   \n",
       "4     Wow. Just wow. I'm a 22 yr old with a crazy ob...   \n",
       "...                                                 ...   \n",
       "1290  I ordered my new NewTrend Airbender Pro NT610K...   \n",
       "1291  I ordered my new NewTrend Airbender Pro NT610K...   \n",
       "1292  After using this case for a few days, I have g...   \n",
       "1293  Edit 4/21/14. I finally caved and purchased a ...   \n",
       "1294  The Belkin QODE Portable Bluetooth Keyboard Ca...   \n",
       "\n",
       "                                   question  \\\n",
       "0                          How is the bass?   \n",
       "1       Is this music song have a goo bass?   \n",
       "2                          How is the bass?   \n",
       "3                    How is the audio bass?   \n",
       "4        Why do I have an incredible sound?   \n",
       "...                                     ...   \n",
       "1290            Where can I feel my device?   \n",
       "1291  How does the selector protection  me?   \n",
       "1292                       How is the grip?   \n",
       "1293                   How is the keyboard?   \n",
       "1294                   How is the keyboard?   \n",
       "\n",
       "                                           answers.text answers.answer_start  \\\n",
       "0                                                    []                   []   \n",
       "1     [Bass is weak as expected, Bass is weak as exp...         [1302, 1302]   \n",
       "2             [The only fault in the sound is the bass]                [650]   \n",
       "3                             [the best of all of them]               [1609]   \n",
       "4     [The sound is so crisp, crazy obsession with s...            [141, 38]   \n",
       "...                                                 ...                  ...   \n",
       "1290                                                 []                   []   \n",
       "1291                                                 []                   []   \n",
       "1292                                                 []                   []   \n",
       "1293  [the keyboard is very easy to use, the keyboar...           [258, 258]   \n",
       "1294                   [is easy to use and works great]                [541]   \n",
       "\n",
       "     answers.answer_subj_level    answers.ans_subj_score  \\\n",
       "0                           []                        []   \n",
       "1                       [1, 1]    [0.5083333, 0.5083333]   \n",
       "2                          [2]               [0.6333333]   \n",
       "3                          [1]                     [0.3]   \n",
       "4                       [1, 1]  [0.40833333, 0.40833333]   \n",
       "...                        ...                       ...   \n",
       "1290                        []                        []   \n",
       "1291                        []                        []   \n",
       "1292                        []                        []   \n",
       "1293                    [1, 1]                [1.0, 1.0]   \n",
       "1294                       [1]               [0.7916667]   \n",
       "\n",
       "     answers.is_ans_subjective  n_tokens  \n",
       "0                           []       155  \n",
       "1                 [True, True]       537  \n",
       "2                       [True]       534  \n",
       "3                      [False]       440  \n",
       "4               [False, False]       175  \n",
       "...                        ...       ...  \n",
       "1290                        []       727  \n",
       "1291                        []       727  \n",
       "1292                        []       443  \n",
       "1293              [True, True]       511  \n",
       "1294                    [True]       147  \n",
       "\n",
       "[1295 rows x 20 columns]"
      ]
     },
     "execution_count": 45,
     "metadata": {},
     "output_type": "execute_result"
    }
   ],
   "source": [
    "dfs[\"train\"]"
   ]
  },
  {
   "cell_type": "code",
   "execution_count": 46,
   "metadata": {},
   "outputs": [
    {
     "name": "stdout",
     "output_type": "stream",
     "text": [
      "Loaded 1615 documents\n"
     ]
    }
   ],
   "source": [
    "for split, df in dfs.items():\n",
    "    docs = [\n",
    "        {\n",
    "            \"content\": row[\"context\"],\n",
    "            \"id\": row[\"review_id\"],\n",
    "            \"meta\": {\n",
    "                \"item_id\": row[\"title\"],\n",
    "                \"question_id\": row[\"id\"],\n",
    "                \"split\": split\n",
    "            }\n",
    "        }\n",
    "        for _, row in df.drop_duplicates(subset=\"context\").iterrows()\n",
    "    ]\n",
    "    document_store.write_documents(\n",
    "        documents=docs, index=\"document\"\n",
    "    )\n",
    "\n",
    "print(f\"Loaded {document_store.get_document_count()} documents\")"
   ]
  },
  {
   "cell_type": "markdown",
   "metadata": {},
   "source": [
    "Nice!, all reviews are loaded into the index. To search we need a retriever, let's initialize one for elasticsearch."
   ]
  },
  {
   "cell_type": "markdown",
   "metadata": {},
   "source": [
    "### Initializing a retriever\n",
    "\n",
    "The ElasticSearch document store can be paired with any of t he Haystack retrievers. Let's start with BM25. BM25 represents question and context as sparse vectores that can be searched on ElasticSearch. BM25 is an improved version of TF-IDF, it accomodates for longer documents with a normalization paramter for document length. It improves on TF-IDF by saturating TF values quickly and normalizing the document length so that short documents are favored over long ones.\n",
    "\n",
    "BM25 retriever is used by default in `ElasticSearchRetriever`."
   ]
  },
  {
   "cell_type": "code",
   "execution_count": 47,
   "metadata": {},
   "outputs": [],
   "source": [
    "from haystack.nodes.retriever import BM25Retriever\n",
    "\n",
    "bm25_retriever = BM25Retriever(document_store=document_store)"
   ]
  },
  {
   "cell_type": "markdown",
   "metadata": {},
   "source": [
    "Since our's is a review based QA, let's restrict the retriever to look at products(item_id) for a specific ASIN. We can decipher the ASIN using *www.amazon.com/dp/*. Oterwise for a query regarding laptop camera, we'll get answers from mobile camera etc."
   ]
  },
  {
   "cell_type": "code",
   "execution_count": 48,
   "metadata": {},
   "outputs": [],
   "source": [
    "\n",
    "\n",
    "\n",
    "item_id = \"B0074BW614\"\n",
    "query = \"Is it good for reading\"\n",
    "retrieved_docs = bm25_retriever.retrieve(\n",
    "    query=query,\n",
    "    top_k=3,\n",
    "    filters={\n",
    "        \"item_id\":[item_id],\n",
    "        \"split\": [\"train\"],\n",
    "    }\n",
    ")"
   ]
  },
  {
   "cell_type": "markdown",
   "metadata": {},
   "source": [
    "In retriever we've specified `top_k` to return the top_k results, split and item_id to fetch documents with those meta keys alone. Retriever returns a `Document` object for all the retuned documetns, which has the retriever score along with other metadata."
   ]
  },
  {
   "cell_type": "code",
   "execution_count": 49,
   "metadata": {},
   "outputs": [
    {
     "data": {
      "text/plain": [
       "{'content': 'This is a gift to myself.  I have been a kindle user for 4 years and this is my third one.  I never thought I would want a fire for I mainly use it for book reading.  I decided to try the fire for when I travel I take my laptop, my phone and my iPod classic.  I love my iPod but watching movies on the plane with it can be challenging because it is so small. Laptops battery life is not as good as the Kindle.  So the Fire combines for me what I needed all three to do. So far so good.',\n",
       " 'content_type': 'text',\n",
       " 'score': 0.6857824513476455,\n",
       " 'meta': {'item_id': 'B0074BW614',\n",
       "  'question_id': '868e311275e26dbafe5af70774a300f3',\n",
       "  'split': 'train'},\n",
       " 'id_hash_keys': ['content'],\n",
       " 'embedding': None,\n",
       " 'id': '4a6aa9c7808ebba8d35aeecbcc3c30fe'}"
      ]
     },
     "execution_count": 49,
     "metadata": {},
     "output_type": "execute_result"
    }
   ],
   "source": [
    "retrieved_docs[0].to_dict()"
   ]
  },
  {
   "cell_type": "markdown",
   "metadata": {},
   "source": [
    "The `score` is the relevancy score computed by elastic between query and documents. Under the hood Elastic uses Lucene for searching and index, so by default it uses Lucene's *[practical scoring function](https://www.elastic.co/guide/en/elasticsearch/guide/current/practical-scoring-function.html)*.\n",
    "\n",
    "At a high level, let's say our query has two terms,\n",
    "* Retriever fetches the document if any of the two terms are present in the document\n",
    "* Then a similarity metric(BM25 right now) to represent both as vectors and calculate a score.\n",
    "\n",
    "Now we've a way to retrieve relevant documents, the next thing we need is a way to extract answers from them. This is where reader comes in, we'll load out MiniLM model in Haystack."
   ]
  },
  {
   "cell_type": "markdown",
   "metadata": {},
   "source": [
    "### Initializing a reader\n",
    "\n",
    "In Haystack there are two readers to extract answers from context:\n",
    "\n",
    "#### FARMReader\n",
    "\n",
    "Based on deepset's [FARM framework](https://farm.deepset.ai/) for fine-tuning and deploying transformers. Compatible with models trained using Transformers and can load models directly from the Hugging Face Hub\n",
    "\n",
    "#### TransformersReader\n",
    "\n",
    "Based on the QA pipeline from Transformers suitable for running inference only.\n",
    "\n",
    "#### FARMReader vs TransformerReader\n",
    "\n",
    "The handling of weights are same in the readers, but there are some differences listed below,\n",
    "\n",
    "* `TransformersReader` normalizer answers from a passage using softmax. After normalization comparing scores of answers from different passages doesn't make sense, as normalization is done based on answers in a single passage and comparison becomes irrelevant. FARM doesn't normalize the logits and inter-passage answers can be compared more easily.\n",
    "* `TransformersReader` predicts same answers twice with different scores, when answer lies in two overlapping windows in a long context. In FARM these duplicates are removed.\n",
    "\n",
    "Since we'll be fine-tuning the reader later, we'll use the `FARMReader`. As with transformers we just need to specify the MiniLM checkpoint with some QA-specific arguments to initalize the reader with FARM."
   ]
  },
  {
   "cell_type": "code",
   "execution_count": 50,
   "metadata": {},
   "outputs": [
    {
     "name": "stderr",
     "output_type": "stream",
     "text": [
      "Some weights of the model checkpoint at deepset/minilm-uncased-squad2 were not used when initializing BertForQuestionAnswering: ['bert.pooler.dense.bias', 'bert.pooler.dense.weight']\n",
      "- This IS expected if you are initializing BertForQuestionAnswering from the checkpoint of a model trained on another task or with another architecture (e.g. initializing a BertForSequenceClassification model from a BertForPreTraining model).\n",
      "- This IS NOT expected if you are initializing BertForQuestionAnswering from the checkpoint of a model that you expect to be exactly identical (initializing a BertForSequenceClassification model from a BertForSequenceClassification model).\n"
     ]
    }
   ],
   "source": [
    "from haystack.nodes import FARMReader\n",
    "\n",
    "model_ckpt = \"deepset/minilm-uncased-squad2\"\n",
    "max_seq_length, doc_stride = 348, 128\n",
    "reader = FARMReader(\n",
    "    model_name_or_path=model_ckpt,\n",
    "    progress_bar=False,\n",
    "    max_seq_len=max_seq_length,\n",
    "    doc_stride=doc_stride,\n",
    "    return_no_answer=True\n",
    ")"
   ]
  },
  {
   "cell_type": "markdown",
   "metadata": {},
   "source": [
    "> **Note:** It is also possible to fine-tune a reading comprehsension model directly in Transformers and then load it in `TransformersReader` to run inference. [Notebook from hugging face on the same](https://github.com/huggingface/notebooks/blob/main/examples/question_answering.ipynb)\n",
    "\n",
    "The FARM reader also uses the same parameters as tokenizer to control the slidign window to deal with long contexts."
   ]
  },
  {
   "cell_type": "code",
   "execution_count": 51,
   "metadata": {},
   "outputs": [
    {
     "data": {
      "text/plain": [
       "('How much music can this hold?',\n",
       " 'An MP3 is about 1 MB/minute, so about 6000 hours depending on file size.')"
      ]
     },
     "execution_count": 51,
     "metadata": {},
     "output_type": "execute_result"
    }
   ],
   "source": [
    "question, context"
   ]
  },
  {
   "cell_type": "code",
   "execution_count": 52,
   "metadata": {},
   "outputs": [
    {
     "data": {
      "text/plain": [
       "{'query': 'How much music can this hold?',\n",
       " 'no_ans_gap': 12.648077011108398,\n",
       " 'answers': [<Answer {'answer': '6000 hours', 'type': 'extractive', 'score': 0.5294051170349121, 'context': 'An MP3 is about 1 MB/minute, so about 6000 hours depending on file size.', 'offsets_in_document': [{'start': 38, 'end': 48}], 'offsets_in_context': [{'start': 38, 'end': 48}], 'document_ids': ['e344757014e804eff50faa3ecf1c9c75'], 'meta': {}}>]}"
      ]
     },
     "execution_count": 52,
     "metadata": {},
     "output_type": "execute_result"
    }
   ],
   "source": [
    "reader.predict_on_texts(\n",
    "        question=question,\n",
    "        texts=[context],\n",
    "        top_k=1\n",
    "    )"
   ]
  },
  {
   "cell_type": "markdown",
   "metadata": {},
   "source": [
    "### Putting it all \n",
    "\n",
    "Haystack provides a `Pipeline` abstraction that allows us to combine retrievers, readers and other components together as a graph that can be easily customized for each use case. There are also predefined pipelines analogous to those in Transformers, but specialized for QA systems. In out case let's use `ExtractiveQAPipeline`, which takes a single retriever-reader pair as its arguments."
   ]
  },
  {
   "cell_type": "code",
   "execution_count": 53,
   "metadata": {},
   "outputs": [
    {
     "data": {
      "text/plain": [
       "<haystack.pipelines.standard_pipelines.ExtractiveQAPipeline at 0x7fa468b8adf0>"
      ]
     },
     "execution_count": 53,
     "metadata": {},
     "output_type": "execute_result"
    }
   ],
   "source": [
    "from haystack.pipelines import ExtractiveQAPipeline\n",
    "\n",
    "pipe = ExtractiveQAPipeline(\n",
    "    reader=reader,\n",
    "    retriever=bm25_retriever,\n",
    ")\n",
    "pipe"
   ]
  },
  {
   "cell_type": "markdown",
   "metadata": {},
   "source": [
    "Each `Pipeline` has a `run()` method that specifies how thq query flow should be executed. For the `ExtractiveQAPipeline` requires below inputs:\n",
    "\n",
    "* query\n",
    "* top_k_retriever -> number of documents to retrieve\n",
    "* top_k_reader -> number of answers to extract from these documents\n",
    "* In our case, we'll pass filter with item_id and split to reduce the document subset to be usedf by retriever."
   ]
  },
  {
   "cell_type": "code",
   "execution_count": 54,
   "metadata": {},
   "outputs": [],
   "source": [
    "n_answers = 3\n",
    "preds = pipe.run(\n",
    "    query=query,\n",
    "    params={\n",
    "        \"Retriever\": {\n",
    "            \"top_k\": 3,\n",
    "            \"filters\": {\n",
    "                \"item_id\": [item_id],\n",
    "                \"split\": [\"train\"]\n",
    "            }\n",
    "        },\n",
    "        \"Reader\": {\n",
    "            \"top_k\": n_answers\n",
    "            }\n",
    "        }\n",
    ")"
   ]
  },
  {
   "cell_type": "code",
   "execution_count": 55,
   "metadata": {},
   "outputs": [
    {
     "data": {
      "text/plain": [
       "{'query': 'Is it good for reading',\n",
       " 'no_ans_gap': 12.226753741502762,\n",
       " 'answers': [<Answer {'answer': 'the larger screen compared to the Kindle makes for easier reading', 'type': 'extractive', 'score': 0.5979568958282471, 'context': 'ght enough that I can hold it to read, but the larger screen compared to the Kindle makes for easier reading. I love the color, something I never thou', 'offsets_in_document': [{'start': 588, 'end': 653}], 'offsets_in_context': [{'start': 43, 'end': 108}], 'document_ids': ['bc66bba4cf786e1433c105542f2189c8'], 'meta': {'item_id': 'B0074BW614', 'question_id': '3ecfc76edee933ba1f202069b4fe7847', 'split': 'train'}}>,\n",
       "  <Answer {'answer': 'it is great for reading books when no light is available', 'type': 'extractive', 'score': 0.5067664384841919, 'context': 'ecoming addicted to hers! Our son LOVES it and it is great for reading books when no light is available. Amazing sound but I suggest good headphones t', 'offsets_in_document': [{'start': 216, 'end': 272}], 'offsets_in_context': [{'start': 47, 'end': 103}], 'document_ids': ['f5bbb8a851b2f7561480854168996978'], 'meta': {'item_id': 'B0074BW614', 'question_id': '998d564607f10bf6dbbd20b33b8fbbf1', 'split': 'train'}}>,\n",
       "  <Answer {'answer': '', 'type': 'extractive', 'score': 0.50323921287475, 'context': None, 'offsets_in_document': [{'start': 0, 'end': 0}], 'offsets_in_context': [{'start': 0, 'end': 0}], 'document_ids': None, 'meta': {}}>],\n",
       " 'documents': [<Document: {'content': 'This is a gift to myself.  I have been a kindle user for 4 years and this is my third one.  I never thought I would want a fire for I mainly use it for book reading.  I decided to try the fire for when I travel I take my laptop, my phone and my iPod classic.  I love my iPod but watching movies on the plane with it can be challenging because it is so small. Laptops battery life is not as good as the Kindle.  So the Fire combines for me what I needed all three to do. So far so good.', 'content_type': 'text', 'score': 0.6857824513476455, 'meta': {'item_id': 'B0074BW614', 'question_id': '868e311275e26dbafe5af70774a300f3', 'split': 'train'}, 'id_hash_keys': ['content'], 'embedding': None, 'id': '4a6aa9c7808ebba8d35aeecbcc3c30fe'}>,\n",
       "  <Document: {'content': 'Plays Netflix great, WiFi capability has great range. Resolution on the screen is AMAZING! For the price you cannot go wrong. Bought one for my spouse and myself after becoming addicted to hers! Our son LOVES it and it is great for reading books when no light is available. Amazing sound but I suggest good headphones to really hear it all.Battery life is super long and can go 3 or 4 days without a recharge from moderate use.A steal at $199.99.', 'content_type': 'text', 'score': 0.6846554055365114, 'meta': {'item_id': 'B0074BW614', 'question_id': '998d564607f10bf6dbbd20b33b8fbbf1', 'split': 'train'}, 'id_hash_keys': ['content'], 'embedding': None, 'id': 'f5bbb8a851b2f7561480854168996978'}>,\n",
       "  <Document: {'content': 'I\\'ve used an e-reader since the Rocket ebook in 1999, and I\\'ve always believed I wanted only an ebook reader with no other features. I don\\'t get out much, so my computer is convenient for everything else.I\\'ve had several Kindles and was happy with all of them, but I had recently played around with my brother\\'s tablet. When my last Kindle died, I decided to replace it with the Kindle Fire. I chose the smaller one because I was concerned about my arthritic hands holding a larger device for long periods. The 7\" is just perfect for me. It\\'s light enough that I can hold it to read, but the larger screen compared to the Kindle makes for easier reading. I love the color, something I never thought would make a difference to me.Oddly enough, high on my favorite list is the ability to review a book as soon as I reach the end. I have written reviews of every book I read on a readers social media site, but I have seldom put in the extra effort to come to Amazon to write a review. On the Kindle Fire, as soon as I come to the end of a book, a review page pops up so I can review it while it\\'s fresh on my mind, and I\\'m reviewing everything I read.I didn\\'t realize when I placed my order that I was ordering that the device had special offers. I\\'ve always thought I would not want to be subject to advertising when I was reading. However, I discovered that the special offers are discreet and no distraction at all. I\\'ve even found myself going to the special offers page a time or two to see what\\'s on offer.The only negative is that the battery doesn\\'t last very long. However, with the PowerFast charger, it doesn\\'t take long to charge the battery.I think folks like me who have always used a dedicated ereader and never even used a touch screen will be pleasantly surprised with the Kindle Fire, and people who are used to smartphones and tablets will find everything they expect in a device.Update 11/8/13: I still think the Kindle Fire is a fantastic product, and I use it occasionally for games. However, I have gone back to my Kindle Keyboard for reading novels. The arthritis in my shoulders, elbows, and hands has  worsened since I\\'ve been using the Kindle Fire, and even using the device for a short while increases the pain significantly. I can tolerate it for short periods to play a few games. However, I simply can\\'t hold the Kindle Fire long enough for reading. This won\\'t be an issue for most people, but I wanted to mention it for those people who might have similar problems.', 'content_type': 'text', 'score': 0.6578420310105324, 'meta': {'item_id': 'B0074BW614', 'question_id': '3ecfc76edee933ba1f202069b4fe7847', 'split': 'train'}, 'id_hash_keys': ['content'], 'embedding': None, 'id': 'bc66bba4cf786e1433c105542f2189c8'}>],\n",
       " 'root_node': 'Query',\n",
       " 'params': {'Retriever': {'top_k': 3,\n",
       "   'filters': {'item_id': ['B0074BW614'], 'split': ['train']}},\n",
       "  'Reader': {'top_k': 3}},\n",
       " 'node_id': 'Reader'}"
      ]
     },
     "execution_count": 55,
     "metadata": {},
     "output_type": "execute_result"
    }
   ],
   "source": [
    "preds"
   ]
  },
  {
   "cell_type": "code",
   "execution_count": 56,
   "metadata": {},
   "outputs": [
    {
     "data": {
      "text/plain": [
       "dict_keys(['query', 'no_ans_gap', 'answers', 'documents', 'root_node', 'params', 'node_id'])"
      ]
     },
     "execution_count": 56,
     "metadata": {},
     "output_type": "execute_result"
    }
   ],
   "source": [
    "preds.keys()"
   ]
  },
  {
   "cell_type": "code",
   "execution_count": 57,
   "metadata": {},
   "outputs": [
    {
     "data": {
      "text/plain": [
       "[<Answer {'answer': 'the larger screen compared to the Kindle makes for easier reading', 'type': 'extractive', 'score': 0.5979568958282471, 'context': 'ght enough that I can hold it to read, but the larger screen compared to the Kindle makes for easier reading. I love the color, something I never thou', 'offsets_in_document': [{'start': 588, 'end': 653}], 'offsets_in_context': [{'start': 43, 'end': 108}], 'document_ids': ['bc66bba4cf786e1433c105542f2189c8'], 'meta': {'item_id': 'B0074BW614', 'question_id': '3ecfc76edee933ba1f202069b4fe7847', 'split': 'train'}}>,\n",
       " <Answer {'answer': 'it is great for reading books when no light is available', 'type': 'extractive', 'score': 0.5067664384841919, 'context': 'ecoming addicted to hers! Our son LOVES it and it is great for reading books when no light is available. Amazing sound but I suggest good headphones t', 'offsets_in_document': [{'start': 216, 'end': 272}], 'offsets_in_context': [{'start': 47, 'end': 103}], 'document_ids': ['f5bbb8a851b2f7561480854168996978'], 'meta': {'item_id': 'B0074BW614', 'question_id': '998d564607f10bf6dbbd20b33b8fbbf1', 'split': 'train'}}>,\n",
       " <Answer {'answer': '', 'type': 'extractive', 'score': 0.50323921287475, 'context': None, 'offsets_in_document': [{'start': 0, 'end': 0}], 'offsets_in_context': [{'start': 0, 'end': 0}], 'document_ids': None, 'meta': {}}>]"
      ]
     },
     "execution_count": 57,
     "metadata": {},
     "output_type": "execute_result"
    }
   ],
   "source": [
    "preds[\"answers\"]"
   ]
  },
  {
   "cell_type": "code",
   "execution_count": 58,
   "metadata": {},
   "outputs": [
    {
     "data": {
      "text/plain": [
       "{'answer': 'the larger screen compared to the Kindle makes for easier reading',\n",
       " 'type': 'extractive',\n",
       " 'score': 0.5979568958282471,\n",
       " 'context': 'ght enough that I can hold it to read, but the larger screen compared to the Kindle makes for easier reading. I love the color, something I never thou',\n",
       " 'offsets_in_document': [{'start': 588, 'end': 653}],\n",
       " 'offsets_in_context': [{'start': 43, 'end': 108}],\n",
       " 'document_ids': ['bc66bba4cf786e1433c105542f2189c8'],\n",
       " 'meta': {'item_id': 'B0074BW614',\n",
       "  'question_id': '3ecfc76edee933ba1f202069b4fe7847',\n",
       "  'split': 'train'}}"
      ]
     },
     "execution_count": 58,
     "metadata": {},
     "output_type": "execute_result"
    }
   ],
   "source": [
    "preds[\"answers\"][0].to_dict()"
   ]
  },
  {
   "cell_type": "markdown",
   "metadata": {},
   "source": [
    "We've lot's of information returned from pipeline, we'll focus on the answers key. `answers` key is a list of `Answer` object where each of the answer object has all the information in above cell."
   ]
  },
  {
   "cell_type": "code",
   "execution_count": 74,
   "metadata": {},
   "outputs": [
    {
     "name": "stdout",
     "output_type": "stream",
     "text": [
      "Question: Is it good for reading \n",
      "\n",
      "Answer 1: the larger screen compared to the Kindle makes for easier reading\n",
      "Context 1: ght enough that I can hold it to read, but the larger screen compared to the Kindle makes for easier reading. I love the color, something I never thou\n",
      "\n",
      "\n",
      "\n",
      "Answer 2: it is great for reading books when no light is available\n",
      "Context 2: ecoming addicted to hers! Our son LOVES it and it is great for reading books when no light is available. Amazing sound but I suggest good headphones t\n",
      "\n",
      "\n",
      "\n",
      "Answer 3: \n",
      "Context 3: None\n",
      "\n",
      "\n",
      "\n"
     ]
    }
   ],
   "source": [
    "print(f\"Question: {query} \\n\")\n",
    "\n",
    "for idx in range(n_answers):\n",
    "    print(f\"Answer {idx+1}: {preds['answers'][idx].answer}\")\n",
    "    print(f\"Context {idx+1}: {preds['answers'][idx].context}\")\n",
    "    print(\"\\n\\n\")\n"
   ]
  },
  {
   "cell_type": "markdown",
   "metadata": {},
   "source": [
    "Great, we now have an end-to-end QA system for Amazon product reviews. But the second answer is close to the question. We need some metrics to quantify the performance of the retriever and reader."
   ]
  },
  {
   "cell_type": "markdown",
   "metadata": {},
   "source": [
    "## Improving QA Pipeline\n",
    "\n",
    "Irrespective of recent research on QA has focused on readin comprehnsion models, the performance of QA will be bad if the retriever can't find the relevant documents for the query. Retriever set's an upper bound on the performance of reader(reading comprehension models). With this in mind let's look at some common metrics to evaluate the retriever so that we can compare the performance of sparse and dense representations.\n",
    "\n",
    "### Evaluating the Retriever\n",
    "\n",
    "A common metric for evaluating the retriever is *recall*, which measure the fraction of all relevant documents that can be retrieved. Here relevant mean the number of top_k documents retrieved has the answer in them. This can be computed by counting the number of times an answer occurs in the top_k documents.\n",
    "\n",
    "10 top_k documents, answer appers in 8 of them, recall will be 80%.\n",
    "\n",
    "In Haystackm there are two ways to evaluate retrievers:\n",
    "\n",
    "* Retrievers built in `eval()` method. This can be used for both open and closed-domain QA. But for dataset like QA where each document is paired with a product and needs to be filterd by Product id for every query."
   ]
  },
  {
   "cell_type": "markdown",
   "metadata": {},
   "source": [
    "> **Note:** A complementay metric to recall is *mean average precision (mAP), which rewards retrievers that can place the correct answers higher up in the document ranking."
   ]
  },
  {
   "cell_type": "code",
   "execution_count": 75,
   "metadata": {},
   "outputs": [],
   "source": [
    "# Evaluating the retriever is the same as evaluating a `DocumentSearchPipeline`, which consists of a single node, a retriever\n",
    "from haystack.pipelines import DocumentSearchPipeline\n",
    "pipe = DocumentSearchPipeline(\n",
    "    retriever=bm25_retriever # Sparse retrievers\n",
    ")"
   ]
  },
  {
   "cell_type": "code",
   "execution_count": 76,
   "metadata": {},
   "outputs": [
    {
     "name": "stdout",
     "output_type": "stream",
     "text": [
      "farm-haystack                1.21.0rc0    /Users/jayaprakashsivagami/Documents/Tech/ML/nlp-with-hugging-face/haystack\n"
     ]
    }
   ],
   "source": [
    "!pip list | grep haystack"
   ]
  },
  {
   "cell_type": "markdown",
   "metadata": {},
   "source": [
    "We already have our documents in elastic, next to evaluate the retriever, we'fe to pass queries and their corresponding answer. Answers are labels.\n",
    "\n",
    "Next, we're gonna add Labels to the document_store. Since 1.0 version of haystack, `Label` has become a class that contatins a `Document` that the `label` refers to. Let's initialize the labels and add them to the `labels index`."
   ]
  },
  {
   "cell_type": "code",
   "execution_count": 77,
   "metadata": {},
   "outputs": [],
   "source": [
    "from haystack import Label, Answer, Document\n",
    "\n",
    "labels = []\n",
    "\n",
    "for i, row in dfs[\"test\"].iterrows():\n",
    "    # Metadta used for filtering in the retriever\n",
    "    meta = {\n",
    "        \"item_id\": row[\"title\"],\n",
    "        \"question_id\": row['id'],\n",
    "    }\n",
    "\n",
    "    # Populate labels for questions with answers\n",
    "    if len(row['answers.text']):\n",
    "        for answer in row[\"answers.text\"]:\n",
    "            label = Label(\n",
    "                query=row[\"question\"],\n",
    "                document=Document(\n",
    "                    content=row[\"context\"]\n",
    "                ),\n",
    "                is_correct_answer=True,\n",
    "                is_correct_document=True,\n",
    "                answer=Answer(\n",
    "                    answer=answer,\n",
    "                ),\n",
    "                origin=\"gold-label\",\n",
    "                no_answer=False,\n",
    "                filters={\n",
    "                    \"item_id\": [meta['item_id']],\n",
    "                    \"split\": [\"test\"]\n",
    "                }\n",
    "            )\n",
    "            labels.append(label)\n",
    "    else:\n",
    "        label = Label(\n",
    "                query=row[\"question\"],\n",
    "                document=Document(\n",
    "                    content=row[\"context\"]\n",
    "                ),\n",
    "                is_correct_answer=True,\n",
    "                is_correct_document=True,\n",
    "                answer=Answer(\n",
    "                    answer=answer,\n",
    "                ),\n",
    "                origin=\"gold-label\",\n",
    "                no_answer=False,\n",
    "                filters={\n",
    "                    \"item_id\": [meta['item_id']],\n",
    "                    \"split\": [\"test\"]\n",
    "                }\n",
    "            )\n",
    "        labels.append(label)"
   ]
  },
  {
   "cell_type": "code",
   "execution_count": 78,
   "metadata": {},
   "outputs": [
    {
     "name": "stdout",
     "output_type": "stream",
     "text": [
      "<Label: {'id': '39644b73-956f-4ec7-9c17-daa12fd0f2b0', 'query': 'What is the tonal balance of these headphones?', 'document': {'id': 'a73f54ddc5b1fcc7f4fbf04bd564a278', 'content': \"I have been a headphone fanatic for thirty years and have owned and used a variety of headphones over those years, to include Stax SR-5, Sennheiser HD-424 and HD-580.  The Sony MDRV6 excells as the best value of any headphone that I've ever owned.  They are especially good at producing natural-sounding deep bass, and the overall octave-to-octave balance is excellent.  The sound quality is all in all comparable to other headphones that cost considerably more.The MDRV6 is especially well-suited for travel due to the collapsible design, and for noisy environments or for quiet environments such as a library where the sound emitted by open-back headphones would distract others.The MDRV6 is not quite as comfortable as some other headphones, but the comfort can be improved enormously by replacing the pads with the velour pads from BeyerDynamic.  The pads that come on the MDRV6 have a non-breathable cover, and significant additional discomfort is caused by the way that the thin foam cover is glued to the pad around the inner circumference of the pad, which prevents the top and back of your ear from slipping into the space between the pad and the face of the headphone.  This forces the pad to rest on the back of the ear, which compresses the ear and eventually becomes uncomfortable.  I read on a web forum where several people had replaced the pads (which eventually come apart) with a velour pad made by BeyerDynamic, and after I did this replacement on my one pair that had a damaged pad, the increase in comfort was so great that I immediately did the other pair.  The thin cover can be glued down to the headphone face if needed to hold it in place, which then allows the top and rear of your ear to naturally  slide under the inner circumference of the pad, which is considerably more comfortable.  I can recommend this trivial modification without reservation to anyone who owns these headphones.  Even if you don't replace the pads with the BeyerDynamic velour pads, I suggest removing the pads anyway, then carefully separating the thin cover from the pad, and glueing the cover directly to the headphone surface.\", 'content_type': 'text', 'meta': {}, 'id_hash_keys': ['content'], 'score': None, 'embedding': None}, 'is_correct_answer': True, 'is_correct_document': True, 'origin': 'gold-label', 'answer': {'answer': 'I have been a headphone fanatic for thirty years', 'type': 'extractive', 'score': None, 'context': None, 'offsets_in_document': None, 'offsets_in_context': None, 'document_ids': None, 'meta': {}}, 'pipeline_id': None, 'created_at': '2023-09-14 20:00:46', 'updated_at': None, 'meta': {}, 'filters': {'item_id': ['B00001WRSJ'], 'split': ['test']}}>\n"
     ]
    }
   ],
   "source": [
    "print(labels[0])"
   ]
  },
  {
   "cell_type": "markdown",
   "metadata": {},
   "source": [
    "We can see the question-answer pair, along with an `origin` field that contains the unique question ID so we can filter the document store per question. We've also added the product ID to the `meta` field so we can filter the labels by the product."
   ]
  },
  {
   "cell_type": "code",
   "execution_count": 79,
   "metadata": {},
   "outputs": [
    {
     "name": "stdout",
     "output_type": "stream",
     "text": [
      "\n",
      "    Loaded 455 question pairs\n",
      "\n"
     ]
    }
   ],
   "source": [
    "document_store.write_labels(labels, index=\"label\")\n",
    "print(\n",
    "    f\"\"\"\n",
    "    Loaded {document_store.get_label_count(index=\"label\")} question pairs\n",
    "\"\"\"\n",
    ")"
   ]
  },
  {
   "cell_type": "markdown",
   "metadata": {},
   "source": [
    "Next, we need to build up a mapping between our question IDs and corresponding answers that we can pass to the pipeline. To get all the labels, we can use the `get_all_labels_aggregated()` method from the document store that will aggregate all the question-answer pairs associated with a unique ID. This method returns a list of `MultiLabel` objects, but in our case we only get one elemnent since we're filtering by question ID. Let's build this."
   ]
  },
  {
   "cell_type": "code",
   "execution_count": 80,
   "metadata": {},
   "outputs": [
    {
     "name": "stdout",
     "output_type": "stream",
     "text": [
      "330\n"
     ]
    }
   ],
   "source": [
    "labels_agg = document_store.get_all_labels_aggregated(\n",
    "    index=\"label\",\n",
    "    open_domain=True,\n",
    "    aggregate_by_meta=[\"item\"]\n",
    ")\n",
    "print(len(labels_agg))"
   ]
  },
  {
   "cell_type": "code",
   "execution_count": 81,
   "metadata": {},
   "outputs": [
    {
     "data": {
      "text/plain": [
       "[{'id': '0ba5a2ce-e3ce-4902-b56d-bf8781e7a70b',\n",
       "  'query': 'How does the fan work?',\n",
       "  'document': {'id': '60a9992eb862b0a90ed516c52125b7e0',\n",
       "   'content': 'the usb on the back caused my mac to restart when i would plug something into about 50% of the time.  very annoying but the fan is really really good!',\n",
       "   'content_type': 'text',\n",
       "   'meta': {},\n",
       "   'id_hash_keys': ['content'],\n",
       "   'score': None,\n",
       "   'embedding': None},\n",
       "  'is_correct_answer': True,\n",
       "  'is_correct_document': True,\n",
       "  'origin': 'gold-label',\n",
       "  'answer': {'answer': 'the fan is really really good',\n",
       "   'type': 'extractive',\n",
       "   'score': None,\n",
       "   'context': None,\n",
       "   'offsets_in_document': None,\n",
       "   'offsets_in_context': None,\n",
       "   'document_ids': None,\n",
       "   'meta': {}},\n",
       "  'pipeline_id': None,\n",
       "  'created_at': '2023-09-14 20:00:46',\n",
       "  'updated_at': '2023-09-14 20:00:46',\n",
       "  'meta': {},\n",
       "  'filters': {'item_id': ['B002MU1ZRS'], 'split': ['test']}},\n",
       " {'id': '3bd14911-b95d-488c-905e-ceb00f2cfc82',\n",
       "  'query': 'How does the fan work?',\n",
       "  'document': {'id': '542f7ea55f2fbb20ff860de0eb4066d6',\n",
       "   'content': 'In most demanding games, my GPU will consistently soar to 90-93 degrees Celsius. I didn\\'t like seeing temps in the 90s so I figured I would pick up this Cooler Master for a shade over $20. Is it worth it? I think it is.My Sager NP8130 is 15.6\" and this cooler fits it just about perfectly - I have maybe 1\" of extra room. My laptop\\'s rubber stops on the bottom keep it anchored pretty well, and the fan itself isn\\'t super loud. There is an adjustable dial to change fan speed, but when I\\'m gaming, I generally just have it on max, and when I\\'m not gaming, I turn the cooling pad off altogether.The one thing I would make sure you do is use the little legs on the bottom of the cooling pad to prop it up an extra half inch or so. It makes a world of difference in how much more air can flow through under the pad and up to your laptop. Also, beware of using this on top of a table cloth - it seems to impede air flow as well. With the legs propping up the cooling pad, my GPU temps only hit about 84-86 degrees, but without it propped up, my GPU is still 90-91 degrees.Overall, it\\'s a small ~$20 investment to potentially increase the life of my laptop as a whole.',\n",
       "   'content_type': 'text',\n",
       "   'meta': {},\n",
       "   'id_hash_keys': ['content'],\n",
       "   'score': None,\n",
       "   'embedding': None},\n",
       "  'is_correct_answer': True,\n",
       "  'is_correct_document': True,\n",
       "  'origin': 'gold-label',\n",
       "  'answer': {'answer': 'this cooler fits it just about perfectly',\n",
       "   'type': 'extractive',\n",
       "   'score': None,\n",
       "   'context': None,\n",
       "   'offsets_in_document': None,\n",
       "   'offsets_in_context': None,\n",
       "   'document_ids': None,\n",
       "   'meta': {}},\n",
       "  'pipeline_id': None,\n",
       "  'created_at': '2023-09-14 20:00:46',\n",
       "  'updated_at': '2023-09-14 20:00:46',\n",
       "  'meta': {},\n",
       "  'filters': {'item_id': ['B002MU1ZRS'], 'split': ['test']}},\n",
       " {'id': '18123d72-2ccd-496c-9f88-27fa0c05d2c2',\n",
       "  'query': 'How does the fan work?',\n",
       "  'document': {'id': '542f7ea55f2fbb20ff860de0eb4066d6',\n",
       "   'content': 'In most demanding games, my GPU will consistently soar to 90-93 degrees Celsius. I didn\\'t like seeing temps in the 90s so I figured I would pick up this Cooler Master for a shade over $20. Is it worth it? I think it is.My Sager NP8130 is 15.6\" and this cooler fits it just about perfectly - I have maybe 1\" of extra room. My laptop\\'s rubber stops on the bottom keep it anchored pretty well, and the fan itself isn\\'t super loud. There is an adjustable dial to change fan speed, but when I\\'m gaming, I generally just have it on max, and when I\\'m not gaming, I turn the cooling pad off altogether.The one thing I would make sure you do is use the little legs on the bottom of the cooling pad to prop it up an extra half inch or so. It makes a world of difference in how much more air can flow through under the pad and up to your laptop. Also, beware of using this on top of a table cloth - it seems to impede air flow as well. With the legs propping up the cooling pad, my GPU temps only hit about 84-86 degrees, but without it propped up, my GPU is still 90-91 degrees.Overall, it\\'s a small ~$20 investment to potentially increase the life of my laptop as a whole.',\n",
       "   'content_type': 'text',\n",
       "   'meta': {},\n",
       "   'id_hash_keys': ['content'],\n",
       "   'score': None,\n",
       "   'embedding': None},\n",
       "  'is_correct_answer': True,\n",
       "  'is_correct_document': True,\n",
       "  'origin': 'gold-label',\n",
       "  'answer': {'answer': \"the fan itself isn't super loud. There is an adjustable dial to change fan speed\",\n",
       "   'type': 'extractive',\n",
       "   'score': None,\n",
       "   'context': None,\n",
       "   'offsets_in_document': None,\n",
       "   'offsets_in_context': None,\n",
       "   'document_ids': None,\n",
       "   'meta': {}},\n",
       "  'pipeline_id': None,\n",
       "  'created_at': '2023-09-14 20:00:46',\n",
       "  'updated_at': '2023-09-14 20:00:46',\n",
       "  'meta': {},\n",
       "  'filters': {'item_id': ['B002MU1ZRS'], 'split': ['test']}}]"
      ]
     },
     "execution_count": 81,
     "metadata": {},
     "output_type": "execute_result"
    }
   ],
   "source": [
    "labels_agg[109].to_dict()[\"labels\"]"
   ]
  },
  {
   "cell_type": "markdown",
   "metadata": {},
   "source": [
    "We've a labels object list for a single query with different answers.\n",
    "We now have all the ingredients for evaluating the retriever, so let's define a function that feeds each question-answer pair associated with each product to the evaluation pipeline and tracks the correct retrievals in `pipe` object.\n",
    "\n",
    "We can `eval()` to evaluate the pipeline and result is stored in `eval_result`"
   ]
  },
  {
   "cell_type": "code",
   "execution_count": 67,
   "metadata": {},
   "outputs": [],
   "source": [
    "eval_result = pipe.eval(\n",
    "    labels=labels_agg,\n",
    "    params={\n",
    "        \"Retriever\": {\n",
    "            \"top_k\": 3\n",
    "        }\n",
    "    }\n",
    ")\n",
    "metrics = eval_result.calculate_metrics()"
   ]
  },
  {
   "cell_type": "code",
   "execution_count": 68,
   "metadata": {},
   "outputs": [
    {
     "data": {
      "text/plain": [
       "{'recall_multi_hit': 0.48156565656565653,\n",
       " 'recall_single_hit': 0.48787878787878786,\n",
       " 'precision': 0.32272727272727275,\n",
       " 'map': 0.4293771043771044,\n",
       " 'mrr': 0.4348484848484849,\n",
       " 'ndcg': 0.44416978087916886}"
      ]
     },
     "execution_count": 68,
     "metadata": {},
     "output_type": "execute_result"
    }
   ],
   "source": [
    "metrics['Retriever']"
   ]
  },
  {
   "cell_type": "code",
   "execution_count": 69,
   "metadata": {},
   "outputs": [
    {
     "name": "stdout",
     "output_type": "stream",
     "text": [
      "Recall@3: 0.49\n"
     ]
    }
   ],
   "source": [
    "print(f\"Recall@3: {metrics['Retriever']['recall_single_hit']:.2f}\")"
   ]
  },
  {
   "cell_type": "code",
   "execution_count": 70,
   "metadata": {},
   "outputs": [
    {
     "name": "stdout",
     "output_type": "stream",
     "text": [
      "<class 'pandas.core.frame.DataFrame'>\n",
      "Index: 6 entries, 3 to 133\n",
      "Data columns (total 25 columns):\n",
      " #   Column                                Non-Null Count  Dtype  \n",
      "---  ------                                --------------  -----  \n",
      " 0   multilabel_id                         6 non-null      object \n",
      " 1   query                                 6 non-null      object \n",
      " 2   filters                               6 non-null      object \n",
      " 3   gold_answers                          6 non-null      object \n",
      " 4   context                               6 non-null      object \n",
      " 5   gold_contexts                         6 non-null      object \n",
      " 6   gold_id_match                         6 non-null      float64\n",
      " 7   context_match                         6 non-null      float64\n",
      " 8   answer_match                          6 non-null      float64\n",
      " 9   gold_id_or_answer_match               6 non-null      float64\n",
      " 10  gold_id_and_answer_match              6 non-null      float64\n",
      " 11  gold_id_or_context_match              6 non-null      float64\n",
      " 12  gold_id_and_context_match             6 non-null      float64\n",
      " 13  gold_id_and_context_and_answer_match  6 non-null      float64\n",
      " 14  context_and_answer_match              6 non-null      float64\n",
      " 15  rank                                  6 non-null      float64\n",
      " 16  document_id                           6 non-null      object \n",
      " 17  gold_document_ids                     6 non-null      object \n",
      " 18  gold_documents_id_match               6 non-null      object \n",
      " 19  gold_contexts_similarity              6 non-null      object \n",
      " 20  gold_answers_match                    6 non-null      object \n",
      " 21  type                                  6 non-null      object \n",
      " 22  node                                  6 non-null      object \n",
      " 23  eval_mode                             6 non-null      object \n",
      " 24  index                                 6 non-null      int64  \n",
      "dtypes: float64(10), int64(1), object(14)\n",
      "memory usage: 1.2+ KB\n"
     ]
    }
   ],
   "source": [
    "eval_df = eval_result[\"Retriever\"]\n",
    "# eval_df[eval_df[\"query\"] == \"How do you like the lens?\"][[\"query\", \"filters\", \"rank\", \"content\", \"gold_document_contents\", \"document_id\", \"gold_document_ids\", \"gold_id_match\"]]\n",
    "eval_df[eval_df[\"query\"] == \"How do you like the lens?\"].info()"
   ]
  },
  {
   "cell_type": "code",
   "execution_count": 71,
   "metadata": {},
   "outputs": [
    {
     "data": {
      "text/html": [
       "<div>\n",
       "<style scoped>\n",
       "    .dataframe tbody tr th:only-of-type {\n",
       "        vertical-align: middle;\n",
       "    }\n",
       "\n",
       "    .dataframe tbody tr th {\n",
       "        vertical-align: top;\n",
       "    }\n",
       "\n",
       "    .dataframe thead th {\n",
       "        text-align: right;\n",
       "    }\n",
       "</style>\n",
       "<table border=\"1\" class=\"dataframe\">\n",
       "  <thead>\n",
       "    <tr style=\"text-align: right;\">\n",
       "      <th></th>\n",
       "      <th>query</th>\n",
       "      <th>filters</th>\n",
       "      <th>rank</th>\n",
       "      <th>context</th>\n",
       "      <th>gold_contexts</th>\n",
       "      <th>document_id</th>\n",
       "      <th>gold_document_ids</th>\n",
       "      <th>gold_id_match</th>\n",
       "    </tr>\n",
       "  </thead>\n",
       "  <tbody>\n",
       "    <tr>\n",
       "      <th>3</th>\n",
       "      <td>How do you like the lens?</td>\n",
       "      <td>b'{\"item_id\": [\"B00006I53S\"], \"split\": [\"test\"]}'</td>\n",
       "      <td>1.0</td>\n",
       "      <td>I bought this lens for my Canon 20D digital ca...</td>\n",
       "      <td>[I bought this lens for my Canon 20D digital c...</td>\n",
       "      <td>fac2e8bec06035a70307dd1e8034ea63</td>\n",
       "      <td>[3566c491f5aafe80a22667754727dfc0]</td>\n",
       "      <td>0.0</td>\n",
       "    </tr>\n",
       "    <tr>\n",
       "      <th>4</th>\n",
       "      <td>How do you like the lens?</td>\n",
       "      <td>b'{\"item_id\": [\"B00006I53S\"], \"split\": [\"test\"]}'</td>\n",
       "      <td>2.0</td>\n",
       "      <td>I am not a professional or expert photographer...</td>\n",
       "      <td>[I bought this lens for my Canon 20D digital c...</td>\n",
       "      <td>26bf35fe7f9a73d28535d5072ab17714</td>\n",
       "      <td>[3566c491f5aafe80a22667754727dfc0]</td>\n",
       "      <td>0.0</td>\n",
       "    </tr>\n",
       "    <tr>\n",
       "      <th>8</th>\n",
       "      <td>How do you like the lens?</td>\n",
       "      <td>b'{\"item_id\": [\"B00007E7JU\"], \"split\": [\"test\"]}'</td>\n",
       "      <td>1.0</td>\n",
       "      <td>I think that the title says it all. It is one ...</td>\n",
       "      <td>[This lens is awesome, for the price you can n...</td>\n",
       "      <td>9cae133919a2dc476c371cde9e5effb8</td>\n",
       "      <td>[90c215285cd5997f5c627405eb422a47]</td>\n",
       "      <td>0.0</td>\n",
       "    </tr>\n",
       "    <tr>\n",
       "      <th>9</th>\n",
       "      <td>How do you like the lens?</td>\n",
       "      <td>b'{\"item_id\": [\"B00007E7JU\"], \"split\": [\"test\"]}'</td>\n",
       "      <td>2.0</td>\n",
       "      <td>I bough this lens for a relative who bought my...</td>\n",
       "      <td>[This lens is awesome, for the price you can n...</td>\n",
       "      <td>a1f6e39766a79f1475b3dbe07e517e04</td>\n",
       "      <td>[90c215285cd5997f5c627405eb422a47]</td>\n",
       "      <td>0.0</td>\n",
       "    </tr>\n",
       "    <tr>\n",
       "      <th>10</th>\n",
       "      <td>How do you like the lens?</td>\n",
       "      <td>b'{\"item_id\": [\"B00007E7JU\"], \"split\": [\"test\"]}'</td>\n",
       "      <td>3.0</td>\n",
       "      <td>I fell in love with the lens the moment I star...</td>\n",
       "      <td>[This lens is awesome, for the price you can n...</td>\n",
       "      <td>0fc71a2e4ec350e845ed384717792ad8</td>\n",
       "      <td>[90c215285cd5997f5c627405eb422a47]</td>\n",
       "      <td>0.0</td>\n",
       "    </tr>\n",
       "    <tr>\n",
       "      <th>133</th>\n",
       "      <td>How do you like the lens?</td>\n",
       "      <td>b'{\"item_id\": [\"B0025EWXEU\"], \"split\": [\"test\"]}'</td>\n",
       "      <td>1.0</td>\n",
       "      <td>I have read a lot of negative press about this...</td>\n",
       "      <td>[I have read a lot of negative press about thi...</td>\n",
       "      <td>47f76b8f62cf296d394d993741d660aa</td>\n",
       "      <td>[11818a689fbac56cbb063eb658b22c05, 11818a689fb...</td>\n",
       "      <td>0.0</td>\n",
       "    </tr>\n",
       "  </tbody>\n",
       "</table>\n",
       "</div>"
      ],
      "text/plain": [
       "                         query  \\\n",
       "3    How do you like the lens?   \n",
       "4    How do you like the lens?   \n",
       "8    How do you like the lens?   \n",
       "9    How do you like the lens?   \n",
       "10   How do you like the lens?   \n",
       "133  How do you like the lens?   \n",
       "\n",
       "                                               filters  rank  \\\n",
       "3    b'{\"item_id\": [\"B00006I53S\"], \"split\": [\"test\"]}'   1.0   \n",
       "4    b'{\"item_id\": [\"B00006I53S\"], \"split\": [\"test\"]}'   2.0   \n",
       "8    b'{\"item_id\": [\"B00007E7JU\"], \"split\": [\"test\"]}'   1.0   \n",
       "9    b'{\"item_id\": [\"B00007E7JU\"], \"split\": [\"test\"]}'   2.0   \n",
       "10   b'{\"item_id\": [\"B00007E7JU\"], \"split\": [\"test\"]}'   3.0   \n",
       "133  b'{\"item_id\": [\"B0025EWXEU\"], \"split\": [\"test\"]}'   1.0   \n",
       "\n",
       "                                               context  \\\n",
       "3    I bought this lens for my Canon 20D digital ca...   \n",
       "4    I am not a professional or expert photographer...   \n",
       "8    I think that the title says it all. It is one ...   \n",
       "9    I bough this lens for a relative who bought my...   \n",
       "10   I fell in love with the lens the moment I star...   \n",
       "133  I have read a lot of negative press about this...   \n",
       "\n",
       "                                         gold_contexts  \\\n",
       "3    [I bought this lens for my Canon 20D digital c...   \n",
       "4    [I bought this lens for my Canon 20D digital c...   \n",
       "8    [This lens is awesome, for the price you can n...   \n",
       "9    [This lens is awesome, for the price you can n...   \n",
       "10   [This lens is awesome, for the price you can n...   \n",
       "133  [I have read a lot of negative press about thi...   \n",
       "\n",
       "                          document_id  \\\n",
       "3    fac2e8bec06035a70307dd1e8034ea63   \n",
       "4    26bf35fe7f9a73d28535d5072ab17714   \n",
       "8    9cae133919a2dc476c371cde9e5effb8   \n",
       "9    a1f6e39766a79f1475b3dbe07e517e04   \n",
       "10   0fc71a2e4ec350e845ed384717792ad8   \n",
       "133  47f76b8f62cf296d394d993741d660aa   \n",
       "\n",
       "                                     gold_document_ids  gold_id_match  \n",
       "3                   [3566c491f5aafe80a22667754727dfc0]            0.0  \n",
       "4                   [3566c491f5aafe80a22667754727dfc0]            0.0  \n",
       "8                   [90c215285cd5997f5c627405eb422a47]            0.0  \n",
       "9                   [90c215285cd5997f5c627405eb422a47]            0.0  \n",
       "10                  [90c215285cd5997f5c627405eb422a47]            0.0  \n",
       "133  [11818a689fbac56cbb063eb658b22c05, 11818a689fb...            0.0  "
      ]
     },
     "execution_count": 71,
     "metadata": {},
     "output_type": "execute_result"
    }
   ],
   "source": [
    "# eval_df[eval_df[\"query\"] == \"How do you like the lens?\"][[\"query\", \"filters\", \"rank\", \"content\", \"gold_document_contents\", \"document_id\", \"gold_document_ids\", \"gold_id_match\"]]\n",
    "eval_df[eval_df[\"query\"] == \"How do you like the lens?\"][[\"query\", \"filters\", \"rank\", \"context\", \"gold_contexts\", \"document_id\", \"gold_document_ids\", \"gold_id_match\"]]"
   ]
  },
  {
   "cell_type": "markdown",
   "metadata": {},
   "source": [
    "Great, Notice we used a specific value for `top_k_retriever` to specify number of documents to retrieve.\n",
    "In general, increasing `top_k` will increase the recall but with more computation time for the end-to-end pipeline.\n",
    "Let's write a function to try out different k's to find the optimal value."
   ]
  },
  {
   "cell_type": "code",
   "execution_count": 72,
   "metadata": {},
   "outputs": [
    {
     "name": "stderr",
     "output_type": "stream",
     "text": [
      "/Users/jayaprakashsivagami/Documents/Tech/ML/nlp-with-hugging-face/haystack/haystack/schema.py:1465: SettingWithCopyWarning: \n",
      "A value is trying to be set on a copy of a slice from a DataFrame.\n",
      "Try using .loc[row_indexer,col_indexer] = value instead\n",
      "\n",
      "See the caveats in the documentation: https://pandas.pydata.org/pandas-docs/stable/user_guide/indexing.html#returning-a-view-versus-a-copy\n",
      "  documents[\"matched_label_idxs\"] = documents.apply(find_matched_label_idxs, axis=1)\n",
      "/Users/jayaprakashsivagami/Documents/Tech/ML/nlp-with-hugging-face/haystack/haystack/schema.py:1465: SettingWithCopyWarning: \n",
      "A value is trying to be set on a copy of a slice from a DataFrame.\n",
      "Try using .loc[row_indexer,col_indexer] = value instead\n",
      "\n",
      "See the caveats in the documentation: https://pandas.pydata.org/pandas-docs/stable/user_guide/indexing.html#returning-a-view-versus-a-copy\n",
      "  documents[\"matched_label_idxs\"] = documents.apply(find_matched_label_idxs, axis=1)\n",
      "/Users/jayaprakashsivagami/Documents/Tech/ML/nlp-with-hugging-face/haystack/haystack/schema.py:1465: SettingWithCopyWarning: \n",
      "A value is trying to be set on a copy of a slice from a DataFrame.\n",
      "Try using .loc[row_indexer,col_indexer] = value instead\n",
      "\n",
      "See the caveats in the documentation: https://pandas.pydata.org/pandas-docs/stable/user_guide/indexing.html#returning-a-view-versus-a-copy\n",
      "  documents[\"matched_label_idxs\"] = documents.apply(find_matched_label_idxs, axis=1)\n"
     ]
    }
   ],
   "source": [
    "def evaluate_retriever(retriever, topk_values = [1,3,5,10,20]):\n",
    "    topk_results = {}\n",
    "    # Calculate max top_k\n",
    "    max_top_k = max(topk_values)\n",
    "    # Create Pipeline\n",
    "    p = DocumentSearchPipeline(retriever=retriever)\n",
    "    # Run inference with max top_k by looping over each question-answers pair in test set\n",
    "    eval_result = p.eval(\n",
    "        labels=labels_agg,\n",
    "        params={\"Retriever\": {\"top_k\": max_top_k}},\n",
    "    )\n",
    "    # Calculate metric for each top_k value\n",
    "    for topk in topk_values:        \n",
    "        # Get metrics\n",
    "        metrics = eval_result.calculate_metrics(simulated_top_k_retriever=topk)\n",
    "        topk_results[topk] = {\"recall\": metrics[\"Retriever\"][\"recall_single_hit\"]}\n",
    "        \n",
    "    return topk_results\n",
    "\n",
    "\n",
    "bm25_topk_df = evaluate_retriever(bm25_retriever)"
   ]
  },
  {
   "cell_type": "code",
   "execution_count": 77,
   "metadata": {},
   "outputs": [],
   "source": [
    "bm25_topk_df = pd.DataFrame.from_dict(bm25_topk_df, orient=\"index\")"
   ]
  },
  {
   "cell_type": "code",
   "execution_count": 78,
   "metadata": {},
   "outputs": [
    {
     "data": {
      "image/png": "[encoded data removed]",
      "text/plain": [
       "<Figure size 640x480 with 1 Axes>"
      ]
     },
     "metadata": {},
     "output_type": "display_data"
    }
   ],
   "source": [
    "\n",
    "def plot_retriever_eval(dfs, retriever_names):\n",
    "    fig, ax = plt.subplots()\n",
    "    for df, retriever_name in zip(dfs, retriever_names):\n",
    "        df.plot(y=\"recall\", ax=ax, label=retriever_name)\n",
    "    plt.xticks(df.index)\n",
    "    plt.ylabel(\"Top-k Recall\")\n",
    "    plt.xlabel(\"k\")\n",
    "    plt.show()\n",
    "    \n",
    "plot_retriever_eval([bm25_topk_df], [\"BM25\"])"
   ]
  },
  {
   "cell_type": "markdown",
   "metadata": {},
   "source": [
    "From the plot, we can see that there's an inflection point at k=5 then the recall score gets saturated after that."
   ]
  },
  {
   "cell_type": "markdown",
   "metadata": {},
   "source": [
    "#### Dense Passage Retrieval\n",
    "\n",
    "Can we get good scores with less k? The advantage of doing so is that we can pass fewer documents and reduce the overall latency of QA pipeline. A well-known limitation of sparse retrievers is that they fail to capture relevant documents when the words in user query doesn't match the exact terms in review. One promising alternative is to use dense representations fo document and query. The current state of the art architecture known as *Dense Passage Retrieval(DPR)*. The main idea behind DPr is to use a BERT encoder for question and document. The encoders map the input into a d-dimensional vector representation of the `[CLS]` token.\n",
    "\n",
    "*DPR bi-encoder architecture*\n",
    "\n",
    "![alt](../notes/images/7-question-answering/qa-dpr-retriever.png)"
   ]
  },
  {
   "cell_type": "markdown",
   "metadata": {},
   "source": [
    "In Haystack, we can initialize a retriever for DPR in a similar way to what we did for BM25.\n",
    "In addition to specifying the document store, we've to pass encoder for question and passage.\n",
    "We train the encoders by passing question, relevant and irrelevant answers. The goal is to learn that relevant question-passage pairs have a higher similarity. For our case, we'll use the encoders that is fined tuned on the NQ corpus this way:"
   ]
  },
  {
   "cell_type": "code",
   "execution_count": 80,
   "metadata": {},
   "outputs": [
    {
     "data": {
      "application/vnd.jupyter.widget-view+json": {
       "model_id": "7a840de08c6d47f296dafbd46ad3f990",
       "version_major": 2,
       "version_minor": 0
      },
      "text/plain": [
       "Downloading (…)okenizer_config.json:   0%|          | 0.00/28.0 [00:00<?, ?B/s]"
      ]
     },
     "metadata": {},
     "output_type": "display_data"
    },
    {
     "data": {
      "application/vnd.jupyter.widget-view+json": {
       "model_id": "5695c41139084a8e9d60abdd9916f203",
       "version_major": 2,
       "version_minor": 0
      },
      "text/plain": [
       "Downloading (…)lve/main/config.json:   0%|          | 0.00/493 [00:00<?, ?B/s]"
      ]
     },
     "metadata": {},
     "output_type": "display_data"
    },
    {
     "data": {
      "application/vnd.jupyter.widget-view+json": {
       "model_id": "c08fc8bc7cda4484a5b899085f5eacb5",
       "version_major": 2,
       "version_minor": 0
      },
      "text/plain": [
       "Downloading (…)solve/main/vocab.txt:   0%|          | 0.00/232k [00:00<?, ?B/s]"
      ]
     },
     "metadata": {},
     "output_type": "display_data"
    },
    {
     "data": {
      "application/vnd.jupyter.widget-view+json": {
       "model_id": "acf1594082c3410cbbac35b8396c738b",
       "version_major": 2,
       "version_minor": 0
      },
      "text/plain": [
       "Downloading (…)/main/tokenizer.json:   0%|          | 0.00/466k [00:00<?, ?B/s]"
      ]
     },
     "metadata": {},
     "output_type": "display_data"
    },
    {
     "data": {
      "application/vnd.jupyter.widget-view+json": {
       "model_id": "d7b7c607f50a4b85bf98bbebcd518222",
       "version_major": 2,
       "version_minor": 0
      },
      "text/plain": [
       "Downloading pytorch_model.bin:   0%|          | 0.00/438M [00:00<?, ?B/s]"
      ]
     },
     "metadata": {},
     "output_type": "display_data"
    },
    {
     "name": "stderr",
     "output_type": "stream",
     "text": [
      "/Users/jayaprakashsivagami/miniconda3/envs/nlp-qa/lib/python3.9/site-packages/torch/_utils.py:776: UserWarning: TypedStorage is deprecated. It will be removed in the future and UntypedStorage will be the only storage class. This should only matter to you if you are using storages directly.  To access UntypedStorage directly, use tensor.untyped_storage() instead of tensor.storage()\n",
      "  return self.fget.__get__(instance, owner)()\n"
     ]
    },
    {
     "data": {
      "application/vnd.jupyter.widget-view+json": {
       "model_id": "616c5f460c41498a979da588e860e007",
       "version_major": 2,
       "version_minor": 0
      },
      "text/plain": [
       "Downloading (…)okenizer_config.json:   0%|          | 0.00/28.0 [00:00<?, ?B/s]"
      ]
     },
     "metadata": {},
     "output_type": "display_data"
    },
    {
     "data": {
      "application/vnd.jupyter.widget-view+json": {
       "model_id": "e3fa72b7779441e28f230cab5b3ed60f",
       "version_major": 2,
       "version_minor": 0
      },
      "text/plain": [
       "Downloading (…)lve/main/config.json:   0%|          | 0.00/492 [00:00<?, ?B/s]"
      ]
     },
     "metadata": {},
     "output_type": "display_data"
    },
    {
     "data": {
      "application/vnd.jupyter.widget-view+json": {
       "model_id": "b1e891484c8144d0ba0866050f0d2b73",
       "version_major": 2,
       "version_minor": 0
      },
      "text/plain": [
       "Downloading (…)solve/main/vocab.txt:   0%|          | 0.00/232k [00:00<?, ?B/s]"
      ]
     },
     "metadata": {},
     "output_type": "display_data"
    },
    {
     "data": {
      "application/vnd.jupyter.widget-view+json": {
       "model_id": "fe6cd537fdc544e5aca4f959744c5d16",
       "version_major": 2,
       "version_minor": 0
      },
      "text/plain": [
       "Downloading (…)/main/tokenizer.json:   0%|          | 0.00/466k [00:00<?, ?B/s]"
      ]
     },
     "metadata": {},
     "output_type": "display_data"
    },
    {
     "data": {
      "application/vnd.jupyter.widget-view+json": {
       "model_id": "cef37bbf6df043d7891ec8239e3371c3",
       "version_major": 2,
       "version_minor": 0
      },
      "text/plain": [
       "Downloading pytorch_model.bin:   0%|          | 0.00/438M [00:00<?, ?B/s]"
      ]
     },
     "metadata": {},
     "output_type": "display_data"
    }
   ],
   "source": [
    "from haystack.nodes import DensePassageRetriever\n",
    "\n",
    "dpr_retriever = DensePassageRetriever(\n",
    "    document_store=document_store,\n",
    "    query_embedding_model=\"facebook/dpr-question_encoder-single-nq-base\",\n",
    "    passage_embedding_model=\"facebook/dpr-ctx_encoder-single-nq-base\",\n",
    "    embed_title=False,\n",
    ")"
   ]
  },
  {
   "cell_type": "markdown",
   "metadata": {},
   "source": [
    "`embed_title` to False to avoid creating embeddings for `item_id` as we filter per product during our retrieval. Once we've intialized the retriever the next step is to iterate over all the documents in our ElasticSearch index and apply the encoders to update the embedding representation."
   ]
  },
  {
   "cell_type": "code",
   "execution_count": 81,
   "metadata": {},
   "outputs": [
    {
     "name": "stderr",
     "output_type": "stream",
     "text": [
      "Updating embeddings: 10000 Docs [20:42,  8.05 Docs/s]           \n"
     ]
    }
   ],
   "source": [
    "document_store.update_embeddings(\n",
    "    retriever=dpr_retriever,\n",
    ")"
   ]
  },
  {
   "cell_type": "code",
   "execution_count": 82,
   "metadata": {},
   "outputs": [
    {
     "name": "stderr",
     "output_type": "stream",
     "text": [
      "/Users/jayaprakashsivagami/Documents/Tech/ML/nlp-with-hugging-face/haystack/haystack/schema.py:1465: SettingWithCopyWarning: \n",
      "A value is trying to be set on a copy of a slice from a DataFrame.\n",
      "Try using .loc[row_indexer,col_indexer] = value instead\n",
      "\n",
      "See the caveats in the documentation: https://pandas.pydata.org/pandas-docs/stable/user_guide/indexing.html#returning-a-view-versus-a-copy\n",
      "  documents[\"matched_label_idxs\"] = documents.apply(find_matched_label_idxs, axis=1)\n",
      "/Users/jayaprakashsivagami/Documents/Tech/ML/nlp-with-hugging-face/haystack/haystack/schema.py:1465: SettingWithCopyWarning: \n",
      "A value is trying to be set on a copy of a slice from a DataFrame.\n",
      "Try using .loc[row_indexer,col_indexer] = value instead\n",
      "\n",
      "See the caveats in the documentation: https://pandas.pydata.org/pandas-docs/stable/user_guide/indexing.html#returning-a-view-versus-a-copy\n",
      "  documents[\"matched_label_idxs\"] = documents.apply(find_matched_label_idxs, axis=1)\n",
      "/Users/jayaprakashsivagami/Documents/Tech/ML/nlp-with-hugging-face/haystack/haystack/schema.py:1465: SettingWithCopyWarning: \n",
      "A value is trying to be set on a copy of a slice from a DataFrame.\n",
      "Try using .loc[row_indexer,col_indexer] = value instead\n",
      "\n",
      "See the caveats in the documentation: https://pandas.pydata.org/pandas-docs/stable/user_guide/indexing.html#returning-a-view-versus-a-copy\n",
      "  documents[\"matched_label_idxs\"] = documents.apply(find_matched_label_idxs, axis=1)\n"
     ]
    },
    {
     "data": {
      "text/html": [
       "<div>\n",
       "<style scoped>\n",
       "    .dataframe tbody tr th:only-of-type {\n",
       "        vertical-align: middle;\n",
       "    }\n",
       "\n",
       "    .dataframe tbody tr th {\n",
       "        vertical-align: top;\n",
       "    }\n",
       "\n",
       "    .dataframe thead th {\n",
       "        text-align: right;\n",
       "    }\n",
       "</style>\n",
       "<table border=\"1\" class=\"dataframe\">\n",
       "  <thead>\n",
       "    <tr style=\"text-align: right;\">\n",
       "      <th></th>\n",
       "      <th>recall</th>\n",
       "    </tr>\n",
       "  </thead>\n",
       "  <tbody>\n",
       "    <tr>\n",
       "      <th>1</th>\n",
       "      <td>0.327273</td>\n",
       "    </tr>\n",
       "    <tr>\n",
       "      <th>3</th>\n",
       "      <td>0.484848</td>\n",
       "    </tr>\n",
       "    <tr>\n",
       "      <th>5</th>\n",
       "      <td>0.524242</td>\n",
       "    </tr>\n",
       "    <tr>\n",
       "      <th>10</th>\n",
       "      <td>0.551515</td>\n",
       "    </tr>\n",
       "    <tr>\n",
       "      <th>20</th>\n",
       "      <td>0.551515</td>\n",
       "    </tr>\n",
       "  </tbody>\n",
       "</table>\n",
       "</div>"
      ],
      "text/plain": [
       "      recall\n",
       "1   0.327273\n",
       "3   0.484848\n",
       "5   0.524242\n",
       "10  0.551515\n",
       "20  0.551515"
      ]
     },
     "execution_count": 82,
     "metadata": {},
     "output_type": "execute_result"
    }
   ],
   "source": [
    "dpr_topk = evaluate_retriever(\n",
    "    retriever=dpr_retriever\n",
    ")\n",
    "dpr_topk_df = pd.DataFrame.from_dict(dpr_topk, orient=\"index\")\n",
    "dpr_topk_df"
   ]
  },
  {
   "cell_type": "code",
   "execution_count": 83,
   "metadata": {},
   "outputs": [
    {
     "data": {
      "image/png": "[encoded data removed]",
      "text/plain": [
       "<Figure size 640x480 with 1 Axes>"
      ]
     },
     "metadata": {},
     "output_type": "display_data"
    }
   ],
   "source": [
    "plot_retriever_eval([bm25_topk_df, dpr_topk_df], [\"BM25\", \"DPR\"])"
   ]
  },
  {
   "cell_type": "markdown",
   "metadata": {},
   "source": [
    "Here DPR doesn't provide a boost in recall over BM25 and saturates around k=3.\n",
    "\n",
    "> **Note:** Similairty search of embeddings can be sped up by using Facebook's FAISS library. To fine tune DPR retriever refer [tutorial from haystack](https://oreil.ly/eXyro)\n",
    "\n",
    "Next let's move on to Evaluating the reader."
   ]
  },
  {
   "cell_type": "markdown",
   "metadata": {},
   "source": [
    "### Evaluating the Reader\n",
    "\n",
    "In extractive QA, there are two main metrics that are used for evaluating the reader:\n",
    "\n",
    "*Exact Match (EM)*\n",
    "\n",
    "A binary metric that gives EM=1 if the characters in the predicted and ground truth match exactly and EM=0 otherwise. If no answer is expected, the model gets EM=0 if it predicts any text all.\n",
    "\n",
    "*F1-score*\n",
    "\n",
    "Harmonic mean of precision and recall.\n",
    "\n",
    "Let's see how these metrics wit some helper functions from FARM over a simple example."
   ]
  },
  {
   "cell_type": "code",
   "execution_count": 82,
   "metadata": {},
   "outputs": [
    {
     "name": "stdout",
     "output_type": "stream",
     "text": [
      "EM: 0\n",
      "F1: 0.8\n"
     ]
    }
   ],
   "source": [
    "from haystack.modeling.evaluation.squad import compute_f1, compute_exact\n",
    "\n",
    "pred = \"about 6000 hours\"\n",
    "label = \"6000 hours\"\n",
    "print(f\"EM: {compute_exact(label, pred)}\")\n",
    "print(f\"F1: {compute_f1(label,pred)}\")"
   ]
  },
  {
   "cell_type": "code",
   "execution_count": 83,
   "metadata": {},
   "outputs": [
    {
     "name": "stdout",
     "output_type": "stream",
     "text": [
      "EM: 1\n",
      "F1: 1.0\n"
     ]
    }
   ],
   "source": [
    "pred = \"6000 hours\"\n",
    "label = \"6000 hours\"\n",
    "print(f\"EM: {compute_exact(label, pred)}\")\n",
    "print(f\"F1: {compute_f1(label,pred)}\")"
   ]
  },
  {
   "cell_type": "code",
   "execution_count": 84,
   "metadata": {},
   "outputs": [
    {
     "name": "stdout",
     "output_type": "stream",
     "text": [
      "EM: 0\n",
      "F1: 0.6666666666666666\n"
     ]
    }
   ],
   "source": [
    "pred = \"about 6000 dollars\"\n",
    "label = \"about 6000 hours\"\n",
    "print(f\"EM: {compute_exact(label, pred)}\")\n",
    "print(f\"F1: {compute_f1(label,pred)}\")"
   ]
  },
  {
   "cell_type": "markdown",
   "metadata": {},
   "source": [
    "Under the hood, these functions first normalize the prediction and label by removing puntuation, fixing whitespace, and converting to lowercase. The normalized strings are then converted to bag-of-words, then metric is calculated at the token level.\n",
    "\n",
    "In this example,\n",
    "\n",
    "* adding an additional word to prediction gives EM as 0\n",
    "* f1 gives an score 0.6 for *about 6000 dollars* which is incorrect answer\n",
    "* Relying on just one of these will be misleading, and tracking both metrics is a good strategy to balance the trade-off between (EM) and overestimating(f1-score) morel performance.\n",
    "\n",
    "*How the score is calculated for multiple question answer pair?*\n",
    "\n",
    "* First the score is calculated for multiple answers paired with a question\n",
    "* Then the answer with highest score is selected over all possible answers\n",
    "* Finally average of the indiviual score is calculated to get the final score.\n",
    "\n",
    "The evaluation of reader is done by creating a pipeine that consists of a single node, reader in this case. Then `eval()` to evaluate the reader with labels index."
   ]
  },
  {
   "cell_type": "code",
   "execution_count": 85,
   "metadata": {},
   "outputs": [
    {
     "data": {
      "text/plain": [
       "{'id': '39644b73-956f-4ec7-9c17-daa12fd0f2b0',\n",
       " 'created_at': '2023-09-14 20:00:46',\n",
       " 'updated_at': '2023-09-14 20:00:46',\n",
       " 'query': 'What is the tonal balance of these headphones?',\n",
       " 'answer': <Answer {'answer': 'I have been a headphone fanatic for thirty years', 'type': 'extractive', 'score': None, 'context': None, 'offsets_in_document': None, 'offsets_in_context': None, 'document_ids': None, 'meta': {}}>,\n",
       " 'document': <Document: {'content': \"I have been a headphone fanatic for thirty years and have owned and used a variety of headphones over those years, to include Stax SR-5, Sennheiser HD-424 and HD-580.  The Sony MDRV6 excells as the best value of any headphone that I've ever owned.  They are especially good at producing natural-sounding deep bass, and the overall octave-to-octave balance is excellent.  The sound quality is all in all comparable to other headphones that cost considerably more.The MDRV6 is especially well-suited for travel due to the collapsible design, and for noisy environments or for quiet environments such as a library where the sound emitted by open-back headphones would distract others.The MDRV6 is not quite as comfortable as some other headphones, but the comfort can be improved enormously by replacing the pads with the velour pads from BeyerDynamic.  The pads that come on the MDRV6 have a non-breathable cover, and significant additional discomfort is caused by the way that the thin foam cover is glued to the pad around the inner circumference of the pad, which prevents the top and back of your ear from slipping into the space between the pad and the face of the headphone.  This forces the pad to rest on the back of the ear, which compresses the ear and eventually becomes uncomfortable.  I read on a web forum where several people had replaced the pads (which eventually come apart) with a velour pad made by BeyerDynamic, and after I did this replacement on my one pair that had a damaged pad, the increase in comfort was so great that I immediately did the other pair.  The thin cover can be glued down to the headphone face if needed to hold it in place, which then allows the top and rear of your ear to naturally  slide under the inner circumference of the pad, which is considerably more comfortable.  I can recommend this trivial modification without reservation to anyone who owns these headphones.  Even if you don't replace the pads with the BeyerDynamic velour pads, I suggest removing the pads anyway, then carefully separating the thin cover from the pad, and glueing the cover directly to the headphone surface.\", 'content_type': 'text', 'score': None, 'meta': {}, 'id_hash_keys': ['content'], 'embedding': None, 'id': 'a73f54ddc5b1fcc7f4fbf04bd564a278'}>,\n",
       " 'is_correct_answer': True,\n",
       " 'is_correct_document': True,\n",
       " 'origin': 'gold-label',\n",
       " 'pipeline_id': None,\n",
       " 'meta': {},\n",
       " 'filters': {'item_id': ['B00001WRSJ'], 'split': ['test']},\n",
       " '__pydantic_initialised__': True}"
      ]
     },
     "execution_count": 85,
     "metadata": {},
     "output_type": "execute_result"
    }
   ],
   "source": [
    "labels_agg[0].labels[0].__dict__"
   ]
  },
  {
   "cell_type": "code",
   "execution_count": 86,
   "metadata": {},
   "outputs": [],
   "source": [
    "from haystack.pipelines import Pipeline\n",
    "def evaluate_reader(reader):\n",
    "    score_keys = ['exact_match', 'f1']\n",
    "    p = Pipeline()\n",
    "    p.add_node(\n",
    "        component=reader,\n",
    "        name=\"Reader\",\n",
    "        inputs=[\"Query\"],\n",
    "    )\n",
    "    eval_result = p.eval(\n",
    "        labels=labels_agg,\n",
    "        documents=[[label.document for label in multilabel.labels] for multilabel in labels_agg],\n",
    "        params={},\n",
    "    )\n",
    "    metrics = eval_result.calculate_metrics(simulated_top_k_reader=1)\n",
    "    return {k:v for k,v in metrics[\"Reader\"].items() if k in score_keys}\n",
    "\n",
    "reader_eval = {}\n",
    "reader_eval[\"Fine-tune on SQuAD\"] = evaluate_reader(reader)"
   ]
  },
  {
   "cell_type": "code",
   "execution_count": 70,
   "metadata": {},
   "outputs": [
    {
     "ename": "TypeError",
     "evalue": "no numeric data to plot",
     "output_type": "error",
     "traceback": [
      "\u001b[0;31m---------------------------------------------------------------------------\u001b[0m",
      "\u001b[0;31mTypeError\u001b[0m                                 Traceback (most recent call last)",
      "\u001b[1;32m/Users/jayaprakashsivagami/Documents/Tech/ML/nlp-with-hugging-face/notebooks/7-question-answering.ipynb Cell 148\u001b[0m line \u001b[0;36m1\n\u001b[1;32m     <a href='vscode-notebook-cell:/Users/jayaprakashsivagami/Documents/Tech/ML/nlp-with-hugging-face/notebooks/7-question-answering.ipynb#Y300sZmlsZQ%3D%3D?line=16'>17</a>\u001b[0m     plt\u001b[39m.\u001b[39mlegend(loc\u001b[39m=\u001b[39m\u001b[39m\"\u001b[39m\u001b[39mupper left\u001b[39m\u001b[39m\"\u001b[39m)\n\u001b[1;32m     <a href='vscode-notebook-cell:/Users/jayaprakashsivagami/Documents/Tech/ML/nlp-with-hugging-face/notebooks/7-question-answering.ipynb#Y300sZmlsZQ%3D%3D?line=17'>18</a>\u001b[0m     plt\u001b[39m.\u001b[39mshow()\n\u001b[0;32m---> <a href='vscode-notebook-cell:/Users/jayaprakashsivagami/Documents/Tech/ML/nlp-with-hugging-face/notebooks/7-question-answering.ipynb#Y300sZmlsZQ%3D%3D?line=18'>19</a>\u001b[0m plot_reader_eval(reader_eval\u001b[39m=\u001b[39;49mreader_eval)\n",
      "\u001b[1;32m/Users/jayaprakashsivagami/Documents/Tech/ML/nlp-with-hugging-face/notebooks/7-question-answering.ipynb Cell 148\u001b[0m line \u001b[0;36m8\n\u001b[1;32m      <a href='vscode-notebook-cell:/Users/jayaprakashsivagami/Documents/Tech/ML/nlp-with-hugging-face/notebooks/7-question-answering.ipynb#Y300sZmlsZQ%3D%3D?line=1'>2</a>\u001b[0m fig, ax \u001b[39m=\u001b[39m plt\u001b[39m.\u001b[39msubplots()\n\u001b[1;32m      <a href='vscode-notebook-cell:/Users/jayaprakashsivagami/Documents/Tech/ML/nlp-with-hugging-face/notebooks/7-question-answering.ipynb#Y300sZmlsZQ%3D%3D?line=2'>3</a>\u001b[0m df \u001b[39m=\u001b[39m pd\u001b[39m.\u001b[39mDataFrame\u001b[39m.\u001b[39mfrom_dict(\n\u001b[1;32m      <a href='vscode-notebook-cell:/Users/jayaprakashsivagami/Documents/Tech/ML/nlp-with-hugging-face/notebooks/7-question-answering.ipynb#Y300sZmlsZQ%3D%3D?line=3'>4</a>\u001b[0m     reader_eval\n\u001b[1;32m      <a href='vscode-notebook-cell:/Users/jayaprakashsivagami/Documents/Tech/ML/nlp-with-hugging-face/notebooks/7-question-answering.ipynb#Y300sZmlsZQ%3D%3D?line=4'>5</a>\u001b[0m )\u001b[39m.\u001b[39mreindex(\n\u001b[1;32m      <a href='vscode-notebook-cell:/Users/jayaprakashsivagami/Documents/Tech/ML/nlp-with-hugging-face/notebooks/7-question-answering.ipynb#Y300sZmlsZQ%3D%3D?line=5'>6</a>\u001b[0m     [\u001b[39m\"\u001b[39m\u001b[39mexact_match\u001b[39m\u001b[39m\"\u001b[39m, \u001b[39m\"\u001b[39m\u001b[39mf1\u001b[39m\u001b[39m\"\u001b[39m]\n\u001b[1;32m      <a href='vscode-notebook-cell:/Users/jayaprakashsivagami/Documents/Tech/ML/nlp-with-hugging-face/notebooks/7-question-answering.ipynb#Y300sZmlsZQ%3D%3D?line=6'>7</a>\u001b[0m )\n\u001b[0;32m----> <a href='vscode-notebook-cell:/Users/jayaprakashsivagami/Documents/Tech/ML/nlp-with-hugging-face/notebooks/7-question-answering.ipynb#Y300sZmlsZQ%3D%3D?line=7'>8</a>\u001b[0m df\u001b[39m.\u001b[39;49mplot(\n\u001b[1;32m      <a href='vscode-notebook-cell:/Users/jayaprakashsivagami/Documents/Tech/ML/nlp-with-hugging-face/notebooks/7-question-answering.ipynb#Y300sZmlsZQ%3D%3D?line=8'>9</a>\u001b[0m     kin\u001b[39m=\u001b[39;49m\u001b[39m\"\u001b[39;49m\u001b[39mbar\u001b[39;49m\u001b[39m\"\u001b[39;49m,\n\u001b[1;32m     <a href='vscode-notebook-cell:/Users/jayaprakashsivagami/Documents/Tech/ML/nlp-with-hugging-face/notebooks/7-question-answering.ipynb#Y300sZmlsZQ%3D%3D?line=9'>10</a>\u001b[0m     ylabel\u001b[39m=\u001b[39;49m\u001b[39m\"\u001b[39;49m\u001b[39mscore\u001b[39;49m\u001b[39m\"\u001b[39;49m,\n\u001b[1;32m     <a href='vscode-notebook-cell:/Users/jayaprakashsivagami/Documents/Tech/ML/nlp-with-hugging-face/notebooks/7-question-answering.ipynb#Y300sZmlsZQ%3D%3D?line=10'>11</a>\u001b[0m     rot\u001b[39m=\u001b[39;49m\u001b[39m0\u001b[39;49m,\n\u001b[1;32m     <a href='vscode-notebook-cell:/Users/jayaprakashsivagami/Documents/Tech/ML/nlp-with-hugging-face/notebooks/7-question-answering.ipynb#Y300sZmlsZQ%3D%3D?line=11'>12</a>\u001b[0m     ax\u001b[39m=\u001b[39;49max,\n\u001b[1;32m     <a href='vscode-notebook-cell:/Users/jayaprakashsivagami/Documents/Tech/ML/nlp-with-hugging-face/notebooks/7-question-answering.ipynb#Y300sZmlsZQ%3D%3D?line=12'>13</a>\u001b[0m )\n\u001b[1;32m     <a href='vscode-notebook-cell:/Users/jayaprakashsivagami/Documents/Tech/ML/nlp-with-hugging-face/notebooks/7-question-answering.ipynb#Y300sZmlsZQ%3D%3D?line=13'>14</a>\u001b[0m ax\u001b[39m.\u001b[39mset_xticklabels(\n\u001b[1;32m     <a href='vscode-notebook-cell:/Users/jayaprakashsivagami/Documents/Tech/ML/nlp-with-hugging-face/notebooks/7-question-answering.ipynb#Y300sZmlsZQ%3D%3D?line=14'>15</a>\u001b[0m     [\u001b[39m\"\u001b[39m\u001b[39mEM\u001b[39m\u001b[39m\"\u001b[39m, \u001b[39m\"\u001b[39m\u001b[39mF1\u001b[39m\u001b[39m\"\u001b[39m]\n\u001b[1;32m     <a href='vscode-notebook-cell:/Users/jayaprakashsivagami/Documents/Tech/ML/nlp-with-hugging-face/notebooks/7-question-answering.ipynb#Y300sZmlsZQ%3D%3D?line=15'>16</a>\u001b[0m )\n\u001b[1;32m     <a href='vscode-notebook-cell:/Users/jayaprakashsivagami/Documents/Tech/ML/nlp-with-hugging-face/notebooks/7-question-answering.ipynb#Y300sZmlsZQ%3D%3D?line=16'>17</a>\u001b[0m plt\u001b[39m.\u001b[39mlegend(loc\u001b[39m=\u001b[39m\u001b[39m\"\u001b[39m\u001b[39mupper left\u001b[39m\u001b[39m\"\u001b[39m)\n",
      "File \u001b[0;32m~/miniconda3/envs/nlp-qa/lib/python3.9/site-packages/pandas/plotting/_core.py:1031\u001b[0m, in \u001b[0;36mPlotAccessor.__call__\u001b[0;34m(self, *args, **kwargs)\u001b[0m\n\u001b[1;32m   1028\u001b[0m             label_name \u001b[39m=\u001b[39m label_kw \u001b[39mor\u001b[39;00m data\u001b[39m.\u001b[39mcolumns\n\u001b[1;32m   1029\u001b[0m             data\u001b[39m.\u001b[39mcolumns \u001b[39m=\u001b[39m label_name\n\u001b[0;32m-> 1031\u001b[0m \u001b[39mreturn\u001b[39;00m plot_backend\u001b[39m.\u001b[39;49mplot(data, kind\u001b[39m=\u001b[39;49mkind, \u001b[39m*\u001b[39;49m\u001b[39m*\u001b[39;49mkwargs)\n",
      "File \u001b[0;32m~/miniconda3/envs/nlp-qa/lib/python3.9/site-packages/pandas/plotting/_matplotlib/__init__.py:71\u001b[0m, in \u001b[0;36mplot\u001b[0;34m(data, kind, **kwargs)\u001b[0m\n\u001b[1;32m     69\u001b[0m         kwargs[\u001b[39m\"\u001b[39m\u001b[39max\u001b[39m\u001b[39m\"\u001b[39m] \u001b[39m=\u001b[39m \u001b[39mgetattr\u001b[39m(ax, \u001b[39m\"\u001b[39m\u001b[39mleft_ax\u001b[39m\u001b[39m\"\u001b[39m, ax)\n\u001b[1;32m     70\u001b[0m plot_obj \u001b[39m=\u001b[39m PLOT_CLASSES[kind](data, \u001b[39m*\u001b[39m\u001b[39m*\u001b[39mkwargs)\n\u001b[0;32m---> 71\u001b[0m plot_obj\u001b[39m.\u001b[39;49mgenerate()\n\u001b[1;32m     72\u001b[0m plot_obj\u001b[39m.\u001b[39mdraw()\n\u001b[1;32m     73\u001b[0m \u001b[39mreturn\u001b[39;00m plot_obj\u001b[39m.\u001b[39mresult\n",
      "File \u001b[0;32m~/miniconda3/envs/nlp-qa/lib/python3.9/site-packages/pandas/plotting/_matplotlib/core.py:451\u001b[0m, in \u001b[0;36mMPLPlot.generate\u001b[0;34m(self)\u001b[0m\n\u001b[1;32m    449\u001b[0m \u001b[39mdef\u001b[39;00m \u001b[39mgenerate\u001b[39m(\u001b[39mself\u001b[39m) \u001b[39m-\u001b[39m\u001b[39m>\u001b[39m \u001b[39mNone\u001b[39;00m:\n\u001b[1;32m    450\u001b[0m     \u001b[39mself\u001b[39m\u001b[39m.\u001b[39m_args_adjust()\n\u001b[0;32m--> 451\u001b[0m     \u001b[39mself\u001b[39;49m\u001b[39m.\u001b[39;49m_compute_plot_data()\n\u001b[1;32m    452\u001b[0m     \u001b[39mself\u001b[39m\u001b[39m.\u001b[39m_setup_subplots()\n\u001b[1;32m    453\u001b[0m     \u001b[39mself\u001b[39m\u001b[39m.\u001b[39m_make_plot()\n",
      "File \u001b[0;32m~/miniconda3/envs/nlp-qa/lib/python3.9/site-packages/pandas/plotting/_matplotlib/core.py:636\u001b[0m, in \u001b[0;36mMPLPlot._compute_plot_data\u001b[0;34m(self)\u001b[0m\n\u001b[1;32m    634\u001b[0m \u001b[39m# no non-numeric frames or series allowed\u001b[39;00m\n\u001b[1;32m    635\u001b[0m \u001b[39mif\u001b[39;00m is_empty:\n\u001b[0;32m--> 636\u001b[0m     \u001b[39mraise\u001b[39;00m \u001b[39mTypeError\u001b[39;00m(\u001b[39m\"\u001b[39m\u001b[39mno numeric data to plot\u001b[39m\u001b[39m\"\u001b[39m)\n\u001b[1;32m    638\u001b[0m \u001b[39mself\u001b[39m\u001b[39m.\u001b[39mdata \u001b[39m=\u001b[39m numeric_data\u001b[39m.\u001b[39mapply(\u001b[39mself\u001b[39m\u001b[39m.\u001b[39m_convert_to_ndarray)\n",
      "\u001b[0;31mTypeError\u001b[0m: no numeric data to plot"
     ]
    },
    {
     "data": {
      "image/png": "[encoded data removed]",
      "text/plain": [
       "<Figure size 640x480 with 1 Axes>"
      ]
     },
     "metadata": {},
     "output_type": "display_data"
    }
   ],
   "source": [
    "def plot_reader_eval(reader_eval):\n",
    "    fig, ax = plt.subplots()\n",
    "    df = pd.DataFrame.from_dict(\n",
    "        reader_eval\n",
    "    ).reindex(\n",
    "        [\"exact_match\", \"f1\"]\n",
    "    )\n",
    "    df.plot(\n",
    "        kin=\"bar\",\n",
    "        ylabel=\"score\",\n",
    "        rot=0,\n",
    "        ax=ax,\n",
    "    )\n",
    "    ax.set_xticklabels(\n",
    "        [\"EM\", \"F1\"]\n",
    "    )\n",
    "    plt.legend(loc=\"upper left\")\n",
    "    plt.show()\n",
    "plot_reader_eval(reader_eval=reader_eval)"
   ]
  },
  {
   "cell_type": "markdown",
   "metadata": {},
   "source": [
    "Ok, the fine-tuned model performs significantly worse on SubjQA than on SQuAD 2.9, where MiniLM achieves EM and f1 scores of 76.1 and 76.5. The reasons might be:\n",
    "* Customer revies are quite different from the wikipedia articles the SQuAD 2.0 dataset is generated from and the language is informal. \n",
    "* Wikipedia articles are factual information and reviews are inherently subjective.\n",
    "\n",
    "Next let's look at fine-tuning models on a datset to get better results with domain adaptaion"
   ]
  },
  {
   "cell_type": "markdown",
   "metadata": {},
   "source": [
    "## Domain Adaptaion\n",
    "\n",
    "The failure to generalize is observed on other extractive QA datasets and is understood as evidence that transformers models are adept at overfitting to SQuAD. The `FARMReader` has a `train()` method to fine-tune on a dataset. This method expects data to be in SQuAD JSON format where all the question-anwer pairs are grouped together for each item like the image below.\n",
    "\n",
    "*SQuAD json format*\n",
    "\n",
    "![alt](../notes/images/7-question-answering/squad-json-format.png)"
   ]
  },
  {
   "cell_type": "markdown",
   "metadata": {},
   "source": [
    "This is quite a complex data format, let's create it. First we'll implement a function that can creae the `paragraphs` array associated for each product ID. Each element in the arrayu is review and qas pair."
   ]
  },
  {
   "cell_type": "code",
   "execution_count": 87,
   "metadata": {},
   "outputs": [
    {
     "data": {
      "text/html": [
       "<div>\n",
       "<style scoped>\n",
       "    .dataframe tbody tr th:only-of-type {\n",
       "        vertical-align: middle;\n",
       "    }\n",
       "\n",
       "    .dataframe tbody tr th {\n",
       "        vertical-align: top;\n",
       "    }\n",
       "\n",
       "    .dataframe thead th {\n",
       "        text-align: right;\n",
       "    }\n",
       "</style>\n",
       "<table border=\"1\" class=\"dataframe\">\n",
       "  <thead>\n",
       "    <tr style=\"text-align: right;\">\n",
       "      <th></th>\n",
       "      <th>domain</th>\n",
       "      <th>nn_mod</th>\n",
       "      <th>nn_asp</th>\n",
       "      <th>query_mod</th>\n",
       "      <th>query_asp</th>\n",
       "      <th>q_reviews_id</th>\n",
       "      <th>question_subj_level</th>\n",
       "      <th>ques_subj_score</th>\n",
       "      <th>is_ques_subjective</th>\n",
       "      <th>review_id</th>\n",
       "      <th>id</th>\n",
       "      <th>title</th>\n",
       "      <th>context</th>\n",
       "      <th>question</th>\n",
       "      <th>answers.text</th>\n",
       "      <th>answers.answer_start</th>\n",
       "      <th>answers.answer_subj_level</th>\n",
       "      <th>answers.ans_subj_score</th>\n",
       "      <th>answers.is_ans_subjective</th>\n",
       "    </tr>\n",
       "  </thead>\n",
       "  <tbody>\n",
       "    <tr>\n",
       "      <th>0</th>\n",
       "      <td>electronics</td>\n",
       "      <td>neutral</td>\n",
       "      <td>sound</td>\n",
       "      <td>present</td>\n",
       "      <td>bass</td>\n",
       "      <td>8fbf26792c438aa83178c2d507af5d77</td>\n",
       "      <td>1</td>\n",
       "      <td>0.5</td>\n",
       "      <td>False</td>\n",
       "      <td>d040f2713caa2aff0ce95affb40e12c2</td>\n",
       "      <td>455575557886d6dfeea5aa19577e5de4</td>\n",
       "      <td>B00001P4ZH</td>\n",
       "      <td>I have had many sub-$100 headphones from $5 Pa...</td>\n",
       "      <td>How is the bass?</td>\n",
       "      <td>[]</td>\n",
       "      <td>[]</td>\n",
       "      <td>[]</td>\n",
       "      <td>[]</td>\n",
       "      <td>[]</td>\n",
       "    </tr>\n",
       "    <tr>\n",
       "      <th>1</th>\n",
       "      <td>electronics</td>\n",
       "      <td>clear</td>\n",
       "      <td>view</td>\n",
       "      <td>easy</td>\n",
       "      <td>time</td>\n",
       "      <td>c68a6cc477b67ae54dbe15fc19b1e2fc</td>\n",
       "      <td>3</td>\n",
       "      <td>0.0</td>\n",
       "      <td>False</td>\n",
       "      <td>acc40990720aba8c38ecc7cda49b4d94</td>\n",
       "      <td>47110eb7720cffd03bb78f609999243d</td>\n",
       "      <td>B00004SABB</td>\n",
       "      <td>the view is so good and clear and so easy to f...</td>\n",
       "      <td>How is the time?</td>\n",
       "      <td>[]</td>\n",
       "      <td>[]</td>\n",
       "      <td>[]</td>\n",
       "      <td>[]</td>\n",
       "      <td>[]</td>\n",
       "    </tr>\n",
       "    <tr>\n",
       "      <th>2</th>\n",
       "      <td>electronics</td>\n",
       "      <td>clear</td>\n",
       "      <td>high</td>\n",
       "      <td>solid</td>\n",
       "      <td>bass</td>\n",
       "      <td>6521176a0cf9742c793c6c2a348eb3a6</td>\n",
       "      <td>5</td>\n",
       "      <td>0.5</td>\n",
       "      <td>False</td>\n",
       "      <td>12896447561b4f7947c99f5cccdedc7b</td>\n",
       "      <td>0645f5f9fabb5276fea9c572fb1d378d</td>\n",
       "      <td>B000062VUO</td>\n",
       "      <td>I first fell in love with Klipsch in the 80s w...</td>\n",
       "      <td>What is the bass provide?</td>\n",
       "      <td>[Bass booms]</td>\n",
       "      <td>[252]</td>\n",
       "      <td>[5]</td>\n",
       "      <td>[0.5]</td>\n",
       "      <td>[False]</td>\n",
       "    </tr>\n",
       "    <tr>\n",
       "      <th>3</th>\n",
       "      <td>electronics</td>\n",
       "      <td>perfect</td>\n",
       "      <td>color</td>\n",
       "      <td>amazing</td>\n",
       "      <td>color</td>\n",
       "      <td>a93b18abb223549010a8e676cfb2ffb0</td>\n",
       "      <td>1</td>\n",
       "      <td>0.0</td>\n",
       "      <td>False</td>\n",
       "      <td>9f8869ddd92ade59a4db128972492c67</td>\n",
       "      <td>063fe5ccf8860dc591bacec10c8735d5</td>\n",
       "      <td>B00007E7JU</td>\n",
       "      <td>I love my 50mm. At f/1.8, it's close to imposs...</td>\n",
       "      <td>What does it tell us about the color?</td>\n",
       "      <td>[]</td>\n",
       "      <td>[]</td>\n",
       "      <td>[]</td>\n",
       "      <td>[]</td>\n",
       "      <td>[]</td>\n",
       "    </tr>\n",
       "    <tr>\n",
       "      <th>4</th>\n",
       "      <td>electronics</td>\n",
       "      <td>impressive</td>\n",
       "      <td>picture</td>\n",
       "      <td>great</td>\n",
       "      <td>image</td>\n",
       "      <td>231254b7eb9ef7da363ed86cb9eea0df</td>\n",
       "      <td>5</td>\n",
       "      <td>0.6</td>\n",
       "      <td>True</td>\n",
       "      <td>26128195da35fe33ca351524017b6d56</td>\n",
       "      <td>5f9ca4c7ca86909bd58bb2713eb3b091</td>\n",
       "      <td>B00007GQLU</td>\n",
       "      <td>Simply the best lens I have ever used.  Make s...</td>\n",
       "      <td>How good is the image of this camera?</td>\n",
       "      <td>[]</td>\n",
       "      <td>[]</td>\n",
       "      <td>[]</td>\n",
       "      <td>[]</td>\n",
       "      <td>[]</td>\n",
       "    </tr>\n",
       "    <tr>\n",
       "      <th>...</th>\n",
       "      <td>...</td>\n",
       "      <td>...</td>\n",
       "      <td>...</td>\n",
       "      <td>...</td>\n",
       "      <td>...</td>\n",
       "      <td>...</td>\n",
       "      <td>...</td>\n",
       "      <td>...</td>\n",
       "      <td>...</td>\n",
       "      <td>...</td>\n",
       "      <td>...</td>\n",
       "      <td>...</td>\n",
       "      <td>...</td>\n",
       "      <td>...</td>\n",
       "      <td>...</td>\n",
       "      <td>...</td>\n",
       "      <td>...</td>\n",
       "      <td>...</td>\n",
       "      <td>...</td>\n",
       "    </tr>\n",
       "    <tr>\n",
       "      <th>250</th>\n",
       "      <td>electronics</td>\n",
       "      <td>right</td>\n",
       "      <td>size</td>\n",
       "      <td>more reasonable</td>\n",
       "      <td>price</td>\n",
       "      <td>bd9a52715ed9ceabbc2115176d70e6d4</td>\n",
       "      <td>1</td>\n",
       "      <td>0.2</td>\n",
       "      <td>False</td>\n",
       "      <td>d4f9c6f9af5e705eb1bf6fa1b019624a</td>\n",
       "      <td>62326ee218c2e24b73f9b23f55208b72</td>\n",
       "      <td>B00DVFLJDS</td>\n",
       "      <td>This smartphone meets my needs.. The size is j...</td>\n",
       "      <td>How much is the price to pay?</td>\n",
       "      <td>[]</td>\n",
       "      <td>[]</td>\n",
       "      <td>[]</td>\n",
       "      <td>[]</td>\n",
       "      <td>[]</td>\n",
       "    </tr>\n",
       "    <tr>\n",
       "      <th>251</th>\n",
       "      <td>electronics</td>\n",
       "      <td>good</td>\n",
       "      <td>resolution</td>\n",
       "      <td>amazing</td>\n",
       "      <td>resolution</td>\n",
       "      <td>f582f22fe9c904bd60e3b8b70eef1e30</td>\n",
       "      <td>5</td>\n",
       "      <td>0.0</td>\n",
       "      <td>False</td>\n",
       "      <td>d2ebd99eafe1b7ccc884548525f83f94</td>\n",
       "      <td>07285ed920b2056bb427614f9e6c6116</td>\n",
       "      <td>B00F3SOHNU</td>\n",
       "      <td>[Edit 10/27/2013]After I began to edit the rev...</td>\n",
       "      <td>How was my camera's resolution?</td>\n",
       "      <td>[]</td>\n",
       "      <td>[]</td>\n",
       "      <td>[]</td>\n",
       "      <td>[]</td>\n",
       "      <td>[]</td>\n",
       "    </tr>\n",
       "    <tr>\n",
       "      <th>252</th>\n",
       "      <td>electronics</td>\n",
       "      <td>good</td>\n",
       "      <td>brightness</td>\n",
       "      <td>brilliant</td>\n",
       "      <td>color</td>\n",
       "      <td>bf4b46c7643ef312f869d92941b802f8</td>\n",
       "      <td>1</td>\n",
       "      <td>0.0</td>\n",
       "      <td>False</td>\n",
       "      <td>7c971b6ee956bef3b7faa4dd88575f0c</td>\n",
       "      <td>12012d3d628622059784d550e5025b90</td>\n",
       "      <td>B00FEE7B1I</td>\n",
       "      <td>I've been running the Dell Venue Pro 8 daily f...</td>\n",
       "      <td>What color is brighter?</td>\n",
       "      <td>[form factor really]</td>\n",
       "      <td>[101]</td>\n",
       "      <td>[1]</td>\n",
       "      <td>[0.2]</td>\n",
       "      <td>[False]</td>\n",
       "    </tr>\n",
       "    <tr>\n",
       "      <th>253</th>\n",
       "      <td>electronics</td>\n",
       "      <td>tight</td>\n",
       "      <td>case</td>\n",
       "      <td>great</td>\n",
       "      <td>protection</td>\n",
       "      <td>ed6533390fe2fe0d546b69dea570c34b</td>\n",
       "      <td>3</td>\n",
       "      <td>0.0</td>\n",
       "      <td>False</td>\n",
       "      <td>ebaaec25661c0b21f3e5600a1ed7e30b</td>\n",
       "      <td>ee5906ed3306b7c6d219a40adae2c7c2</td>\n",
       "      <td>B00H3OYSHW</td>\n",
       "      <td>I ordered my new NewTrend Airbender Pro NT610K...</td>\n",
       "      <td>How does the selector protection  me?</td>\n",
       "      <td>[it)Protective Capability~5]</td>\n",
       "      <td>[3039]</td>\n",
       "      <td>[1]</td>\n",
       "      <td>[0.0]</td>\n",
       "      <td>[False]</td>\n",
       "    </tr>\n",
       "    <tr>\n",
       "      <th>254</th>\n",
       "      <td>electronics</td>\n",
       "      <td>easy to use</td>\n",
       "      <td>keyboard</td>\n",
       "      <td>removable</td>\n",
       "      <td>keyboard</td>\n",
       "      <td>e7967ad5be0658b4acfca1118f6af1ab</td>\n",
       "      <td>2</td>\n",
       "      <td>0.0</td>\n",
       "      <td>False</td>\n",
       "      <td>57fa25acee9914487510f4a8ee37bca6</td>\n",
       "      <td>4bfdd55cb76def0cbae0e0df5e7a14b6</td>\n",
       "      <td>B00HPM1G8Q</td>\n",
       "      <td>The Belkin QODE Portable Bluetooth Keyboard Ca...</td>\n",
       "      <td>How is the keyboard?</td>\n",
       "      <td>[The keyboard is easy]</td>\n",
       "      <td>[528]</td>\n",
       "      <td>[2]</td>\n",
       "      <td>[0.8333333]</td>\n",
       "      <td>[True]</td>\n",
       "    </tr>\n",
       "  </tbody>\n",
       "</table>\n",
       "<p>255 rows × 19 columns</p>\n",
       "</div>"
      ],
      "text/plain": [
       "          domain       nn_mod      nn_asp        query_mod   query_asp  \\\n",
       "0    electronics      neutral       sound          present        bass   \n",
       "1    electronics        clear        view             easy        time   \n",
       "2    electronics        clear        high            solid        bass   \n",
       "3    electronics      perfect       color          amazing       color   \n",
       "4    electronics   impressive     picture            great       image   \n",
       "..           ...          ...         ...              ...         ...   \n",
       "250  electronics        right        size  more reasonable       price   \n",
       "251  electronics         good  resolution          amazing  resolution   \n",
       "252  electronics         good  brightness        brilliant       color   \n",
       "253  electronics        tight        case            great  protection   \n",
       "254  electronics  easy to use    keyboard        removable    keyboard   \n",
       "\n",
       "                         q_reviews_id  question_subj_level  ques_subj_score  \\\n",
       "0    8fbf26792c438aa83178c2d507af5d77                    1              0.5   \n",
       "1    c68a6cc477b67ae54dbe15fc19b1e2fc                    3              0.0   \n",
       "2    6521176a0cf9742c793c6c2a348eb3a6                    5              0.5   \n",
       "3    a93b18abb223549010a8e676cfb2ffb0                    1              0.0   \n",
       "4    231254b7eb9ef7da363ed86cb9eea0df                    5              0.6   \n",
       "..                                ...                  ...              ...   \n",
       "250  bd9a52715ed9ceabbc2115176d70e6d4                    1              0.2   \n",
       "251  f582f22fe9c904bd60e3b8b70eef1e30                    5              0.0   \n",
       "252  bf4b46c7643ef312f869d92941b802f8                    1              0.0   \n",
       "253  ed6533390fe2fe0d546b69dea570c34b                    3              0.0   \n",
       "254  e7967ad5be0658b4acfca1118f6af1ab                    2              0.0   \n",
       "\n",
       "     is_ques_subjective                         review_id  \\\n",
       "0                 False  d040f2713caa2aff0ce95affb40e12c2   \n",
       "1                 False  acc40990720aba8c38ecc7cda49b4d94   \n",
       "2                 False  12896447561b4f7947c99f5cccdedc7b   \n",
       "3                 False  9f8869ddd92ade59a4db128972492c67   \n",
       "4                  True  26128195da35fe33ca351524017b6d56   \n",
       "..                  ...                               ...   \n",
       "250               False  d4f9c6f9af5e705eb1bf6fa1b019624a   \n",
       "251               False  d2ebd99eafe1b7ccc884548525f83f94   \n",
       "252               False  7c971b6ee956bef3b7faa4dd88575f0c   \n",
       "253               False  ebaaec25661c0b21f3e5600a1ed7e30b   \n",
       "254               False  57fa25acee9914487510f4a8ee37bca6   \n",
       "\n",
       "                                   id       title  \\\n",
       "0    455575557886d6dfeea5aa19577e5de4  B00001P4ZH   \n",
       "1    47110eb7720cffd03bb78f609999243d  B00004SABB   \n",
       "2    0645f5f9fabb5276fea9c572fb1d378d  B000062VUO   \n",
       "3    063fe5ccf8860dc591bacec10c8735d5  B00007E7JU   \n",
       "4    5f9ca4c7ca86909bd58bb2713eb3b091  B00007GQLU   \n",
       "..                                ...         ...   \n",
       "250  62326ee218c2e24b73f9b23f55208b72  B00DVFLJDS   \n",
       "251  07285ed920b2056bb427614f9e6c6116  B00F3SOHNU   \n",
       "252  12012d3d628622059784d550e5025b90  B00FEE7B1I   \n",
       "253  ee5906ed3306b7c6d219a40adae2c7c2  B00H3OYSHW   \n",
       "254  4bfdd55cb76def0cbae0e0df5e7a14b6  B00HPM1G8Q   \n",
       "\n",
       "                                               context  \\\n",
       "0    I have had many sub-$100 headphones from $5 Pa...   \n",
       "1    the view is so good and clear and so easy to f...   \n",
       "2    I first fell in love with Klipsch in the 80s w...   \n",
       "3    I love my 50mm. At f/1.8, it's close to imposs...   \n",
       "4    Simply the best lens I have ever used.  Make s...   \n",
       "..                                                 ...   \n",
       "250  This smartphone meets my needs.. The size is j...   \n",
       "251  [Edit 10/27/2013]After I began to edit the rev...   \n",
       "252  I've been running the Dell Venue Pro 8 daily f...   \n",
       "253  I ordered my new NewTrend Airbender Pro NT610K...   \n",
       "254  The Belkin QODE Portable Bluetooth Keyboard Ca...   \n",
       "\n",
       "                                  question                  answers.text  \\\n",
       "0                         How is the bass?                            []   \n",
       "1                         How is the time?                            []   \n",
       "2                What is the bass provide?                  [Bass booms]   \n",
       "3    What does it tell us about the color?                            []   \n",
       "4    How good is the image of this camera?                            []   \n",
       "..                                     ...                           ...   \n",
       "250          How much is the price to pay?                            []   \n",
       "251        How was my camera's resolution?                            []   \n",
       "252                What color is brighter?          [form factor really]   \n",
       "253  How does the selector protection  me?  [it)Protective Capability~5]   \n",
       "254                   How is the keyboard?        [The keyboard is easy]   \n",
       "\n",
       "    answers.answer_start answers.answer_subj_level answers.ans_subj_score  \\\n",
       "0                     []                        []                     []   \n",
       "1                     []                        []                     []   \n",
       "2                  [252]                       [5]                  [0.5]   \n",
       "3                     []                        []                     []   \n",
       "4                     []                        []                     []   \n",
       "..                   ...                       ...                    ...   \n",
       "250                   []                        []                     []   \n",
       "251                   []                        []                     []   \n",
       "252                [101]                       [1]                  [0.2]   \n",
       "253               [3039]                       [1]                  [0.0]   \n",
       "254                [528]                       [2]            [0.8333333]   \n",
       "\n",
       "    answers.is_ans_subjective  \n",
       "0                          []  \n",
       "1                          []  \n",
       "2                     [False]  \n",
       "3                          []  \n",
       "4                          []  \n",
       "..                        ...  \n",
       "250                        []  \n",
       "251                        []  \n",
       "252                   [False]  \n",
       "253                   [False]  \n",
       "254                    [True]  \n",
       "\n",
       "[255 rows x 19 columns]"
      ]
     },
     "execution_count": 87,
     "metadata": {},
     "output_type": "execute_result"
    }
   ],
   "source": [
    "# We'll use the dataframe\n",
    "df"
   ]
  },
  {
   "cell_type": "code",
   "execution_count": 93,
   "metadata": {},
   "outputs": [
    {
     "data": {
      "text/html": [
       "<div>\n",
       "<style scoped>\n",
       "    .dataframe tbody tr th:only-of-type {\n",
       "        vertical-align: middle;\n",
       "    }\n",
       "\n",
       "    .dataframe tbody tr th {\n",
       "        vertical-align: top;\n",
       "    }\n",
       "\n",
       "    .dataframe thead th {\n",
       "        text-align: right;\n",
       "    }\n",
       "</style>\n",
       "<table border=\"1\" class=\"dataframe\">\n",
       "  <thead>\n",
       "    <tr style=\"text-align: right;\">\n",
       "      <th></th>\n",
       "      <th>domain</th>\n",
       "      <th>nn_mod</th>\n",
       "      <th>nn_asp</th>\n",
       "      <th>query_mod</th>\n",
       "      <th>query_asp</th>\n",
       "      <th>q_reviews_id</th>\n",
       "      <th>question_subj_level</th>\n",
       "      <th>ques_subj_score</th>\n",
       "      <th>is_ques_subjective</th>\n",
       "      <th>review_id</th>\n",
       "      <th>id</th>\n",
       "      <th>title</th>\n",
       "      <th>context</th>\n",
       "      <th>question</th>\n",
       "      <th>answers.text</th>\n",
       "      <th>answers.answer_start</th>\n",
       "      <th>answers.answer_subj_level</th>\n",
       "      <th>answers.ans_subj_score</th>\n",
       "      <th>answers.is_ans_subjective</th>\n",
       "    </tr>\n",
       "  </thead>\n",
       "  <tbody>\n",
       "    <tr>\n",
       "      <th>238</th>\n",
       "      <td>electronics</td>\n",
       "      <td>quick</td>\n",
       "      <td>setup</td>\n",
       "      <td>simple</td>\n",
       "      <td>set</td>\n",
       "      <td>2c32c671de4be5bbc6feab910a76ae7f</td>\n",
       "      <td>1</td>\n",
       "      <td>0.357143</td>\n",
       "      <td>False</td>\n",
       "      <td>6b05cce6f0560eb8b3b09f3caee5d106</td>\n",
       "      <td>a3fbfadc0d70c5e40ea140ffd7de8f58</td>\n",
       "      <td>B00DR0PDNE</td>\n",
       "      <td>I hooked this thing up today and have taken it...</td>\n",
       "      <td>What is the set of simple things you need?</td>\n",
       "      <td>[]</td>\n",
       "      <td>[]</td>\n",
       "      <td>[]</td>\n",
       "      <td>[]</td>\n",
       "      <td>[]</td>\n",
       "    </tr>\n",
       "    <tr>\n",
       "      <th>239</th>\n",
       "      <td>electronics</td>\n",
       "      <td>quick</td>\n",
       "      <td>setup</td>\n",
       "      <td>fast</td>\n",
       "      <td>setup</td>\n",
       "      <td>7e0c413897fad8b90fe917017f522b8b</td>\n",
       "      <td>1</td>\n",
       "      <td>0.000000</td>\n",
       "      <td>False</td>\n",
       "      <td>6b05cce6f0560eb8b3b09f3caee5d106</td>\n",
       "      <td>b5b21ab6463b1189c64c01592a882b54</td>\n",
       "      <td>B00DR0PDNE</td>\n",
       "      <td>I hooked this thing up today and have taken it...</td>\n",
       "      <td>Where can I send to setup my device?</td>\n",
       "      <td>[]</td>\n",
       "      <td>[]</td>\n",
       "      <td>[]</td>\n",
       "      <td>[]</td>\n",
       "      <td>[]</td>\n",
       "    </tr>\n",
       "  </tbody>\n",
       "</table>\n",
       "</div>"
      ],
      "text/plain": [
       "          domain nn_mod nn_asp query_mod query_asp  \\\n",
       "238  electronics  quick  setup    simple       set   \n",
       "239  electronics  quick  setup      fast     setup   \n",
       "\n",
       "                         q_reviews_id  question_subj_level  ques_subj_score  \\\n",
       "238  2c32c671de4be5bbc6feab910a76ae7f                    1         0.357143   \n",
       "239  7e0c413897fad8b90fe917017f522b8b                    1         0.000000   \n",
       "\n",
       "     is_ques_subjective                         review_id  \\\n",
       "238               False  6b05cce6f0560eb8b3b09f3caee5d106   \n",
       "239               False  6b05cce6f0560eb8b3b09f3caee5d106   \n",
       "\n",
       "                                   id       title  \\\n",
       "238  a3fbfadc0d70c5e40ea140ffd7de8f58  B00DR0PDNE   \n",
       "239  b5b21ab6463b1189c64c01592a882b54  B00DR0PDNE   \n",
       "\n",
       "                                               context  \\\n",
       "238  I hooked this thing up today and have taken it...   \n",
       "239  I hooked this thing up today and have taken it...   \n",
       "\n",
       "                                       question answers.text  \\\n",
       "238  What is the set of simple things you need?           []   \n",
       "239        Where can I send to setup my device?           []   \n",
       "\n",
       "    answers.answer_start answers.answer_subj_level answers.ans_subj_score  \\\n",
       "238                   []                        []                     []   \n",
       "239                   []                        []                     []   \n",
       "\n",
       "    answers.is_ans_subjective  \n",
       "238                        []  \n",
       "239                        []  "
      ]
     },
     "execution_count": 93,
     "metadata": {},
     "output_type": "execute_result"
    }
   ],
   "source": [
    "# Each review is associated with multiple questions\n",
    "df[df['review_id'] == \"6b05cce6f0560eb8b3b09f3caee5d106\"]"
   ]
  },
  {
   "cell_type": "code",
   "execution_count": null,
   "metadata": {},
   "outputs": [],
   "source": [
    "question_df = df.query(f\"id == '455575557886d6dfeea5aa19577e5de4'\").to_dict(orient=\"list\")\n",
    "question_df"
   ]
  },
  {
   "cell_type": "code",
   "execution_count": 118,
   "metadata": {},
   "outputs": [],
   "source": [
    "def create_paragraphs(df):\n",
    "    # To store paragraph, qas pairs\n",
    "    paragraphs = []\n",
    "    # Colllect all context(one is associated with multiple questions) with review_ids(unique)\n",
    "    id2context = dict(zip(df[\"review_id\"], df[\"context\"]))\n",
    "    # Loop through each review_id to get all questions\n",
    "    for review_id, review in id2context.items():\n",
    "        # To store all questions for a single context\n",
    "        qas = []\n",
    "        # Collect all questions\n",
    "        review_df = df.query(f\"review_id == '{review_id}'\")\n",
    "        id2question = dict(zip(review_df[\"id\"], review_df['question']))\n",
    "        # Build the qas array\n",
    "        for qid, question in id2question.items():\n",
    "            # Filter for question ID\n",
    "            question_df =df.query(f\"id == '{qid}'\").to_dict(orient=\"list\")\n",
    "            ans_start_idx = question_df[\"answers.answer_start\"][0].tolist()\n",
    "            ans_text = question_df[\"answers.text\"][0].tolist()\n",
    "\n",
    "            if len(ans_start_idx):\n",
    "                answers = [\n",
    "                    {\n",
    "                        \"text\": text,\n",
    "                        \"answer_start\": answer_start,\n",
    "                    }\n",
    "                    for text, answer_start in zip(ans_text, ans_start_idx)\n",
    "                ]\n",
    "                is_impossible = False\n",
    "            else:\n",
    "                answers = []\n",
    "                is_impossible = True\n",
    "            qas.append(\n",
    "                {\n",
    "                    \"question\": question,\n",
    "                    \"id\": qid,\n",
    "                    \"is_impossible\": is_impossible,\n",
    "                    \"answers\": answers\n",
    "                }\n",
    "            )\n",
    "        # add qas - question-answer pairs to paragraphs\n",
    "        paragraphs.append(\n",
    "            {\n",
    "                \"qas\": qas,\n",
    "                \"context\": review\n",
    "            }\n",
    "        )\n",
    "    return paragraphs\n"
   ]
  },
  {
   "cell_type": "code",
   "execution_count": 119,
   "metadata": {},
   "outputs": [
    {
     "data": {
      "text/plain": [
       "[{'qas': [{'question': 'How is the bass?',\n",
       "    'id': '2543d296da9766d8d17d040ecc781699',\n",
       "    'is_impossible': True,\n",
       "    'answers': []}],\n",
       "  'context': 'I have had Koss headphones in the past, Pro 4AA and QZ-99.  The Koss Portapro is portable AND has great bass response.  The work great with my Android phone and can be \"rolled up\" to be carried in my motorcycle jacket or computer bag without getting crunched.  They are very light and do not feel heavy or bear down on your ears even after listening to music with them on all day.  The sound is night and day better than any ear-bud could be and are almost as good as the Pro 4AA.  They are \"open air\" headphones so you cannot match the bass to the sealed types, but it comes close. For $32, you cannot go wrong.'},\n",
       " {'qas': [{'question': 'Is this music song have a goo bass?',\n",
       "    'id': 'd476830bf9282e2b9033e2bb44bbb995',\n",
       "    'is_impossible': False,\n",
       "    'answers': [{'text': 'Bass is weak as expected', 'answer_start': 1302},\n",
       "     {'text': 'Bass is weak as expected, even with EQ adjusted up',\n",
       "      'answer_start': 1302}]}],\n",
       "  'context': 'To anyone who hasn\\'t tried all the various types of headphones, it is important to remember exactly what these are: cheap portable on-ear headphones. They give a totally different sound then in-ears or closed design phones, but for what they are I would say they\\'re good. I currently own six pairs of phones, from stock apple earbuds to Sennheiser HD 518s. Gave my Portapros a run on both my computer\\'s sound card and mp3 player, using 256 kbps mp3s or better. The clarity is good and they\\'re very lightweight. The folding design is simple but effective. The look is certainly retro and unique, although I didn\\'t find it as comfortable as many have claimed. Earpads are *very* thin and made my ears sore after 30 minutes of listening, although this can be remedied to a point by adjusting the \"comfort zone\" feature (tightening the temple pads while loosening the ear pads). The cord seems to be an average thickness, but I wouldn\\'t get too rough with these. The steel headband adjusts smoothly and easily, just watch out that the slider doesn\\'t catch your hair. Despite the sore ears, the phones are very lightweight overall.Back to the sound: as you would expect, it\\'s good for a portable phone, but hardly earth shattering. At flat EQ the clarity is good, although the highs can sometimes be harsh. Bass is weak as expected, even with EQ adjusted up. To be fair, a portable on-ear would have a tough time comparing to the bass of an in-ear with a good seal or a pair with larger drivers. No sound isolation offered if you\\'re into that sort of thing. Cool 80s phones, though I\\'ve certainly owned better portable on-ears (Sony makes excellent phones in this category). Soundstage is very narrow and lacks body. A good value if you can get them for under thirty, otherwise I\\'d rather invest in a nicer pair of phones. If we\\'re talking about value, they\\'re a good buy compared to new stock apple buds. If you\\'re trying to compare the sound quality of this product to serious headphones, there\\'s really no comparison at all.Update: After 100 hours of burn-in time the sound has not been affected in any appreciable way. Highs are still harsh, and bass is still underwhelming. I sometimes use these as a convenience but they have been largely replaced in my collection.'},\n",
       " {'qas': [{'question': 'How is the bass?',\n",
       "    'id': '455575557886d6dfeea5aa19577e5de4',\n",
       "    'is_impossible': False,\n",
       "    'answers': [{'text': 'The only fault in the sound is the bass',\n",
       "      'answer_start': 650}]}],\n",
       "  'context': \"I have had many sub-$100 headphones from $5 Panasonic to $100 Sony, with Sennheiser HD 433, 202, PX100 II (I really wanted to like these PX100-II, they were so very well designed), and even a Grado SR60 for awhile.  And what it basically comes down to is value.  I have never heard sound as good as these headphones in the $35 range, easily the best under $75.  I can't believe they're over 25 years old.It's hard to describe how much detail these headphones bring out without making it too harsh or dull.  I listen to every type of music from classical to hip hop to electronic to country, and these headphones are suitable for all types of music.  The only fault in the sound is the bass.  It's just a *slight* bit boomy, but you get to like it after a while to be honest.The design is from the 80s as you all have probably figured out.  It could use a update but it seems like Koss has tried to perfect this formula and failed in the past.  I don't really care about the looks or the way it folds up or the fact that my hair gets caught up in it (I have very short hair, even for a male).But despite it's design flaws, it's the most comfortable headphones I have ever worn, and the best part is that it's also the best sounding pair of headphones I have ever heard under $75.If you can get over the design flaws or if sound is the most important feature of headphones for you, there is nothing even close to this at this price range.This one is an absolute GEM.  I loved these so much I ordered two of the 25th Anniversary ones for a bit more.Update: I read some reviews about the PX100-II being much improved and better sounding than the PortaPro.  Since the PX100-II is relatively new, I thought I'd give it another listen.  This time I noticed something different.  The sound is warm, mellow, and neutral, but it loses a lot of detail at the expense of these attributes.  I still prefer higher-detail Portapro, but some may prefer the more mellow sound of the PX100-II.Oh by the way the Portapro comes in the straight plug now, not the angled plug anymore.  It's supposed to be for better compatibility with the iPods and iPhones out there.\"}]"
      ]
     },
     "execution_count": 119,
     "metadata": {},
     "output_type": "execute_result"
    }
   ],
   "source": [
    "# Testing for a single product, to verify the SQuAD format\n",
    "product = dfs[\"train\"].query(\"title == 'B00001P4ZH'\")\n",
    "create_paragraphs(product)"
   ]
  },
  {
   "cell_type": "markdown",
   "metadata": {},
   "source": [
    "This function gives qas, review in SQuAD format for a single product df."
   ]
  },
  {
   "cell_type": "code",
   "execution_count": 120,
   "metadata": {},
   "outputs": [],
   "source": [
    "\n",
    "import json\n",
    "\n",
    "def convert_to_squad(dfs):\n",
    "    for split, df in dfs.items():\n",
    "        subjqa_data = {}\n",
    "        # Create `paragraphs` for each product ID\n",
    "        groups = (df.groupby(\"title\").apply(create_paragraphs)\n",
    "            .to_frame(name=\"paragraphs\").reset_index())\n",
    "        subjqa_data[\"data\"] = groups.to_dict(orient=\"records\")\n",
    "        # Save the result to disk\n",
    "        with open(f\"electronics-{split}.json\", \"w+\", encoding=\"utf-8\") as f:\n",
    "            json.dump(subjqa_data, f)\n",
    "            \n",
    "convert_to_squad(dfs)"
   ]
  },
  {
   "cell_type": "code",
   "execution_count": null,
   "metadata": {},
   "outputs": [],
   "source": []
  }
 ],
 "metadata": {
  "kernelspec": {
   "display_name": "nlp",
   "language": "python",
   "name": "python3"
  },
  "language_info": {
   "codemirror_mode": {
    "name": "ipython",
    "version": 3
   },
   "file_extension": ".py",
   "mimetype": "text/x-python",
   "name": "python",
   "nbconvert_exporter": "python",
   "pygments_lexer": "ipython3",
   "version": "3.9.17"
  },
  "orig_nbformat": 4
 },
 "nbformat": 4,
 "nbformat_minor": 2
}
