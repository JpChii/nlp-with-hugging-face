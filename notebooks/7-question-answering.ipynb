{
 "cells": [
  {
   "cell_type": "markdown",
   "metadata": {},
   "source": [
    "# Question Answering\n",
    "\n",
    "Irrespective of profession, everyone has to wade through ocean of documents at some point to find the information for their questions.  To make matters worse, we're constantly reminded by search engines there are better ways to search! For instance the earch query \"When did Marie Curie win her first Nobel Prize?\" And google get the correct answer of \"1903\".\n",
    "\n",
    "So how was this search done? Google first retrieved 319,000 documents that were relevant to query, then performed a post processing step to extract the answer snippet with the coressponding passage and web page. But for a more trickier question like \"Which guitar tuning is best?\" We'll get web pages instead of an answer snippet.\n",
    "\n",
    "The general approach behind this technology is called *question answering*(QA), but the most common is *extractive QA* which involves questions where answers can be identified as a span in a text document, where the document might be a web page, article, legal document etc.\n",
    "\n",
    "This two stage process of retrieving relevant documents and then extracting answers from this is the basis of many modern QA systems like semantic search, intellegint assistants and automated information extractors. \n",
    "\n",
    "> **Note:** We're covering only extractive QA. There are others,\n",
    " * community QA Ex: In stack overflow, all the relevant question answer pairs will be retrived for the new Question from user and then using semantic similarity search to find the closest maching answer to this question.\n",
    " * long-form QA, which aims to generate complex paragraph-length answers to open ended questions like \"Why sky is blue?\"\n",
    " * QA can be done over tables as well, and transformer models like TAPAS can even peroform aggregations to produce the final answer!\n",
    "\n",
    "## Use Case\n",
    "\n",
    "In this notebook, we'll use QA system to solve a common problem facing ecommerce websites: helping consumers evaluate a product by answering specific queries. We'll see that the customer reviews can be used as a rich and challenging source of information for QA. Along the way we'll learn transformers capbality of *reading comprehehsion* and how the model can extract meaning from text."
   ]
  },
  {
   "cell_type": "markdown",
   "metadata": {},
   "source": [
    "## Building a Review-Based QA System\n",
    "\n",
    "Let's say we want to buy a smartphone, and we've question on nightmode camera capbalities. This information is not readily available in product description. We can find the answer for this in reviews by other customers. But we might've to comb throuch thousands of reviews to find the relevant answer. It'll be great if we can have a search like google right? Let's do this using transformers!"
   ]
  },
  {
   "cell_type": "markdown",
   "metadata": {},
   "source": [
    "### The Dataset\n",
    "\n",
    "To build our QA system, we'll use [SubQA](https://arxiv.org/abs/2004.14283) dataset, which consists of 10,000+ reviews where each review is associated with a question and answer from one or more sentences from the review. The reviews are about products and services in six domains: TripAdvisor, Restaurants, Movies, Books, Electronics and Grocery.\n",
    "\n",
    "*Data example*\n",
    "\n",
    "![alt](../notes/images/7-question-answering/subqa-data-sample.png)\n",
    "\n",
    "The intersting aspect of this dataset is question(from users), answers(extraced from reviews) are *subjective*. The question on camera quality from user, the quality is subjective to each user and answer might not be from the same point of view question is raised... This is why it's easier to answer fatcual questions like \"What's the capital of a country\"\n",
    "Second, important parts of the question do not appear in review at all, so we can't use shortcuts like keyword search or paraphrasing the input question.\n",
    "\n",
    "Because of these points, SubQA is a greate dataset to benchamrk review-based QA models, sicne user-generated content in the example resembles what we might encounter in the wild.\n",
    "\n",
    "> **Note:** QA systems are categorized accordig to the domains it has access to while answering the questions. \n",
    "  * *Narrow QA* answers question about a single product less documents to search\n",
    "  * *Open-domain QA* deals with questions about almost anything(eg. amazon's whole product catalog.) more documents to search"
   ]
  },
  {
   "cell_type": "markdown",
   "metadata": {},
   "source": [
    "### The Dataset\n",
    "\n",
    "To build our QA system, we'll use [SubQA](https://arxiv.org/abs/2004.14283) dataset, which consists of 10,000+ reviews where each review is associated with a question and answer from one or more sentences from the review. The reviews are about products and services in six domains: TripAdvisor, Restaurants, Movies, Books, Electronics and Grocery.\n",
    "\n",
    "*Data example*\n",
    "\n",
    "![alt](../notes/images/7-question-answering/subqa-data-sample.png)\n",
    "\n",
    "The intersting aspect of this dataset is question(from users), answers(extraced from reviews) are *subjective*. The question on camera quality from user, the quality is subjective to each user and answer might not be from the same point of view question is raised... This is why it's easier to answer fatcual questions like \"What's the capital of a country\"\n",
    "Second, important parts of the question do not appear in review at all, so we can't use shortcuts like keyword search or paraphrasing the input question.\n",
    "\n",
    "Because of these points, SubQA is a greate dataset to benchamrk review-based QA models, sicne user-generated content in the example resembles what we might encounter in the wild.\n",
    "\n",
    "> **Note:** QA systems are categorized accordig to the domains it has access to while answering the questions. \n",
    "  * *Narrow QA* answers question about a single product less documents to search\n",
    "  * *Open-domain QA* deals with questions about almost anything(eg. amazon's whole product catalog.) more documents to search"
   ]
  },
  {
   "cell_type": "markdown",
   "metadata": {},
   "source": [
    "### The Dataset\n",
    "\n",
    "To build our QA system, we'll use [SubQA](https://arxiv.org/abs/2004.14283) dataset, which consists of 10,000+ reviews where each review is associated with a question and answer from one or more sentences from the review. The reviews are about products and services in six domains: TripAdvisor, Restaurants, Movies, Books, Electronics and Grocery.\n",
    "\n",
    "*Data example*\n",
    "\n",
    "![alt](../notes/images/7-question-answering/subqa-data-sample.png)\n",
    "\n",
    "The intersting aspect of this dataset is question(from users), answers(extraced from reviews) are *subjective*. The question on camera quality from user, the quality is subjective to each user and answer might not be from the same point of view question is raised... This is why it's easier to answer fatcual questions like \"What's the capital of a country\"\n",
    "Second, important parts of the question do not appear in review at all, so we can't use shortcuts like keyword search or paraphrasing the input question.\n",
    "\n",
    "Because of these points, SubQA is a greate dataset to benchamrk review-based QA models, sicne user-generated content in the example resembles what we might encounter in the wild.\n",
    "\n",
    "> **Note:** QA systems are categorized accordig to the domains it has access to while answering the questions. \n",
    "  * *Narrow QA* answers question about a single product less documents to search\n",
    "  * *Open-domain QA* deals with questions about almost anything(eg. amazon's whole product catalog.) more documents to search"
   ]
  },
  {
   "cell_type": "markdown",
   "metadata": {},
   "source": [
    "To get started , let's download the dataset from hub. we can use the `get_dataset_config_names()` function to find out which subsets are available:"
   ]
  },
  {
   "cell_type": "code",
   "execution_count": 1,
   "metadata": {},
   "outputs": [
    {
     "data": {
      "text/plain": [
       "['books', 'electronics', 'grocery', 'movies', 'restaurants', 'tripadvisor']"
      ]
     },
     "execution_count": 1,
     "metadata": {},
     "output_type": "execute_result"
    }
   ],
   "source": [
    "from datasets import get_dataset_config_names\n",
    "\n",
    "domains = get_dataset_config_names(\"subjqa\")\n",
    "domains"
   ]
  },
  {
   "cell_type": "markdown",
   "metadata": {},
   "source": [
    "In this notebook, we'll be focusing on developing a QA system for Electronic domain. To do that let's download the `electronics` subset."
   ]
  },
  {
   "cell_type": "code",
   "execution_count": 2,
   "metadata": {},
   "outputs": [
    {
     "name": "stderr",
     "output_type": "stream",
     "text": [
      "Found cached dataset subjqa (/Users/jayaprakashsivagami/.cache/huggingface/datasets/subjqa/electronics/1.1.0/2c12e496c4c675ab4a57ffb5d3f538f2e7b89793956e50da37126393ce23b6c6)\n"
     ]
    },
    {
     "data": {
      "application/vnd.jupyter.widget-view+json": {
       "model_id": "00bae4fd575d4c9798c2260de7479aaf",
       "version_major": 2,
       "version_minor": 0
      },
      "text/plain": [
       "  0%|          | 0/3 [00:00<?, ?it/s]"
      ]
     },
     "metadata": {},
     "output_type": "display_data"
    }
   ],
   "source": [
    "from datasets import load_dataset\n",
    "subjqa = load_dataset(\n",
    "    path=\"subjqa\",\n",
    "    name=\"electronics\"\n",
    ")"
   ]
  },
  {
   "cell_type": "code",
   "execution_count": 3,
   "metadata": {},
   "outputs": [
    {
     "data": {
      "text/plain": [
       "DatasetDict({\n",
       "    train: Dataset({\n",
       "        features: ['domain', 'nn_mod', 'nn_asp', 'query_mod', 'query_asp', 'q_reviews_id', 'question_subj_level', 'ques_subj_score', 'is_ques_subjective', 'review_id', 'id', 'title', 'context', 'question', 'answers'],\n",
       "        num_rows: 1295\n",
       "    })\n",
       "    test: Dataset({\n",
       "        features: ['domain', 'nn_mod', 'nn_asp', 'query_mod', 'query_asp', 'q_reviews_id', 'question_subj_level', 'ques_subj_score', 'is_ques_subjective', 'review_id', 'id', 'title', 'context', 'question', 'answers'],\n",
       "        num_rows: 358\n",
       "    })\n",
       "    validation: Dataset({\n",
       "        features: ['domain', 'nn_mod', 'nn_asp', 'query_mod', 'query_asp', 'q_reviews_id', 'question_subj_level', 'ques_subj_score', 'is_ques_subjective', 'review_id', 'id', 'title', 'context', 'question', 'answers'],\n",
       "        num_rows: 255\n",
       "    })\n",
       "})"
      ]
     },
     "execution_count": 3,
     "metadata": {},
     "output_type": "execute_result"
    }
   ],
   "source": [
    "subjqa"
   ]
  },
  {
   "cell_type": "code",
   "execution_count": 4,
   "metadata": {},
   "outputs": [
    {
     "name": "stdout",
     "output_type": "stream",
     "text": [
      "domain\n",
      "nn_mod\n",
      "nn_asp\n",
      "query_mod\n",
      "query_asp\n",
      "q_reviews_id\n",
      "question_subj_level\n",
      "ques_subj_score\n",
      "is_ques_subjective\n",
      "review_id\n",
      "id\n",
      "title\n",
      "context\n",
      "question\n",
      "answers\n"
     ]
    }
   ],
   "source": [
    "# Features in the dataset\n",
    "for i in subjqa[\"train\"].features:\n",
    "    print(i)"
   ]
  },
  {
   "cell_type": "markdown",
   "metadata": {},
   "source": [
    "Like other question answering datasets on the Hub, SubjQA stores the answers to each questions as a nested dictionary. Let's inspect the answers column."
   ]
  },
  {
   "cell_type": "code",
   "execution_count": 5,
   "metadata": {},
   "outputs": [
    {
     "name": "stdout",
     "output_type": "stream",
     "text": [
      "{'text': ['Bass is weak as expected', 'Bass is weak as expected, even with EQ adjusted up'], 'answer_start': [1302, 1302], 'answer_subj_level': [1, 1], 'ans_subj_score': [0.5083333253860474, 0.5083333253860474], 'is_ans_subjective': [True, True]}\n"
     ]
    }
   ],
   "source": [
    "print(subjqa[\"train\"][\"answers\"][1])"
   ]
  },
  {
   "cell_type": "code",
   "execution_count": 6,
   "metadata": {},
   "outputs": [
    {
     "name": "stdout",
     "output_type": "stream",
     "text": [
      "text\n",
      "['Bass is weak as expected', 'Bass is weak as expected, even with EQ adjusted up']\n",
      "\n",
      "answer_start\n",
      "[1302, 1302]\n",
      "\n",
      "answer_subj_level\n",
      "[1, 1]\n",
      "\n",
      "ans_subj_score\n",
      "[0.5083333253860474, 0.5083333253860474]\n",
      "\n",
      "is_ans_subjective\n",
      "[True, True]\n",
      "\n"
     ]
    }
   ],
   "source": [
    "# Answers has other nested keys inside\n",
    "for k, v in subjqa[\"train\"][\"answers\"][1].items():\n",
    "    print(k)\n",
    "    print(v)\n",
    "    print(\"\")"
   ]
  },
  {
   "cell_type": "markdown",
   "metadata": {},
   "source": [
    "The answers are stored in `text` field, while the starting character indices are provided in `answer_start`. To explore the dataset more easily, let's flatten the nested dict and convert this to a `DataFrame`.\n",
    "\n",
    "We'll use dataset's [flatten()](https://huggingface.co/docs/datasets/package_reference/main_classes#datasets.Dataset.flatten) to do this."
   ]
  },
  {
   "cell_type": "code",
   "execution_count": 7,
   "metadata": {},
   "outputs": [
    {
     "name": "stdout",
     "output_type": "stream",
     "text": [
      "Number of questions in train: 1295\n",
      "Number of questions in test: 358\n",
      "Number of questions in validation: 255\n"
     ]
    }
   ],
   "source": [
    "import pandas as pd\n",
    "dfs = {split: dset.to_pandas() for split, dset in subjqa.flatten().items()}\n",
    "for split, df in dfs.items():\n",
    "    print(f\"Number of questions in {split}: {df['id'].nunique()}\")"
   ]
  },
  {
   "cell_type": "code",
   "execution_count": 8,
   "metadata": {},
   "outputs": [
    {
     "name": "stdout",
     "output_type": "stream",
     "text": [
      "<class 'pandas.core.frame.DataFrame'>\n",
      "RangeIndex: 1295 entries, 0 to 1294\n",
      "Data columns (total 19 columns):\n",
      " #   Column                     Non-Null Count  Dtype  \n",
      "---  ------                     --------------  -----  \n",
      " 0   domain                     1295 non-null   object \n",
      " 1   nn_mod                     1295 non-null   object \n",
      " 2   nn_asp                     1295 non-null   object \n",
      " 3   query_mod                  1295 non-null   object \n",
      " 4   query_asp                  1295 non-null   object \n",
      " 5   q_reviews_id               1295 non-null   object \n",
      " 6   question_subj_level        1295 non-null   int64  \n",
      " 7   ques_subj_score            1295 non-null   float32\n",
      " 8   is_ques_subjective         1295 non-null   bool   \n",
      " 9   review_id                  1295 non-null   object \n",
      " 10  id                         1295 non-null   object \n",
      " 11  title                      1295 non-null   object \n",
      " 12  context                    1295 non-null   object \n",
      " 13  question                   1295 non-null   object \n",
      " 14  answers.text               1295 non-null   object \n",
      " 15  answers.answer_start       1295 non-null   object \n",
      " 16  answers.answer_subj_level  1295 non-null   object \n",
      " 17  answers.ans_subj_score     1295 non-null   object \n",
      " 18  answers.is_ans_subjective  1295 non-null   object \n",
      "dtypes: bool(1), float32(1), int64(1), object(16)\n",
      "memory usage: 178.4+ KB\n"
     ]
    }
   ],
   "source": [
    "dfs[\"train\"].info()"
   ]
  },
  {
   "cell_type": "code",
   "execution_count": 12,
   "metadata": {},
   "outputs": [
    {
     "data": {
      "text/html": [
       "<div>\n",
       "<style scoped>\n",
       "    .dataframe tbody tr th:only-of-type {\n",
       "        vertical-align: middle;\n",
       "    }\n",
       "\n",
       "    .dataframe tbody tr th {\n",
       "        vertical-align: top;\n",
       "    }\n",
       "\n",
       "    .dataframe thead th {\n",
       "        text-align: right;\n",
       "    }\n",
       "</style>\n",
       "<table border=\"1\" class=\"dataframe\">\n",
       "  <thead>\n",
       "    <tr style=\"text-align: right;\">\n",
       "      <th></th>\n",
       "      <th>0</th>\n",
       "      <th>1</th>\n",
       "    </tr>\n",
       "  </thead>\n",
       "  <tbody>\n",
       "    <tr>\n",
       "      <th>domain</th>\n",
       "      <td>electronics</td>\n",
       "      <td>electronics</td>\n",
       "    </tr>\n",
       "    <tr>\n",
       "      <th>nn_mod</th>\n",
       "      <td>great</td>\n",
       "      <td>harsh</td>\n",
       "    </tr>\n",
       "    <tr>\n",
       "      <th>nn_asp</th>\n",
       "      <td>bass response</td>\n",
       "      <td>high</td>\n",
       "    </tr>\n",
       "    <tr>\n",
       "      <th>query_mod</th>\n",
       "      <td>excellent</td>\n",
       "      <td>not strong</td>\n",
       "    </tr>\n",
       "    <tr>\n",
       "      <th>query_asp</th>\n",
       "      <td>bass</td>\n",
       "      <td>bass</td>\n",
       "    </tr>\n",
       "    <tr>\n",
       "      <th>q_reviews_id</th>\n",
       "      <td>0514ee34b672623dff659334a25b599b</td>\n",
       "      <td>7c46670208f7bf5497480fbdbb44561a</td>\n",
       "    </tr>\n",
       "    <tr>\n",
       "      <th>question_subj_level</th>\n",
       "      <td>5</td>\n",
       "      <td>1</td>\n",
       "    </tr>\n",
       "    <tr>\n",
       "      <th>ques_subj_score</th>\n",
       "      <td>0.5</td>\n",
       "      <td>0.5</td>\n",
       "    </tr>\n",
       "    <tr>\n",
       "      <th>is_ques_subjective</th>\n",
       "      <td>False</td>\n",
       "      <td>False</td>\n",
       "    </tr>\n",
       "    <tr>\n",
       "      <th>review_id</th>\n",
       "      <td>882b1e2745a4779c8f17b3d4406b91c7</td>\n",
       "      <td>ce76793f036494eabe07b33a9a67288a</td>\n",
       "    </tr>\n",
       "    <tr>\n",
       "      <th>id</th>\n",
       "      <td>2543d296da9766d8d17d040ecc781699</td>\n",
       "      <td>d476830bf9282e2b9033e2bb44bbb995</td>\n",
       "    </tr>\n",
       "    <tr>\n",
       "      <th>title</th>\n",
       "      <td>B00001P4ZH</td>\n",
       "      <td>B00001P4ZH</td>\n",
       "    </tr>\n",
       "    <tr>\n",
       "      <th>context</th>\n",
       "      <td>I have had Koss headphones in the past, Pro 4A...</td>\n",
       "      <td>To anyone who hasn't tried all the various typ...</td>\n",
       "    </tr>\n",
       "    <tr>\n",
       "      <th>question</th>\n",
       "      <td>How is the bass?</td>\n",
       "      <td>Is this music song have a goo bass?</td>\n",
       "    </tr>\n",
       "    <tr>\n",
       "      <th>answers.text</th>\n",
       "      <td>[]</td>\n",
       "      <td>[Bass is weak as expected, Bass is weak as exp...</td>\n",
       "    </tr>\n",
       "    <tr>\n",
       "      <th>answers.answer_start</th>\n",
       "      <td>[]</td>\n",
       "      <td>[1302, 1302]</td>\n",
       "    </tr>\n",
       "    <tr>\n",
       "      <th>answers.answer_subj_level</th>\n",
       "      <td>[]</td>\n",
       "      <td>[1, 1]</td>\n",
       "    </tr>\n",
       "    <tr>\n",
       "      <th>answers.ans_subj_score</th>\n",
       "      <td>[]</td>\n",
       "      <td>[0.5083333, 0.5083333]</td>\n",
       "    </tr>\n",
       "    <tr>\n",
       "      <th>answers.is_ans_subjective</th>\n",
       "      <td>[]</td>\n",
       "      <td>[True, True]</td>\n",
       "    </tr>\n",
       "  </tbody>\n",
       "</table>\n",
       "</div>"
      ],
      "text/plain": [
       "                                                                           0  \\\n",
       "domain                                                           electronics   \n",
       "nn_mod                                                                 great   \n",
       "nn_asp                                                         bass response   \n",
       "query_mod                                                          excellent   \n",
       "query_asp                                                               bass   \n",
       "q_reviews_id                                0514ee34b672623dff659334a25b599b   \n",
       "question_subj_level                                                        5   \n",
       "ques_subj_score                                                          0.5   \n",
       "is_ques_subjective                                                     False   \n",
       "review_id                                   882b1e2745a4779c8f17b3d4406b91c7   \n",
       "id                                          2543d296da9766d8d17d040ecc781699   \n",
       "title                                                             B00001P4ZH   \n",
       "context                    I have had Koss headphones in the past, Pro 4A...   \n",
       "question                                                    How is the bass?   \n",
       "answers.text                                                              []   \n",
       "answers.answer_start                                                      []   \n",
       "answers.answer_subj_level                                                 []   \n",
       "answers.ans_subj_score                                                    []   \n",
       "answers.is_ans_subjective                                                 []   \n",
       "\n",
       "                                                                           1  \n",
       "domain                                                           electronics  \n",
       "nn_mod                                                                 harsh  \n",
       "nn_asp                                                                  high  \n",
       "query_mod                                                         not strong  \n",
       "query_asp                                                               bass  \n",
       "q_reviews_id                                7c46670208f7bf5497480fbdbb44561a  \n",
       "question_subj_level                                                        1  \n",
       "ques_subj_score                                                          0.5  \n",
       "is_ques_subjective                                                     False  \n",
       "review_id                                   ce76793f036494eabe07b33a9a67288a  \n",
       "id                                          d476830bf9282e2b9033e2bb44bbb995  \n",
       "title                                                             B00001P4ZH  \n",
       "context                    To anyone who hasn't tried all the various typ...  \n",
       "question                                 Is this music song have a goo bass?  \n",
       "answers.text               [Bass is weak as expected, Bass is weak as exp...  \n",
       "answers.answer_start                                            [1302, 1302]  \n",
       "answers.answer_subj_level                                             [1, 1]  \n",
       "answers.ans_subj_score                                [0.5083333, 0.5083333]  \n",
       "answers.is_ans_subjective                                       [True, True]  "
      ]
     },
     "execution_count": 12,
     "metadata": {},
     "output_type": "execute_result"
    }
   ],
   "source": [
    "dfs[\"train\"].head(2).T"
   ]
  },
  {
   "cell_type": "markdown",
   "metadata": {},
   "source": [
    "There are quite a few columns, we'll use the below columns for this use case:\n",
    "\n",
    "1. `title` -> Amazon Standard Identification Number (ASIN) associated with each product\n",
    "2. `question` -> Question itself\n",
    "3. `answers.answer_text` -> The span of text in the review labelled by annotator\n",
    "4. `answers.answer_start` -> The start charachter index of the answer span\n",
    "5. `context` -> The customer review\n",
    "\n",
    "Let''s look at these columns alone."
   ]
  },
  {
   "cell_type": "code",
   "execution_count": 21,
   "metadata": {},
   "outputs": [
    {
     "data": {
      "text/html": [
       "<div>\n",
       "<style scoped>\n",
       "    .dataframe tbody tr th:only-of-type {\n",
       "        vertical-align: middle;\n",
       "    }\n",
       "\n",
       "    .dataframe tbody tr th {\n",
       "        vertical-align: top;\n",
       "    }\n",
       "\n",
       "    .dataframe thead th {\n",
       "        text-align: right;\n",
       "    }\n",
       "</style>\n",
       "<table border=\"1\" class=\"dataframe\">\n",
       "  <thead>\n",
       "    <tr style=\"text-align: right;\">\n",
       "      <th></th>\n",
       "      <th>title</th>\n",
       "      <th>question</th>\n",
       "      <th>answers.text</th>\n",
       "      <th>answers.answer_start</th>\n",
       "      <th>context</th>\n",
       "    </tr>\n",
       "  </thead>\n",
       "  <tbody>\n",
       "    <tr>\n",
       "      <th>791</th>\n",
       "      <td>B005DKZTMG</td>\n",
       "      <td>Does the keyboard lightweight?</td>\n",
       "      <td>[this keyboard is compact]</td>\n",
       "      <td>[215]</td>\n",
       "      <td>I really like this keyboard.  I give it 4 star...</td>\n",
       "    </tr>\n",
       "    <tr>\n",
       "      <th>1159</th>\n",
       "      <td>B00AAIPT76</td>\n",
       "      <td>How is the battery?</td>\n",
       "      <td>[]</td>\n",
       "      <td>[]</td>\n",
       "      <td>I bought this after the first spare gopro batt...</td>\n",
       "    </tr>\n",
       "  </tbody>\n",
       "</table>\n",
       "</div>"
      ],
      "text/plain": [
       "           title                        question                answers.text  \\\n",
       "791   B005DKZTMG  Does the keyboard lightweight?  [this keyboard is compact]   \n",
       "1159  B00AAIPT76             How is the battery?                          []   \n",
       "\n",
       "     answers.answer_start                                            context  \n",
       "791                 [215]  I really like this keyboard.  I give it 4 star...  \n",
       "1159                   []  I bought this after the first spare gopro batt...  "
      ]
     },
     "execution_count": 21,
     "metadata": {},
     "output_type": "execute_result"
    }
   ],
   "source": [
    "qa_cols = [\"title\", \"question\", \"answers.text\", \"answers.answer_start\", \"context\"]\n",
    "sample_df = dfs[\"train\"][qa_cols].sample(2, random_state=7)\n",
    "sample_df "
   ]
  },
  {
   "cell_type": "markdown",
   "metadata": {},
   "source": [
    "Observations:\n",
    "\n",
    "* The queries are not gramatically correct which is quite common in the FAQ sections of ecommerce websites.\n",
    "* An empty `amswers.text` entry denotes \"unanswerable\" questions whose answer cannot be found in the review.\n",
    "* We can use the start index and length of the answer span to slice out the span to get the answer from the text."
   ]
  },
  {
   "cell_type": "code",
   "execution_count": 25,
   "metadata": {},
   "outputs": [
    {
     "data": {
      "text/plain": [
       "215"
      ]
     },
     "execution_count": 25,
     "metadata": {},
     "output_type": "execute_result"
    }
   ],
   "source": [
    "start_idx = sample_df[\"answers.answer_start\"].iloc[0][0]\n",
    "start_idx"
   ]
  },
  {
   "cell_type": "code",
   "execution_count": 26,
   "metadata": {},
   "outputs": [
    {
     "data": {
      "text/plain": [
       "239"
      ]
     },
     "execution_count": 26,
     "metadata": {},
     "output_type": "execute_result"
    }
   ],
   "source": [
    "end_idx = start_idx + len(sample_df[\"answers.text\"].iloc[0][0])\n",
    "end_idx"
   ]
  },
  {
   "cell_type": "code",
   "execution_count": 27,
   "metadata": {},
   "outputs": [
    {
     "data": {
      "text/plain": [
       "'this keyboard is compact'"
      ]
     },
     "execution_count": 27,
     "metadata": {},
     "output_type": "execute_result"
    }
   ],
   "source": [
    "sample_df[\"context\"].iloc[0][start_idx:end_idx]"
   ]
  },
  {
   "cell_type": "code",
   "execution_count": 28,
   "metadata": {},
   "outputs": [
    {
     "data": {
      "text/plain": [
       "array(['this keyboard is compact'], dtype=object)"
      ]
     },
     "execution_count": 28,
     "metadata": {},
     "output_type": "execute_result"
    }
   ],
   "source": [
    "sample_df[\"answers.text\"].iloc[0]"
   ]
  },
  {
   "cell_type": "markdown",
   "metadata": {},
   "source": [
    "By predicting the start index and length of the answer, we can create a qa model."
   ]
  },
  {
   "cell_type": "markdown",
   "metadata": {},
   "source": [
    "Next, let's get a feel for what types of questions are available in the training set by counting the questions that starts with a few common starting words for questions:"
   ]
  },
  {
   "cell_type": "code",
   "execution_count": 51,
   "metadata": {},
   "outputs": [
    {
     "data": {
      "text/plain": [
       "{'What': 236,\n",
       " 'How': 515,\n",
       " 'Is': 100,\n",
       " 'Does': 45,\n",
       " 'Do': 83,\n",
       " 'Was': 12,\n",
       " 'Where': 28,\n",
       " 'Why': 21}"
      ]
     },
     "execution_count": 51,
     "metadata": {},
     "output_type": "execute_result"
    }
   ],
   "source": [
    "counts = {}\n",
    "# Here we're assuming all users will start the question with capital letter...\n",
    "question_types = [\"What\", \"How\", \"Is\", \"Does\", \"Do\", \"Was\", \"Where\", \"Why\"]\n",
    "\n",
    "for q in question_types:\n",
    "    # Get the questions start with q using value_counts()\n",
    "    # value_counts() returns count for True(1st index) and False(0th index)\n",
    "    # Get true from ther value_counts() and save it to dict\n",
    "    false_true = dfs[\"train\"][\"question\"].str.startswith(q).value_counts()\n",
    "    if len(false_true) == 2:\n",
    "        counts[q] = false_true[1]\n",
    "    else:\n",
    "        counts[q] = 0\n",
    "counts"
   ]
  },
  {
   "cell_type": "code",
   "execution_count": 53,
   "metadata": {},
   "outputs": [
    {
     "data": {
      "image/png": "[encoded data removed]",
      "text/plain": [
       "<Figure size 640x480 with 1 Axes>"
      ]
     },
     "metadata": {},
     "output_type": "display_data"
    }
   ],
   "source": [
    "# Let's plot this\n",
    "import matplotlib.pyplot as plt\n",
    "pd.Series(counts).sort_values().plot.barh()\n",
    "plt.show()"
   ]
  },
  {
   "cell_type": "markdown",
   "metadata": {},
   "source": [
    "Most common questions begins with \"How\", \"What\", and \"Is\", let's have a look at some examples:"
   ]
  },
  {
   "cell_type": "code",
   "execution_count": 55,
   "metadata": {},
   "outputs": [
    {
     "name": "stdout",
     "output_type": "stream",
     "text": [
      "What\n",
      "What is direction?\n",
      "What is the quality of the construction of the bag?\n",
      "What is your impression of the product?\n",
      "\n",
      "How\n",
      "How is the camera?\n",
      "How do you like the control?\n",
      "How fast is the charger?\n",
      "\n",
      "Is\n",
      "Is this how zoom works?\n",
      "Is sound clear?\n",
      "Is it a wireless keyboard?\n",
      "\n",
      "Does\n",
      "Does the camera include control?\n",
      "Does the product have good quality?\n",
      "Does this provide enough storage?\n",
      "\n",
      "Do\n",
      "Do you have a price for a shoes?\n",
      "Does this headphone excellent?\n",
      "Do they come with the manufacturer's seal?\n",
      "\n",
      "Was\n",
      "Was the drive absolutely perfect?\n",
      "Was prompt the delivery?\n",
      "Was the mountain high?\n",
      "\n",
      "Where\n",
      "Where is the cheapest price?\n",
      "Where can I send to setup my device?\n",
      "Where do I have a drawer full of headphones?\n",
      "\n",
      "Why\n",
      "Why do I have an incredible sound?\n",
      "Why is customer service excellent?\n",
      "Why this feature affect the move?\n",
      "\n"
     ]
    }
   ],
   "source": [
    "for question_type in question_types:\n",
    "    print(question_type)\n",
    "    for question in (\n",
    "        dfs[\"train\"][dfs[\"train\"].question.str.startswith(question_type)].sample(n=3, random_state=42)[\"question\"]\n",
    "    ):\n",
    "        print(question)\n",
    "    print(\"\")"
   ]
  },
  {
   "cell_type": "markdown",
   "metadata": {},
   "source": [
    "## Question Answering Dataset history\n",
    "\n",
    " The (question, review, [answer setences]) format of SubjQA(used in ![7-question-answering.ipynb notebook usecase for q](../notebooks/7-question-answering.ipynb)) is commonly used in extractive QA datasets and was pioneered in Stanford Question Answering Dataset(SQuAD). \n",
    "\n",
    " * SQuAD is a famous dataset to test the abilit of machines(models) to read a passage of text and answer questions about it\n",
    " * This dataset was created from several hundred articles from wikipedia, where each of the article was partioned into paragraphs. Then crowdworkers were asked to generate questions and answers for each paragraph.\n",
    " * In the first crowdworkers version of SQuAD, answers for questions were guaranteed to be in paragraphs.\n",
    " * Soon sequence to sequence models outperformed humans and predicted spans of answers for question in the context(paragraphs, reviews etc.)\n",
    " * SQuAD 2.0 was created by augmenting SQuAD 1.1 with a set of adversial questions that were relevant to the passage but can't be answered from the passage contents alone. This became a better benchmark for evaluation qa capabalities of machines.\n",
    " * SOTA models as of 2022 with most models since 2019 surpasses human performance.\n",
    "    *qa sota models timeline*\n",
    "\n",
    "    ![alt](../notes/images/7-question-answering/qa-sota-models.png)\n",
    "* However this superhuman performance does not appear to reflect genuine reading comprehension, since answers to these \"unanswerable\" questions can be found by looking at antonymns in passages. \n",
    "* To address these problems Google released the Natural Questions (NQ) dataset which involves fact-seeking questions obtainef from Google Search users.\n",
    "* The answers in NQ are much longer than in SQuAD and present a more challenging benchmark.\n",
    "\n",
    "```\n",
    "NQ >> SQuAD2.0 >> SQuAD\n",
    "```"
   ]
  },
  {
   "cell_type": "markdown",
   "metadata": {},
   "source": [
    "Now let's dive into how transformers can extract answers from text."
   ]
  }
 ],
 "metadata": {
  "kernelspec": {
   "display_name": "nlp",
   "language": "python",
   "name": "python3"
  },
  "language_info": {
   "codemirror_mode": {
    "name": "ipython",
    "version": 3
   },
   "file_extension": ".py",
   "mimetype": "text/x-python",
   "name": "python",
   "nbconvert_exporter": "python",
   "pygments_lexer": "ipython3",
   "version": "3.9.16"
  },
  "orig_nbformat": 4
 },
 "nbformat": 4,
 "nbformat_minor": 2
}
