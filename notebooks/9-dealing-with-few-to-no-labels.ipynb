{
  "cells": [
    {
      "cell_type": "markdown",
      "metadata": {
        "id": "m58h0ERmfBPi"
      },
      "source": [
        "# Dealing with Few to No Labels\n",
        "\n",
        "At the start of every project, the first question any data scientist asks? Is there any labelled data? Answer's mostly no or little bit. And on top of client's expectation that our fancy machine learning models should still perform well. One obvious apporach is annotate more data, but this is more expensive if each annotation has to be validated by a domain expert.\n",
        "\n",
        "Fortunaley there are several methods that are suited for dealing with few to no labels. Like *Zero-shot* in GPT-3 where it perfoms over a diverse range of tasks with a few dozen examples.\n",
        "\n",
        "In general, the best-performing method will depend upon task, data, how much of the data is labeled.\n",
        "\n",
        "*The below picture will guide us through the process of picking the most appropriate method*\n",
        "![alt](https://github.com/JpChii/nlp-with-hugging-face/blob/main/notes/images/9-dealing-with-few-to-no-labels/technqiques-to-deal-with-less-to-no-labelled-data.png?raw=1)\n",
        "\n",
        "Let's walk through this decision tree:\n",
        "\n",
        "1. Is labeld data available?\n",
        "\n",
        "Evan a handful of labeled of labeled samples can make a difference with regards to which method works best. If no labeld data is available then we can start with zero-shot learning which often sets a strong baseline to work from.\n",
        "\n",
        "2. How many labels?\n",
        "\n",
        "If we lots of labelled training data available then we can use the fine tuning approach used in [notebook 2](../notebooks/2-text-classification.ipynb)\n",
        "\n",
        "3. Is there unlabeled data available?\n",
        "\n",
        "If we have a handful of labeled samples it can help immensley if we have access to large amounts ot unlabeled data. If we have access to unlabeled data, we can use it to fine-tune the language model on the domain before training the classifier, or use more sophisticated methods like unsupervised data augmentation(UDA) or uncertainy-aware self-training(UST). If no unlabeled data is available, we can't annotate more data. In this case we can use few-shot learning or use the embeddings from a pretrained language model to perform lookups with a nearest neighbor search.\n",
        "\n",
        "Int this notebook, we'll work our way through the decision tree by tackling a common problem facing many support teams that use issue trackers like Jira or Github to assist their users: tagging issues with metadata based on the issue's description. These tags define issue type,product causing the issue, responsible team. Automating the process will have an big impact on productivity and enables the support teams to focus on helping the users. In this notebook, we'll use issues associated with a populat open source project: Transformers. Let's now take a look at what information is available in these issues, what is the task and how to get the data.\n",
        "\n",
        "> **Note:** The methods used in this notebooks will work well for text classification, but other techniques such as data augmentation may be necessary for dealing with more complex tasks like named entity recognition, question answering or summarization."
      ]
    },
    {
      "cell_type": "markdown",
      "metadata": {
        "id": "9Iap2nB2fBPu"
      },
      "source": [
        "## Building a Github Issues Tagger\n",
        "\n",
        "If we navgate to [issues tab](https://github.com/huggingface/transformers/issues) of transformers, we'll have each issues with title, description, set of tags or labels to chracterize the issue. The supervised learning task: given a title, description of an issue, predict one or more labels, this means we are dealing with multlable classification problem.\n",
        "\n",
        "*Single issue*\n",
        "![alt](https://github.com/JpChii/nlp-with-hugging-face/blob/main/notes/images/9-dealing-with-few-to-no-labels/singe-issue.png?raw=1)\n",
        "\n",
        "Now we've seen how the Github Issues look like, next let's see how to download and create our dataset.\n",
        "\n",
        "To grab all repository's issues, we'll use the [GitHub REST API](https://docs.github.com/en/rest?apiVersion=2022-11-28) to poll the [Issues endpoint](https://docs.github.com/en/rest/issues#list-repository-issues). This endpoint returns a list of json objects, with each object contatining, issue, title, description, whether issue is open or close, owho opend it etc.\n",
        "\n",
        "Since it takes a while to fetch all issues, we'll use the *github-issues-transformers-json* file. Along with `fetch_issues()` function to download them.\n",
        "\n",
        "> **Note:** The GitHub REST API treats pull requests as issues, so our dataset contains both issues and pull requests. To keep things simple. we'' develop our classifier for both issue types, althoug in practice we can have two seperated classifiers to have more fine-grained control over the model's performance."
      ]
    },
    {
      "cell_type": "code",
      "execution_count": null,
      "metadata": {
        "id": "Ukh6g8N1fBPx"
      },
      "outputs": [],
      "source": [
        "import time\n",
        "import math\n",
        "import requests\n",
        "from pathlib import Path\n",
        "import pandas as pd\n",
        "from tqdm.auto import tqdm\n",
        "\n",
        "def fetch_issues(\n",
        "    owner=\"huggingface\",\n",
        "    repo=\"transformers\",\n",
        "    num_issues=10_000,\n",
        "    rate_limit=5_000,\n",
        "):\n",
        "    batch = []\n",
        "    all_issues = []\n",
        "    per_page = 100 # Number of issues to return per page\n",
        "    num_pages = math.ceil(num_issues / per_page)\n",
        "    base_url = \"https://api.github.com/repos\"\n",
        "\n",
        "    for page in tqdm(range(num_pages)):\n",
        "        query = f\"issues?page={page}&per_page={per_page}&state=all\"\n",
        "        issues = requests.get(f\"{base_url}/{owner}/{repo}/{query}\")\n",
        "        batch.extend(issues)\n",
        "\n",
        "        if len(batch) > rate_limit and len(all_issues) < num_issues:\n",
        "            all_issues.extend(batch)\n",
        "            batch = [] # Flush batch for next time period\n",
        "            print(f\"Reached Github rate limit. Sleeping for one hour...\")\n",
        "            time.sleep(60 * 60 + 1)\n",
        "    all_issues.extend(batch)\n",
        "    df = pd.DataFrrame.from_records(all_issues)\n",
        "    df.to_json(f\"github-issues-{repo}.jsonl\", orient=\"records\", lines=True)"
      ]
    },
    {
      "cell_type": "markdown",
      "metadata": {
        "id": "g1lzAu6ifBPy"
      },
      "source": [
        "This function will download all the issues in batches to avoid exceeding GitHub's limit on number of requests per hour. Let's download the file.\n",
        "\n",
        "### Preparing the data"
      ]
    },
    {
      "cell_type": "code",
      "execution_count": null,
      "metadata": {
        "id": "zHLd14ZUfBPy",
        "outputId": "97adda4b-005b-4300-f089-ac8dea24e857"
      },
      "outputs": [
        {
          "name": "stdout",
          "output_type": "stream",
          "text": [
            "DataFrame shape: (9930, 26)\n"
          ]
        }
      ],
      "source": [
        "\n",
        "import pandas as pd\n",
        "\n",
        "dataset_url = \"https://git.io/nlp-with-transformers\"\n",
        "df_issues = pd.read_json(dataset_url, lines=True)\n",
        "print(f\"DataFrame shape: {df_issues.shape}\")"
      ]
    },
    {
      "cell_type": "code",
      "execution_count": null,
      "metadata": {
        "id": "VPxJC_HxfBP0",
        "outputId": "2f9b0396-5e91-4827-e097-6c2637a87704"
      },
      "outputs": [
        {
          "data": {
            "text/html": [
              "<div>\n",
              "<style scoped>\n",
              "    .dataframe tbody tr th:only-of-type {\n",
              "        vertical-align: middle;\n",
              "    }\n",
              "\n",
              "    .dataframe tbody tr th {\n",
              "        vertical-align: top;\n",
              "    }\n",
              "\n",
              "    .dataframe thead th {\n",
              "        text-align: right;\n",
              "    }\n",
              "</style>\n",
              "<table border=\"1\" class=\"dataframe\">\n",
              "  <thead>\n",
              "    <tr style=\"text-align: right;\">\n",
              "      <th></th>\n",
              "      <th>url</th>\n",
              "      <th>repository_url</th>\n",
              "      <th>labels_url</th>\n",
              "      <th>comments_url</th>\n",
              "      <th>events_url</th>\n",
              "      <th>html_url</th>\n",
              "      <th>id</th>\n",
              "      <th>node_id</th>\n",
              "      <th>number</th>\n",
              "      <th>title</th>\n",
              "      <th>...</th>\n",
              "      <th>milestone</th>\n",
              "      <th>comments</th>\n",
              "      <th>created_at</th>\n",
              "      <th>updated_at</th>\n",
              "      <th>closed_at</th>\n",
              "      <th>author_association</th>\n",
              "      <th>active_lock_reason</th>\n",
              "      <th>body</th>\n",
              "      <th>performed_via_github_app</th>\n",
              "      <th>pull_request</th>\n",
              "    </tr>\n",
              "  </thead>\n",
              "  <tbody>\n",
              "    <tr>\n",
              "      <th>0</th>\n",
              "      <td>https://api.github.com/repos/huggingface/trans...</td>\n",
              "      <td>https://api.github.com/repos/huggingface/trans...</td>\n",
              "      <td>https://api.github.com/repos/huggingface/trans...</td>\n",
              "      <td>https://api.github.com/repos/huggingface/trans...</td>\n",
              "      <td>https://api.github.com/repos/huggingface/trans...</td>\n",
              "      <td>https://github.com/huggingface/transformers/is...</td>\n",
              "      <td>849568459</td>\n",
              "      <td>MDU6SXNzdWU4NDk1Njg0NTk=</td>\n",
              "      <td>11046</td>\n",
              "      <td>Potential incorrect application of layer norm ...</td>\n",
              "      <td>...</td>\n",
              "      <td>NaN</td>\n",
              "      <td>0</td>\n",
              "      <td>2021-04-03 03:37:32</td>\n",
              "      <td>2021-04-03 03:37:32</td>\n",
              "      <td>NaT</td>\n",
              "      <td>NONE</td>\n",
              "      <td>None</td>\n",
              "      <td>In BlenderbotSmallDecoder,  layer norm is appl...</td>\n",
              "      <td>NaN</td>\n",
              "      <td>None</td>\n",
              "    </tr>\n",
              "    <tr>\n",
              "      <th>1</th>\n",
              "      <td>https://api.github.com/repos/huggingface/trans...</td>\n",
              "      <td>https://api.github.com/repos/huggingface/trans...</td>\n",
              "      <td>https://api.github.com/repos/huggingface/trans...</td>\n",
              "      <td>https://api.github.com/repos/huggingface/trans...</td>\n",
              "      <td>https://api.github.com/repos/huggingface/trans...</td>\n",
              "      <td>https://github.com/huggingface/transformers/is...</td>\n",
              "      <td>849544374</td>\n",
              "      <td>MDU6SXNzdWU4NDk1NDQzNzQ=</td>\n",
              "      <td>11045</td>\n",
              "      <td>Multi-GPU seq2seq example evaluation significa...</td>\n",
              "      <td>...</td>\n",
              "      <td>NaN</td>\n",
              "      <td>0</td>\n",
              "      <td>2021-04-03 00:52:24</td>\n",
              "      <td>2021-04-03 00:52:24</td>\n",
              "      <td>NaT</td>\n",
              "      <td>NONE</td>\n",
              "      <td>None</td>\n",
              "      <td>\\r\\n### Who can help\\r\\n@patil-suraj @sgugger ...</td>\n",
              "      <td>NaN</td>\n",
              "      <td>None</td>\n",
              "    </tr>\n",
              "    <tr>\n",
              "      <th>2</th>\n",
              "      <td>https://api.github.com/repos/huggingface/trans...</td>\n",
              "      <td>https://api.github.com/repos/huggingface/trans...</td>\n",
              "      <td>https://api.github.com/repos/huggingface/trans...</td>\n",
              "      <td>https://api.github.com/repos/huggingface/trans...</td>\n",
              "      <td>https://api.github.com/repos/huggingface/trans...</td>\n",
              "      <td>https://github.com/huggingface/transformers/is...</td>\n",
              "      <td>849529761</td>\n",
              "      <td>MDU6SXNzdWU4NDk1Mjk3NjE=</td>\n",
              "      <td>11044</td>\n",
              "      <td>[DeepSpeed] ZeRO stage 3 integration: getting ...</td>\n",
              "      <td>...</td>\n",
              "      <td>NaN</td>\n",
              "      <td>0</td>\n",
              "      <td>2021-04-02 23:40:42</td>\n",
              "      <td>2021-04-03 00:00:18</td>\n",
              "      <td>NaT</td>\n",
              "      <td>COLLABORATOR</td>\n",
              "      <td>None</td>\n",
              "      <td>**[This is not yet alive, preparing for the re...</td>\n",
              "      <td>NaN</td>\n",
              "      <td>None</td>\n",
              "    </tr>\n",
              "    <tr>\n",
              "      <th>3</th>\n",
              "      <td>https://api.github.com/repos/huggingface/trans...</td>\n",
              "      <td>https://api.github.com/repos/huggingface/trans...</td>\n",
              "      <td>https://api.github.com/repos/huggingface/trans...</td>\n",
              "      <td>https://api.github.com/repos/huggingface/trans...</td>\n",
              "      <td>https://api.github.com/repos/huggingface/trans...</td>\n",
              "      <td>https://github.com/huggingface/transformers/is...</td>\n",
              "      <td>849499734</td>\n",
              "      <td>MDU6SXNzdWU4NDk0OTk3MzQ=</td>\n",
              "      <td>11043</td>\n",
              "      <td>Can't load model to estimater</td>\n",
              "      <td>...</td>\n",
              "      <td>NaN</td>\n",
              "      <td>0</td>\n",
              "      <td>2021-04-02 21:51:44</td>\n",
              "      <td>2021-04-02 21:51:44</td>\n",
              "      <td>NaT</td>\n",
              "      <td>NONE</td>\n",
              "      <td>None</td>\n",
              "      <td>I was trying to follow the Sagemaker instructi...</td>\n",
              "      <td>NaN</td>\n",
              "      <td>None</td>\n",
              "    </tr>\n",
              "    <tr>\n",
              "      <th>4</th>\n",
              "      <td>https://api.github.com/repos/huggingface/trans...</td>\n",
              "      <td>https://api.github.com/repos/huggingface/trans...</td>\n",
              "      <td>https://api.github.com/repos/huggingface/trans...</td>\n",
              "      <td>https://api.github.com/repos/huggingface/trans...</td>\n",
              "      <td>https://api.github.com/repos/huggingface/trans...</td>\n",
              "      <td>https://github.com/huggingface/transformers/is...</td>\n",
              "      <td>849274362</td>\n",
              "      <td>MDU6SXNzdWU4NDkyNzQzNjI=</td>\n",
              "      <td>11042</td>\n",
              "      <td>[LXMERT] Unclear what img_tensorize does with ...</td>\n",
              "      <td>...</td>\n",
              "      <td>NaN</td>\n",
              "      <td>0</td>\n",
              "      <td>2021-04-02 15:12:57</td>\n",
              "      <td>2021-04-02 15:15:07</td>\n",
              "      <td>NaT</td>\n",
              "      <td>NONE</td>\n",
              "      <td>None</td>\n",
              "      <td>## Environment info\\r\\n\\r\\n- `transformers` ve...</td>\n",
              "      <td>NaN</td>\n",
              "      <td>None</td>\n",
              "    </tr>\n",
              "    <tr>\n",
              "      <th>...</th>\n",
              "      <td>...</td>\n",
              "      <td>...</td>\n",
              "      <td>...</td>\n",
              "      <td>...</td>\n",
              "      <td>...</td>\n",
              "      <td>...</td>\n",
              "      <td>...</td>\n",
              "      <td>...</td>\n",
              "      <td>...</td>\n",
              "      <td>...</td>\n",
              "      <td>...</td>\n",
              "      <td>...</td>\n",
              "      <td>...</td>\n",
              "      <td>...</td>\n",
              "      <td>...</td>\n",
              "      <td>...</td>\n",
              "      <td>...</td>\n",
              "      <td>...</td>\n",
              "      <td>...</td>\n",
              "      <td>...</td>\n",
              "      <td>...</td>\n",
              "    </tr>\n",
              "    <tr>\n",
              "      <th>9925</th>\n",
              "      <td>https://api.github.com/repos/huggingface/trans...</td>\n",
              "      <td>https://api.github.com/repos/huggingface/trans...</td>\n",
              "      <td>https://api.github.com/repos/huggingface/trans...</td>\n",
              "      <td>https://api.github.com/repos/huggingface/trans...</td>\n",
              "      <td>https://api.github.com/repos/huggingface/trans...</td>\n",
              "      <td>https://github.com/huggingface/transformers/pu...</td>\n",
              "      <td>486208136</td>\n",
              "      <td>MDExOlB1bGxSZXF1ZXN0MzExNzA2NjQ5</td>\n",
              "      <td>1127</td>\n",
              "      <td>DistilBERT</td>\n",
              "      <td>...</td>\n",
              "      <td>NaN</td>\n",
              "      <td>2</td>\n",
              "      <td>2019-08-28 07:34:11</td>\n",
              "      <td>2020-01-09 13:36:31</td>\n",
              "      <td>2019-08-28 14:43:10</td>\n",
              "      <td>MEMBER</td>\n",
              "      <td>None</td>\n",
              "      <td>Preparing the release for DistilBERT (smaller,...</td>\n",
              "      <td>NaN</td>\n",
              "      <td>{'url': 'https://api.github.com/repos/huggingf...</td>\n",
              "    </tr>\n",
              "    <tr>\n",
              "      <th>9926</th>\n",
              "      <td>https://api.github.com/repos/huggingface/trans...</td>\n",
              "      <td>https://api.github.com/repos/huggingface/trans...</td>\n",
              "      <td>https://api.github.com/repos/huggingface/trans...</td>\n",
              "      <td>https://api.github.com/repos/huggingface/trans...</td>\n",
              "      <td>https://api.github.com/repos/huggingface/trans...</td>\n",
              "      <td>https://github.com/huggingface/transformers/is...</td>\n",
              "      <td>486120054</td>\n",
              "      <td>MDU6SXNzdWU0ODYxMjAwNTQ=</td>\n",
              "      <td>1126</td>\n",
              "      <td>Bert initialization</td>\n",
              "      <td>...</td>\n",
              "      <td>NaN</td>\n",
              "      <td>2</td>\n",
              "      <td>2019-08-28 02:01:59</td>\n",
              "      <td>2019-09-02 06:53:22</td>\n",
              "      <td>2019-09-02 06:53:22</td>\n",
              "      <td>NONE</td>\n",
              "      <td>None</td>\n",
              "      <td>When I train bert model from scratch, it can n...</td>\n",
              "      <td>NaN</td>\n",
              "      <td>None</td>\n",
              "    </tr>\n",
              "    <tr>\n",
              "      <th>9927</th>\n",
              "      <td>https://api.github.com/repos/huggingface/trans...</td>\n",
              "      <td>https://api.github.com/repos/huggingface/trans...</td>\n",
              "      <td>https://api.github.com/repos/huggingface/trans...</td>\n",
              "      <td>https://api.github.com/repos/huggingface/trans...</td>\n",
              "      <td>https://api.github.com/repos/huggingface/trans...</td>\n",
              "      <td>https://github.com/huggingface/transformers/is...</td>\n",
              "      <td>486021648</td>\n",
              "      <td>MDU6SXNzdWU0ODYwMjE2NDg=</td>\n",
              "      <td>1125</td>\n",
              "      <td>UnicodeDecodeError: 'charmap' codec can't deco...</td>\n",
              "      <td>...</td>\n",
              "      <td>NaN</td>\n",
              "      <td>4</td>\n",
              "      <td>2019-08-27 20:37:09</td>\n",
              "      <td>2020-11-04 14:37:42</td>\n",
              "      <td>2019-09-01 23:18:49</td>\n",
              "      <td>NONE</td>\n",
              "      <td>None</td>\n",
              "      <td>## 🐛 Bug\\r\\n\\r\\n&lt;!-- Important information --&gt;...</td>\n",
              "      <td>NaN</td>\n",
              "      <td>None</td>\n",
              "    </tr>\n",
              "    <tr>\n",
              "      <th>9928</th>\n",
              "      <td>https://api.github.com/repos/huggingface/trans...</td>\n",
              "      <td>https://api.github.com/repos/huggingface/trans...</td>\n",
              "      <td>https://api.github.com/repos/huggingface/trans...</td>\n",
              "      <td>https://api.github.com/repos/huggingface/trans...</td>\n",
              "      <td>https://api.github.com/repos/huggingface/trans...</td>\n",
              "      <td>https://github.com/huggingface/transformers/is...</td>\n",
              "      <td>485975571</td>\n",
              "      <td>MDU6SXNzdWU0ODU5NzU1NzE=</td>\n",
              "      <td>1124</td>\n",
              "      <td>XLNet resize embedding size ERROR</td>\n",
              "      <td>...</td>\n",
              "      <td>NaN</td>\n",
              "      <td>1</td>\n",
              "      <td>2019-08-27 18:52:10</td>\n",
              "      <td>2019-09-02 21:14:56</td>\n",
              "      <td>2019-09-02 21:14:56</td>\n",
              "      <td>NONE</td>\n",
              "      <td>None</td>\n",
              "      <td>## ❓ Questions &amp; Help\\r\\n\\r\\nI add new tokens ...</td>\n",
              "      <td>NaN</td>\n",
              "      <td>None</td>\n",
              "    </tr>\n",
              "    <tr>\n",
              "      <th>9929</th>\n",
              "      <td>https://api.github.com/repos/huggingface/trans...</td>\n",
              "      <td>https://api.github.com/repos/huggingface/trans...</td>\n",
              "      <td>https://api.github.com/repos/huggingface/trans...</td>\n",
              "      <td>https://api.github.com/repos/huggingface/trans...</td>\n",
              "      <td>https://api.github.com/repos/huggingface/trans...</td>\n",
              "      <td>https://github.com/huggingface/transformers/is...</td>\n",
              "      <td>485876617</td>\n",
              "      <td>MDU6SXNzdWU0ODU4NzY2MTc=</td>\n",
              "      <td>1123</td>\n",
              "      <td>Extracting Features Example</td>\n",
              "      <td>...</td>\n",
              "      <td>NaN</td>\n",
              "      <td>4</td>\n",
              "      <td>2019-08-27 15:21:11</td>\n",
              "      <td>2019-12-12 11:48:51</td>\n",
              "      <td>2019-12-12 11:48:51</td>\n",
              "      <td>NONE</td>\n",
              "      <td>None</td>\n",
              "      <td>## ❓ Questions &amp; Help\\r\\n\\r\\nHello. \\r\\n\\r\\nSo...</td>\n",
              "      <td>NaN</td>\n",
              "      <td>None</td>\n",
              "    </tr>\n",
              "  </tbody>\n",
              "</table>\n",
              "<p>9930 rows × 26 columns</p>\n",
              "</div>"
            ],
            "text/plain": [
              "                                                    url  \\\n",
              "0     https://api.github.com/repos/huggingface/trans...   \n",
              "1     https://api.github.com/repos/huggingface/trans...   \n",
              "2     https://api.github.com/repos/huggingface/trans...   \n",
              "3     https://api.github.com/repos/huggingface/trans...   \n",
              "4     https://api.github.com/repos/huggingface/trans...   \n",
              "...                                                 ...   \n",
              "9925  https://api.github.com/repos/huggingface/trans...   \n",
              "9926  https://api.github.com/repos/huggingface/trans...   \n",
              "9927  https://api.github.com/repos/huggingface/trans...   \n",
              "9928  https://api.github.com/repos/huggingface/trans...   \n",
              "9929  https://api.github.com/repos/huggingface/trans...   \n",
              "\n",
              "                                         repository_url  \\\n",
              "0     https://api.github.com/repos/huggingface/trans...   \n",
              "1     https://api.github.com/repos/huggingface/trans...   \n",
              "2     https://api.github.com/repos/huggingface/trans...   \n",
              "3     https://api.github.com/repos/huggingface/trans...   \n",
              "4     https://api.github.com/repos/huggingface/trans...   \n",
              "...                                                 ...   \n",
              "9925  https://api.github.com/repos/huggingface/trans...   \n",
              "9926  https://api.github.com/repos/huggingface/trans...   \n",
              "9927  https://api.github.com/repos/huggingface/trans...   \n",
              "9928  https://api.github.com/repos/huggingface/trans...   \n",
              "9929  https://api.github.com/repos/huggingface/trans...   \n",
              "\n",
              "                                             labels_url  \\\n",
              "0     https://api.github.com/repos/huggingface/trans...   \n",
              "1     https://api.github.com/repos/huggingface/trans...   \n",
              "2     https://api.github.com/repos/huggingface/trans...   \n",
              "3     https://api.github.com/repos/huggingface/trans...   \n",
              "4     https://api.github.com/repos/huggingface/trans...   \n",
              "...                                                 ...   \n",
              "9925  https://api.github.com/repos/huggingface/trans...   \n",
              "9926  https://api.github.com/repos/huggingface/trans...   \n",
              "9927  https://api.github.com/repos/huggingface/trans...   \n",
              "9928  https://api.github.com/repos/huggingface/trans...   \n",
              "9929  https://api.github.com/repos/huggingface/trans...   \n",
              "\n",
              "                                           comments_url  \\\n",
              "0     https://api.github.com/repos/huggingface/trans...   \n",
              "1     https://api.github.com/repos/huggingface/trans...   \n",
              "2     https://api.github.com/repos/huggingface/trans...   \n",
              "3     https://api.github.com/repos/huggingface/trans...   \n",
              "4     https://api.github.com/repos/huggingface/trans...   \n",
              "...                                                 ...   \n",
              "9925  https://api.github.com/repos/huggingface/trans...   \n",
              "9926  https://api.github.com/repos/huggingface/trans...   \n",
              "9927  https://api.github.com/repos/huggingface/trans...   \n",
              "9928  https://api.github.com/repos/huggingface/trans...   \n",
              "9929  https://api.github.com/repos/huggingface/trans...   \n",
              "\n",
              "                                             events_url  \\\n",
              "0     https://api.github.com/repos/huggingface/trans...   \n",
              "1     https://api.github.com/repos/huggingface/trans...   \n",
              "2     https://api.github.com/repos/huggingface/trans...   \n",
              "3     https://api.github.com/repos/huggingface/trans...   \n",
              "4     https://api.github.com/repos/huggingface/trans...   \n",
              "...                                                 ...   \n",
              "9925  https://api.github.com/repos/huggingface/trans...   \n",
              "9926  https://api.github.com/repos/huggingface/trans...   \n",
              "9927  https://api.github.com/repos/huggingface/trans...   \n",
              "9928  https://api.github.com/repos/huggingface/trans...   \n",
              "9929  https://api.github.com/repos/huggingface/trans...   \n",
              "\n",
              "                                               html_url         id  \\\n",
              "0     https://github.com/huggingface/transformers/is...  849568459   \n",
              "1     https://github.com/huggingface/transformers/is...  849544374   \n",
              "2     https://github.com/huggingface/transformers/is...  849529761   \n",
              "3     https://github.com/huggingface/transformers/is...  849499734   \n",
              "4     https://github.com/huggingface/transformers/is...  849274362   \n",
              "...                                                 ...        ...   \n",
              "9925  https://github.com/huggingface/transformers/pu...  486208136   \n",
              "9926  https://github.com/huggingface/transformers/is...  486120054   \n",
              "9927  https://github.com/huggingface/transformers/is...  486021648   \n",
              "9928  https://github.com/huggingface/transformers/is...  485975571   \n",
              "9929  https://github.com/huggingface/transformers/is...  485876617   \n",
              "\n",
              "                               node_id  number  \\\n",
              "0             MDU6SXNzdWU4NDk1Njg0NTk=   11046   \n",
              "1             MDU6SXNzdWU4NDk1NDQzNzQ=   11045   \n",
              "2             MDU6SXNzdWU4NDk1Mjk3NjE=   11044   \n",
              "3             MDU6SXNzdWU4NDk0OTk3MzQ=   11043   \n",
              "4             MDU6SXNzdWU4NDkyNzQzNjI=   11042   \n",
              "...                                ...     ...   \n",
              "9925  MDExOlB1bGxSZXF1ZXN0MzExNzA2NjQ5    1127   \n",
              "9926          MDU6SXNzdWU0ODYxMjAwNTQ=    1126   \n",
              "9927          MDU6SXNzdWU0ODYwMjE2NDg=    1125   \n",
              "9928          MDU6SXNzdWU0ODU5NzU1NzE=    1124   \n",
              "9929          MDU6SXNzdWU0ODU4NzY2MTc=    1123   \n",
              "\n",
              "                                                  title  ... milestone  \\\n",
              "0     Potential incorrect application of layer norm ...  ...       NaN   \n",
              "1     Multi-GPU seq2seq example evaluation significa...  ...       NaN   \n",
              "2     [DeepSpeed] ZeRO stage 3 integration: getting ...  ...       NaN   \n",
              "3                         Can't load model to estimater  ...       NaN   \n",
              "4     [LXMERT] Unclear what img_tensorize does with ...  ...       NaN   \n",
              "...                                                 ...  ...       ...   \n",
              "9925                                         DistilBERT  ...       NaN   \n",
              "9926                                Bert initialization  ...       NaN   \n",
              "9927  UnicodeDecodeError: 'charmap' codec can't deco...  ...       NaN   \n",
              "9928                  XLNet resize embedding size ERROR  ...       NaN   \n",
              "9929                        Extracting Features Example  ...       NaN   \n",
              "\n",
              "     comments          created_at          updated_at           closed_at  \\\n",
              "0           0 2021-04-03 03:37:32 2021-04-03 03:37:32                 NaT   \n",
              "1           0 2021-04-03 00:52:24 2021-04-03 00:52:24                 NaT   \n",
              "2           0 2021-04-02 23:40:42 2021-04-03 00:00:18                 NaT   \n",
              "3           0 2021-04-02 21:51:44 2021-04-02 21:51:44                 NaT   \n",
              "4           0 2021-04-02 15:12:57 2021-04-02 15:15:07                 NaT   \n",
              "...       ...                 ...                 ...                 ...   \n",
              "9925        2 2019-08-28 07:34:11 2020-01-09 13:36:31 2019-08-28 14:43:10   \n",
              "9926        2 2019-08-28 02:01:59 2019-09-02 06:53:22 2019-09-02 06:53:22   \n",
              "9927        4 2019-08-27 20:37:09 2020-11-04 14:37:42 2019-09-01 23:18:49   \n",
              "9928        1 2019-08-27 18:52:10 2019-09-02 21:14:56 2019-09-02 21:14:56   \n",
              "9929        4 2019-08-27 15:21:11 2019-12-12 11:48:51 2019-12-12 11:48:51   \n",
              "\n",
              "     author_association  active_lock_reason  \\\n",
              "0                  NONE                None   \n",
              "1                  NONE                None   \n",
              "2          COLLABORATOR                None   \n",
              "3                  NONE                None   \n",
              "4                  NONE                None   \n",
              "...                 ...                 ...   \n",
              "9925             MEMBER                None   \n",
              "9926               NONE                None   \n",
              "9927               NONE                None   \n",
              "9928               NONE                None   \n",
              "9929               NONE                None   \n",
              "\n",
              "                                                   body  \\\n",
              "0     In BlenderbotSmallDecoder,  layer norm is appl...   \n",
              "1     \\r\\n### Who can help\\r\\n@patil-suraj @sgugger ...   \n",
              "2     **[This is not yet alive, preparing for the re...   \n",
              "3     I was trying to follow the Sagemaker instructi...   \n",
              "4     ## Environment info\\r\\n\\r\\n- `transformers` ve...   \n",
              "...                                                 ...   \n",
              "9925  Preparing the release for DistilBERT (smaller,...   \n",
              "9926  When I train bert model from scratch, it can n...   \n",
              "9927  ## 🐛 Bug\\r\\n\\r\\n<!-- Important information -->...   \n",
              "9928  ## ❓ Questions & Help\\r\\n\\r\\nI add new tokens ...   \n",
              "9929  ## ❓ Questions & Help\\r\\n\\r\\nHello. \\r\\n\\r\\nSo...   \n",
              "\n",
              "     performed_via_github_app  \\\n",
              "0                         NaN   \n",
              "1                         NaN   \n",
              "2                         NaN   \n",
              "3                         NaN   \n",
              "4                         NaN   \n",
              "...                       ...   \n",
              "9925                      NaN   \n",
              "9926                      NaN   \n",
              "9927                      NaN   \n",
              "9928                      NaN   \n",
              "9929                      NaN   \n",
              "\n",
              "                                           pull_request  \n",
              "0                                                  None  \n",
              "1                                                  None  \n",
              "2                                                  None  \n",
              "3                                                  None  \n",
              "4                                                  None  \n",
              "...                                                 ...  \n",
              "9925  {'url': 'https://api.github.com/repos/huggingf...  \n",
              "9926                                               None  \n",
              "9927                                               None  \n",
              "9928                                               None  \n",
              "9929                                               None  \n",
              "\n",
              "[9930 rows x 26 columns]"
            ]
          },
          "execution_count": 3,
          "metadata": {},
          "output_type": "execute_result"
        }
      ],
      "source": [
        "df_issues"
      ]
    },
    {
      "cell_type": "code",
      "execution_count": null,
      "metadata": {
        "id": "m9J2EgGsfBP1",
        "outputId": "a3428fe8-4599-4007-f7af-bf30f4d6a266"
      },
      "outputs": [
        {
          "data": {
            "text/plain": [
              "url                         https://api.github.com/repos/huggingface/trans...\n",
              "repository_url              https://api.github.com/repos/huggingface/trans...\n",
              "labels_url                  https://api.github.com/repos/huggingface/trans...\n",
              "comments_url                https://api.github.com/repos/huggingface/trans...\n",
              "events_url                  https://api.github.com/repos/huggingface/trans...\n",
              "html_url                    https://github.com/huggingface/transformers/is...\n",
              "id                                                                  849568459\n",
              "node_id                                              MDU6SXNzdWU4NDk1Njg0NTk=\n",
              "number                                                                  11046\n",
              "title                       Potential incorrect application of layer norm ...\n",
              "user                        {'login': 'sougata-ub', 'id': 59206549, 'node_...\n",
              "labels                                                                     []\n",
              "state                                                                    open\n",
              "locked                                                                  False\n",
              "assignee                                                                 None\n",
              "assignees                                                                  []\n",
              "milestone                                                                 NaN\n",
              "comments                                                                    0\n",
              "created_at                                                2021-04-03 03:37:32\n",
              "updated_at                                                2021-04-03 03:37:32\n",
              "closed_at                                                                 NaT\n",
              "author_association                                                       NONE\n",
              "active_lock_reason                                                       None\n",
              "body                        In BlenderbotSmallDecoder,  layer norm is appl...\n",
              "performed_via_github_app                                                  NaN\n",
              "pull_request                                                             None\n",
              "Name: 0, dtype: object"
            ]
          },
          "execution_count": 4,
          "metadata": {},
          "output_type": "execute_result"
        }
      ],
      "source": [
        "df_issues.iloc[0]"
      ]
    },
    {
      "cell_type": "markdown",
      "metadata": {
        "id": "ZvbwuklIfBP1"
      },
      "source": [
        "There are almost 10,000 issues in our dataset, and by looking at df info, we've URLs, IDs, dates, users, title, body as well as labels"
      ]
    },
    {
      "cell_type": "code",
      "execution_count": null,
      "metadata": {
        "id": "IgnAMdkDfBP2",
        "outputId": "6d7c4c47-8373-4682-975b-9219b7e43d0a"
      },
      "outputs": [
        {
          "data": {
            "text/html": [
              "<div>\n",
              "<style scoped>\n",
              "    .dataframe tbody tr th:only-of-type {\n",
              "        vertical-align: middle;\n",
              "    }\n",
              "\n",
              "    .dataframe tbody tr th {\n",
              "        vertical-align: top;\n",
              "    }\n",
              "\n",
              "    .dataframe thead th {\n",
              "        text-align: right;\n",
              "    }\n",
              "</style>\n",
              "<table border=\"1\" class=\"dataframe\">\n",
              "  <thead>\n",
              "    <tr style=\"text-align: right;\">\n",
              "      <th></th>\n",
              "      <th>2</th>\n",
              "    </tr>\n",
              "  </thead>\n",
              "  <tbody>\n",
              "    <tr>\n",
              "      <th>url</th>\n",
              "      <td>https://api.github.com/repos/huggingface/trans...</td>\n",
              "    </tr>\n",
              "    <tr>\n",
              "      <th>id</th>\n",
              "      <td>849529761</td>\n",
              "    </tr>\n",
              "    <tr>\n",
              "      <th>title</th>\n",
              "      <td>[DeepSpeed] ZeRO stage 3 integration: getting ...</td>\n",
              "    </tr>\n",
              "    <tr>\n",
              "      <th>user</th>\n",
              "      <td>{'login': 'stas00', 'id': 10676103, 'node_id':...</td>\n",
              "    </tr>\n",
              "    <tr>\n",
              "      <th>labels</th>\n",
              "      <td>[{'id': 2659267025, 'node_id': 'MDU6TGFiZWwyNj...</td>\n",
              "    </tr>\n",
              "    <tr>\n",
              "      <th>state</th>\n",
              "      <td>open</td>\n",
              "    </tr>\n",
              "    <tr>\n",
              "      <th>created_at</th>\n",
              "      <td>2021-04-02 23:40:42</td>\n",
              "    </tr>\n",
              "    <tr>\n",
              "      <th>body</th>\n",
              "      <td>**[This is not yet alive, preparing for the re...</td>\n",
              "    </tr>\n",
              "  </tbody>\n",
              "</table>\n",
              "</div>"
            ],
            "text/plain": [
              "                                                            2\n",
              "url         https://api.github.com/repos/huggingface/trans...\n",
              "id                                                  849529761\n",
              "title       [DeepSpeed] ZeRO stage 3 integration: getting ...\n",
              "user        {'login': 'stas00', 'id': 10676103, 'node_id':...\n",
              "labels      [{'id': 2659267025, 'node_id': 'MDU6TGFiZWwyNj...\n",
              "state                                                    open\n",
              "created_at                                2021-04-02 23:40:42\n",
              "body        **[This is not yet alive, preparing for the re..."
            ]
          },
          "execution_count": 5,
          "metadata": {},
          "output_type": "execute_result"
        }
      ],
      "source": [
        "# cols needed\n",
        "cols = [\"url\", \"id\", \"title\", \"user\", \"labels\", \"state\", \"created_at\", \"body\"]\n",
        "df_issues.loc[2, cols].to_frame()"
      ]
    },
    {
      "cell_type": "code",
      "execution_count": null,
      "metadata": {
        "id": "0fIIDhulfBP2",
        "outputId": "159ce959-ecac-475b-c53f-aa6f63d22891"
      },
      "outputs": [
        {
          "data": {
            "text/plain": [
              "[{'id': 2659267025,\n",
              "  'node_id': 'MDU6TGFiZWwyNjU5MjY3MDI1',\n",
              "  'url': 'https://api.github.com/repos/huggingface/transformers/labels/DeepSpeed',\n",
              "  'name': 'DeepSpeed',\n",
              "  'color': '4D34F7',\n",
              "  'default': False,\n",
              "  'description': ''}]"
            ]
          },
          "execution_count": 6,
          "metadata": {},
          "output_type": "execute_result"
        }
      ],
      "source": [
        "df_issues.loc[2, \"labels\"]"
      ]
    },
    {
      "cell_type": "markdown",
      "metadata": {
        "id": "8bJC76Q1fBP4"
      },
      "source": [
        "The `labels` column is the thing we're interested in, and each row contain a list of JSON objects with metadata about each label.\n",
        "For our purpose we need only `name` field of each object, let's overwrite the `labels` columns with just the label names:"
      ]
    },
    {
      "cell_type": "code",
      "execution_count": null,
      "metadata": {
        "id": "oR9Ly9tWfBP4",
        "outputId": "61ca2829-f370-4ad4-c9cc-ed0ba252f4e8"
      },
      "outputs": [
        {
          "data": {
            "text/plain": [
              "0              []\n",
              "1              []\n",
              "2     [DeepSpeed]\n",
              "3              []\n",
              "4              []\n",
              "5              []\n",
              "6              []\n",
              "7              []\n",
              "8              []\n",
              "9              []\n",
              "10             []\n",
              "11             []\n",
              "12             []\n",
              "13             []\n",
              "14             []\n",
              "15             []\n",
              "16             []\n",
              "17             []\n",
              "18             []\n",
              "19             []\n",
              "Name: labels, dtype: object"
            ]
          },
          "execution_count": 7,
          "metadata": {},
          "output_type": "execute_result"
        }
      ],
      "source": [
        "df_issues[\"labels\"].apply(\n",
        "    lambda x: [meta[\"name\"] for meta in x]\n",
        ")[:20]"
      ]
    },
    {
      "cell_type": "code",
      "execution_count": null,
      "metadata": {
        "id": "4J_59Un0fBP5",
        "outputId": "7a4fa9b4-80ec-43d6-e8fa-e5405506e43a"
      },
      "outputs": [
        {
          "data": {
            "text/html": [
              "<div>\n",
              "<style scoped>\n",
              "    .dataframe tbody tr th:only-of-type {\n",
              "        vertical-align: middle;\n",
              "    }\n",
              "\n",
              "    .dataframe tbody tr th {\n",
              "        vertical-align: top;\n",
              "    }\n",
              "\n",
              "    .dataframe thead th {\n",
              "        text-align: right;\n",
              "    }\n",
              "</style>\n",
              "<table border=\"1\" class=\"dataframe\">\n",
              "  <thead>\n",
              "    <tr style=\"text-align: right;\">\n",
              "      <th></th>\n",
              "      <th>labels</th>\n",
              "    </tr>\n",
              "  </thead>\n",
              "  <tbody>\n",
              "    <tr>\n",
              "      <th>0</th>\n",
              "      <td>[]</td>\n",
              "    </tr>\n",
              "    <tr>\n",
              "      <th>1</th>\n",
              "      <td>[]</td>\n",
              "    </tr>\n",
              "    <tr>\n",
              "      <th>2</th>\n",
              "      <td>[DeepSpeed]</td>\n",
              "    </tr>\n",
              "    <tr>\n",
              "      <th>3</th>\n",
              "      <td>[]</td>\n",
              "    </tr>\n",
              "    <tr>\n",
              "      <th>4</th>\n",
              "      <td>[]</td>\n",
              "    </tr>\n",
              "  </tbody>\n",
              "</table>\n",
              "</div>"
            ],
            "text/plain": [
              "        labels\n",
              "0           []\n",
              "1           []\n",
              "2  [DeepSpeed]\n",
              "3           []\n",
              "4           []"
            ]
          },
          "execution_count": 8,
          "metadata": {},
          "output_type": "execute_result"
        }
      ],
      "source": [
        "df_issues[\"labels\"] = df_issues[\"labels\"].apply(\n",
        "    lambda x: [meta[\"name\"] for meta in x]\n",
        ")\n",
        "df_issues[[\"labels\"]].head()"
      ]
    },
    {
      "cell_type": "markdown",
      "metadata": {
        "id": "2CVQFiBCfBP6"
      },
      "source": [
        "Now each row in `labels` column is a list of GitHub labels, next let's compute the length of labels to find out out number of labels per issue."
      ]
    },
    {
      "cell_type": "code",
      "execution_count": null,
      "metadata": {
        "id": "GfRHikp2fBP6",
        "outputId": "fa2cfaf9-e43c-4e58-9702-b3087310a2ea"
      },
      "outputs": [
        {
          "data": {
            "text/plain": [
              "<Axes: >"
            ]
          },
          "execution_count": 9,
          "metadata": {},
          "output_type": "execute_result"
        },
        {
          "data": {
            "image/png": "[encoded data removed]",
            "text/plain": [
              "<Figure size 640x480 with 1 Axes>"
            ]
          },
          "metadata": {},
          "output_type": "display_data"
        }
      ],
      "source": [
        "df_issues[\"labels\"].apply(\n",
        "    lambda x: len(x)\n",
        ").hist()"
      ]
    },
    {
      "cell_type": "markdown",
      "metadata": {
        "id": "WEr-gl8-fBP6"
      },
      "source": [
        "More than 60% data has no labels."
      ]
    },
    {
      "cell_type": "code",
      "execution_count": null,
      "metadata": {
        "id": "jrRqKyWKfBP7",
        "outputId": "46d61051-d1ca-4634-8baf-0c96cfb99d77"
      },
      "outputs": [
        {
          "data": {
            "text/html": [
              "<div>\n",
              "<style scoped>\n",
              "    .dataframe tbody tr th:only-of-type {\n",
              "        vertical-align: middle;\n",
              "    }\n",
              "\n",
              "    .dataframe tbody tr th {\n",
              "        vertical-align: top;\n",
              "    }\n",
              "\n",
              "    .dataframe thead th {\n",
              "        text-align: right;\n",
              "    }\n",
              "</style>\n",
              "<table border=\"1\" class=\"dataframe\">\n",
              "  <thead>\n",
              "    <tr style=\"text-align: right;\">\n",
              "      <th>labels</th>\n",
              "      <th>0</th>\n",
              "      <th>1</th>\n",
              "      <th>2</th>\n",
              "      <th>3</th>\n",
              "      <th>4</th>\n",
              "      <th>5</th>\n",
              "    </tr>\n",
              "  </thead>\n",
              "  <tbody>\n",
              "    <tr>\n",
              "      <th>count</th>\n",
              "      <td>6440</td>\n",
              "      <td>3057</td>\n",
              "      <td>305</td>\n",
              "      <td>100</td>\n",
              "      <td>25</td>\n",
              "      <td>3</td>\n",
              "    </tr>\n",
              "  </tbody>\n",
              "</table>\n",
              "</div>"
            ],
            "text/plain": [
              "labels     0     1    2    3   4  5\n",
              "count   6440  3057  305  100  25  3"
            ]
          },
          "execution_count": 10,
          "metadata": {},
          "output_type": "execute_result"
        }
      ],
      "source": [
        "df_issues[\"labels\"].apply(\n",
        "    lambda x: len(x)\n",
        ").value_counts().to_frame().T"
      ]
    },
    {
      "cell_type": "code",
      "execution_count": null,
      "metadata": {
        "id": "0hYG6x2mfBP7",
        "outputId": "ce72be27-e9e3-41ec-9fc9-1b97226cc380"
      },
      "outputs": [
        {
          "name": "stdout",
          "output_type": "stream",
          "text": [
            "Number of labels: 65\n"
          ]
        },
        {
          "data": {
            "text/html": [
              "<div>\n",
              "<style scoped>\n",
              "    .dataframe tbody tr th:only-of-type {\n",
              "        vertical-align: middle;\n",
              "    }\n",
              "\n",
              "    .dataframe tbody tr th {\n",
              "        vertical-align: top;\n",
              "    }\n",
              "\n",
              "    .dataframe thead th {\n",
              "        text-align: right;\n",
              "    }\n",
              "</style>\n",
              "<table border=\"1\" class=\"dataframe\">\n",
              "  <thead>\n",
              "    <tr style=\"text-align: right;\">\n",
              "      <th>labels</th>\n",
              "      <th>wontfix</th>\n",
              "      <th>model card</th>\n",
              "      <th>Core: Tokenization</th>\n",
              "      <th>New model</th>\n",
              "      <th>Core: Modeling</th>\n",
              "      <th>Help wanted</th>\n",
              "      <th>Good First Issue</th>\n",
              "      <th>Usage</th>\n",
              "    </tr>\n",
              "  </thead>\n",
              "  <tbody>\n",
              "    <tr>\n",
              "      <th>count</th>\n",
              "      <td>2284</td>\n",
              "      <td>649</td>\n",
              "      <td>106</td>\n",
              "      <td>98</td>\n",
              "      <td>64</td>\n",
              "      <td>52</td>\n",
              "      <td>50</td>\n",
              "      <td>46</td>\n",
              "    </tr>\n",
              "  </tbody>\n",
              "</table>\n",
              "</div>"
            ],
            "text/plain": [
              "labels  wontfix  model card  Core: Tokenization  New model  Core: Modeling  \\\n",
              "count      2284         649                 106         98              64   \n",
              "\n",
              "labels  Help wanted  Good First Issue  Usage  \n",
              "count            52                50     46  "
            ]
          },
          "execution_count": 11,
          "metadata": {},
          "output_type": "execute_result"
        }
      ],
      "source": [
        "df_counts = df_issues[\"labels\"].explode().value_counts()\n",
        "print(f\"Number of labels: {len(df_counts)}\")\n",
        "df_counts.to_frame().head(8).T"
      ]
    },
    {
      "cell_type": "code",
      "execution_count": null,
      "metadata": {
        "id": "shlNejYFfBP7",
        "outputId": "5d87672c-50c3-40a6-8de8-742a3f52125f"
      },
      "outputs": [
        {
          "data": {
            "text/plain": [
              "0             NaN\n",
              "1             NaN\n",
              "2       DeepSpeed\n",
              "3             NaN\n",
              "4             NaN\n",
              "          ...    \n",
              "9925          NaN\n",
              "9926          NaN\n",
              "9927          NaN\n",
              "9928          NaN\n",
              "9929      wontfix\n",
              "Name: labels, Length: 10522, dtype: object"
            ]
          },
          "execution_count": 12,
          "metadata": {},
          "output_type": "execute_result"
        }
      ],
      "source": [
        "df_issues[\"labels\"].explode()"
      ]
    },
    {
      "cell_type": "markdown",
      "metadata": {
        "id": "RwTXOQp2fBP8"
      },
      "source": [
        "We can see that there are 65 unique labels in the dataset and the classes are very imbalanced with `wontfix` and `modelcard` being the most common labels. To make the classification problem more traceable, we'll build a tagger on subset of labels that are potentially difficult fo find like `First Issue` and `Help Wanted`, for `model card` a simple rule that detects whena a model card is added on the Hugging Face Hub.\n",
        "\n",
        "The following code filters the dataset for the subset of labels and simplifies the labels for ease of use."
      ]
    },
    {
      "cell_type": "code",
      "execution_count": null,
      "metadata": {
        "id": "nLBQNOOAfBP8"
      },
      "outputs": [],
      "source": [
        "\n",
        "label_map = {\n",
        "    \"Core: Tokenization\": \"tokenization\",\n",
        "    \"New model\": \"new model\",\n",
        "    \"Core: Modeling\": \"model training\",\n",
        "    \"Usage\": \"usage\",\n",
        "    \"Core: Pipeline\": \"pipeline\",\n",
        "    \"TensorFlow\": \"tensorflow or tf\",\n",
        "    \"PyTorch\": \"pytorch\",\n",
        "    \"Examples\": \"examples\",\n",
        "    \"Documentation\": \"documentation\"\n",
        "}\n",
        "\n",
        "def filter_labels(x):\n",
        "    return [label_map[label] for label in x if label in label_map]\n",
        "\n",
        "df_issues[\"labels\"] = df_issues[\"labels\"].apply(filter_labels)\n",
        "all_labels = list(label_map.values())"
      ]
    },
    {
      "cell_type": "code",
      "execution_count": null,
      "metadata": {
        "id": "dmLvjAm4fBP-",
        "outputId": "3abc2eaa-d10a-464b-e872-a35f15aff9ee"
      },
      "outputs": [
        {
          "name": "stdout",
          "output_type": "stream",
          "text": [
            "Number of labels after label map: 9\n"
          ]
        },
        {
          "data": {
            "text/html": [
              "<div>\n",
              "<style scoped>\n",
              "    .dataframe tbody tr th:only-of-type {\n",
              "        vertical-align: middle;\n",
              "    }\n",
              "\n",
              "    .dataframe tbody tr th {\n",
              "        vertical-align: top;\n",
              "    }\n",
              "\n",
              "    .dataframe thead th {\n",
              "        text-align: right;\n",
              "    }\n",
              "</style>\n",
              "<table border=\"1\" class=\"dataframe\">\n",
              "  <thead>\n",
              "    <tr style=\"text-align: right;\">\n",
              "      <th>labels</th>\n",
              "      <th>tokenization</th>\n",
              "      <th>new model</th>\n",
              "      <th>model training</th>\n",
              "      <th>usage</th>\n",
              "      <th>pipeline</th>\n",
              "      <th>tensorflow or tf</th>\n",
              "      <th>pytorch</th>\n",
              "      <th>documentation</th>\n",
              "      <th>examples</th>\n",
              "    </tr>\n",
              "  </thead>\n",
              "  <tbody>\n",
              "    <tr>\n",
              "      <th>count</th>\n",
              "      <td>106</td>\n",
              "      <td>98</td>\n",
              "      <td>64</td>\n",
              "      <td>46</td>\n",
              "      <td>42</td>\n",
              "      <td>41</td>\n",
              "      <td>37</td>\n",
              "      <td>28</td>\n",
              "      <td>24</td>\n",
              "    </tr>\n",
              "  </tbody>\n",
              "</table>\n",
              "</div>"
            ],
            "text/plain": [
              "labels  tokenization  new model  model training  usage  pipeline  \\\n",
              "count            106         98              64     46        42   \n",
              "\n",
              "labels  tensorflow or tf  pytorch  documentation  examples  \n",
              "count                 41       37             28        24  "
            ]
          },
          "execution_count": 14,
          "metadata": {},
          "output_type": "execute_result"
        }
      ],
      "source": [
        "df_counts = df_issues[\"labels\"].explode().value_counts()\n",
        "print(f\"Number of labels after label map: {len(df_counts)}\")\n",
        "df_counts.to_frame().T"
      ]
    },
    {
      "cell_type": "markdown",
      "metadata": {
        "id": "lVSaj9PjfBP-"
      },
      "source": [
        "Let's create a new column to identify whether the issue is labelled or not, which'll be useful later."
      ]
    },
    {
      "cell_type": "code",
      "execution_count": null,
      "metadata": {
        "id": "CrhUYxTofBP_",
        "outputId": "a190dd2a-b4c3-481b-d410-732968bfc1ab"
      },
      "outputs": [
        {
          "data": {
            "text/html": [
              "<div>\n",
              "<style scoped>\n",
              "    .dataframe tbody tr th:only-of-type {\n",
              "        vertical-align: middle;\n",
              "    }\n",
              "\n",
              "    .dataframe tbody tr th {\n",
              "        vertical-align: top;\n",
              "    }\n",
              "\n",
              "    .dataframe thead th {\n",
              "        text-align: right;\n",
              "    }\n",
              "</style>\n",
              "<table border=\"1\" class=\"dataframe\">\n",
              "  <thead>\n",
              "    <tr style=\"text-align: right;\">\n",
              "      <th></th>\n",
              "      <th>url</th>\n",
              "      <th>repository_url</th>\n",
              "      <th>labels_url</th>\n",
              "      <th>comments_url</th>\n",
              "      <th>events_url</th>\n",
              "      <th>html_url</th>\n",
              "      <th>id</th>\n",
              "      <th>node_id</th>\n",
              "      <th>number</th>\n",
              "      <th>title</th>\n",
              "      <th>...</th>\n",
              "      <th>comments</th>\n",
              "      <th>created_at</th>\n",
              "      <th>updated_at</th>\n",
              "      <th>closed_at</th>\n",
              "      <th>author_association</th>\n",
              "      <th>active_lock_reason</th>\n",
              "      <th>body</th>\n",
              "      <th>performed_via_github_app</th>\n",
              "      <th>pull_request</th>\n",
              "      <th>split</th>\n",
              "    </tr>\n",
              "  </thead>\n",
              "  <tbody>\n",
              "    <tr>\n",
              "      <th>0</th>\n",
              "      <td>https://api.github.com/repos/huggingface/trans...</td>\n",
              "      <td>https://api.github.com/repos/huggingface/trans...</td>\n",
              "      <td>https://api.github.com/repos/huggingface/trans...</td>\n",
              "      <td>https://api.github.com/repos/huggingface/trans...</td>\n",
              "      <td>https://api.github.com/repos/huggingface/trans...</td>\n",
              "      <td>https://github.com/huggingface/transformers/is...</td>\n",
              "      <td>849568459</td>\n",
              "      <td>MDU6SXNzdWU4NDk1Njg0NTk=</td>\n",
              "      <td>11046</td>\n",
              "      <td>Potential incorrect application of layer norm ...</td>\n",
              "      <td>...</td>\n",
              "      <td>0</td>\n",
              "      <td>2021-04-03 03:37:32</td>\n",
              "      <td>2021-04-03 03:37:32</td>\n",
              "      <td>NaT</td>\n",
              "      <td>NONE</td>\n",
              "      <td>None</td>\n",
              "      <td>In BlenderbotSmallDecoder,  layer norm is appl...</td>\n",
              "      <td>NaN</td>\n",
              "      <td>None</td>\n",
              "      <td>unlabeled</td>\n",
              "    </tr>\n",
              "    <tr>\n",
              "      <th>1</th>\n",
              "      <td>https://api.github.com/repos/huggingface/trans...</td>\n",
              "      <td>https://api.github.com/repos/huggingface/trans...</td>\n",
              "      <td>https://api.github.com/repos/huggingface/trans...</td>\n",
              "      <td>https://api.github.com/repos/huggingface/trans...</td>\n",
              "      <td>https://api.github.com/repos/huggingface/trans...</td>\n",
              "      <td>https://github.com/huggingface/transformers/is...</td>\n",
              "      <td>849544374</td>\n",
              "      <td>MDU6SXNzdWU4NDk1NDQzNzQ=</td>\n",
              "      <td>11045</td>\n",
              "      <td>Multi-GPU seq2seq example evaluation significa...</td>\n",
              "      <td>...</td>\n",
              "      <td>0</td>\n",
              "      <td>2021-04-03 00:52:24</td>\n",
              "      <td>2021-04-03 00:52:24</td>\n",
              "      <td>NaT</td>\n",
              "      <td>NONE</td>\n",
              "      <td>None</td>\n",
              "      <td>\\r\\n### Who can help\\r\\n@patil-suraj @sgugger ...</td>\n",
              "      <td>NaN</td>\n",
              "      <td>None</td>\n",
              "      <td>unlabeled</td>\n",
              "    </tr>\n",
              "    <tr>\n",
              "      <th>2</th>\n",
              "      <td>https://api.github.com/repos/huggingface/trans...</td>\n",
              "      <td>https://api.github.com/repos/huggingface/trans...</td>\n",
              "      <td>https://api.github.com/repos/huggingface/trans...</td>\n",
              "      <td>https://api.github.com/repos/huggingface/trans...</td>\n",
              "      <td>https://api.github.com/repos/huggingface/trans...</td>\n",
              "      <td>https://github.com/huggingface/transformers/is...</td>\n",
              "      <td>849529761</td>\n",
              "      <td>MDU6SXNzdWU4NDk1Mjk3NjE=</td>\n",
              "      <td>11044</td>\n",
              "      <td>[DeepSpeed] ZeRO stage 3 integration: getting ...</td>\n",
              "      <td>...</td>\n",
              "      <td>0</td>\n",
              "      <td>2021-04-02 23:40:42</td>\n",
              "      <td>2021-04-03 00:00:18</td>\n",
              "      <td>NaT</td>\n",
              "      <td>COLLABORATOR</td>\n",
              "      <td>None</td>\n",
              "      <td>**[This is not yet alive, preparing for the re...</td>\n",
              "      <td>NaN</td>\n",
              "      <td>None</td>\n",
              "      <td>unlabeled</td>\n",
              "    </tr>\n",
              "    <tr>\n",
              "      <th>3</th>\n",
              "      <td>https://api.github.com/repos/huggingface/trans...</td>\n",
              "      <td>https://api.github.com/repos/huggingface/trans...</td>\n",
              "      <td>https://api.github.com/repos/huggingface/trans...</td>\n",
              "      <td>https://api.github.com/repos/huggingface/trans...</td>\n",
              "      <td>https://api.github.com/repos/huggingface/trans...</td>\n",
              "      <td>https://github.com/huggingface/transformers/is...</td>\n",
              "      <td>849499734</td>\n",
              "      <td>MDU6SXNzdWU4NDk0OTk3MzQ=</td>\n",
              "      <td>11043</td>\n",
              "      <td>Can't load model to estimater</td>\n",
              "      <td>...</td>\n",
              "      <td>0</td>\n",
              "      <td>2021-04-02 21:51:44</td>\n",
              "      <td>2021-04-02 21:51:44</td>\n",
              "      <td>NaT</td>\n",
              "      <td>NONE</td>\n",
              "      <td>None</td>\n",
              "      <td>I was trying to follow the Sagemaker instructi...</td>\n",
              "      <td>NaN</td>\n",
              "      <td>None</td>\n",
              "      <td>unlabeled</td>\n",
              "    </tr>\n",
              "    <tr>\n",
              "      <th>4</th>\n",
              "      <td>https://api.github.com/repos/huggingface/trans...</td>\n",
              "      <td>https://api.github.com/repos/huggingface/trans...</td>\n",
              "      <td>https://api.github.com/repos/huggingface/trans...</td>\n",
              "      <td>https://api.github.com/repos/huggingface/trans...</td>\n",
              "      <td>https://api.github.com/repos/huggingface/trans...</td>\n",
              "      <td>https://github.com/huggingface/transformers/is...</td>\n",
              "      <td>849274362</td>\n",
              "      <td>MDU6SXNzdWU4NDkyNzQzNjI=</td>\n",
              "      <td>11042</td>\n",
              "      <td>[LXMERT] Unclear what img_tensorize does with ...</td>\n",
              "      <td>...</td>\n",
              "      <td>0</td>\n",
              "      <td>2021-04-02 15:12:57</td>\n",
              "      <td>2021-04-02 15:15:07</td>\n",
              "      <td>NaT</td>\n",
              "      <td>NONE</td>\n",
              "      <td>None</td>\n",
              "      <td>## Environment info\\r\\n\\r\\n- `transformers` ve...</td>\n",
              "      <td>NaN</td>\n",
              "      <td>None</td>\n",
              "      <td>unlabeled</td>\n",
              "    </tr>\n",
              "  </tbody>\n",
              "</table>\n",
              "<p>5 rows × 27 columns</p>\n",
              "</div>"
            ],
            "text/plain": [
              "                                                 url  \\\n",
              "0  https://api.github.com/repos/huggingface/trans...   \n",
              "1  https://api.github.com/repos/huggingface/trans...   \n",
              "2  https://api.github.com/repos/huggingface/trans...   \n",
              "3  https://api.github.com/repos/huggingface/trans...   \n",
              "4  https://api.github.com/repos/huggingface/trans...   \n",
              "\n",
              "                                      repository_url  \\\n",
              "0  https://api.github.com/repos/huggingface/trans...   \n",
              "1  https://api.github.com/repos/huggingface/trans...   \n",
              "2  https://api.github.com/repos/huggingface/trans...   \n",
              "3  https://api.github.com/repos/huggingface/trans...   \n",
              "4  https://api.github.com/repos/huggingface/trans...   \n",
              "\n",
              "                                          labels_url  \\\n",
              "0  https://api.github.com/repos/huggingface/trans...   \n",
              "1  https://api.github.com/repos/huggingface/trans...   \n",
              "2  https://api.github.com/repos/huggingface/trans...   \n",
              "3  https://api.github.com/repos/huggingface/trans...   \n",
              "4  https://api.github.com/repos/huggingface/trans...   \n",
              "\n",
              "                                        comments_url  \\\n",
              "0  https://api.github.com/repos/huggingface/trans...   \n",
              "1  https://api.github.com/repos/huggingface/trans...   \n",
              "2  https://api.github.com/repos/huggingface/trans...   \n",
              "3  https://api.github.com/repos/huggingface/trans...   \n",
              "4  https://api.github.com/repos/huggingface/trans...   \n",
              "\n",
              "                                          events_url  \\\n",
              "0  https://api.github.com/repos/huggingface/trans...   \n",
              "1  https://api.github.com/repos/huggingface/trans...   \n",
              "2  https://api.github.com/repos/huggingface/trans...   \n",
              "3  https://api.github.com/repos/huggingface/trans...   \n",
              "4  https://api.github.com/repos/huggingface/trans...   \n",
              "\n",
              "                                            html_url         id  \\\n",
              "0  https://github.com/huggingface/transformers/is...  849568459   \n",
              "1  https://github.com/huggingface/transformers/is...  849544374   \n",
              "2  https://github.com/huggingface/transformers/is...  849529761   \n",
              "3  https://github.com/huggingface/transformers/is...  849499734   \n",
              "4  https://github.com/huggingface/transformers/is...  849274362   \n",
              "\n",
              "                    node_id  number  \\\n",
              "0  MDU6SXNzdWU4NDk1Njg0NTk=   11046   \n",
              "1  MDU6SXNzdWU4NDk1NDQzNzQ=   11045   \n",
              "2  MDU6SXNzdWU4NDk1Mjk3NjE=   11044   \n",
              "3  MDU6SXNzdWU4NDk0OTk3MzQ=   11043   \n",
              "4  MDU6SXNzdWU4NDkyNzQzNjI=   11042   \n",
              "\n",
              "                                               title  ... comments  \\\n",
              "0  Potential incorrect application of layer norm ...  ...        0   \n",
              "1  Multi-GPU seq2seq example evaluation significa...  ...        0   \n",
              "2  [DeepSpeed] ZeRO stage 3 integration: getting ...  ...        0   \n",
              "3                      Can't load model to estimater  ...        0   \n",
              "4  [LXMERT] Unclear what img_tensorize does with ...  ...        0   \n",
              "\n",
              "           created_at          updated_at  closed_at author_association  \\\n",
              "0 2021-04-03 03:37:32 2021-04-03 03:37:32        NaT               NONE   \n",
              "1 2021-04-03 00:52:24 2021-04-03 00:52:24        NaT               NONE   \n",
              "2 2021-04-02 23:40:42 2021-04-03 00:00:18        NaT       COLLABORATOR   \n",
              "3 2021-04-02 21:51:44 2021-04-02 21:51:44        NaT               NONE   \n",
              "4 2021-04-02 15:12:57 2021-04-02 15:15:07        NaT               NONE   \n",
              "\n",
              "  active_lock_reason                                               body  \\\n",
              "0               None  In BlenderbotSmallDecoder,  layer norm is appl...   \n",
              "1               None  \\r\\n### Who can help\\r\\n@patil-suraj @sgugger ...   \n",
              "2               None  **[This is not yet alive, preparing for the re...   \n",
              "3               None  I was trying to follow the Sagemaker instructi...   \n",
              "4               None  ## Environment info\\r\\n\\r\\n- `transformers` ve...   \n",
              "\n",
              "   performed_via_github_app pull_request      split  \n",
              "0                       NaN         None  unlabeled  \n",
              "1                       NaN         None  unlabeled  \n",
              "2                       NaN         None  unlabeled  \n",
              "3                       NaN         None  unlabeled  \n",
              "4                       NaN         None  unlabeled  \n",
              "\n",
              "[5 rows x 27 columns]"
            ]
          },
          "execution_count": 15,
          "metadata": {},
          "output_type": "execute_result"
        }
      ],
      "source": [
        "df_issues[\"split\"] = \"unlabeled\"\n",
        "df_issues.head()"
      ]
    },
    {
      "cell_type": "code",
      "execution_count": null,
      "metadata": {
        "id": "N7fS9M7YfBP_",
        "outputId": "3239e38e-7195-460f-b952-908f830af84b"
      },
      "outputs": [
        {
          "data": {
            "text/plain": [
              "0       False\n",
              "1       False\n",
              "2       False\n",
              "3       False\n",
              "4       False\n",
              "        ...  \n",
              "9925    False\n",
              "9926    False\n",
              "9927    False\n",
              "9928    False\n",
              "9929    False\n",
              "Name: labels, Length: 9930, dtype: bool"
            ]
          },
          "execution_count": 16,
          "metadata": {},
          "output_type": "execute_result"
        }
      ],
      "source": [
        "df_issues[\"labels\"].apply(lambda x: len(x)) > 0"
      ]
    },
    {
      "cell_type": "code",
      "execution_count": null,
      "metadata": {
        "id": "iASd1DdUfBP_",
        "outputId": "b02da553-fcad-404f-fb61-aacb8ab29ccf"
      },
      "outputs": [
        {
          "data": {
            "text/html": [
              "<div>\n",
              "<style scoped>\n",
              "    .dataframe tbody tr th:only-of-type {\n",
              "        vertical-align: middle;\n",
              "    }\n",
              "\n",
              "    .dataframe tbody tr th {\n",
              "        vertical-align: top;\n",
              "    }\n",
              "\n",
              "    .dataframe thead th {\n",
              "        text-align: right;\n",
              "    }\n",
              "</style>\n",
              "<table border=\"1\" class=\"dataframe\">\n",
              "  <thead>\n",
              "    <tr style=\"text-align: right;\">\n",
              "      <th></th>\n",
              "      <th>count</th>\n",
              "    </tr>\n",
              "    <tr>\n",
              "      <th>split</th>\n",
              "      <th></th>\n",
              "    </tr>\n",
              "  </thead>\n",
              "  <tbody>\n",
              "    <tr>\n",
              "      <th>unlabeled</th>\n",
              "      <td>9489</td>\n",
              "    </tr>\n",
              "    <tr>\n",
              "      <th>labeled</th>\n",
              "      <td>441</td>\n",
              "    </tr>\n",
              "  </tbody>\n",
              "</table>\n",
              "</div>"
            ],
            "text/plain": [
              "           count\n",
              "split           \n",
              "unlabeled   9489\n",
              "labeled      441"
            ]
          },
          "execution_count": 17,
          "metadata": {},
          "output_type": "execute_result"
        }
      ],
      "source": [
        "mask = df_issues[\"labels\"].apply(lambda x: len(x)) > 0\n",
        "df_issues.loc[mask, \"split\"] = \"labeled\"\n",
        "df_issues[\"split\"].value_counts().to_frame()"
      ]
    },
    {
      "cell_type": "code",
      "execution_count": null,
      "metadata": {
        "id": "CaUTzYJ_fBP_",
        "outputId": "76065021-b7f4-494d-b765-c24c942267bb"
      },
      "outputs": [
        {
          "name": "stdout",
          "output_type": "stream",
          "text": [
            "title: Add new CANINE model\n",
            "\n",
            "body: # 🌟 New model addition\n",
            "\n",
            "## Model description\n",
            "\n",
            "Google recently proposed a new **C**haracter **A**rchitecture with **N**o tokenization **I**n **N**eural **E**ncoders architecture (CANINE). Not only the title is exciting:\n",
            "\n",
            "> Pipelined NLP systems have largely been superseded by end-to-end neural modeling, yet nearly all commonly-used models still require an explicit tokenization step. While recent tokenization approaches based on data-derived subword lexicons are less brittle than manually en\n",
            "\n",
            "labels: ['new model']\n",
            "\n"
          ]
        }
      ],
      "source": [
        "# Let's check a single sample\n",
        "for column in [\"title\", \"body\", \"labels\"]:\n",
        "    print(f\"{column}: {df_issues[column].iloc[26][:500]}\\n\")"
      ]
    },
    {
      "cell_type": "markdown",
      "metadata": {
        "id": "44bI64BHfBP_"
      },
      "source": [
        "In this example, a new model architecture is proposed, so the label `new model` makes sense. title also has some useful information, let's concatenate title with body field:"
      ]
    },
    {
      "cell_type": "code",
      "execution_count": null,
      "metadata": {
        "id": "OGoWFGO8fBQA"
      },
      "outputs": [],
      "source": [
        "df_issues[\"text\"] = df_issues.apply(\n",
        "    lambda x: x[\"title\"] + \"\\n\\n\" + x[\"body\"], axis=1\n",
        ")"
      ]
    },
    {
      "cell_type": "code",
      "execution_count": null,
      "metadata": {
        "id": "L0VmiE0xfBQA",
        "outputId": "fdde888a-8b48-45db-a06a-47df5a5eaa3b"
      },
      "outputs": [
        {
          "data": {
            "text/html": [
              "<div>\n",
              "<style scoped>\n",
              "    .dataframe tbody tr th:only-of-type {\n",
              "        vertical-align: middle;\n",
              "    }\n",
              "\n",
              "    .dataframe tbody tr th {\n",
              "        vertical-align: top;\n",
              "    }\n",
              "\n",
              "    .dataframe thead th {\n",
              "        text-align: right;\n",
              "    }\n",
              "</style>\n",
              "<table border=\"1\" class=\"dataframe\">\n",
              "  <thead>\n",
              "    <tr style=\"text-align: right;\">\n",
              "      <th></th>\n",
              "      <th>text</th>\n",
              "      <th>title</th>\n",
              "      <th>body</th>\n",
              "    </tr>\n",
              "  </thead>\n",
              "  <tbody>\n",
              "    <tr>\n",
              "      <th>0</th>\n",
              "      <td>Potential incorrect application of layer norm ...</td>\n",
              "      <td>Potential incorrect application of layer norm ...</td>\n",
              "      <td>In BlenderbotSmallDecoder,  layer norm is appl...</td>\n",
              "    </tr>\n",
              "    <tr>\n",
              "      <th>1</th>\n",
              "      <td>Multi-GPU seq2seq example evaluation significa...</td>\n",
              "      <td>Multi-GPU seq2seq example evaluation significa...</td>\n",
              "      <td>\\r\\n### Who can help\\r\\n@patil-suraj @sgugger ...</td>\n",
              "    </tr>\n",
              "    <tr>\n",
              "      <th>2</th>\n",
              "      <td>[DeepSpeed] ZeRO stage 3 integration: getting ...</td>\n",
              "      <td>[DeepSpeed] ZeRO stage 3 integration: getting ...</td>\n",
              "      <td>**[This is not yet alive, preparing for the re...</td>\n",
              "    </tr>\n",
              "    <tr>\n",
              "      <th>3</th>\n",
              "      <td>Can't load model to estimater\\n\\nI was trying ...</td>\n",
              "      <td>Can't load model to estimater</td>\n",
              "      <td>I was trying to follow the Sagemaker instructi...</td>\n",
              "    </tr>\n",
              "    <tr>\n",
              "      <th>4</th>\n",
              "      <td>[LXMERT] Unclear what img_tensorize does with ...</td>\n",
              "      <td>[LXMERT] Unclear what img_tensorize does with ...</td>\n",
              "      <td>## Environment info\\r\\n\\r\\n- `transformers` ve...</td>\n",
              "    </tr>\n",
              "  </tbody>\n",
              "</table>\n",
              "</div>"
            ],
            "text/plain": [
              "                                                text  \\\n",
              "0  Potential incorrect application of layer norm ...   \n",
              "1  Multi-GPU seq2seq example evaluation significa...   \n",
              "2  [DeepSpeed] ZeRO stage 3 integration: getting ...   \n",
              "3  Can't load model to estimater\\n\\nI was trying ...   \n",
              "4  [LXMERT] Unclear what img_tensorize does with ...   \n",
              "\n",
              "                                               title  \\\n",
              "0  Potential incorrect application of layer norm ...   \n",
              "1  Multi-GPU seq2seq example evaluation significa...   \n",
              "2  [DeepSpeed] ZeRO stage 3 integration: getting ...   \n",
              "3                      Can't load model to estimater   \n",
              "4  [LXMERT] Unclear what img_tensorize does with ...   \n",
              "\n",
              "                                                body  \n",
              "0  In BlenderbotSmallDecoder,  layer norm is appl...  \n",
              "1  \\r\\n### Who can help\\r\\n@patil-suraj @sgugger ...  \n",
              "2  **[This is not yet alive, preparing for the re...  \n",
              "3  I was trying to follow the Sagemaker instructi...  \n",
              "4  ## Environment info\\r\\n\\r\\n- `transformers` ve...  "
            ]
          },
          "execution_count": 20,
          "metadata": {},
          "output_type": "execute_result"
        }
      ],
      "source": [
        "df_issues[[\"text\", \"title\", \"body\"]].head()"
      ]
    },
    {
      "cell_type": "markdown",
      "metadata": {
        "id": "hgNjPS22fBQA"
      },
      "source": [
        "Before looking at rest of the data, let's remove the duplicates."
      ]
    },
    {
      "cell_type": "code",
      "execution_count": null,
      "metadata": {
        "id": "ZVR7__PgfBQA",
        "outputId": "e2988f63-ac03-49e2-d1e4-95b7683c2e47"
      },
      "outputs": [
        {
          "name": "stdout",
          "output_type": "stream",
          "text": [
            "Removed 1.88% duplicates.\n"
          ]
        }
      ],
      "source": [
        "len_before = len(df_issues)\n",
        "df_issues = df_issues.drop_duplicates(subset=\"text\")\n",
        "print(f\"Removed {(len_before - len(df_issues))/len_before:.2%} duplicates.\")"
      ]
    },
    {
      "cell_type": "markdown",
      "metadata": {
        "id": "4CZZopgefBQA"
      },
      "source": [
        "We've removed few duplicate issues in our dataset, but that's only a small percentage. Next let's take a look at the distribution of words to see if we'll loose much information when we truncate to each model's context size:"
      ]
    },
    {
      "cell_type": "code",
      "execution_count": null,
      "metadata": {
        "id": "iTKR3hDvfBQA",
        "outputId": "e6a896a3-53c1-4bdd-c8d4-aa811f72093c"
      },
      "outputs": [
        {
          "data": {
            "text/plain": [
              "Text(0, 0.5, 'Number of issues')"
            ]
          },
          "execution_count": 22,
          "metadata": {},
          "output_type": "execute_result"
        },
        {
          "data": {
            "image/png": "[encoded data removed]",
            "text/plain": [
              "<Figure size 640x480 with 1 Axes>"
            ]
          },
          "metadata": {},
          "output_type": "display_data"
        }
      ],
      "source": [
        "import numpy as np\n",
        "import matplotlib.pyplot as plt\n",
        "\n",
        "df_issues[\"text\"].str.split().apply(len).hist(\n",
        "    bins=np.linspace(0, 500, 50), grid=False\n",
        ")\n",
        "plt.title(\"Words per issue\")\n",
        "plt.xlabel(\"Number of words\")\n",
        "plt.ylabel(\"Number of issues\")"
      ]
    },
    {
      "cell_type": "markdown",
      "metadata": {
        "id": "13wgMTqufBQB"
      },
      "source": [
        "The distribution has the long tail characterstic of most text datasets. Most of the texts are fairly short, few texts are over 500 words these might include code, logs, errors etc. Transformer models have a context sixe of 512 tokens or larger, truncating a handful of long issues is not likely to affect the overall performance. Next let's define our training and validation set."
      ]
    },
    {
      "cell_type": "markdown",
      "metadata": {
        "id": "xKI2l6swfBQB"
      },
      "source": [
        "### Creating Training Sets\n",
        "\n",
        "Creating training and validation sets for multilabel problems is trickier because there is no guranteed balance for all labels. For this we can use [SciKit-multilearn libaray](http://scikit.ml/), which is specifically setup for this purpose. First we've to transform the labels into a format model can process. We can use `MultiLabelBinarizer` class from SciKit-learn. which accepts a list of labels and creates a vector with zeros for absent labels and ones for present labels. Let's test this by fit and tranform on `all_labels` to learn the mapping from label name to ID as follows:"
      ]
    },
    {
      "cell_type": "code",
      "execution_count": null,
      "metadata": {
        "id": "JEjK6MMMfBQB",
        "outputId": "eced2eb9-9bfb-4d33-a062-0799985903f2"
      },
      "outputs": [
        {
          "data": {
            "text/plain": [
              "['tokenization',\n",
              " 'new model',\n",
              " 'model training',\n",
              " 'usage',\n",
              " 'pipeline',\n",
              " 'tensorflow or tf',\n",
              " 'pytorch',\n",
              " 'examples',\n",
              " 'documentation']"
            ]
          },
          "execution_count": 23,
          "metadata": {},
          "output_type": "execute_result"
        }
      ],
      "source": [
        "all_labels"
      ]
    },
    {
      "cell_type": "code",
      "execution_count": null,
      "metadata": {
        "id": "ihspqJysfBQB",
        "outputId": "3f52da55-1c2a-4b36-dcbd-0dd0c8d26f7a"
      },
      "outputs": [
        {
          "data": {
            "text/plain": [
              "array([[0, 0, 0, 1, 0, 0, 0, 1, 0],\n",
              "       [0, 0, 0, 0, 0, 1, 0, 0, 0]])"
            ]
          },
          "execution_count": 24,
          "metadata": {},
          "output_type": "execute_result"
        }
      ],
      "source": [
        "from sklearn.preprocessing import MultiLabelBinarizer\n",
        "\n",
        "mlb = MultiLabelBinarizer()\n",
        "mlb.fit([all_labels])\n",
        "mlb.transform([[\"tokenization\", \"new model\"], [\"pytorch\"]])"
      ]
    },
    {
      "cell_type": "markdown",
      "metadata": {
        "id": "m1KOg3x7fBQC"
      },
      "source": [
        "To create the splits we can use the `iterative_train_test_split()` function from Scikit-multilearn, which creates train/test splits iteratively to achieve balanced labels. We can wrap it in a function that we can apply to `DataFrame`s. Since this function expects a two-dimenstional feature matrix, we need to add a dimension to the possible indices before making the split:"
      ]
    },
    {
      "cell_type": "code",
      "execution_count": null,
      "metadata": {
        "id": "d5RFSDkTfBQH"
      },
      "outputs": [],
      "source": [
        "from skmultilearn.model_selection import iterative_train_test_split\n",
        "\n",
        "def balanced_split(df, test_size=0.5):\n",
        "    ind = np.expand_dims(np.arange(len(df)), axis=1)\n",
        "    labels = mlb.transform(df[\"labels\"])\n",
        "    ind_train, _, ind_test, _ = iterative_train_test_split(\n",
        "        ind,\n",
        "        labels,\n",
        "        test_size,\n",
        "    )\n",
        "    return df.iloc[ind_train[:, 0]], df.iloc[ind_test[:,0]]"
      ]
    },
    {
      "cell_type": "markdown",
      "metadata": {
        "id": "Gv2VfD_vfBQH"
      },
      "source": [
        "With this `balanced_split()` function, we can split the data into supervised and unsupervised datasets, and then create balanced training, validation and test sets for supervised part:"
      ]
    },
    {
      "cell_type": "code",
      "execution_count": null,
      "metadata": {
        "id": "O9fGdZWkfBQH",
        "outputId": "409589ea-ff8b-4a40-d7f6-ff20493cda30"
      },
      "outputs": [
        {
          "data": {
            "text/html": [
              "<div>\n",
              "<style scoped>\n",
              "    .dataframe tbody tr th:only-of-type {\n",
              "        vertical-align: middle;\n",
              "    }\n",
              "\n",
              "    .dataframe tbody tr th {\n",
              "        vertical-align: top;\n",
              "    }\n",
              "\n",
              "    .dataframe thead th {\n",
              "        text-align: right;\n",
              "    }\n",
              "</style>\n",
              "<table border=\"1\" class=\"dataframe\">\n",
              "  <thead>\n",
              "    <tr style=\"text-align: right;\">\n",
              "      <th></th>\n",
              "      <th>text</th>\n",
              "      <th>labels</th>\n",
              "      <th>split</th>\n",
              "    </tr>\n",
              "  </thead>\n",
              "  <tbody>\n",
              "    <tr>\n",
              "      <th>0</th>\n",
              "      <td>Potential incorrect application of layer norm ...</td>\n",
              "      <td>[]</td>\n",
              "      <td>unlabeled</td>\n",
              "    </tr>\n",
              "    <tr>\n",
              "      <th>1</th>\n",
              "      <td>Multi-GPU seq2seq example evaluation significa...</td>\n",
              "      <td>[]</td>\n",
              "      <td>unlabeled</td>\n",
              "    </tr>\n",
              "    <tr>\n",
              "      <th>2</th>\n",
              "      <td>[DeepSpeed] ZeRO stage 3 integration: getting ...</td>\n",
              "      <td>[]</td>\n",
              "      <td>unlabeled</td>\n",
              "    </tr>\n",
              "    <tr>\n",
              "      <th>3</th>\n",
              "      <td>Can't load model to estimater\\n\\nI was trying ...</td>\n",
              "      <td>[]</td>\n",
              "      <td>unlabeled</td>\n",
              "    </tr>\n",
              "    <tr>\n",
              "      <th>4</th>\n",
              "      <td>[LXMERT] Unclear what img_tensorize does with ...</td>\n",
              "      <td>[]</td>\n",
              "      <td>unlabeled</td>\n",
              "    </tr>\n",
              "  </tbody>\n",
              "</table>\n",
              "</div>"
            ],
            "text/plain": [
              "                                                text labels      split\n",
              "0  Potential incorrect application of layer norm ...     []  unlabeled\n",
              "1  Multi-GPU seq2seq example evaluation significa...     []  unlabeled\n",
              "2  [DeepSpeed] ZeRO stage 3 integration: getting ...     []  unlabeled\n",
              "3  Can't load model to estimater\\n\\nI was trying ...     []  unlabeled\n",
              "4  [LXMERT] Unclear what img_tensorize does with ...     []  unlabeled"
            ]
          },
          "execution_count": 27,
          "metadata": {},
          "output_type": "execute_result"
        }
      ],
      "source": [
        "from sklearn.model_selection import train_test_split\n",
        "\n",
        "df_clean = df_issues[[\"text\", \"labels\", \"split\"]].reset_index(drop=True).copy()\n",
        "df_unsup = df_clean.loc[df_clean[\"split\"] == \"unlabeled\", [\"text\", \"labels\"]]\n",
        "df_sup = df_clean.loc[df_clean[\"split\"] == \"labeled\", [\"text\", \"labels\"]]\n",
        "\n",
        "df_clean.head()"
      ]
    },
    {
      "cell_type": "code",
      "execution_count": null,
      "metadata": {
        "id": "lRZkYL3vfBQH"
      },
      "outputs": [],
      "source": [
        "np.random.seed(0)\n",
        "df_train, df_tmp = balanced_split(\n",
        "    df_sup, test_size=0.5\n",
        ")\n",
        "df_valid, df_test = balanced_split(\n",
        "    df_tmp, test_size=0.5\n",
        ")"
      ]
    },
    {
      "cell_type": "markdown",
      "metadata": {
        "id": "5c2I7lvRfBQI"
      },
      "source": [
        "Finally, let's create a `DatasetDict` with all the splits so that we can easily tokenize the dataset and integrate with the `Trainer`."
      ]
    },
    {
      "cell_type": "code",
      "execution_count": null,
      "metadata": {
        "id": "yQzp1W_yfBQI",
        "outputId": "7f516c6b-06e0-4439-cb13-71d7f96444f0"
      },
      "outputs": [
        {
          "data": {
            "text/html": [
              "<div>\n",
              "<style scoped>\n",
              "    .dataframe tbody tr th:only-of-type {\n",
              "        vertical-align: middle;\n",
              "    }\n",
              "\n",
              "    .dataframe tbody tr th {\n",
              "        vertical-align: top;\n",
              "    }\n",
              "\n",
              "    .dataframe thead th {\n",
              "        text-align: right;\n",
              "    }\n",
              "</style>\n",
              "<table border=\"1\" class=\"dataframe\">\n",
              "  <thead>\n",
              "    <tr style=\"text-align: right;\">\n",
              "      <th></th>\n",
              "      <th>text</th>\n",
              "      <th>labels</th>\n",
              "    </tr>\n",
              "  </thead>\n",
              "  <tbody>\n",
              "    <tr>\n",
              "      <th>26</th>\n",
              "      <td>Add new CANINE model\\n\\n# 🌟 New model addition...</td>\n",
              "      <td>[new model]</td>\n",
              "    </tr>\n",
              "    <tr>\n",
              "      <th>107</th>\n",
              "      <td>Please implement DUMA: Reading Comprehension w...</td>\n",
              "      <td>[new model]</td>\n",
              "    </tr>\n",
              "    <tr>\n",
              "      <th>264</th>\n",
              "      <td>Can DeepSpeed ZeRO-3 be applied for training? ...</td>\n",
              "      <td>[new model]</td>\n",
              "    </tr>\n",
              "    <tr>\n",
              "      <th>484</th>\n",
              "      <td>XLSR-53\\n\\n# 🚀 Feature request\\r\\n\\r\\nIs it po...</td>\n",
              "      <td>[new model]</td>\n",
              "    </tr>\n",
              "    <tr>\n",
              "      <th>566</th>\n",
              "      <td>[examples] should all examples support the pre...</td>\n",
              "      <td>[examples]</td>\n",
              "    </tr>\n",
              "  </tbody>\n",
              "</table>\n",
              "</div>"
            ],
            "text/plain": [
              "                                                  text       labels\n",
              "26   Add new CANINE model\\n\\n# 🌟 New model addition...  [new model]\n",
              "107  Please implement DUMA: Reading Comprehension w...  [new model]\n",
              "264  Can DeepSpeed ZeRO-3 be applied for training? ...  [new model]\n",
              "484  XLSR-53\\n\\n# 🚀 Feature request\\r\\n\\r\\nIs it po...  [new model]\n",
              "566  [examples] should all examples support the pre...   [examples]"
            ]
          },
          "execution_count": 29,
          "metadata": {},
          "output_type": "execute_result"
        }
      ],
      "source": [
        "df_train.head()"
      ]
    },
    {
      "cell_type": "markdown",
      "metadata": {
        "id": "tJLvnZPsfBQI"
      },
      "source": [
        "All our splits have an index, so we'll reset the index before adding it to DatasetDict."
      ]
    },
    {
      "cell_type": "code",
      "execution_count": null,
      "metadata": {
        "id": "i3nWI_jJfBQI",
        "outputId": "598244e3-0048-4bd7-aff0-7fb59cf1943e"
      },
      "outputs": [
        {
          "data": {
            "text/plain": [
              "DatasetDict({\n",
              "    train: Dataset({\n",
              "        features: ['text', 'labels'],\n",
              "        num_rows: 223\n",
              "    })\n",
              "    valid: Dataset({\n",
              "        features: ['text', 'labels'],\n",
              "        num_rows: 106\n",
              "    })\n",
              "    test: Dataset({\n",
              "        features: ['text', 'labels'],\n",
              "        num_rows: 111\n",
              "    })\n",
              "    unsup: Dataset({\n",
              "        features: ['text', 'labels'],\n",
              "        num_rows: 9303\n",
              "    })\n",
              "})"
            ]
          },
          "execution_count": 30,
          "metadata": {},
          "output_type": "execute_result"
        }
      ],
      "source": [
        "from datasets import DatasetDict, Dataset\n",
        "\n",
        "ds = DatasetDict(\n",
        "{\n",
        "    \"train\": Dataset.from_pandas(df=df_train.reset_index(drop=True)),\n",
        "    \"valid\": Dataset.from_pandas(df_valid.reset_index(drop=True)),\n",
        "    \"test\": Dataset.from_pandas(df_test.reset_index(drop=True)),\n",
        "    \"unsup\": Dataset.from_pandas(df_unsup.reset_index(drop=True)),\n",
        "}\n",
        ")\n",
        "ds"
      ]
    },
    {
      "cell_type": "markdown",
      "metadata": {
        "id": "F1ypoVDyfBQO"
      },
      "source": [
        "This looks good, so the last thing to do is to create some training slices so that we can evaluate the performance of each classifier as a function of the training set size."
      ]
    },
    {
      "cell_type": "markdown",
      "metadata": {
        "id": "gQ0glBKkfBQO"
      },
      "source": [
        "### Create Traininig Slices\n",
        "\n",
        "This dataset has two characterstics that we want to investigate in this notebook: sparse labelled data and multilabel classification. The training sample consists ofonly 223 samples which is really small even for transfer learning. In this notebook we'll slice the training data further to investigate various regime or functions to deal with such situations and compare the performance against the number of training datapoints uses. We'll start with only eight samples per label and build up until the slice covers the full training set using `iterative_train_test_split()` function:"
      ]
    },
    {
      "cell_type": "code",
      "execution_count": null,
      "metadata": {
        "id": "Rg7ckaHFfBQP",
        "outputId": "e65f6662-d4f9-4c46-995c-ac7deb26d06a"
      },
      "outputs": [
        {
          "name": "stdout",
          "output_type": "stream",
          "text": [
            "8\n",
            "Number of training slices: 8\n",
            "Previous number of training slices: 0\n",
            "Length of indices: 223\n",
            "Length of labels: 223\n",
            "Number of indices pool after iterative split: 213\n",
            "Number of labels after iterative split: 213\n",
            "Number of samples in new slice after iterative split: 10\n",
            "16\n",
            "Number of training slices: 16\n",
            "Previous number of training slices: 8\n",
            "Length of indices: 213\n",
            "Length of labels: 213\n",
            "Number of indices pool after iterative split: 204\n",
            "Number of labels after iterative split: 204\n",
            "Number of samples in new slice after iterative split: 9\n",
            "32\n",
            "Number of training slices: 32\n",
            "Previous number of training slices: 16\n",
            "Length of indices: 204\n",
            "Length of labels: 204\n",
            "Number of indices pool after iterative split: 187\n",
            "Number of labels after iterative split: 187\n",
            "Number of samples in new slice after iterative split: 17\n",
            "64\n",
            "Number of training slices: 64\n",
            "Previous number of training slices: 32\n",
            "Length of indices: 187\n",
            "Length of labels: 187\n",
            "Number of indices pool after iterative split: 155\n",
            "Number of labels after iterative split: 155\n",
            "Number of samples in new slice after iterative split: 32\n",
            "128\n",
            "Number of training slices: 128\n",
            "Previous number of training slices: 64\n",
            "Length of indices: 155\n",
            "Length of labels: 155\n",
            "Number of indices pool after iterative split: 89\n",
            "Number of labels after iterative split: 89\n",
            "Number of samples in new slice after iterative split: 66\n"
          ]
        },
        {
          "data": {
            "text/plain": [
              "(None, None)"
            ]
          },
          "execution_count": 31,
          "metadata": {},
          "output_type": "execute_result"
        }
      ],
      "source": [
        "np.random.seed(0)\n",
        "all_indices = np.expand_dims(list(range(len(ds[\"train\"]))), axis=1)\n",
        "indices_pool = all_indices\n",
        "labels = mlb.transform(ds[\"train\"]['labels'])\n",
        "train_samples = [8, 16, 32, 64, 128]\n",
        "train_slices, last_k = [], 0\n",
        "\n",
        "\n",
        "for i, k in enumerate(train_samples):\n",
        "    print(k)\n",
        "    print(f\"Number of training slices: {k}\")\n",
        "    print(f\"Previous number of training slices: {last_k}\")\n",
        "    print(f\"Length of indices: {len(indices_pool)}\")\n",
        "    print(f\"Length of labels: {len(labels)}\")\n",
        "    # indices_pool, labels, new_slice, _ = iterative_train_test_split(\n",
        "    #     X=indices_pool, # Initially this will be all_indices, then for each iteration a slice(8, 16, etc) will be reduced and go into new_slice\n",
        "    #     y=labels,\n",
        "    #     test_size=(k-last_k)/len(labels)\n",
        "    # )\n",
        "    indices_pool, labels, new_slice, _ = iterative_train_test_split(\n",
        "        indices_pool, labels, (k-last_k)/len(labels))\n",
        "    print(f\"Number of indices pool after iterative split: {len(indices_pool)}\")\n",
        "    print(f\"Number of labels after iterative split: {len(labels)}\")\n",
        "    print(f\"Number of samples in new slice after iterative split: {len(new_slice)}\")\n",
        "    last_k = k\n",
        "\n",
        "    if i == 0:\n",
        "        train_slices.append(new_slice)\n",
        "    else:\n",
        "        train_slices.append(np.concatenate((\n",
        "            train_slices[-1], # Previous slice\n",
        "            new_slice, # current slice\n",
        "        )))\n",
        "\n",
        "# Add full dataset\n",
        "train_slices.append(all_indices), train_samples.append(len(ds['train']))"
      ]
    },
    {
      "cell_type": "code",
      "execution_count": null,
      "metadata": {
        "id": "w5ZxFUdBfBQP",
        "outputId": "734a6920-0fe6-497d-c8ad-dfdc8a6f05ca"
      },
      "outputs": [
        {
          "data": {
            "text/plain": [
              "(6,\n",
              " array([[ 0],\n",
              "        [ 2],\n",
              "        [ 9],\n",
              "        [11],\n",
              "        [18]]),\n",
              " array([[ 0],\n",
              "        [ 2],\n",
              "        [ 9],\n",
              "        [11],\n",
              "        [18]]))"
            ]
          },
          "execution_count": 32,
          "metadata": {},
          "output_type": "execute_result"
        }
      ],
      "source": [
        "len(train_slices), train_slices[0][:5], train_slices[1][:5]"
      ]
    },
    {
      "cell_type": "code",
      "execution_count": null,
      "metadata": {
        "id": "CfMA-Sa0fBQP"
      },
      "outputs": [],
      "source": [
        "# Let's squeeze the train slices to remove the additional dimenstion added to work with iterative_train_test_split\n",
        "train_slices = [np.squeeze(train_slice) for train_slice in train_slices]"
      ]
    },
    {
      "cell_type": "code",
      "execution_count": null,
      "metadata": {
        "id": "UTNIBGiHfBQQ",
        "outputId": "f9bdc784-4d5d-48f6-eca8-a6550d1179bd"
      },
      "outputs": [
        {
          "data": {
            "text/plain": [
              "(6, array([ 0,  2,  9, 11, 18]), array([ 0,  2,  9, 11, 18]))"
            ]
          },
          "execution_count": 34,
          "metadata": {},
          "output_type": "execute_result"
        }
      ],
      "source": [
        "len(train_slices), train_slices[0][:5], train_slices[1][:5]"
      ]
    },
    {
      "cell_type": "code",
      "execution_count": null,
      "metadata": {
        "id": "0RTgWj4RfBQQ",
        "outputId": "d9532245-b451-48a4-8e8a-a81f0a36583e"
      },
      "outputs": [
        {
          "name": "stdout",
          "output_type": "stream",
          "text": [
            "Target split size:\n",
            "[8, 16, 32, 64, 128, 223]\n",
            "Actual split sizes:\n",
            "[10, 19, 36, 68, 134, 223]\n"
          ]
        }
      ],
      "source": [
        "print(f\"Target split size:\\n{train_samples}\")\n",
        "print(f\"Actual split sizes:\\n{[len(x) for x in train_slices]}\")"
      ]
    },
    {
      "cell_type": "markdown",
      "metadata": {
        "id": "8w-22bP1fBQQ"
      },
      "source": [
        "## Implementing a Naive Bayseline\n",
        "\n",
        "Whenever we start a new NLP project, it's always a good idea to establish a strong baseline there are two reasons for this:\n",
        "\n",
        "1. A baseline based on regular expressions or handcrafted rules might already work well, In this case no need to bring out transformers which is hard to maintain, deploy in production.\n",
        "2. The baselines provide quick checks and comparison as we explore more complex models. For example, if we achieve 80% accuracy on validation set with BERT we might write it off as a hard dataset. But what if we've a logistic regression baseline with 95% accuracy, we'll then investigate or debug what's wrong with the model.\n",
        "\n",
        "So let's start out analysis by training a baseline model. For text classification  great baseline is *Naive Bayes classifier* whicc is very simple and quick to train. sci-Kit Learn's Naive Bayes doesn't support multi label classification out of the box. But we can use Scikit-multilearn to cast the problem as one-vs-rest classification task where we train *L* binary classifiers for *L* labels.\n",
        "\n",
        "First let's use a multilabel binarizer to create a new `label_ids` column in our training sets. We can use `map()` to take of all processing in one go."
      ]
    },
    {
      "cell_type": "code",
      "execution_count": null,
      "metadata": {
        "id": "WCblAi3xfBQR",
        "outputId": "1b669833-aba1-4938-a73a-d15ce94c6a2e"
      },
      "outputs": [
        {
          "data": {
            "text/plain": [
              "[['new model'],\n",
              " ['new model'],\n",
              " ['new model'],\n",
              " ['new model'],\n",
              " ['examples'],\n",
              " ['examples'],\n",
              " ['new model'],\n",
              " ['new model'],\n",
              " ['examples'],\n",
              " ['tensorflow or tf']]"
            ]
          },
          "execution_count": 36,
          "metadata": {},
          "output_type": "execute_result"
        }
      ],
      "source": [
        "ds[\"train\"][\"labels\"][:10]"
      ]
    },
    {
      "cell_type": "code",
      "execution_count": null,
      "metadata": {
        "id": "HBgqg3DTfBQR",
        "outputId": "f9f059f7-0e26-449a-87e1-812db4329e55",
        "colab": {
          "referenced_widgets": [
            "e2927dc87ef649729ffdc53266e595c6",
            "0f7646d35fc5476cbcc569f3d793825e",
            "c0f6c21a23f14c52822fd369d65942c1",
            "edb0b547283846b2b8c3329d77cdecb0"
          ]
        }
      },
      "outputs": [
        {
          "name": "stderr",
          "output_type": "stream",
          "text": [
            "Parameter 'function'=<function prepare_labels at 0x7fc0d7516af0> of the transform datasets.arrow_dataset.Dataset._map_single couldn't be hashed properly, a random hash was used instead. Make sure your transforms and parameters are serializable with pickle or dill for the dataset fingerprinting and caching to work. If you reuse this transform, the caching mechanism will consider it to be different from the previous calls and recompute everything. This warning is only showed once. Subsequent hashing failures won't be showed.\n"
          ]
        },
        {
          "data": {
            "application/vnd.jupyter.widget-view+json": {
              "model_id": "e2927dc87ef649729ffdc53266e595c6",
              "version_major": 2,
              "version_minor": 0
            },
            "text/plain": [
              "  0%|          | 0/1 [00:00<?, ?ba/s]"
            ]
          },
          "metadata": {},
          "output_type": "display_data"
        },
        {
          "data": {
            "application/vnd.jupyter.widget-view+json": {
              "model_id": "0f7646d35fc5476cbcc569f3d793825e",
              "version_major": 2,
              "version_minor": 0
            },
            "text/plain": [
              "  0%|          | 0/1 [00:00<?, ?ba/s]"
            ]
          },
          "metadata": {},
          "output_type": "display_data"
        },
        {
          "data": {
            "application/vnd.jupyter.widget-view+json": {
              "model_id": "c0f6c21a23f14c52822fd369d65942c1",
              "version_major": 2,
              "version_minor": 0
            },
            "text/plain": [
              "  0%|          | 0/1 [00:00<?, ?ba/s]"
            ]
          },
          "metadata": {},
          "output_type": "display_data"
        },
        {
          "data": {
            "application/vnd.jupyter.widget-view+json": {
              "model_id": "edb0b547283846b2b8c3329d77cdecb0",
              "version_major": 2,
              "version_minor": 0
            },
            "text/plain": [
              "  0%|          | 0/10 [00:00<?, ?ba/s]"
            ]
          },
          "metadata": {},
          "output_type": "display_data"
        }
      ],
      "source": [
        "def prepare_labels(batch):\n",
        "    batch[\"label_ids\"] = mlb.transform(batch[\"labels\"])\n",
        "    return batch\n",
        "\n",
        "ds = ds.map(prepare_labels, batched=True)"
      ]
    },
    {
      "cell_type": "code",
      "execution_count": null,
      "metadata": {
        "id": "qSeNKatqfBQR",
        "outputId": "ddffd250-3c0e-4b2b-8e0e-457be65c8d25"
      },
      "outputs": [
        {
          "name": "stdout",
          "output_type": "stream",
          "text": [
            "Raw labels:\n",
            "[['new model'], ['new model'], ['new model'], ['new model'], ['examples'], ['examples'], ['new model'], ['new model'], ['examples'], ['tensorflow or tf']]\n",
            "Labels after transform:\n",
            "[[0, 0, 0, 1, 0, 0, 0, 0, 0], [0, 0, 0, 1, 0, 0, 0, 0, 0], [0, 0, 0, 1, 0, 0, 0, 0, 0], [0, 0, 0, 1, 0, 0, 0, 0, 0], [0, 1, 0, 0, 0, 0, 0, 0, 0], [0, 1, 0, 0, 0, 0, 0, 0, 0], [0, 0, 0, 1, 0, 0, 0, 0, 0], [0, 0, 0, 1, 0, 0, 0, 0, 0], [0, 1, 0, 0, 0, 0, 0, 0, 0], [0, 0, 0, 0, 0, 0, 1, 0, 0]]\n"
          ]
        }
      ],
      "source": [
        "print(f\"Raw labels:\\n{ds['train']['labels'][:10]}\")\n",
        "print(f\"Labels after transform:\\n{ds['train']['label_ids'][:10]}\")"
      ]
    },
    {
      "cell_type": "markdown",
      "metadata": {
        "id": "cdiHNQ3hfBQS"
      },
      "source": [
        "To measure the performance of our classifiers, we'll use the micro and macro F1-scores, where the former tracks performance on the frequent labels and the later on all the labels disregarding the frequency. Since we'll be evaluation each model across different-sized training splits, let's create a `defaultdict` witha list to store the scores per split:"
      ]
    },
    {
      "cell_type": "code",
      "execution_count": null,
      "metadata": {
        "id": "b1TDzWnzfBQT"
      },
      "outputs": [],
      "source": [
        "from collections import defaultdict\n",
        "\n",
        "macro_scores, micro_scores = defaultdict(list), defaultdict(list)"
      ]
    },
    {
      "cell_type": "markdown",
      "metadata": {
        "id": "LcadGobUfBQT"
      },
      "source": [
        "Next let's write some code to train and evaluate our baseline across increasing training set sizes:"
      ]
    },
    {
      "cell_type": "code",
      "execution_count": null,
      "metadata": {
        "id": "LApYdLyMfBQT",
        "outputId": "6bb839bd-6e6e-43d7-9bd4-0e08e29961d2"
      },
      "outputs": [
        {
          "name": "stdout",
          "output_type": "stream",
          "text": [
            "{'documentation': {'precision': 0.0, 'recall': 0.0, 'f1-score': 0.0, 'support': 7.0}, 'examples': {'precision': 0.0, 'recall': 0.0, 'f1-score': 0.0, 'support': 6.0}, 'model training': {'precision': 0.0, 'recall': 0.0, 'f1-score': 0.0, 'support': 16.0}, 'new model': {'precision': 1.0, 'recall': 0.7083333333333334, 'f1-score': 0.8292682926829268, 'support': 24.0}, 'pipeline': {'precision': 0.5, 'recall': 0.18181818181818182, 'f1-score': 0.26666666666666666, 'support': 11.0}, 'pytorch': {'precision': 0.6, 'recall': 0.3, 'f1-score': 0.4, 'support': 10.0}, 'tensorflow or tf': {'precision': 0.4, 'recall': 0.18181818181818182, 'f1-score': 0.25000000000000006, 'support': 11.0}, 'tokenization': {'precision': 0.5, 'recall': 0.2692307692307692, 'f1-score': 0.35000000000000003, 'support': 26.0}, 'usage': {'precision': 0.0, 'recall': 0.0, 'f1-score': 0.0, 'support': 12.0}, 'micro avg': {'precision': 0.6326530612244898, 'recall': 0.25203252032520324, 'f1-score': 0.3604651162790698, 'support': 123.0}, 'macro avg': {'precision': 0.3333333333333333, 'recall': 0.18235560735560735, 'f1-score': 0.23288166214995487, 'support': 123.0}, 'weighted avg': {'precision': 0.4300813008130081, 'recall': 0.25203252032520324, 'f1-score': 0.3145184744530372, 'support': 123.0}, 'samples avg': {'precision': 0.25225225225225223, 'recall': 0.2747747747747748, 'f1-score': 0.2582582582582582, 'support': 123.0}}\n",
            "{'documentation': {'precision': 0.0, 'recall': 0.0, 'f1-score': 0.0, 'support': 7.0}, 'examples': {'precision': 0.0, 'recall': 0.0, 'f1-score': 0.0, 'support': 6.0}, 'model training': {'precision': 0.0, 'recall': 0.0, 'f1-score': 0.0, 'support': 16.0}, 'new model': {'precision': 0.9285714285714286, 'recall': 0.5416666666666666, 'f1-score': 0.6842105263157894, 'support': 24.0}, 'pipeline': {'precision': 0.17857142857142858, 'recall': 0.45454545454545453, 'f1-score': 0.25641025641025644, 'support': 11.0}, 'pytorch': {'precision': 0.6, 'recall': 0.3, 'f1-score': 0.4, 'support': 10.0}, 'tensorflow or tf': {'precision': 0.4, 'recall': 0.18181818181818182, 'f1-score': 0.25000000000000006, 'support': 11.0}, 'tokenization': {'precision': 0.42857142857142855, 'recall': 0.23076923076923078, 'f1-score': 0.3, 'support': 26.0}, 'usage': {'precision': 0.0, 'recall': 0.0, 'f1-score': 0.0, 'support': 12.0}, 'micro avg': {'precision': 0.42028985507246375, 'recall': 0.23577235772357724, 'f1-score': 0.30208333333333337, 'support': 123.0}, 'macro avg': {'precision': 0.28174603174603174, 'recall': 0.18986661486661488, 'f1-score': 0.21006897585844955, 'support': 123.0}, 'weighted avg': {'precision': 0.37229965156794426, 'recall': 0.23577235772357724, 'f1-score': 0.2747281744072501, 'support': 123.0}, 'samples avg': {'precision': 0.23873873873873874, 'recall': 0.25675675675675674, 'f1-score': 0.24324324324324326, 'support': 123.0}}\n",
            "{'documentation': {'precision': 0.0, 'recall': 0.0, 'f1-score': 0.0, 'support': 7.0}, 'examples': {'precision': 0.0, 'recall': 0.0, 'f1-score': 0.0, 'support': 6.0}, 'model training': {'precision': 0.0, 'recall': 0.0, 'f1-score': 0.0, 'support': 16.0}, 'new model': {'precision': 0.9, 'recall': 0.75, 'f1-score': 0.8181818181818182, 'support': 24.0}, 'pipeline': {'precision': 0.3333333333333333, 'recall': 0.09090909090909091, 'f1-score': 0.14285714285714288, 'support': 11.0}, 'pytorch': {'precision': 0.6, 'recall': 0.3, 'f1-score': 0.4, 'support': 10.0}, 'tensorflow or tf': {'precision': 0.3333333333333333, 'recall': 0.18181818181818182, 'f1-score': 0.23529411764705885, 'support': 11.0}, 'tokenization': {'precision': 0.6086956521739131, 'recall': 0.5384615384615384, 'f1-score': 0.5714285714285715, 'support': 26.0}, 'usage': {'precision': 0.0, 'recall': 0.0, 'f1-score': 0.0, 'support': 12.0}, 'micro avg': {'precision': 0.6129032258064516, 'recall': 0.3089430894308943, 'f1-score': 0.41081081081081083, 'support': 123.0}, 'macro avg': {'precision': 0.3083735909822866, 'recall': 0.20679875679875678, 'f1-score': 0.24086240556828795, 'support': 123.0}, 'weighted avg': {'precision': 0.4126782137386591, 'recall': 0.3089430894308943, 'f1-score': 0.34677374275652606, 'support': 123.0}, 'samples avg': {'precision': 0.31981981981981983, 'recall': 0.3333333333333333, 'f1-score': 0.3213213213213213, 'support': 123.0}}\n",
            "{'documentation': {'precision': 0.3333333333333333, 'recall': 0.14285714285714285, 'f1-score': 0.2, 'support': 7.0}, 'examples': {'precision': 0.0, 'recall': 0.0, 'f1-score': 0.0, 'support': 6.0}, 'model training': {'precision': 0.0, 'recall': 0.0, 'f1-score': 0.0, 'support': 16.0}, 'new model': {'precision': 0.7, 'recall': 0.875, 'f1-score': 0.7777777777777777, 'support': 24.0}, 'pipeline': {'precision': 0.375, 'recall': 0.2727272727272727, 'f1-score': 0.3157894736842105, 'support': 11.0}, 'pytorch': {'precision': 0.0, 'recall': 0.0, 'f1-score': 0.0, 'support': 10.0}, 'tensorflow or tf': {'precision': 0.2727272727272727, 'recall': 0.2727272727272727, 'f1-score': 0.2727272727272727, 'support': 11.0}, 'tokenization': {'precision': 0.38461538461538464, 'recall': 0.9615384615384616, 'f1-score': 0.5494505494505495, 'support': 26.0}, 'usage': {'precision': 0.25, 'recall': 0.16666666666666666, 'f1-score': 0.2, 'support': 12.0}, 'micro avg': {'precision': 0.44, 'recall': 0.44715447154471544, 'f1-score': 0.4435483870967742, 'support': 123.0}, 'macro avg': {'precision': 0.2572973322973323, 'recall': 0.299057424057424, 'f1-score': 0.25730500818220114, 'support': 123.0}, 'weighted avg': {'precision': 0.3191734417344173, 'recall': 0.44715447154471544, 'f1-score': 0.35143142408867695, 'support': 123.0}, 'samples avg': {'precision': 0.43843843843843844, 'recall': 0.475975975975976, 'f1-score': 0.4432432432432432, 'support': 123.0}}\n",
            "{'documentation': {'precision': 0.0, 'recall': 0.0, 'f1-score': 0.0, 'support': 7.0}, 'examples': {'precision': 0.0, 'recall': 0.0, 'f1-score': 0.0, 'support': 6.0}, 'model training': {'precision': 0.0, 'recall': 0.0, 'f1-score': 0.0, 'support': 16.0}, 'new model': {'precision': 0.7857142857142857, 'recall': 0.9166666666666666, 'f1-score': 0.8461538461538461, 'support': 24.0}, 'pipeline': {'precision': 1.0, 'recall': 0.36363636363636365, 'f1-score': 0.5333333333333333, 'support': 11.0}, 'pytorch': {'precision': 0.0, 'recall': 0.0, 'f1-score': 0.0, 'support': 10.0}, 'tensorflow or tf': {'precision': 0.75, 'recall': 0.2727272727272727, 'f1-score': 0.39999999999999997, 'support': 11.0}, 'tokenization': {'precision': 0.48, 'recall': 0.9230769230769231, 'f1-score': 0.631578947368421, 'support': 26.0}, 'usage': {'precision': 0.3333333333333333, 'recall': 0.08333333333333333, 'f1-score': 0.13333333333333333, 'support': 12.0}, 'micro avg': {'precision': 0.5934065934065934, 'recall': 0.43902439024390244, 'f1-score': 0.5046728971962616, 'support': 123.0}, 'macro avg': {'precision': 0.3721164021164021, 'recall': 0.2843822843822844, 'f1-score': 0.28271105113210376, 'support': 123.0}, 'weighted avg': {'precision': 0.4437979094076655, 'recall': 0.43902439024390244, 'f1-score': 0.39508464720274733, 'support': 123.0}, 'samples avg': {'precision': 0.4594594594594595, 'recall': 0.466966966966967, 'f1-score': 0.45705705705705707, 'support': 123.0}}\n",
            "{'documentation': {'precision': 0.0, 'recall': 0.0, 'f1-score': 0.0, 'support': 7.0}, 'examples': {'precision': 0.0, 'recall': 0.0, 'f1-score': 0.0, 'support': 6.0}, 'model training': {'precision': 1.0, 'recall': 0.0625, 'f1-score': 0.11764705882352941, 'support': 16.0}, 'new model': {'precision': 0.8461538461538461, 'recall': 0.9166666666666666, 'f1-score': 0.8799999999999999, 'support': 24.0}, 'pipeline': {'precision': 0.5, 'recall': 0.18181818181818182, 'f1-score': 0.26666666666666666, 'support': 11.0}, 'pytorch': {'precision': 0.0, 'recall': 0.0, 'f1-score': 0.0, 'support': 10.0}, 'tensorflow or tf': {'precision': 0.5714285714285714, 'recall': 0.36363636363636365, 'f1-score': 0.4444444444444444, 'support': 11.0}, 'tokenization': {'precision': 0.625, 'recall': 0.9615384615384616, 'f1-score': 0.7575757575757575, 'support': 26.0}, 'usage': {'precision': 0.0, 'recall': 0.0, 'f1-score': 0.0, 'support': 12.0}, 'micro avg': {'precision': 0.6835443037974683, 'recall': 0.43902439024390244, 'f1-score': 0.5346534653465347, 'support': 123.0}, 'macro avg': {'precision': 0.39362026862026867, 'recall': 0.27623996373996373, 'f1-score': 0.27403710305671086, 'support': 123.0}, 'weighted avg': {'precision': 0.5231171267756634, 'recall': 0.43902439024390244, 'f1-score': 0.41074426715746654, 'support': 123.0}, 'samples avg': {'precision': 0.4804804804804805, 'recall': 0.4774774774774775, 'f1-score': 0.4759759759759759, 'support': 123.0}}\n"
          ]
        }
      ],
      "source": [
        "from sklearn.naive_bayes import MultinomialNB\n",
        "from sklearn.metrics import classification_report\n",
        "from skmultilearn.problem_transform import BinaryRelevance\n",
        "from sklearn.feature_extraction.text import CountVectorizer\n",
        "\n",
        "for train_slice in train_slices:\n",
        "\n",
        "    # Get traning slice and test data\n",
        "    ds_train_sample = ds[\"train\"].select(train_slice)\n",
        "    y_train = np.array(ds_train_sample[\"label_ids\"])\n",
        "    y_test = np.array(ds[\"test\"][\"label_ids\"])\n",
        "\n",
        "    # Use a count vectorizer to encode our texts as token counts\n",
        "    count_vect = CountVectorizer()\n",
        "    X_train_counts = count_vect.fit_transform(ds_train_sample[\"text\"])\n",
        "    X_test_counts = count_vect.transform(ds[\"test\"][\"text\"])\n",
        "\n",
        "    # Create and train out model\n",
        "    classifier = BinaryRelevance(\n",
        "        classifier=MultinomialNB(),\n",
        "    )\n",
        "    classifier.fit(X_train_counts, y_train)\n",
        "\n",
        "    # Generate predictions and evaluate\n",
        "    y_pred_test = classifier.predict(X_test_counts)\n",
        "    clf_report = classification_report(\n",
        "        y_test, y_pred_test, target_names=mlb.classes_, zero_division=0, output_dict=True,\n",
        "    )\n",
        "    print(clf_report)\n",
        "    macro_scores[\"Naive Bayes\"].append(clf_report[\"macro avg\"][\"f1-score\"])\n",
        "    micro_scores[\"Naive Bayes\"].append(clf_report[\"micro avg\"][\"f1-score\"])"
      ]
    },
    {
      "cell_type": "code",
      "execution_count": null,
      "metadata": {
        "id": "gZZLT8xSfBQU",
        "outputId": "ad59c4d5-7a27-4898-a0b8-f9249146e29c"
      },
      "outputs": [
        {
          "data": {
            "text/plain": [
              "(defaultdict(list,\n",
              "             {'Naive Bayes': [0.23288166214995487,\n",
              "               0.21006897585844955,\n",
              "               0.24086240556828795,\n",
              "               0.25730500818220114,\n",
              "               0.28271105113210376,\n",
              "               0.27403710305671086]}),\n",
              " defaultdict(list,\n",
              "             {'Naive Bayes': [0.3604651162790698,\n",
              "               0.30208333333333337,\n",
              "               0.41081081081081083,\n",
              "               0.4435483870967742,\n",
              "               0.5046728971962616,\n",
              "               0.5346534653465347]}))"
            ]
          },
          "execution_count": 41,
          "metadata": {},
          "output_type": "execute_result"
        }
      ],
      "source": [
        "macro_scores, micro_scores"
      ]
    },
    {
      "cell_type": "code",
      "execution_count": null,
      "metadata": {
        "id": "vjxDCyV6fBQU"
      },
      "outputs": [],
      "source": [
        "import matplotlib.pyplot as plt\n",
        "def plot_metrics(micro_scores, macro_scores, sample_sizes, current_model):\n",
        "    fig, (ax0, ax1) = plt.subplots(1, 2, figsize=(10, 4), sharey=True)\n",
        "\n",
        "    for run in micro_scores.keys():\n",
        "        if run == current_model:\n",
        "            ax0.plot(sample_sizes, micro_scores[run], label=run, linewidth=2)\n",
        "            ax1.plot(sample_sizes, macro_scores[run], label=run, linewidth=2)\n",
        "        else:\n",
        "            ax0.plot(sample_sizes, micro_scores[run], label=run, linestyle=\"dashed\")\n",
        "            ax1.plot(sample_sizes, macro_scores[run], label=run, linestyle=\"dashed\")\n",
        "\n",
        "    ax0.set_title(\"Micro F1 scores\")\n",
        "    ax1.set_title(\"Macro F1 scores\")\n",
        "    ax0.set_ylabel(\"Test set F1 score\")\n",
        "    ax0.legend(loc=\"lower right\")\n",
        "    for ax in [ax0, ax1]:\n",
        "        ax.set_xlabel(\"Number of training samples\")\n",
        "        ax.set_xscale(\"log\")\n",
        "        ax.set_xticks(sample_sizes)\n",
        "        ax.set_xticklabels(sample_sizes)\n",
        "        ax.minorticks_off()\n",
        "\n",
        "    plt.tight_layout()\n",
        "    plt.show()"
      ]
    },
    {
      "cell_type": "code",
      "execution_count": null,
      "metadata": {
        "id": "zRLHt0DEfBQU",
        "outputId": "2b96f880-611c-447b-9cdb-10a8bb164e23"
      },
      "outputs": [
        {
          "data": {
            "image/png": "[encoded data removed]",
            "text/plain": [
              "<Figure size 1000x400 with 2 Axes>"
            ]
          },
          "metadata": {},
          "output_type": "display_data"
        }
      ],
      "source": [
        "plot_metrics(micro_scores, macro_scores, train_samples, \"Naive Bayes\")"
      ]
    },
    {
      "cell_type": "markdown",
      "metadata": {
        "id": "tMIX-mlPfBQU"
      },
      "source": [
        "Note that we plot the number of samples on a logarithmic scale. From the figure we can see that the micro and macro F1-scores both improve as we increase the number of training samples. Let's now see how the results fare against transformer-based approaches."
      ]
    },
    {
      "cell_type": "markdown",
      "metadata": {
        "id": "U3rP_wXwfBQV"
      },
      "source": [
        "## Working with No Labeled Data\n",
        "\n",
        "The first technique that we'll consider is the *zero-shot classification*, which is suitable in settings where we've no labelled data or labelling samples is expensive. We'll cheat a bit in this section since we will still use the test data to measure the performance, but we will not use any data to train the model(otherwise the comparison to the following approaches would be difficult).\n",
        "\n",
        "The goal of zero-shot classification is to make use of a pretrained model without any additional fine-tuning on task specific corpus. How could this work? Let's take BERT, BERT pretrained models are trained on wikipedia dumps to predict a masked token. To predict a masked token, BERT needs to be aware of the topic in the context. We can try to tick the model into classifying a document for us by prodviding a sentence like:\n",
        "\n",
        "*This section was about the topic [MASK].*\n",
        "\n",
        "The model should then give a reasonable suggestion for the document's topic, since this is a natural text to occur in the dataset.\n",
        "\n",
        "Let's illustrate this further with the following toy problem:\n",
        "Suppose we've a watch party, one group likes romcom and another group likes action. But we've exhausted all the movies the group knows. We wan't to know what type of movie is based on a little movie description. The first thing to try is to load BERT-base in the `fill-mask` pipeline, which uses the masked language to predict the content of masked tokens:"
      ]
    },
    {
      "cell_type": "code",
      "execution_count": null,
      "metadata": {
        "id": "SacLhsAHfBQV",
        "outputId": "9cebdf1f-4ca3-4879-8394-fe38cc15a385"
      },
      "outputs": [
        {
          "name": "stderr",
          "output_type": "stream",
          "text": [
            "2023-10-18 08:19:41.188932: I tensorflow/core/platform/cpu_feature_guard.cc:193] This TensorFlow binary is optimized with oneAPI Deep Neural Network Library (oneDNN) to use the following CPU instructions in performance-critical operations:  AVX2 FMA\n",
            "To enable them in other operations, rebuild TensorFlow with the appropriate compiler flags.\n",
            "Some weights of the model checkpoint at bert-base-uncased were not used when initializing BertForMaskedLM: ['cls.seq_relationship.bias', 'bert.pooler.dense.bias', 'bert.pooler.dense.weight', 'cls.seq_relationship.weight']\n",
            "- This IS expected if you are initializing BertForMaskedLM from the checkpoint of a model trained on another task or with another architecture (e.g. initializing a BertForSequenceClassification model from a BertForPreTraining model).\n",
            "- This IS NOT expected if you are initializing BertForMaskedLM from the checkpoint of a model that you expect to be exactly identical (initializing a BertForSequenceClassification model from a BertForSequenceClassification model).\n"
          ]
        }
      ],
      "source": [
        "# Load the model\n",
        "from transformers import pipeline\n",
        "pipe = pipeline(\"fill-mask\", model=\"bert-base-uncased\")"
      ]
    },
    {
      "cell_type": "code",
      "execution_count": null,
      "metadata": {
        "id": "ZjjBGoqEfBQV",
        "outputId": "2596ba01-f120-4a67-847b-f6ed2649700f"
      },
      "outputs": [
        {
          "data": {
            "text/plain": [
              "[{'score': 0.1269281953573227,\n",
              "  'token': 2530,\n",
              "  'token_str': 'western',\n",
              "  'sequence': 'the main characters of the movie is a retired gangster coming back to save his family. the movie belongs to western genre.'},\n",
              " {'score': 0.10347699373960495,\n",
              "  'token': 20067,\n",
              "  'token_str': 'gangster',\n",
              "  'sequence': 'the main characters of the movie is a retired gangster coming back to save his family. the movie belongs to gangster genre.'},\n",
              " {'score': 0.09434743225574493,\n",
              "  'token': 2023,\n",
              "  'token_str': 'this',\n",
              "  'sequence': 'the main characters of the movie is a retired gangster coming back to save his family. the movie belongs to this genre.'},\n",
              " {'score': 0.04147473722696304,\n",
              "  'token': 16046,\n",
              "  'token_str': 'bollywood',\n",
              "  'sequence': 'the main characters of the movie is a retired gangster coming back to save his family. the movie belongs to bollywood genre.'},\n",
              " {'score': 0.036460984498262405,\n",
              "  'token': 10874,\n",
              "  'token_str': 'thriller',\n",
              "  'sequence': 'the main characters of the movie is a retired gangster coming back to save his family. the movie belongs to thriller genre.'}]"
            ]
          },
          "execution_count": 50,
          "metadata": {},
          "output_type": "execute_result"
        }
      ],
      "source": [
        "movie_desc = \"The main characters of the movie is a retired gangster coming back to save his family.\"\n",
        "prompt = \"The movie belongs to [MASK] genre.\"\n",
        "\n",
        "output = pipe(movie_desc + prompt)\n",
        "output"
      ]
    },
    {
      "cell_type": "code",
      "execution_count": null,
      "metadata": {
        "id": "hY-MC2BKfBQV",
        "outputId": "e5c438e9-73d6-42d5-e386-f5452fc0b111"
      },
      "outputs": [
        {
          "name": "stdout",
          "output_type": "stream",
          "text": [
            "Token western:\t0.127\n",
            "Token gangster:\t0.103\n",
            "Token this:\t0.094\n",
            "Token bollywood:\t0.041\n",
            "Token thriller:\t0.036\n"
          ]
        }
      ],
      "source": [
        "for element in output:\n",
        "    print(f\"Token {element['token_str']}:\\t{element['score']:.3f}\")"
      ]
    },
    {
      "cell_type": "markdown",
      "metadata": {
        "id": "0yFsillifBQW"
      },
      "source": [
        "Cleary the model predicts what genre it belongs. We can also turn this around, and instead of getting the most likely tokens we can query the pipeline for the probabality of a few given tokens. For this task we might choose `action`, and `romcom`, so we can pass them to pipeline as targets:"
      ]
    },
    {
      "cell_type": "code",
      "execution_count": null,
      "metadata": {
        "id": "JRBITS5bfBQW",
        "outputId": "8c5088b7-fb84-4656-a675-04c7282d3376"
      },
      "outputs": [
        {
          "name": "stdout",
          "output_type": "stream",
          "text": [
            "Token romance:\t0.044\n",
            "Token action:\t0.003\n"
          ]
        }
      ],
      "source": [
        "movie_desc = \"In this movie is about how two opposite personalities fall in love with each other.\"\n",
        "output = pipe(movie_desc + prompt, targets=[\"romance\", \"action\"])\n",
        "for element in output:\n",
        "    print(f\"Token {element['token_str']}:\\t{element['score']:.3f}\")"
      ]
    },
    {
      "cell_type": "markdown",
      "metadata": {
        "id": "aUPWl9wJfBQW"
      },
      "source": [
        "As expected, the predicted probabality for `action` is much smaller than `romance`. Let's try this for action as well."
      ]
    },
    {
      "cell_type": "code",
      "execution_count": null,
      "metadata": {
        "id": "IOwGsq8zfBQW",
        "outputId": "c0835d9a-18fd-4944-f550-b33b4be7b565"
      },
      "outputs": [
        {
          "name": "stdout",
          "output_type": "stream",
          "text": [
            "Token romance:\t0.022\n",
            "Token action:\t0.005\n"
          ]
        }
      ],
      "source": [
        "movie_desc = \"A non-violent tribe is attacked by warriors looking for slaves and humans to be sacrificed. One of the tribesmen is captured, but he manages to escape in a bid to save his family.\"\n",
        "output = pipe(movie_desc + prompt, targets=[\"romance\", \"action\"])\n",
        "for element in output:\n",
        "    print(f\"Token {element['token_str']}:\\t{element['score']:.3f}\")"
      ]
    },
    {
      "cell_type": "code",
      "execution_count": null,
      "metadata": {
        "id": "V3s0oojIfBQX",
        "outputId": "a4f5f3b2-d769-4cb8-cec7-a121a5a83f7a"
      },
      "outputs": [
        {
          "name": "stdout",
          "output_type": "stream",
          "text": [
            "Token romance:\t0.022\n",
            "Token action:\t0.005\n"
          ]
        }
      ],
      "source": [
        "movie_desc = \"A non-violent tribe is attacked by warriors looking for slaves and humans to be sacrificed. One of the tribesmen is captured, but he manages to escape in a bid to save his family.\"\n",
        "output = pipe(movie_desc + prompt, targets=[\"romance\", \"action\"])\n",
        "for element in output:\n",
        "    print(f\"Token {element['token_str']}:\\t{element['score']:.3f}\")"
      ]
    },
    {
      "cell_type": "markdown",
      "metadata": {
        "id": "mxEEsUUtfBQX"
      },
      "source": [
        "The predicted token probabality is bad. But this the key idea of many approaches to be discussed in this notebook: find a way to adapt a pretraine model for another task without training. In this case we set up a prompt with a ask in such a way that we use a masked language model directly for classiication. Let's see if we can do better by adapting a model that has been fine-tuned on a task that's closer to text classification: *natural language inference* (NLI).\n",
        "\n",
        "Using the masked language model for classification is a nice trick, but we can do better still by using a model that has been trained ona task that is closer to classification. There is a neat proxy task called *text entailment* that fits the bill. In text entailment, the model needs to determine whether two text passages are likely to follow or contradict each other. Models are typically trained tod etect entailments and contradictions with datasets such as Multi-Genre NLI Corpus(MNLI) or Cross-Lingual NLI Corpus (XNLI).\n",
        "\n",
        "Each sample in these datasets is composed of three parts:\n",
        "\n",
        "1. Premise\n",
        "2. Hypothesis\n",
        "3. Label\n",
        "\n",
        "Which can be one of:\n",
        "\n",
        "1. entailment\n",
        "2. neutral\n",
        "3. contradiction\n",
        "\n",
        "The entailment label is assigned when the hypothesis text is necessarily true under the premise. The contradiction label is used when the hypothesis is necessarily false or inappropriate under the premise. If neither of the cases applies neutral label.\n",
        "\n",
        "*Examples for these three*\n",
        "\n",
        "![alt](https://github.com/JpChii/nlp-with-hugging-face/blob/main/notes/images/9-dealing-with-few-to-no-labels/mnli-three-classes.png?raw=1)\n",
        "\n",
        "Now we can hijack this model trained on mnli dataset to build a classifier without needing any labels at all! The key idea is to treat the text we wish to classify as the premise, and then formulate the hypothesis as:\n",
        "\n",
        "\"The example is about {label}.\"\n",
        "\n",
        "When we insert the class name for the label. The entailment score tells us how likely the premise is aboyt the topic, and we can run this for any number of classes sequenially. Few drawbacks:\n",
        "\n",
        "1. We've to run a forward pass for all the available classes, which is less efficient than a standard classifier\n",
        "2. The label names have a great impact on accuracy, as `class 1` label name has no hint to determine whether it's entailment, . The best approach is to use a label with semantic meaning.\n",
        "\n",
        "Transformers has an MNLI model for zero-shot classification built in. We can intialize the pipeline as follows:"
      ]
    },
    {
      "cell_type": "code",
      "execution_count": null,
      "metadata": {
        "id": "DEEVVKc7fBQY",
        "outputId": "4635130b-0aff-4c51-b66b-956bb14981bc"
      },
      "outputs": [
        {
          "name": "stderr",
          "output_type": "stream",
          "text": [
            "2023-10-30 08:58:41.537783: I tensorflow/core/platform/cpu_feature_guard.cc:182] This TensorFlow binary is optimized to use available CPU instructions in performance-critical operations.\n",
            "To enable the following instructions: AVX2 FMA, in other operations, rebuild TensorFlow with the appropriate compiler flags.\n"
          ]
        },
        {
          "ename": "",
          "evalue": "",
          "output_type": "error",
          "traceback": [
            "\u001b[1;31mThe Kernel crashed while executing code in the the current cell or a previous cell. Please review the code in the cell(s) to identify a possible cause of the failure. Click <a href='https://aka.ms/vscodeJupyterKernelCrash'>here</a> for more info. View Jupyter <a href='command:jupyter.viewOutput'>log</a> for further details."
          ]
        }
      ],
      "source": [
        "from transformers import pipeline\n",
        "\n",
        "pipe = pipeline(\"zero-shot-classification\", device=0)\n",
        "pipe"
      ]
    },
    {
      "cell_type": "code",
      "execution_count": 76,
      "metadata": {
        "id": "0XhA9qB3fBQZ",
        "outputId": "ccf637b1-1480-45f7-e4da-fa0a9da07e3f",
        "colab": {
          "base_uri": "https://localhost:8080/"
        }
      },
      "outputs": [
        {
          "output_type": "stream",
          "name": "stdout",
          "text": [
            "Labels: ['new model']\n",
            "Add new CANINE model\n",
            "\n",
            "# 🌟 New model addition\n",
            "\n",
            "## Model description\n",
            "\n",
            "Google recently proposed a new **C**haracter **A**rchitecture with **N**o tokenization **I**n **N**eural **E**ncoders architecture (CANINE). Not only the title is exciting:\n",
            "\n",
            "> Pipelined NLP systems have largely been superseded by end-to-end neural modeling, yet nearly all commonly-used models still require an explicit tokeni\n",
            "\n",
            "Predictions:\n",
            "new model, 0.98\n",
            "tensorflow or tf, 0.37\n",
            "examples, 0.34\n",
            "usage, 0.30\n",
            "pytorch, 0.25\n",
            "documentation, 0.25\n",
            "model training, 0.24\n",
            "tokenization, 0.17\n",
            "pipeline, 0.16\n"
          ]
        }
      ],
      "source": [
        "sample = ds[\"train\"][0]\n",
        "print(f\"Labels: {sample['labels']}\")\n",
        "output = pipe(sample[\"text\"], all_labels, multi_label=True)\n",
        "print(output[\"sequence\"][:400])\n",
        "print(\"\\nPredictions:\")\n",
        "\n",
        "for label, score in zip(output[\"labels\"], output[\"scores\"]):\n",
        "    print(f\"{label}, {score:.2f}\")"
      ]
    },
    {
      "cell_type": "code",
      "source": [
        "output[\"labels\"], output[\"scores\"]"
      ],
      "metadata": {
        "id": "u18JEubFl3Ye",
        "outputId": "cb95319f-3a0b-4ac3-e7a6-ada3f000b764",
        "colab": {
          "base_uri": "https://localhost:8080/"
        }
      },
      "execution_count": 109,
      "outputs": [
        {
          "output_type": "execute_result",
          "data": {
            "text/plain": [
              "(['new model',\n",
              "  'tensorflow or tf',\n",
              "  'examples',\n",
              "  'usage',\n",
              "  'pytorch',\n",
              "  'documentation',\n",
              "  'model training',\n",
              "  'tokenization',\n",
              "  'pipeline'],\n",
              " [0.983889102935791,\n",
              "  0.3655166029930115,\n",
              "  0.3364446461200714,\n",
              "  0.29671603441238403,\n",
              "  0.24781309068202972,\n",
              "  0.24500343203544617,\n",
              "  0.2352941781282425,\n",
              "  0.17372360825538635,\n",
              "  0.16041657328605652])"
            ]
          },
          "metadata": {},
          "execution_count": 109
        }
      ]
    },
    {
      "cell_type": "markdown",
      "source": [
        "> **Note:** Since we are usign subword tokenizer we can pass code to the pipeline. Even though the dataset doesn't have lots of code, code itself is natural langauge so this shouldn't be a problem. We can also get information like framework in use etc.\n",
        "\n",
        "We can see the model is confident about new model but it also gives high scores for other labels as well. This is because the data passed is not similar to the dataset domain, thut it's a challenging task for the model.\n",
        "\n",
        "Let's write a function to evaluate a single sequence and use `map()` to apply it to all sequences."
      ],
      "metadata": {
        "id": "Y26cs8rvfYWA"
      }
    },
    {
      "cell_type": "code",
      "source": [
        "def zero_shot_pipeline(example):\n",
        "  output = pipe(example[\"text\"], all_labels, multi_label=True)\n",
        "  # Output has predicted_labels and scores, let's add them\n",
        "  example[\"predicted_labels\"] = output[\"labels\"]\n",
        "  example[\"scores\"] = output[\"scores\"]\n",
        "  return example"
      ],
      "metadata": {
        "id": "ZfgBbEW2gyRJ"
      },
      "execution_count": 78,
      "outputs": []
    },
    {
      "cell_type": "code",
      "source": [
        "import os\n",
        "zero_shot_clasification_output_csv = \"zero-shot-classification-pipeline-results.csv\"\n",
        "if zero_shot_clasification_output_csv not in os.listdir():\n",
        "  ds_zero_shot = ds[\"valid\"].map(zero_shot_pipeline)\n",
        "  ds_zero_shot.to_csv(\"zero_shot_clasification_output_csv\")\n",
        "else:\n",
        "  dz_zero_shot = Dataset.from_csv(zero_shot_clasification_output_csv)\n",
        "dz_zero_shot"
      ],
      "metadata": {
        "id": "DqmWVXrbg1Rx",
        "outputId": "cf29c9b1-33bb-4ff4-c471-27c49c4280e3",
        "colab": {
          "base_uri": "https://localhost:8080/",
          "height": 257,
          "referenced_widgets": [
            "80838d887d7d4851a759b64869e514f5",
            "d9f72d163d1e4abcb97bd48e4fca535b",
            "08a0b24e8dcc46c1ac76bad4ec4b9493",
            "d715639f3a39422fa3e5b126a7230cc6",
            "fcacbb76a6d6422184c00b20b3f32f0b",
            "417cb9419f5848b094ebc878a9f4a865",
            "f3f5c0c135b540968aacf6ff38f35a6f",
            "243e53ade1c747c7ac381a7d8406075a",
            "5e4be482f54f4f1a842c4ab57588522b",
            "b3129596322b4a85bfe9bdd02520c20f",
            "81dd4577b6e340779cd158a1a5e91b70",
            "a90d05ccf430406bb008dd63f3e2e1ba",
            "3af50dd58b4f46adb09afd3a4a6d1040",
            "80cf49f84c574d2b8dafbf4d718f4447",
            "5b88a25ad0884420ac7714eafed77fb4",
            "9efdae071f43464e9b2065cc5fb29aa6",
            "07af842e27634a5da0cbb6a9b23e65c8",
            "c1ee6c323b1e415f97edf3268e951bd3",
            "326482d60fdb49aeaba57107db282f9f",
            "0b53958103b34d18a757f8711858dc59",
            "313c069581db4dc69389a9b8ca8e353f",
            "ae0f6d8a9e5d4a9b8627bb9f2d098269"
          ]
        }
      },
      "execution_count": 132,
      "outputs": [
        {
          "output_type": "stream",
          "name": "stderr",
          "text": [
            "WARNING:datasets.builder:Using custom data configuration default-fce185505cd2afc5\n"
          ]
        },
        {
          "output_type": "stream",
          "name": "stdout",
          "text": [
            "Downloading and preparing dataset csv/default to /root/.cache/huggingface/datasets/csv/default-fce185505cd2afc5/0.0.0...\n"
          ]
        },
        {
          "output_type": "display_data",
          "data": {
            "text/plain": [
              "  0%|          | 0/1 [00:00<?, ?it/s]"
            ],
            "application/vnd.jupyter.widget-view+json": {
              "version_major": 2,
              "version_minor": 0,
              "model_id": "80838d887d7d4851a759b64869e514f5"
            }
          },
          "metadata": {}
        },
        {
          "output_type": "display_data",
          "data": {
            "text/plain": [
              "  0%|          | 0/1 [00:00<?, ?it/s]"
            ],
            "application/vnd.jupyter.widget-view+json": {
              "version_major": 2,
              "version_minor": 0,
              "model_id": "a90d05ccf430406bb008dd63f3e2e1ba"
            }
          },
          "metadata": {}
        },
        {
          "output_type": "stream",
          "name": "stdout",
          "text": [
            "Dataset csv downloaded and prepared to /root/.cache/huggingface/datasets/csv/default-fce185505cd2afc5/0.0.0. Subsequent calls will reuse this data.\n"
          ]
        },
        {
          "output_type": "stream",
          "name": "stderr",
          "text": [
            "/usr/local/lib/python3.10/dist-packages/datasets/packaged_modules/csv/csv.py:170: FutureWarning: the 'mangle_dupe_cols' keyword is deprecated and will be removed in a future version. Please take steps to stop the use of 'mangle_dupe_cols'\n",
            "  csv_file_reader = pd.read_csv(file, iterator=True, dtype=dtype, **self.config.read_csv_kwargs)\n"
          ]
        },
        {
          "output_type": "execute_result",
          "data": {
            "text/plain": [
              "Dataset({\n",
              "    features: ['Unnamed: 0', 'label_ids', 'labels', 'text', 'predicted_labels', 'scores'],\n",
              "    num_rows: 106\n",
              "})"
            ]
          },
          "metadata": {},
          "execution_count": 132
        }
      ]
    },
    {
      "cell_type": "code",
      "source": [
        "dz_zero_shot.set_format(\"torch\")\n",
        "dz_zero_shot.remove_columns(\"Unnamed: 0\")"
      ],
      "metadata": {
        "id": "UgZOgFpOhXVd",
        "outputId": "6b9ba5f4-3198-443d-8efe-bfea18eff7b8",
        "colab": {
          "base_uri": "https://localhost:8080/"
        }
      },
      "execution_count": 133,
      "outputs": [
        {
          "output_type": "execute_result",
          "data": {
            "text/plain": [
              "Dataset({\n",
              "    features: ['label_ids', 'labels', 'text', 'predicted_labels', 'scores'],\n",
              "    num_rows: 106\n",
              "})"
            ]
          },
          "metadata": {},
          "execution_count": 133
        }
      ]
    },
    {
      "cell_type": "markdown",
      "source": [
        "Now that we've scores, the next step is to determine which set of labels should be assigned to each example. We'll use the below options:\n",
        "1. Define a threshold score and select all labels above threshold\n",
        "2. Pick the top k labels with the k highest scores\n",
        "\n",
        "Let's write a funtion to this for us:"
      ],
      "metadata": {
        "id": "I2wUGQiWhdz4"
      }
    },
    {
      "cell_type": "code",
      "source": [
        "ds_zero_shot[\"predicted_labels\"][0], ds_zero_shot[\"scores\"][0]"
      ],
      "metadata": {
        "id": "Di53nqPCk1pC",
        "outputId": "c57fd179-0abf-4527-9185-304053040436",
        "colab": {
          "base_uri": "https://localhost:8080/"
        }
      },
      "execution_count": 134,
      "outputs": [
        {
          "output_type": "execute_result",
          "data": {
            "text/plain": [
              "(['new model',\n",
              "  'pytorch',\n",
              "  'documentation',\n",
              "  'usage',\n",
              "  'pipeline',\n",
              "  'examples',\n",
              "  'tensorflow or tf',\n",
              "  'model training',\n",
              "  'tokenization'],\n",
              " [0.9883275628089905,\n",
              "  0.9305452108383179,\n",
              "  0.6501694321632385,\n",
              "  0.4352123737335205,\n",
              "  0.37790340185165405,\n",
              "  0.33738958835601807,\n",
              "  0.21949352324008942,\n",
              "  0.19279322028160095,\n",
              "  0.1602793186903])"
            ]
          },
          "metadata": {},
          "execution_count": 134
        }
      ]
    },
    {
      "cell_type": "code",
      "source": [
        "def get_preds(example, threshold=None, topk=None):\n",
        "  preds = []\n",
        "  if threshold:\n",
        "    for label, score in zip(example[\"predicted_labels\"], example[\"scores\"]):\n",
        "      if score >= threshold:\n",
        "        preds.append(label)\n",
        "  elif topk:\n",
        "    for i in range(topk):\n",
        "      preds.append(example[\"predicted_labels\"][i])\n",
        "  else:\n",
        "    raise ValueError(\"Set either `threshold` or `topk`\")\n",
        "  return {\"pred_label_ids\": list(np.squeeze(mlb.transform([preds])))}"
      ],
      "metadata": {
        "id": "3xtTCl_Ejh1W"
      },
      "execution_count": 121,
      "outputs": []
    },
    {
      "cell_type": "markdown",
      "source": [
        "Next let's write a second function, that returns the Scikit-learn classification report from a dataset with predicted labels:"
      ],
      "metadata": {
        "id": "zfioBRL_jq58"
      }
    },
    {
      "cell_type": "code",
      "source": [
        "def get_clf_report(ds):\n",
        "  y_true = np.array(ds[\"label_ids\"])\n",
        "  y_pred = np.array(ds[\"pred_label_ids\"])\n",
        "  return classification_report(\n",
        "      y_true,\n",
        "      y_pred,\n",
        "      zero_division=0,\n",
        "      target_names=mlb.classes_,\n",
        "      output_dict=True\n",
        "  )"
      ],
      "metadata": {
        "id": "tKpfkUoIlJ2z"
      },
      "execution_count": 130,
      "outputs": []
    },
    {
      "cell_type": "markdown",
      "source": [
        "Let's combine these two functions, let's start with the top-k method by increasing k for several values and then plotting the micro and macro f1-scores across the validation set:"
      ],
      "metadata": {
        "id": "vK-eboKWoS4f"
      }
    },
    {
      "cell_type": "code",
      "source": [
        "macros, micros = [], []\n",
        "topks = [1, 2, 3, 4]\n",
        "for topk in topks:\n",
        "  ds_zero_shot_k = ds_zero_shot.map(get_preds, batched=False,\n",
        "                                    fn_kwargs={'topk': topk})\n",
        "  clf_report = get_clf_report(ds_zero_shot_k)\n",
        "  micros.append(clf_report[\"micro avg\"][\"f1-score\"])\n",
        "  macros.append(clf_report[\"macro avg\"][\"f1-score\"])"
      ],
      "metadata": {
        "id": "aTN98-y_Gjpr",
        "outputId": "0857e0b5-5c3a-4b2f-a763-47adc2b7cadc",
        "colab": {
          "base_uri": "https://localhost:8080/",
          "height": 145,
          "referenced_widgets": [
            "1fa0951272984d2f821b9cac672e7ade",
            "4d473ee2b18342debeba710dc363fa9e",
            "2ec9629a2e7a4b5a9c184b418be31ab6",
            "0aba22df571247929bc42bb4632f0958",
            "960e7d043a624e6b85a8aaed01dfbb6c",
            "3951ef73c6ac4efc8dedd504f34c18bb",
            "694cf29e9987413db4f95a1e94d1afbb",
            "6c5a42cda2e8463f9f34c3c575816eb3",
            "5fc0c6cee3e2450f9c19f6a2f6e0a0af",
            "92bd69996973437fbdf2d7d6961fe810",
            "a4900d02ae2b474d99f20c2735fae07f",
            "d36b8cf49c714281b2ab137be2d9bc72",
            "33f7c460a6644a6bb7fef8262dce6eb8",
            "bb03d7cbf933497cbbde3c64d30af814",
            "7374744017f1471689309a0e403700cc",
            "2558c2bbce1b43799412722d14d062d2",
            "530f43c32949416a9d9a5d01061c686f",
            "2f86b94941244c47acab19822039e6db",
            "a3ea6a23e5ae410d95e3265b2b06233e",
            "41bebe0f50644b67af7a3475bcb49b3a",
            "a695fb19c2114ee1bf546ecf9237d48e",
            "d88441768b63456da56f399604f654df",
            "2a7c154eed8641e9a00d03ac1031b539",
            "9ca21a39827c427387cde797947e7165",
            "aee50fe56b444a2d8d81db83f3d1ca04",
            "4033672855a14da2acd9cd0fb472db07",
            "0083fc07bcf64e3bba410b25b46678fc",
            "5c46e4aff1494986ad3ae5b23128e8ed",
            "fb5d0e9e76b84558a391730d460e7f21",
            "1a7a0fe11c43415094d403274a82081b",
            "c374bf6143934adfaff03937e297aa53",
            "6b9e2e56146e4dcea813ed9d9b6c255f",
            "ad6458da5f8743478adc01eb2445e82d",
            "f62c4693fc384b2eba3c4601e0693f98",
            "ee3357f2428247589dea38a8e1b9da1c",
            "d96722e1a1054dbf869a9cc0ece6103d",
            "ad8f40c8848c40e69c1b31a5c02c2536",
            "925e11efa37b40fd9f2ee287baae7abf",
            "7fbedcdadd1f4efd97691daacf2dc906",
            "e84219f75e4041b78ad20ada95f547fa",
            "11006fe1c679484e9783a665d65417cf",
            "eec580698734462c89c5de5b0538af9c",
            "08ab2f1cb97a4faa94fe9c38fa2494fa",
            "4468f44eb7e24f08aeb6a854834e51b3"
          ]
        }
      },
      "execution_count": 140,
      "outputs": [
        {
          "output_type": "display_data",
          "data": {
            "text/plain": [
              "  0%|          | 0/106 [00:00<?, ?ex/s]"
            ],
            "application/vnd.jupyter.widget-view+json": {
              "version_major": 2,
              "version_minor": 0,
              "model_id": "1fa0951272984d2f821b9cac672e7ade"
            }
          },
          "metadata": {}
        },
        {
          "output_type": "display_data",
          "data": {
            "text/plain": [
              "  0%|          | 0/106 [00:00<?, ?ex/s]"
            ],
            "application/vnd.jupyter.widget-view+json": {
              "version_major": 2,
              "version_minor": 0,
              "model_id": "d36b8cf49c714281b2ab137be2d9bc72"
            }
          },
          "metadata": {}
        },
        {
          "output_type": "display_data",
          "data": {
            "text/plain": [
              "  0%|          | 0/106 [00:00<?, ?ex/s]"
            ],
            "application/vnd.jupyter.widget-view+json": {
              "version_major": 2,
              "version_minor": 0,
              "model_id": "2a7c154eed8641e9a00d03ac1031b539"
            }
          },
          "metadata": {}
        },
        {
          "output_type": "display_data",
          "data": {
            "text/plain": [
              "  0%|          | 0/106 [00:00<?, ?ex/s]"
            ],
            "application/vnd.jupyter.widget-view+json": {
              "version_major": 2,
              "version_minor": 0,
              "model_id": "f62c4693fc384b2eba3c4601e0693f98"
            }
          },
          "metadata": {}
        }
      ]
    },
    {
      "cell_type": "code",
      "source": [
        "macros, micros"
      ],
      "metadata": {
        "id": "zBj6T7uQJIgc",
        "outputId": "b80cea2b-b15d-4153-ee71-5aa4b294a025",
        "colab": {
          "base_uri": "https://localhost:8080/"
        }
      },
      "execution_count": 141,
      "outputs": [
        {
          "output_type": "execute_result",
          "data": {
            "text/plain": [
              "([0.4328047974551859,\n",
              "  0.41191702300926974,\n",
              "  0.3736855006983264,\n",
              "  0.36106103221911373],\n",
              " [0.4867256637168142,\n",
              "  0.4518072289156626,\n",
              "  0.3972602739726028,\n",
              "  0.36764705882352944])"
            ]
          },
          "metadata": {},
          "execution_count": 141
        }
      ]
    },
    {
      "cell_type": "code",
      "source": [
        "plt.plot(topks, micros, label='Micro F1')\n",
        "plt.plot(topks, macros, label='Macro F1')\n",
        "plt.xlabel(\"Top-k\")\n",
        "plt.ylabel(\"F1-score\")\n",
        "plt.legend(loc='best')\n",
        "plt.show()"
      ],
      "metadata": {
        "id": "-KzBXmosJ86U",
        "outputId": "55bb88af-12a5-42b2-edfa-899eda4f71fe",
        "colab": {
          "base_uri": "https://localhost:8080/",
          "height": 449
        }
      },
      "execution_count": 142,
      "outputs": [
        {
          "output_type": "display_data",
          "data": {
            "text/plain": [
              "<Figure size 640x480 with 1 Axes>"
            ],
            "image/png": "[encoded data removed]"
          },
          "metadata": {}
        }
      ]
    },
    {
      "cell_type": "code",
      "source": [],
      "metadata": {
        "id": "EA1J2q3cOdt_"
      },
      "execution_count": null,
      "outputs": []
    }
  ],
  "metadata": {
    "kernelspec": {
      "display_name": "nlp",
      "language": "python",
      "name": "python3"
    },
    "language_info": {
      "codemirror_mode": {
        "name": "ipython",
        "version": 3
      },
      "file_extension": ".py",
      "mimetype": "text/x-python",
      "name": "python",
      "nbconvert_exporter": "python",
      "pygments_lexer": "ipython3",
      "version": "3.9.16"
    },
    "colab": {
      "provenance": []
    },
    "widgets": {
      "application/vnd.jupyter.widget-state+json": {
        "80838d887d7d4851a759b64869e514f5": {
          "model_module": "@jupyter-widgets/controls",
          "model_name": "HBoxModel",
          "model_module_version": "1.5.0",
          "state": {
            "_dom_classes": [],
            "_model_module": "@jupyter-widgets/controls",
            "_model_module_version": "1.5.0",
            "_model_name": "HBoxModel",
            "_view_count": null,
            "_view_module": "@jupyter-widgets/controls",
            "_view_module_version": "1.5.0",
            "_view_name": "HBoxView",
            "box_style": "",
            "children": [
              "IPY_MODEL_d9f72d163d1e4abcb97bd48e4fca535b",
              "IPY_MODEL_08a0b24e8dcc46c1ac76bad4ec4b9493",
              "IPY_MODEL_d715639f3a39422fa3e5b126a7230cc6"
            ],
            "layout": "IPY_MODEL_fcacbb76a6d6422184c00b20b3f32f0b"
          }
        },
        "d9f72d163d1e4abcb97bd48e4fca535b": {
          "model_module": "@jupyter-widgets/controls",
          "model_name": "HTMLModel",
          "model_module_version": "1.5.0",
          "state": {
            "_dom_classes": [],
            "_model_module": "@jupyter-widgets/controls",
            "_model_module_version": "1.5.0",
            "_model_name": "HTMLModel",
            "_view_count": null,
            "_view_module": "@jupyter-widgets/controls",
            "_view_module_version": "1.5.0",
            "_view_name": "HTMLView",
            "description": "",
            "description_tooltip": null,
            "layout": "IPY_MODEL_417cb9419f5848b094ebc878a9f4a865",
            "placeholder": "​",
            "style": "IPY_MODEL_f3f5c0c135b540968aacf6ff38f35a6f",
            "value": "100%"
          }
        },
        "08a0b24e8dcc46c1ac76bad4ec4b9493": {
          "model_module": "@jupyter-widgets/controls",
          "model_name": "FloatProgressModel",
          "model_module_version": "1.5.0",
          "state": {
            "_dom_classes": [],
            "_model_module": "@jupyter-widgets/controls",
            "_model_module_version": "1.5.0",
            "_model_name": "FloatProgressModel",
            "_view_count": null,
            "_view_module": "@jupyter-widgets/controls",
            "_view_module_version": "1.5.0",
            "_view_name": "ProgressView",
            "bar_style": "success",
            "description": "",
            "description_tooltip": null,
            "layout": "IPY_MODEL_243e53ade1c747c7ac381a7d8406075a",
            "max": 1,
            "min": 0,
            "orientation": "horizontal",
            "style": "IPY_MODEL_5e4be482f54f4f1a842c4ab57588522b",
            "value": 1
          }
        },
        "d715639f3a39422fa3e5b126a7230cc6": {
          "model_module": "@jupyter-widgets/controls",
          "model_name": "HTMLModel",
          "model_module_version": "1.5.0",
          "state": {
            "_dom_classes": [],
            "_model_module": "@jupyter-widgets/controls",
            "_model_module_version": "1.5.0",
            "_model_name": "HTMLModel",
            "_view_count": null,
            "_view_module": "@jupyter-widgets/controls",
            "_view_module_version": "1.5.0",
            "_view_name": "HTMLView",
            "description": "",
            "description_tooltip": null,
            "layout": "IPY_MODEL_b3129596322b4a85bfe9bdd02520c20f",
            "placeholder": "​",
            "style": "IPY_MODEL_81dd4577b6e340779cd158a1a5e91b70",
            "value": " 1/1 [00:00&lt;00:00, 26.72it/s]"
          }
        },
        "fcacbb76a6d6422184c00b20b3f32f0b": {
          "model_module": "@jupyter-widgets/base",
          "model_name": "LayoutModel",
          "model_module_version": "1.2.0",
          "state": {
            "_model_module": "@jupyter-widgets/base",
            "_model_module_version": "1.2.0",
            "_model_name": "LayoutModel",
            "_view_count": null,
            "_view_module": "@jupyter-widgets/base",
            "_view_module_version": "1.2.0",
            "_view_name": "LayoutView",
            "align_content": null,
            "align_items": null,
            "align_self": null,
            "border": null,
            "bottom": null,
            "display": null,
            "flex": null,
            "flex_flow": null,
            "grid_area": null,
            "grid_auto_columns": null,
            "grid_auto_flow": null,
            "grid_auto_rows": null,
            "grid_column": null,
            "grid_gap": null,
            "grid_row": null,
            "grid_template_areas": null,
            "grid_template_columns": null,
            "grid_template_rows": null,
            "height": null,
            "justify_content": null,
            "justify_items": null,
            "left": null,
            "margin": null,
            "max_height": null,
            "max_width": null,
            "min_height": null,
            "min_width": null,
            "object_fit": null,
            "object_position": null,
            "order": null,
            "overflow": null,
            "overflow_x": null,
            "overflow_y": null,
            "padding": null,
            "right": null,
            "top": null,
            "visibility": null,
            "width": null
          }
        },
        "417cb9419f5848b094ebc878a9f4a865": {
          "model_module": "@jupyter-widgets/base",
          "model_name": "LayoutModel",
          "model_module_version": "1.2.0",
          "state": {
            "_model_module": "@jupyter-widgets/base",
            "_model_module_version": "1.2.0",
            "_model_name": "LayoutModel",
            "_view_count": null,
            "_view_module": "@jupyter-widgets/base",
            "_view_module_version": "1.2.0",
            "_view_name": "LayoutView",
            "align_content": null,
            "align_items": null,
            "align_self": null,
            "border": null,
            "bottom": null,
            "display": null,
            "flex": null,
            "flex_flow": null,
            "grid_area": null,
            "grid_auto_columns": null,
            "grid_auto_flow": null,
            "grid_auto_rows": null,
            "grid_column": null,
            "grid_gap": null,
            "grid_row": null,
            "grid_template_areas": null,
            "grid_template_columns": null,
            "grid_template_rows": null,
            "height": null,
            "justify_content": null,
            "justify_items": null,
            "left": null,
            "margin": null,
            "max_height": null,
            "max_width": null,
            "min_height": null,
            "min_width": null,
            "object_fit": null,
            "object_position": null,
            "order": null,
            "overflow": null,
            "overflow_x": null,
            "overflow_y": null,
            "padding": null,
            "right": null,
            "top": null,
            "visibility": null,
            "width": null
          }
        },
        "f3f5c0c135b540968aacf6ff38f35a6f": {
          "model_module": "@jupyter-widgets/controls",
          "model_name": "DescriptionStyleModel",
          "model_module_version": "1.5.0",
          "state": {
            "_model_module": "@jupyter-widgets/controls",
            "_model_module_version": "1.5.0",
            "_model_name": "DescriptionStyleModel",
            "_view_count": null,
            "_view_module": "@jupyter-widgets/base",
            "_view_module_version": "1.2.0",
            "_view_name": "StyleView",
            "description_width": ""
          }
        },
        "243e53ade1c747c7ac381a7d8406075a": {
          "model_module": "@jupyter-widgets/base",
          "model_name": "LayoutModel",
          "model_module_version": "1.2.0",
          "state": {
            "_model_module": "@jupyter-widgets/base",
            "_model_module_version": "1.2.0",
            "_model_name": "LayoutModel",
            "_view_count": null,
            "_view_module": "@jupyter-widgets/base",
            "_view_module_version": "1.2.0",
            "_view_name": "LayoutView",
            "align_content": null,
            "align_items": null,
            "align_self": null,
            "border": null,
            "bottom": null,
            "display": null,
            "flex": null,
            "flex_flow": null,
            "grid_area": null,
            "grid_auto_columns": null,
            "grid_auto_flow": null,
            "grid_auto_rows": null,
            "grid_column": null,
            "grid_gap": null,
            "grid_row": null,
            "grid_template_areas": null,
            "grid_template_columns": null,
            "grid_template_rows": null,
            "height": null,
            "justify_content": null,
            "justify_items": null,
            "left": null,
            "margin": null,
            "max_height": null,
            "max_width": null,
            "min_height": null,
            "min_width": null,
            "object_fit": null,
            "object_position": null,
            "order": null,
            "overflow": null,
            "overflow_x": null,
            "overflow_y": null,
            "padding": null,
            "right": null,
            "top": null,
            "visibility": null,
            "width": null
          }
        },
        "5e4be482f54f4f1a842c4ab57588522b": {
          "model_module": "@jupyter-widgets/controls",
          "model_name": "ProgressStyleModel",
          "model_module_version": "1.5.0",
          "state": {
            "_model_module": "@jupyter-widgets/controls",
            "_model_module_version": "1.5.0",
            "_model_name": "ProgressStyleModel",
            "_view_count": null,
            "_view_module": "@jupyter-widgets/base",
            "_view_module_version": "1.2.0",
            "_view_name": "StyleView",
            "bar_color": null,
            "description_width": ""
          }
        },
        "b3129596322b4a85bfe9bdd02520c20f": {
          "model_module": "@jupyter-widgets/base",
          "model_name": "LayoutModel",
          "model_module_version": "1.2.0",
          "state": {
            "_model_module": "@jupyter-widgets/base",
            "_model_module_version": "1.2.0",
            "_model_name": "LayoutModel",
            "_view_count": null,
            "_view_module": "@jupyter-widgets/base",
            "_view_module_version": "1.2.0",
            "_view_name": "LayoutView",
            "align_content": null,
            "align_items": null,
            "align_self": null,
            "border": null,
            "bottom": null,
            "display": null,
            "flex": null,
            "flex_flow": null,
            "grid_area": null,
            "grid_auto_columns": null,
            "grid_auto_flow": null,
            "grid_auto_rows": null,
            "grid_column": null,
            "grid_gap": null,
            "grid_row": null,
            "grid_template_areas": null,
            "grid_template_columns": null,
            "grid_template_rows": null,
            "height": null,
            "justify_content": null,
            "justify_items": null,
            "left": null,
            "margin": null,
            "max_height": null,
            "max_width": null,
            "min_height": null,
            "min_width": null,
            "object_fit": null,
            "object_position": null,
            "order": null,
            "overflow": null,
            "overflow_x": null,
            "overflow_y": null,
            "padding": null,
            "right": null,
            "top": null,
            "visibility": null,
            "width": null
          }
        },
        "81dd4577b6e340779cd158a1a5e91b70": {
          "model_module": "@jupyter-widgets/controls",
          "model_name": "DescriptionStyleModel",
          "model_module_version": "1.5.0",
          "state": {
            "_model_module": "@jupyter-widgets/controls",
            "_model_module_version": "1.5.0",
            "_model_name": "DescriptionStyleModel",
            "_view_count": null,
            "_view_module": "@jupyter-widgets/base",
            "_view_module_version": "1.2.0",
            "_view_name": "StyleView",
            "description_width": ""
          }
        },
        "a90d05ccf430406bb008dd63f3e2e1ba": {
          "model_module": "@jupyter-widgets/controls",
          "model_name": "HBoxModel",
          "model_module_version": "1.5.0",
          "state": {
            "_dom_classes": [],
            "_model_module": "@jupyter-widgets/controls",
            "_model_module_version": "1.5.0",
            "_model_name": "HBoxModel",
            "_view_count": null,
            "_view_module": "@jupyter-widgets/controls",
            "_view_module_version": "1.5.0",
            "_view_name": "HBoxView",
            "box_style": "",
            "children": [
              "IPY_MODEL_3af50dd58b4f46adb09afd3a4a6d1040",
              "IPY_MODEL_80cf49f84c574d2b8dafbf4d718f4447",
              "IPY_MODEL_5b88a25ad0884420ac7714eafed77fb4"
            ],
            "layout": "IPY_MODEL_9efdae071f43464e9b2065cc5fb29aa6"
          }
        },
        "3af50dd58b4f46adb09afd3a4a6d1040": {
          "model_module": "@jupyter-widgets/controls",
          "model_name": "HTMLModel",
          "model_module_version": "1.5.0",
          "state": {
            "_dom_classes": [],
            "_model_module": "@jupyter-widgets/controls",
            "_model_module_version": "1.5.0",
            "_model_name": "HTMLModel",
            "_view_count": null,
            "_view_module": "@jupyter-widgets/controls",
            "_view_module_version": "1.5.0",
            "_view_name": "HTMLView",
            "description": "",
            "description_tooltip": null,
            "layout": "IPY_MODEL_07af842e27634a5da0cbb6a9b23e65c8",
            "placeholder": "​",
            "style": "IPY_MODEL_c1ee6c323b1e415f97edf3268e951bd3",
            "value": "100%"
          }
        },
        "80cf49f84c574d2b8dafbf4d718f4447": {
          "model_module": "@jupyter-widgets/controls",
          "model_name": "FloatProgressModel",
          "model_module_version": "1.5.0",
          "state": {
            "_dom_classes": [],
            "_model_module": "@jupyter-widgets/controls",
            "_model_module_version": "1.5.0",
            "_model_name": "FloatProgressModel",
            "_view_count": null,
            "_view_module": "@jupyter-widgets/controls",
            "_view_module_version": "1.5.0",
            "_view_name": "ProgressView",
            "bar_style": "success",
            "description": "",
            "description_tooltip": null,
            "layout": "IPY_MODEL_326482d60fdb49aeaba57107db282f9f",
            "max": 1,
            "min": 0,
            "orientation": "horizontal",
            "style": "IPY_MODEL_0b53958103b34d18a757f8711858dc59",
            "value": 1
          }
        },
        "5b88a25ad0884420ac7714eafed77fb4": {
          "model_module": "@jupyter-widgets/controls",
          "model_name": "HTMLModel",
          "model_module_version": "1.5.0",
          "state": {
            "_dom_classes": [],
            "_model_module": "@jupyter-widgets/controls",
            "_model_module_version": "1.5.0",
            "_model_name": "HTMLModel",
            "_view_count": null,
            "_view_module": "@jupyter-widgets/controls",
            "_view_module_version": "1.5.0",
            "_view_name": "HTMLView",
            "description": "",
            "description_tooltip": null,
            "layout": "IPY_MODEL_313c069581db4dc69389a9b8ca8e353f",
            "placeholder": "​",
            "style": "IPY_MODEL_ae0f6d8a9e5d4a9b8627bb9f2d098269",
            "value": " 1/1 [00:00&lt;00:00, 36.43it/s]"
          }
        },
        "9efdae071f43464e9b2065cc5fb29aa6": {
          "model_module": "@jupyter-widgets/base",
          "model_name": "LayoutModel",
          "model_module_version": "1.2.0",
          "state": {
            "_model_module": "@jupyter-widgets/base",
            "_model_module_version": "1.2.0",
            "_model_name": "LayoutModel",
            "_view_count": null,
            "_view_module": "@jupyter-widgets/base",
            "_view_module_version": "1.2.0",
            "_view_name": "LayoutView",
            "align_content": null,
            "align_items": null,
            "align_self": null,
            "border": null,
            "bottom": null,
            "display": null,
            "flex": null,
            "flex_flow": null,
            "grid_area": null,
            "grid_auto_columns": null,
            "grid_auto_flow": null,
            "grid_auto_rows": null,
            "grid_column": null,
            "grid_gap": null,
            "grid_row": null,
            "grid_template_areas": null,
            "grid_template_columns": null,
            "grid_template_rows": null,
            "height": null,
            "justify_content": null,
            "justify_items": null,
            "left": null,
            "margin": null,
            "max_height": null,
            "max_width": null,
            "min_height": null,
            "min_width": null,
            "object_fit": null,
            "object_position": null,
            "order": null,
            "overflow": null,
            "overflow_x": null,
            "overflow_y": null,
            "padding": null,
            "right": null,
            "top": null,
            "visibility": null,
            "width": null
          }
        },
        "07af842e27634a5da0cbb6a9b23e65c8": {
          "model_module": "@jupyter-widgets/base",
          "model_name": "LayoutModel",
          "model_module_version": "1.2.0",
          "state": {
            "_model_module": "@jupyter-widgets/base",
            "_model_module_version": "1.2.0",
            "_model_name": "LayoutModel",
            "_view_count": null,
            "_view_module": "@jupyter-widgets/base",
            "_view_module_version": "1.2.0",
            "_view_name": "LayoutView",
            "align_content": null,
            "align_items": null,
            "align_self": null,
            "border": null,
            "bottom": null,
            "display": null,
            "flex": null,
            "flex_flow": null,
            "grid_area": null,
            "grid_auto_columns": null,
            "grid_auto_flow": null,
            "grid_auto_rows": null,
            "grid_column": null,
            "grid_gap": null,
            "grid_row": null,
            "grid_template_areas": null,
            "grid_template_columns": null,
            "grid_template_rows": null,
            "height": null,
            "justify_content": null,
            "justify_items": null,
            "left": null,
            "margin": null,
            "max_height": null,
            "max_width": null,
            "min_height": null,
            "min_width": null,
            "object_fit": null,
            "object_position": null,
            "order": null,
            "overflow": null,
            "overflow_x": null,
            "overflow_y": null,
            "padding": null,
            "right": null,
            "top": null,
            "visibility": null,
            "width": null
          }
        },
        "c1ee6c323b1e415f97edf3268e951bd3": {
          "model_module": "@jupyter-widgets/controls",
          "model_name": "DescriptionStyleModel",
          "model_module_version": "1.5.0",
          "state": {
            "_model_module": "@jupyter-widgets/controls",
            "_model_module_version": "1.5.0",
            "_model_name": "DescriptionStyleModel",
            "_view_count": null,
            "_view_module": "@jupyter-widgets/base",
            "_view_module_version": "1.2.0",
            "_view_name": "StyleView",
            "description_width": ""
          }
        },
        "326482d60fdb49aeaba57107db282f9f": {
          "model_module": "@jupyter-widgets/base",
          "model_name": "LayoutModel",
          "model_module_version": "1.2.0",
          "state": {
            "_model_module": "@jupyter-widgets/base",
            "_model_module_version": "1.2.0",
            "_model_name": "LayoutModel",
            "_view_count": null,
            "_view_module": "@jupyter-widgets/base",
            "_view_module_version": "1.2.0",
            "_view_name": "LayoutView",
            "align_content": null,
            "align_items": null,
            "align_self": null,
            "border": null,
            "bottom": null,
            "display": null,
            "flex": null,
            "flex_flow": null,
            "grid_area": null,
            "grid_auto_columns": null,
            "grid_auto_flow": null,
            "grid_auto_rows": null,
            "grid_column": null,
            "grid_gap": null,
            "grid_row": null,
            "grid_template_areas": null,
            "grid_template_columns": null,
            "grid_template_rows": null,
            "height": null,
            "justify_content": null,
            "justify_items": null,
            "left": null,
            "margin": null,
            "max_height": null,
            "max_width": null,
            "min_height": null,
            "min_width": null,
            "object_fit": null,
            "object_position": null,
            "order": null,
            "overflow": null,
            "overflow_x": null,
            "overflow_y": null,
            "padding": null,
            "right": null,
            "top": null,
            "visibility": null,
            "width": null
          }
        },
        "0b53958103b34d18a757f8711858dc59": {
          "model_module": "@jupyter-widgets/controls",
          "model_name": "ProgressStyleModel",
          "model_module_version": "1.5.0",
          "state": {
            "_model_module": "@jupyter-widgets/controls",
            "_model_module_version": "1.5.0",
            "_model_name": "ProgressStyleModel",
            "_view_count": null,
            "_view_module": "@jupyter-widgets/base",
            "_view_module_version": "1.2.0",
            "_view_name": "StyleView",
            "bar_color": null,
            "description_width": ""
          }
        },
        "313c069581db4dc69389a9b8ca8e353f": {
          "model_module": "@jupyter-widgets/base",
          "model_name": "LayoutModel",
          "model_module_version": "1.2.0",
          "state": {
            "_model_module": "@jupyter-widgets/base",
            "_model_module_version": "1.2.0",
            "_model_name": "LayoutModel",
            "_view_count": null,
            "_view_module": "@jupyter-widgets/base",
            "_view_module_version": "1.2.0",
            "_view_name": "LayoutView",
            "align_content": null,
            "align_items": null,
            "align_self": null,
            "border": null,
            "bottom": null,
            "display": null,
            "flex": null,
            "flex_flow": null,
            "grid_area": null,
            "grid_auto_columns": null,
            "grid_auto_flow": null,
            "grid_auto_rows": null,
            "grid_column": null,
            "grid_gap": null,
            "grid_row": null,
            "grid_template_areas": null,
            "grid_template_columns": null,
            "grid_template_rows": null,
            "height": null,
            "justify_content": null,
            "justify_items": null,
            "left": null,
            "margin": null,
            "max_height": null,
            "max_width": null,
            "min_height": null,
            "min_width": null,
            "object_fit": null,
            "object_position": null,
            "order": null,
            "overflow": null,
            "overflow_x": null,
            "overflow_y": null,
            "padding": null,
            "right": null,
            "top": null,
            "visibility": null,
            "width": null
          }
        },
        "ae0f6d8a9e5d4a9b8627bb9f2d098269": {
          "model_module": "@jupyter-widgets/controls",
          "model_name": "DescriptionStyleModel",
          "model_module_version": "1.5.0",
          "state": {
            "_model_module": "@jupyter-widgets/controls",
            "_model_module_version": "1.5.0",
            "_model_name": "DescriptionStyleModel",
            "_view_count": null,
            "_view_module": "@jupyter-widgets/base",
            "_view_module_version": "1.2.0",
            "_view_name": "StyleView",
            "description_width": ""
          }
        },
        "1fa0951272984d2f821b9cac672e7ade": {
          "model_module": "@jupyter-widgets/controls",
          "model_name": "HBoxModel",
          "model_module_version": "1.5.0",
          "state": {
            "_dom_classes": [],
            "_model_module": "@jupyter-widgets/controls",
            "_model_module_version": "1.5.0",
            "_model_name": "HBoxModel",
            "_view_count": null,
            "_view_module": "@jupyter-widgets/controls",
            "_view_module_version": "1.5.0",
            "_view_name": "HBoxView",
            "box_style": "",
            "children": [
              "IPY_MODEL_4d473ee2b18342debeba710dc363fa9e",
              "IPY_MODEL_2ec9629a2e7a4b5a9c184b418be31ab6",
              "IPY_MODEL_0aba22df571247929bc42bb4632f0958"
            ],
            "layout": "IPY_MODEL_960e7d043a624e6b85a8aaed01dfbb6c"
          }
        },
        "4d473ee2b18342debeba710dc363fa9e": {
          "model_module": "@jupyter-widgets/controls",
          "model_name": "HTMLModel",
          "model_module_version": "1.5.0",
          "state": {
            "_dom_classes": [],
            "_model_module": "@jupyter-widgets/controls",
            "_model_module_version": "1.5.0",
            "_model_name": "HTMLModel",
            "_view_count": null,
            "_view_module": "@jupyter-widgets/controls",
            "_view_module_version": "1.5.0",
            "_view_name": "HTMLView",
            "description": "",
            "description_tooltip": null,
            "layout": "IPY_MODEL_3951ef73c6ac4efc8dedd504f34c18bb",
            "placeholder": "​",
            "style": "IPY_MODEL_694cf29e9987413db4f95a1e94d1afbb",
            "value": "100%"
          }
        },
        "2ec9629a2e7a4b5a9c184b418be31ab6": {
          "model_module": "@jupyter-widgets/controls",
          "model_name": "FloatProgressModel",
          "model_module_version": "1.5.0",
          "state": {
            "_dom_classes": [],
            "_model_module": "@jupyter-widgets/controls",
            "_model_module_version": "1.5.0",
            "_model_name": "FloatProgressModel",
            "_view_count": null,
            "_view_module": "@jupyter-widgets/controls",
            "_view_module_version": "1.5.0",
            "_view_name": "ProgressView",
            "bar_style": "success",
            "description": "",
            "description_tooltip": null,
            "layout": "IPY_MODEL_6c5a42cda2e8463f9f34c3c575816eb3",
            "max": 106,
            "min": 0,
            "orientation": "horizontal",
            "style": "IPY_MODEL_5fc0c6cee3e2450f9c19f6a2f6e0a0af",
            "value": 106
          }
        },
        "0aba22df571247929bc42bb4632f0958": {
          "model_module": "@jupyter-widgets/controls",
          "model_name": "HTMLModel",
          "model_module_version": "1.5.0",
          "state": {
            "_dom_classes": [],
            "_model_module": "@jupyter-widgets/controls",
            "_model_module_version": "1.5.0",
            "_model_name": "HTMLModel",
            "_view_count": null,
            "_view_module": "@jupyter-widgets/controls",
            "_view_module_version": "1.5.0",
            "_view_name": "HTMLView",
            "description": "",
            "description_tooltip": null,
            "layout": "IPY_MODEL_92bd69996973437fbdf2d7d6961fe810",
            "placeholder": "​",
            "style": "IPY_MODEL_a4900d02ae2b474d99f20c2735fae07f",
            "value": " 106/106 [00:00&lt;00:00, 344.88ex/s]"
          }
        },
        "960e7d043a624e6b85a8aaed01dfbb6c": {
          "model_module": "@jupyter-widgets/base",
          "model_name": "LayoutModel",
          "model_module_version": "1.2.0",
          "state": {
            "_model_module": "@jupyter-widgets/base",
            "_model_module_version": "1.2.0",
            "_model_name": "LayoutModel",
            "_view_count": null,
            "_view_module": "@jupyter-widgets/base",
            "_view_module_version": "1.2.0",
            "_view_name": "LayoutView",
            "align_content": null,
            "align_items": null,
            "align_self": null,
            "border": null,
            "bottom": null,
            "display": null,
            "flex": null,
            "flex_flow": null,
            "grid_area": null,
            "grid_auto_columns": null,
            "grid_auto_flow": null,
            "grid_auto_rows": null,
            "grid_column": null,
            "grid_gap": null,
            "grid_row": null,
            "grid_template_areas": null,
            "grid_template_columns": null,
            "grid_template_rows": null,
            "height": null,
            "justify_content": null,
            "justify_items": null,
            "left": null,
            "margin": null,
            "max_height": null,
            "max_width": null,
            "min_height": null,
            "min_width": null,
            "object_fit": null,
            "object_position": null,
            "order": null,
            "overflow": null,
            "overflow_x": null,
            "overflow_y": null,
            "padding": null,
            "right": null,
            "top": null,
            "visibility": null,
            "width": null
          }
        },
        "3951ef73c6ac4efc8dedd504f34c18bb": {
          "model_module": "@jupyter-widgets/base",
          "model_name": "LayoutModel",
          "model_module_version": "1.2.0",
          "state": {
            "_model_module": "@jupyter-widgets/base",
            "_model_module_version": "1.2.0",
            "_model_name": "LayoutModel",
            "_view_count": null,
            "_view_module": "@jupyter-widgets/base",
            "_view_module_version": "1.2.0",
            "_view_name": "LayoutView",
            "align_content": null,
            "align_items": null,
            "align_self": null,
            "border": null,
            "bottom": null,
            "display": null,
            "flex": null,
            "flex_flow": null,
            "grid_area": null,
            "grid_auto_columns": null,
            "grid_auto_flow": null,
            "grid_auto_rows": null,
            "grid_column": null,
            "grid_gap": null,
            "grid_row": null,
            "grid_template_areas": null,
            "grid_template_columns": null,
            "grid_template_rows": null,
            "height": null,
            "justify_content": null,
            "justify_items": null,
            "left": null,
            "margin": null,
            "max_height": null,
            "max_width": null,
            "min_height": null,
            "min_width": null,
            "object_fit": null,
            "object_position": null,
            "order": null,
            "overflow": null,
            "overflow_x": null,
            "overflow_y": null,
            "padding": null,
            "right": null,
            "top": null,
            "visibility": null,
            "width": null
          }
        },
        "694cf29e9987413db4f95a1e94d1afbb": {
          "model_module": "@jupyter-widgets/controls",
          "model_name": "DescriptionStyleModel",
          "model_module_version": "1.5.0",
          "state": {
            "_model_module": "@jupyter-widgets/controls",
            "_model_module_version": "1.5.0",
            "_model_name": "DescriptionStyleModel",
            "_view_count": null,
            "_view_module": "@jupyter-widgets/base",
            "_view_module_version": "1.2.0",
            "_view_name": "StyleView",
            "description_width": ""
          }
        },
        "6c5a42cda2e8463f9f34c3c575816eb3": {
          "model_module": "@jupyter-widgets/base",
          "model_name": "LayoutModel",
          "model_module_version": "1.2.0",
          "state": {
            "_model_module": "@jupyter-widgets/base",
            "_model_module_version": "1.2.0",
            "_model_name": "LayoutModel",
            "_view_count": null,
            "_view_module": "@jupyter-widgets/base",
            "_view_module_version": "1.2.0",
            "_view_name": "LayoutView",
            "align_content": null,
            "align_items": null,
            "align_self": null,
            "border": null,
            "bottom": null,
            "display": null,
            "flex": null,
            "flex_flow": null,
            "grid_area": null,
            "grid_auto_columns": null,
            "grid_auto_flow": null,
            "grid_auto_rows": null,
            "grid_column": null,
            "grid_gap": null,
            "grid_row": null,
            "grid_template_areas": null,
            "grid_template_columns": null,
            "grid_template_rows": null,
            "height": null,
            "justify_content": null,
            "justify_items": null,
            "left": null,
            "margin": null,
            "max_height": null,
            "max_width": null,
            "min_height": null,
            "min_width": null,
            "object_fit": null,
            "object_position": null,
            "order": null,
            "overflow": null,
            "overflow_x": null,
            "overflow_y": null,
            "padding": null,
            "right": null,
            "top": null,
            "visibility": null,
            "width": null
          }
        },
        "5fc0c6cee3e2450f9c19f6a2f6e0a0af": {
          "model_module": "@jupyter-widgets/controls",
          "model_name": "ProgressStyleModel",
          "model_module_version": "1.5.0",
          "state": {
            "_model_module": "@jupyter-widgets/controls",
            "_model_module_version": "1.5.0",
            "_model_name": "ProgressStyleModel",
            "_view_count": null,
            "_view_module": "@jupyter-widgets/base",
            "_view_module_version": "1.2.0",
            "_view_name": "StyleView",
            "bar_color": null,
            "description_width": ""
          }
        },
        "92bd69996973437fbdf2d7d6961fe810": {
          "model_module": "@jupyter-widgets/base",
          "model_name": "LayoutModel",
          "model_module_version": "1.2.0",
          "state": {
            "_model_module": "@jupyter-widgets/base",
            "_model_module_version": "1.2.0",
            "_model_name": "LayoutModel",
            "_view_count": null,
            "_view_module": "@jupyter-widgets/base",
            "_view_module_version": "1.2.0",
            "_view_name": "LayoutView",
            "align_content": null,
            "align_items": null,
            "align_self": null,
            "border": null,
            "bottom": null,
            "display": null,
            "flex": null,
            "flex_flow": null,
            "grid_area": null,
            "grid_auto_columns": null,
            "grid_auto_flow": null,
            "grid_auto_rows": null,
            "grid_column": null,
            "grid_gap": null,
            "grid_row": null,
            "grid_template_areas": null,
            "grid_template_columns": null,
            "grid_template_rows": null,
            "height": null,
            "justify_content": null,
            "justify_items": null,
            "left": null,
            "margin": null,
            "max_height": null,
            "max_width": null,
            "min_height": null,
            "min_width": null,
            "object_fit": null,
            "object_position": null,
            "order": null,
            "overflow": null,
            "overflow_x": null,
            "overflow_y": null,
            "padding": null,
            "right": null,
            "top": null,
            "visibility": null,
            "width": null
          }
        },
        "a4900d02ae2b474d99f20c2735fae07f": {
          "model_module": "@jupyter-widgets/controls",
          "model_name": "DescriptionStyleModel",
          "model_module_version": "1.5.0",
          "state": {
            "_model_module": "@jupyter-widgets/controls",
            "_model_module_version": "1.5.0",
            "_model_name": "DescriptionStyleModel",
            "_view_count": null,
            "_view_module": "@jupyter-widgets/base",
            "_view_module_version": "1.2.0",
            "_view_name": "StyleView",
            "description_width": ""
          }
        },
        "d36b8cf49c714281b2ab137be2d9bc72": {
          "model_module": "@jupyter-widgets/controls",
          "model_name": "HBoxModel",
          "model_module_version": "1.5.0",
          "state": {
            "_dom_classes": [],
            "_model_module": "@jupyter-widgets/controls",
            "_model_module_version": "1.5.0",
            "_model_name": "HBoxModel",
            "_view_count": null,
            "_view_module": "@jupyter-widgets/controls",
            "_view_module_version": "1.5.0",
            "_view_name": "HBoxView",
            "box_style": "",
            "children": [
              "IPY_MODEL_33f7c460a6644a6bb7fef8262dce6eb8",
              "IPY_MODEL_bb03d7cbf933497cbbde3c64d30af814",
              "IPY_MODEL_7374744017f1471689309a0e403700cc"
            ],
            "layout": "IPY_MODEL_2558c2bbce1b43799412722d14d062d2"
          }
        },
        "33f7c460a6644a6bb7fef8262dce6eb8": {
          "model_module": "@jupyter-widgets/controls",
          "model_name": "HTMLModel",
          "model_module_version": "1.5.0",
          "state": {
            "_dom_classes": [],
            "_model_module": "@jupyter-widgets/controls",
            "_model_module_version": "1.5.0",
            "_model_name": "HTMLModel",
            "_view_count": null,
            "_view_module": "@jupyter-widgets/controls",
            "_view_module_version": "1.5.0",
            "_view_name": "HTMLView",
            "description": "",
            "description_tooltip": null,
            "layout": "IPY_MODEL_530f43c32949416a9d9a5d01061c686f",
            "placeholder": "​",
            "style": "IPY_MODEL_2f86b94941244c47acab19822039e6db",
            "value": "100%"
          }
        },
        "bb03d7cbf933497cbbde3c64d30af814": {
          "model_module": "@jupyter-widgets/controls",
          "model_name": "FloatProgressModel",
          "model_module_version": "1.5.0",
          "state": {
            "_dom_classes": [],
            "_model_module": "@jupyter-widgets/controls",
            "_model_module_version": "1.5.0",
            "_model_name": "FloatProgressModel",
            "_view_count": null,
            "_view_module": "@jupyter-widgets/controls",
            "_view_module_version": "1.5.0",
            "_view_name": "ProgressView",
            "bar_style": "success",
            "description": "",
            "description_tooltip": null,
            "layout": "IPY_MODEL_a3ea6a23e5ae410d95e3265b2b06233e",
            "max": 106,
            "min": 0,
            "orientation": "horizontal",
            "style": "IPY_MODEL_41bebe0f50644b67af7a3475bcb49b3a",
            "value": 106
          }
        },
        "7374744017f1471689309a0e403700cc": {
          "model_module": "@jupyter-widgets/controls",
          "model_name": "HTMLModel",
          "model_module_version": "1.5.0",
          "state": {
            "_dom_classes": [],
            "_model_module": "@jupyter-widgets/controls",
            "_model_module_version": "1.5.0",
            "_model_name": "HTMLModel",
            "_view_count": null,
            "_view_module": "@jupyter-widgets/controls",
            "_view_module_version": "1.5.0",
            "_view_name": "HTMLView",
            "description": "",
            "description_tooltip": null,
            "layout": "IPY_MODEL_a695fb19c2114ee1bf546ecf9237d48e",
            "placeholder": "​",
            "style": "IPY_MODEL_d88441768b63456da56f399604f654df",
            "value": " 106/106 [00:00&lt;00:00, 226.36ex/s]"
          }
        },
        "2558c2bbce1b43799412722d14d062d2": {
          "model_module": "@jupyter-widgets/base",
          "model_name": "LayoutModel",
          "model_module_version": "1.2.0",
          "state": {
            "_model_module": "@jupyter-widgets/base",
            "_model_module_version": "1.2.0",
            "_model_name": "LayoutModel",
            "_view_count": null,
            "_view_module": "@jupyter-widgets/base",
            "_view_module_version": "1.2.0",
            "_view_name": "LayoutView",
            "align_content": null,
            "align_items": null,
            "align_self": null,
            "border": null,
            "bottom": null,
            "display": null,
            "flex": null,
            "flex_flow": null,
            "grid_area": null,
            "grid_auto_columns": null,
            "grid_auto_flow": null,
            "grid_auto_rows": null,
            "grid_column": null,
            "grid_gap": null,
            "grid_row": null,
            "grid_template_areas": null,
            "grid_template_columns": null,
            "grid_template_rows": null,
            "height": null,
            "justify_content": null,
            "justify_items": null,
            "left": null,
            "margin": null,
            "max_height": null,
            "max_width": null,
            "min_height": null,
            "min_width": null,
            "object_fit": null,
            "object_position": null,
            "order": null,
            "overflow": null,
            "overflow_x": null,
            "overflow_y": null,
            "padding": null,
            "right": null,
            "top": null,
            "visibility": null,
            "width": null
          }
        },
        "530f43c32949416a9d9a5d01061c686f": {
          "model_module": "@jupyter-widgets/base",
          "model_name": "LayoutModel",
          "model_module_version": "1.2.0",
          "state": {
            "_model_module": "@jupyter-widgets/base",
            "_model_module_version": "1.2.0",
            "_model_name": "LayoutModel",
            "_view_count": null,
            "_view_module": "@jupyter-widgets/base",
            "_view_module_version": "1.2.0",
            "_view_name": "LayoutView",
            "align_content": null,
            "align_items": null,
            "align_self": null,
            "border": null,
            "bottom": null,
            "display": null,
            "flex": null,
            "flex_flow": null,
            "grid_area": null,
            "grid_auto_columns": null,
            "grid_auto_flow": null,
            "grid_auto_rows": null,
            "grid_column": null,
            "grid_gap": null,
            "grid_row": null,
            "grid_template_areas": null,
            "grid_template_columns": null,
            "grid_template_rows": null,
            "height": null,
            "justify_content": null,
            "justify_items": null,
            "left": null,
            "margin": null,
            "max_height": null,
            "max_width": null,
            "min_height": null,
            "min_width": null,
            "object_fit": null,
            "object_position": null,
            "order": null,
            "overflow": null,
            "overflow_x": null,
            "overflow_y": null,
            "padding": null,
            "right": null,
            "top": null,
            "visibility": null,
            "width": null
          }
        },
        "2f86b94941244c47acab19822039e6db": {
          "model_module": "@jupyter-widgets/controls",
          "model_name": "DescriptionStyleModel",
          "model_module_version": "1.5.0",
          "state": {
            "_model_module": "@jupyter-widgets/controls",
            "_model_module_version": "1.5.0",
            "_model_name": "DescriptionStyleModel",
            "_view_count": null,
            "_view_module": "@jupyter-widgets/base",
            "_view_module_version": "1.2.0",
            "_view_name": "StyleView",
            "description_width": ""
          }
        },
        "a3ea6a23e5ae410d95e3265b2b06233e": {
          "model_module": "@jupyter-widgets/base",
          "model_name": "LayoutModel",
          "model_module_version": "1.2.0",
          "state": {
            "_model_module": "@jupyter-widgets/base",
            "_model_module_version": "1.2.0",
            "_model_name": "LayoutModel",
            "_view_count": null,
            "_view_module": "@jupyter-widgets/base",
            "_view_module_version": "1.2.0",
            "_view_name": "LayoutView",
            "align_content": null,
            "align_items": null,
            "align_self": null,
            "border": null,
            "bottom": null,
            "display": null,
            "flex": null,
            "flex_flow": null,
            "grid_area": null,
            "grid_auto_columns": null,
            "grid_auto_flow": null,
            "grid_auto_rows": null,
            "grid_column": null,
            "grid_gap": null,
            "grid_row": null,
            "grid_template_areas": null,
            "grid_template_columns": null,
            "grid_template_rows": null,
            "height": null,
            "justify_content": null,
            "justify_items": null,
            "left": null,
            "margin": null,
            "max_height": null,
            "max_width": null,
            "min_height": null,
            "min_width": null,
            "object_fit": null,
            "object_position": null,
            "order": null,
            "overflow": null,
            "overflow_x": null,
            "overflow_y": null,
            "padding": null,
            "right": null,
            "top": null,
            "visibility": null,
            "width": null
          }
        },
        "41bebe0f50644b67af7a3475bcb49b3a": {
          "model_module": "@jupyter-widgets/controls",
          "model_name": "ProgressStyleModel",
          "model_module_version": "1.5.0",
          "state": {
            "_model_module": "@jupyter-widgets/controls",
            "_model_module_version": "1.5.0",
            "_model_name": "ProgressStyleModel",
            "_view_count": null,
            "_view_module": "@jupyter-widgets/base",
            "_view_module_version": "1.2.0",
            "_view_name": "StyleView",
            "bar_color": null,
            "description_width": ""
          }
        },
        "a695fb19c2114ee1bf546ecf9237d48e": {
          "model_module": "@jupyter-widgets/base",
          "model_name": "LayoutModel",
          "model_module_version": "1.2.0",
          "state": {
            "_model_module": "@jupyter-widgets/base",
            "_model_module_version": "1.2.0",
            "_model_name": "LayoutModel",
            "_view_count": null,
            "_view_module": "@jupyter-widgets/base",
            "_view_module_version": "1.2.0",
            "_view_name": "LayoutView",
            "align_content": null,
            "align_items": null,
            "align_self": null,
            "border": null,
            "bottom": null,
            "display": null,
            "flex": null,
            "flex_flow": null,
            "grid_area": null,
            "grid_auto_columns": null,
            "grid_auto_flow": null,
            "grid_auto_rows": null,
            "grid_column": null,
            "grid_gap": null,
            "grid_row": null,
            "grid_template_areas": null,
            "grid_template_columns": null,
            "grid_template_rows": null,
            "height": null,
            "justify_content": null,
            "justify_items": null,
            "left": null,
            "margin": null,
            "max_height": null,
            "max_width": null,
            "min_height": null,
            "min_width": null,
            "object_fit": null,
            "object_position": null,
            "order": null,
            "overflow": null,
            "overflow_x": null,
            "overflow_y": null,
            "padding": null,
            "right": null,
            "top": null,
            "visibility": null,
            "width": null
          }
        },
        "d88441768b63456da56f399604f654df": {
          "model_module": "@jupyter-widgets/controls",
          "model_name": "DescriptionStyleModel",
          "model_module_version": "1.5.0",
          "state": {
            "_model_module": "@jupyter-widgets/controls",
            "_model_module_version": "1.5.0",
            "_model_name": "DescriptionStyleModel",
            "_view_count": null,
            "_view_module": "@jupyter-widgets/base",
            "_view_module_version": "1.2.0",
            "_view_name": "StyleView",
            "description_width": ""
          }
        },
        "2a7c154eed8641e9a00d03ac1031b539": {
          "model_module": "@jupyter-widgets/controls",
          "model_name": "HBoxModel",
          "model_module_version": "1.5.0",
          "state": {
            "_dom_classes": [],
            "_model_module": "@jupyter-widgets/controls",
            "_model_module_version": "1.5.0",
            "_model_name": "HBoxModel",
            "_view_count": null,
            "_view_module": "@jupyter-widgets/controls",
            "_view_module_version": "1.5.0",
            "_view_name": "HBoxView",
            "box_style": "",
            "children": [
              "IPY_MODEL_9ca21a39827c427387cde797947e7165",
              "IPY_MODEL_aee50fe56b444a2d8d81db83f3d1ca04",
              "IPY_MODEL_4033672855a14da2acd9cd0fb472db07"
            ],
            "layout": "IPY_MODEL_0083fc07bcf64e3bba410b25b46678fc"
          }
        },
        "9ca21a39827c427387cde797947e7165": {
          "model_module": "@jupyter-widgets/controls",
          "model_name": "HTMLModel",
          "model_module_version": "1.5.0",
          "state": {
            "_dom_classes": [],
            "_model_module": "@jupyter-widgets/controls",
            "_model_module_version": "1.5.0",
            "_model_name": "HTMLModel",
            "_view_count": null,
            "_view_module": "@jupyter-widgets/controls",
            "_view_module_version": "1.5.0",
            "_view_name": "HTMLView",
            "description": "",
            "description_tooltip": null,
            "layout": "IPY_MODEL_5c46e4aff1494986ad3ae5b23128e8ed",
            "placeholder": "​",
            "style": "IPY_MODEL_fb5d0e9e76b84558a391730d460e7f21",
            "value": "100%"
          }
        },
        "aee50fe56b444a2d8d81db83f3d1ca04": {
          "model_module": "@jupyter-widgets/controls",
          "model_name": "FloatProgressModel",
          "model_module_version": "1.5.0",
          "state": {
            "_dom_classes": [],
            "_model_module": "@jupyter-widgets/controls",
            "_model_module_version": "1.5.0",
            "_model_name": "FloatProgressModel",
            "_view_count": null,
            "_view_module": "@jupyter-widgets/controls",
            "_view_module_version": "1.5.0",
            "_view_name": "ProgressView",
            "bar_style": "success",
            "description": "",
            "description_tooltip": null,
            "layout": "IPY_MODEL_1a7a0fe11c43415094d403274a82081b",
            "max": 106,
            "min": 0,
            "orientation": "horizontal",
            "style": "IPY_MODEL_c374bf6143934adfaff03937e297aa53",
            "value": 106
          }
        },
        "4033672855a14da2acd9cd0fb472db07": {
          "model_module": "@jupyter-widgets/controls",
          "model_name": "HTMLModel",
          "model_module_version": "1.5.0",
          "state": {
            "_dom_classes": [],
            "_model_module": "@jupyter-widgets/controls",
            "_model_module_version": "1.5.0",
            "_model_name": "HTMLModel",
            "_view_count": null,
            "_view_module": "@jupyter-widgets/controls",
            "_view_module_version": "1.5.0",
            "_view_name": "HTMLView",
            "description": "",
            "description_tooltip": null,
            "layout": "IPY_MODEL_6b9e2e56146e4dcea813ed9d9b6c255f",
            "placeholder": "​",
            "style": "IPY_MODEL_ad6458da5f8743478adc01eb2445e82d",
            "value": " 106/106 [00:00&lt;00:00, 307.19ex/s]"
          }
        },
        "0083fc07bcf64e3bba410b25b46678fc": {
          "model_module": "@jupyter-widgets/base",
          "model_name": "LayoutModel",
          "model_module_version": "1.2.0",
          "state": {
            "_model_module": "@jupyter-widgets/base",
            "_model_module_version": "1.2.0",
            "_model_name": "LayoutModel",
            "_view_count": null,
            "_view_module": "@jupyter-widgets/base",
            "_view_module_version": "1.2.0",
            "_view_name": "LayoutView",
            "align_content": null,
            "align_items": null,
            "align_self": null,
            "border": null,
            "bottom": null,
            "display": null,
            "flex": null,
            "flex_flow": null,
            "grid_area": null,
            "grid_auto_columns": null,
            "grid_auto_flow": null,
            "grid_auto_rows": null,
            "grid_column": null,
            "grid_gap": null,
            "grid_row": null,
            "grid_template_areas": null,
            "grid_template_columns": null,
            "grid_template_rows": null,
            "height": null,
            "justify_content": null,
            "justify_items": null,
            "left": null,
            "margin": null,
            "max_height": null,
            "max_width": null,
            "min_height": null,
            "min_width": null,
            "object_fit": null,
            "object_position": null,
            "order": null,
            "overflow": null,
            "overflow_x": null,
            "overflow_y": null,
            "padding": null,
            "right": null,
            "top": null,
            "visibility": null,
            "width": null
          }
        },
        "5c46e4aff1494986ad3ae5b23128e8ed": {
          "model_module": "@jupyter-widgets/base",
          "model_name": "LayoutModel",
          "model_module_version": "1.2.0",
          "state": {
            "_model_module": "@jupyter-widgets/base",
            "_model_module_version": "1.2.0",
            "_model_name": "LayoutModel",
            "_view_count": null,
            "_view_module": "@jupyter-widgets/base",
            "_view_module_version": "1.2.0",
            "_view_name": "LayoutView",
            "align_content": null,
            "align_items": null,
            "align_self": null,
            "border": null,
            "bottom": null,
            "display": null,
            "flex": null,
            "flex_flow": null,
            "grid_area": null,
            "grid_auto_columns": null,
            "grid_auto_flow": null,
            "grid_auto_rows": null,
            "grid_column": null,
            "grid_gap": null,
            "grid_row": null,
            "grid_template_areas": null,
            "grid_template_columns": null,
            "grid_template_rows": null,
            "height": null,
            "justify_content": null,
            "justify_items": null,
            "left": null,
            "margin": null,
            "max_height": null,
            "max_width": null,
            "min_height": null,
            "min_width": null,
            "object_fit": null,
            "object_position": null,
            "order": null,
            "overflow": null,
            "overflow_x": null,
            "overflow_y": null,
            "padding": null,
            "right": null,
            "top": null,
            "visibility": null,
            "width": null
          }
        },
        "fb5d0e9e76b84558a391730d460e7f21": {
          "model_module": "@jupyter-widgets/controls",
          "model_name": "DescriptionStyleModel",
          "model_module_version": "1.5.0",
          "state": {
            "_model_module": "@jupyter-widgets/controls",
            "_model_module_version": "1.5.0",
            "_model_name": "DescriptionStyleModel",
            "_view_count": null,
            "_view_module": "@jupyter-widgets/base",
            "_view_module_version": "1.2.0",
            "_view_name": "StyleView",
            "description_width": ""
          }
        },
        "1a7a0fe11c43415094d403274a82081b": {
          "model_module": "@jupyter-widgets/base",
          "model_name": "LayoutModel",
          "model_module_version": "1.2.0",
          "state": {
            "_model_module": "@jupyter-widgets/base",
            "_model_module_version": "1.2.0",
            "_model_name": "LayoutModel",
            "_view_count": null,
            "_view_module": "@jupyter-widgets/base",
            "_view_module_version": "1.2.0",
            "_view_name": "LayoutView",
            "align_content": null,
            "align_items": null,
            "align_self": null,
            "border": null,
            "bottom": null,
            "display": null,
            "flex": null,
            "flex_flow": null,
            "grid_area": null,
            "grid_auto_columns": null,
            "grid_auto_flow": null,
            "grid_auto_rows": null,
            "grid_column": null,
            "grid_gap": null,
            "grid_row": null,
            "grid_template_areas": null,
            "grid_template_columns": null,
            "grid_template_rows": null,
            "height": null,
            "justify_content": null,
            "justify_items": null,
            "left": null,
            "margin": null,
            "max_height": null,
            "max_width": null,
            "min_height": null,
            "min_width": null,
            "object_fit": null,
            "object_position": null,
            "order": null,
            "overflow": null,
            "overflow_x": null,
            "overflow_y": null,
            "padding": null,
            "right": null,
            "top": null,
            "visibility": null,
            "width": null
          }
        },
        "c374bf6143934adfaff03937e297aa53": {
          "model_module": "@jupyter-widgets/controls",
          "model_name": "ProgressStyleModel",
          "model_module_version": "1.5.0",
          "state": {
            "_model_module": "@jupyter-widgets/controls",
            "_model_module_version": "1.5.0",
            "_model_name": "ProgressStyleModel",
            "_view_count": null,
            "_view_module": "@jupyter-widgets/base",
            "_view_module_version": "1.2.0",
            "_view_name": "StyleView",
            "bar_color": null,
            "description_width": ""
          }
        },
        "6b9e2e56146e4dcea813ed9d9b6c255f": {
          "model_module": "@jupyter-widgets/base",
          "model_name": "LayoutModel",
          "model_module_version": "1.2.0",
          "state": {
            "_model_module": "@jupyter-widgets/base",
            "_model_module_version": "1.2.0",
            "_model_name": "LayoutModel",
            "_view_count": null,
            "_view_module": "@jupyter-widgets/base",
            "_view_module_version": "1.2.0",
            "_view_name": "LayoutView",
            "align_content": null,
            "align_items": null,
            "align_self": null,
            "border": null,
            "bottom": null,
            "display": null,
            "flex": null,
            "flex_flow": null,
            "grid_area": null,
            "grid_auto_columns": null,
            "grid_auto_flow": null,
            "grid_auto_rows": null,
            "grid_column": null,
            "grid_gap": null,
            "grid_row": null,
            "grid_template_areas": null,
            "grid_template_columns": null,
            "grid_template_rows": null,
            "height": null,
            "justify_content": null,
            "justify_items": null,
            "left": null,
            "margin": null,
            "max_height": null,
            "max_width": null,
            "min_height": null,
            "min_width": null,
            "object_fit": null,
            "object_position": null,
            "order": null,
            "overflow": null,
            "overflow_x": null,
            "overflow_y": null,
            "padding": null,
            "right": null,
            "top": null,
            "visibility": null,
            "width": null
          }
        },
        "ad6458da5f8743478adc01eb2445e82d": {
          "model_module": "@jupyter-widgets/controls",
          "model_name": "DescriptionStyleModel",
          "model_module_version": "1.5.0",
          "state": {
            "_model_module": "@jupyter-widgets/controls",
            "_model_module_version": "1.5.0",
            "_model_name": "DescriptionStyleModel",
            "_view_count": null,
            "_view_module": "@jupyter-widgets/base",
            "_view_module_version": "1.2.0",
            "_view_name": "StyleView",
            "description_width": ""
          }
        },
        "f62c4693fc384b2eba3c4601e0693f98": {
          "model_module": "@jupyter-widgets/controls",
          "model_name": "HBoxModel",
          "model_module_version": "1.5.0",
          "state": {
            "_dom_classes": [],
            "_model_module": "@jupyter-widgets/controls",
            "_model_module_version": "1.5.0",
            "_model_name": "HBoxModel",
            "_view_count": null,
            "_view_module": "@jupyter-widgets/controls",
            "_view_module_version": "1.5.0",
            "_view_name": "HBoxView",
            "box_style": "",
            "children": [
              "IPY_MODEL_ee3357f2428247589dea38a8e1b9da1c",
              "IPY_MODEL_d96722e1a1054dbf869a9cc0ece6103d",
              "IPY_MODEL_ad8f40c8848c40e69c1b31a5c02c2536"
            ],
            "layout": "IPY_MODEL_925e11efa37b40fd9f2ee287baae7abf"
          }
        },
        "ee3357f2428247589dea38a8e1b9da1c": {
          "model_module": "@jupyter-widgets/controls",
          "model_name": "HTMLModel",
          "model_module_version": "1.5.0",
          "state": {
            "_dom_classes": [],
            "_model_module": "@jupyter-widgets/controls",
            "_model_module_version": "1.5.0",
            "_model_name": "HTMLModel",
            "_view_count": null,
            "_view_module": "@jupyter-widgets/controls",
            "_view_module_version": "1.5.0",
            "_view_name": "HTMLView",
            "description": "",
            "description_tooltip": null,
            "layout": "IPY_MODEL_7fbedcdadd1f4efd97691daacf2dc906",
            "placeholder": "​",
            "style": "IPY_MODEL_e84219f75e4041b78ad20ada95f547fa",
            "value": "100%"
          }
        },
        "d96722e1a1054dbf869a9cc0ece6103d": {
          "model_module": "@jupyter-widgets/controls",
          "model_name": "FloatProgressModel",
          "model_module_version": "1.5.0",
          "state": {
            "_dom_classes": [],
            "_model_module": "@jupyter-widgets/controls",
            "_model_module_version": "1.5.0",
            "_model_name": "FloatProgressModel",
            "_view_count": null,
            "_view_module": "@jupyter-widgets/controls",
            "_view_module_version": "1.5.0",
            "_view_name": "ProgressView",
            "bar_style": "success",
            "description": "",
            "description_tooltip": null,
            "layout": "IPY_MODEL_11006fe1c679484e9783a665d65417cf",
            "max": 106,
            "min": 0,
            "orientation": "horizontal",
            "style": "IPY_MODEL_eec580698734462c89c5de5b0538af9c",
            "value": 106
          }
        },
        "ad8f40c8848c40e69c1b31a5c02c2536": {
          "model_module": "@jupyter-widgets/controls",
          "model_name": "HTMLModel",
          "model_module_version": "1.5.0",
          "state": {
            "_dom_classes": [],
            "_model_module": "@jupyter-widgets/controls",
            "_model_module_version": "1.5.0",
            "_model_name": "HTMLModel",
            "_view_count": null,
            "_view_module": "@jupyter-widgets/controls",
            "_view_module_version": "1.5.0",
            "_view_name": "HTMLView",
            "description": "",
            "description_tooltip": null,
            "layout": "IPY_MODEL_08ab2f1cb97a4faa94fe9c38fa2494fa",
            "placeholder": "​",
            "style": "IPY_MODEL_4468f44eb7e24f08aeb6a854834e51b3",
            "value": " 106/106 [00:00&lt;00:00, 325.13ex/s]"
          }
        },
        "925e11efa37b40fd9f2ee287baae7abf": {
          "model_module": "@jupyter-widgets/base",
          "model_name": "LayoutModel",
          "model_module_version": "1.2.0",
          "state": {
            "_model_module": "@jupyter-widgets/base",
            "_model_module_version": "1.2.0",
            "_model_name": "LayoutModel",
            "_view_count": null,
            "_view_module": "@jupyter-widgets/base",
            "_view_module_version": "1.2.0",
            "_view_name": "LayoutView",
            "align_content": null,
            "align_items": null,
            "align_self": null,
            "border": null,
            "bottom": null,
            "display": null,
            "flex": null,
            "flex_flow": null,
            "grid_area": null,
            "grid_auto_columns": null,
            "grid_auto_flow": null,
            "grid_auto_rows": null,
            "grid_column": null,
            "grid_gap": null,
            "grid_row": null,
            "grid_template_areas": null,
            "grid_template_columns": null,
            "grid_template_rows": null,
            "height": null,
            "justify_content": null,
            "justify_items": null,
            "left": null,
            "margin": null,
            "max_height": null,
            "max_width": null,
            "min_height": null,
            "min_width": null,
            "object_fit": null,
            "object_position": null,
            "order": null,
            "overflow": null,
            "overflow_x": null,
            "overflow_y": null,
            "padding": null,
            "right": null,
            "top": null,
            "visibility": null,
            "width": null
          }
        },
        "7fbedcdadd1f4efd97691daacf2dc906": {
          "model_module": "@jupyter-widgets/base",
          "model_name": "LayoutModel",
          "model_module_version": "1.2.0",
          "state": {
            "_model_module": "@jupyter-widgets/base",
            "_model_module_version": "1.2.0",
            "_model_name": "LayoutModel",
            "_view_count": null,
            "_view_module": "@jupyter-widgets/base",
            "_view_module_version": "1.2.0",
            "_view_name": "LayoutView",
            "align_content": null,
            "align_items": null,
            "align_self": null,
            "border": null,
            "bottom": null,
            "display": null,
            "flex": null,
            "flex_flow": null,
            "grid_area": null,
            "grid_auto_columns": null,
            "grid_auto_flow": null,
            "grid_auto_rows": null,
            "grid_column": null,
            "grid_gap": null,
            "grid_row": null,
            "grid_template_areas": null,
            "grid_template_columns": null,
            "grid_template_rows": null,
            "height": null,
            "justify_content": null,
            "justify_items": null,
            "left": null,
            "margin": null,
            "max_height": null,
            "max_width": null,
            "min_height": null,
            "min_width": null,
            "object_fit": null,
            "object_position": null,
            "order": null,
            "overflow": null,
            "overflow_x": null,
            "overflow_y": null,
            "padding": null,
            "right": null,
            "top": null,
            "visibility": null,
            "width": null
          }
        },
        "e84219f75e4041b78ad20ada95f547fa": {
          "model_module": "@jupyter-widgets/controls",
          "model_name": "DescriptionStyleModel",
          "model_module_version": "1.5.0",
          "state": {
            "_model_module": "@jupyter-widgets/controls",
            "_model_module_version": "1.5.0",
            "_model_name": "DescriptionStyleModel",
            "_view_count": null,
            "_view_module": "@jupyter-widgets/base",
            "_view_module_version": "1.2.0",
            "_view_name": "StyleView",
            "description_width": ""
          }
        },
        "11006fe1c679484e9783a665d65417cf": {
          "model_module": "@jupyter-widgets/base",
          "model_name": "LayoutModel",
          "model_module_version": "1.2.0",
          "state": {
            "_model_module": "@jupyter-widgets/base",
            "_model_module_version": "1.2.0",
            "_model_name": "LayoutModel",
            "_view_count": null,
            "_view_module": "@jupyter-widgets/base",
            "_view_module_version": "1.2.0",
            "_view_name": "LayoutView",
            "align_content": null,
            "align_items": null,
            "align_self": null,
            "border": null,
            "bottom": null,
            "display": null,
            "flex": null,
            "flex_flow": null,
            "grid_area": null,
            "grid_auto_columns": null,
            "grid_auto_flow": null,
            "grid_auto_rows": null,
            "grid_column": null,
            "grid_gap": null,
            "grid_row": null,
            "grid_template_areas": null,
            "grid_template_columns": null,
            "grid_template_rows": null,
            "height": null,
            "justify_content": null,
            "justify_items": null,
            "left": null,
            "margin": null,
            "max_height": null,
            "max_width": null,
            "min_height": null,
            "min_width": null,
            "object_fit": null,
            "object_position": null,
            "order": null,
            "overflow": null,
            "overflow_x": null,
            "overflow_y": null,
            "padding": null,
            "right": null,
            "top": null,
            "visibility": null,
            "width": null
          }
        },
        "eec580698734462c89c5de5b0538af9c": {
          "model_module": "@jupyter-widgets/controls",
          "model_name": "ProgressStyleModel",
          "model_module_version": "1.5.0",
          "state": {
            "_model_module": "@jupyter-widgets/controls",
            "_model_module_version": "1.5.0",
            "_model_name": "ProgressStyleModel",
            "_view_count": null,
            "_view_module": "@jupyter-widgets/base",
            "_view_module_version": "1.2.0",
            "_view_name": "StyleView",
            "bar_color": null,
            "description_width": ""
          }
        },
        "08ab2f1cb97a4faa94fe9c38fa2494fa": {
          "model_module": "@jupyter-widgets/base",
          "model_name": "LayoutModel",
          "model_module_version": "1.2.0",
          "state": {
            "_model_module": "@jupyter-widgets/base",
            "_model_module_version": "1.2.0",
            "_model_name": "LayoutModel",
            "_view_count": null,
            "_view_module": "@jupyter-widgets/base",
            "_view_module_version": "1.2.0",
            "_view_name": "LayoutView",
            "align_content": null,
            "align_items": null,
            "align_self": null,
            "border": null,
            "bottom": null,
            "display": null,
            "flex": null,
            "flex_flow": null,
            "grid_area": null,
            "grid_auto_columns": null,
            "grid_auto_flow": null,
            "grid_auto_rows": null,
            "grid_column": null,
            "grid_gap": null,
            "grid_row": null,
            "grid_template_areas": null,
            "grid_template_columns": null,
            "grid_template_rows": null,
            "height": null,
            "justify_content": null,
            "justify_items": null,
            "left": null,
            "margin": null,
            "max_height": null,
            "max_width": null,
            "min_height": null,
            "min_width": null,
            "object_fit": null,
            "object_position": null,
            "order": null,
            "overflow": null,
            "overflow_x": null,
            "overflow_y": null,
            "padding": null,
            "right": null,
            "top": null,
            "visibility": null,
            "width": null
          }
        },
        "4468f44eb7e24f08aeb6a854834e51b3": {
          "model_module": "@jupyter-widgets/controls",
          "model_name": "DescriptionStyleModel",
          "model_module_version": "1.5.0",
          "state": {
            "_model_module": "@jupyter-widgets/controls",
            "_model_module_version": "1.5.0",
            "_model_name": "DescriptionStyleModel",
            "_view_count": null,
            "_view_module": "@jupyter-widgets/base",
            "_view_module_version": "1.2.0",
            "_view_name": "StyleView",
            "description_width": ""
          }
        }
      }
    }
  },
  "nbformat": 4,
  "nbformat_minor": 0
}