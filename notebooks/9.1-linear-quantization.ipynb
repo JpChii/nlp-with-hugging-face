{
 "cells": [
  {
   "cell_type": "markdown",
   "metadata": {
    "vscode": {
     "languageId": "plaintext"
    }
   },
   "source": [
    "# Linear Quantization\n",
    "\n",
    "Quantization of Linear Layers. For more details on Quantization refer [previous notebook](../notebooks/9-dealing-with-few-to-no-labels.ipynb)\n",
    "\n",
    "## Quantization\n",
    "\n",
    "$f = \\left(\\frac{{f_{\\text{max}} - f_{\\text{min}}}}{{q_{\\text{max}} - q_{\\text{min}}}}\\right) (q - Z) = S(q - Z)$\n",
    "\n",
    "$S - scale factor, Z - Zero Point, q - quantized value$\n",
    "\n",
    "$q = \\frac{f}{S} + z$\n",
    "\n",
    "$q = int(round(q))$\n",
    "\n",
    "Let's implement this equation next."
   ]
  },
  {
   "cell_type": "code",
   "execution_count": 5,
   "metadata": {},
   "outputs": [],
   "source": [
    "import torch\n",
    "\n",
    "def linear_q_with_scale_and_zerp_point(\n",
    "    tensor, scale, zero_point, dtype=torch.int8\n",
    "):\n",
    "    scaled_and_shifted_tensor = tensor / scale + zero_point\n",
    "    rouded_tensor = torch.round(scaled_and_shifted_tensor)\n",
    "    # clamp to the range of the dtype\n",
    "    q_min = torch.iinfo(dtype).min\n",
    "    q_max = torch.iinfo(dtype).max\n",
    "    clamped_tensor = torch.clamp(rouded_tensor, q_min, q_max)\n",
    "    # Cast to the dtype\n",
    "    return clamped_tensor.to(dtype)"
   ]
  },
  {
   "cell_type": "code",
   "execution_count": 6,
   "metadata": {},
   "outputs": [],
   "source": [
    "# Define a test tensor of shape (3,3) of FP32, and calculate scale, zeropoint to compare quantizatoin function above\n",
    "test_tensor = torch.tensor([[1.0, 2.0, 3.0], [4.0, 5.0, 6.0], [7.0, 8.0, 9.0]])\n",
    "scale = 0.1\n",
    "zero_point = 0\n",
    "\n",
    "quantized_tensor = linear_q_with_scale_and_zerp_point(test_tensor, scale, zero_point)"
   ]
  },
  {
   "cell_type": "code",
   "execution_count": 7,
   "metadata": {},
   "outputs": [
    {
     "data": {
      "text/plain": [
       "tensor([[10, 20, 30],\n",
       "        [40, 50, 60],\n",
       "        [70, 80, 90]], dtype=torch.int8)"
      ]
     },
     "execution_count": 7,
     "metadata": {},
     "output_type": "execute_result"
    }
   ],
   "source": [
    "quantized_tensor"
   ]
  },
  {
   "cell_type": "code",
   "execution_count": 8,
   "metadata": {},
   "outputs": [
    {
     "data": {
      "text/plain": [
       "10.0"
      ]
     },
     "execution_count": 8,
     "metadata": {},
     "output_type": "execute_result"
    }
   ],
   "source": [
    "1.0 / 0.1"
   ]
  },
  {
   "cell_type": "code",
   "execution_count": 11,
   "metadata": {},
   "outputs": [],
   "source": [
    "def linear_dequantization(quantized_tensor, scale, zero_point):\n",
    "    return scale * (quantized_tensor.float() - zero_point)"
   ]
  },
  {
   "cell_type": "code",
   "execution_count": 12,
   "metadata": {},
   "outputs": [
    {
     "data": {
      "text/plain": [
       "tensor([[1., 2., 3.],\n",
       "        [4., 5., 6.],\n",
       "        [7., 8., 9.]])"
      ]
     },
     "execution_count": 12,
     "metadata": {},
     "output_type": "execute_result"
    }
   ],
   "source": [
    "dequantized_tensor = linear_dequantization(quantized_tensor, scale, zero_point)\n",
    "dequantized_tensor"
   ]
  },
  {
   "cell_type": "code",
   "execution_count": null,
   "metadata": {},
   "outputs": [
    {
     "data": {
      "text/plain": [
       "tensor(2565.)"
      ]
     },
     "execution_count": 13,
     "metadata": {},
     "output_type": "execute_result"
    }
   ],
   "source": [
    "# Quantization error\n",
    "(dequantized_tensor - quantized_tensor).square().mean()"
   ]
  },
  {
   "cell_type": "code",
   "execution_count": null,
   "metadata": {},
   "outputs": [],
   "source": []
  }
 ],
 "metadata": {
  "kernelspec": {
   "display_name": "py310",
   "language": "python",
   "name": "python3"
  },
  "language_info": {
   "codemirror_mode": {
    "name": "ipython",
    "version": 3
   },
   "file_extension": ".py",
   "mimetype": "text/x-python",
   "name": "python",
   "nbconvert_exporter": "python",
   "pygments_lexer": "ipython3",
   "version": "3.10.16"
  }
 },
 "nbformat": 4,
 "nbformat_minor": 2
}
